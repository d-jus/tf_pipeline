{
 "cells": [
  {
   "cell_type": "markdown",
   "id": "known-review",
   "metadata": {},
   "source": [
    "# TO DO LISTA *projekt rozpoczęty 12.04.22 r.*\n",
    "------------------\n",
    "1. Opis zadania - *description of the task*\n",
    "2. Uzyskanie danych - *getting the data*\n",
    "3. Odkryć i zwizuwalizować dane, rozpoznać dodatkowe informacje **BRAK** - *explore data*\n",
    "4. Przygotować dane pod względem algorytmów maszynowego uczenia - *transform data*\n",
    "5. Wybrać i wyuczyć model - *choose and learn a model*\n",
    "6. Dostroić model - *tune the model*\n",
    "------------------\n",
    "7. Zaprezentować rozwiązanie (vide - ocena modelu) - *evaluation of the model*\n",
    "8. Przygotowć potok. Podzielić na katologi produkcyjne. Pokryć sieć testami jednostkowymi - *pipeline*\n",
    "------------------\n",
    "9. **Uruchomić (DOCKER | REST API)**, monitorować i utrzymać system./ /Powrót do punktu 2/ - *launch docker*\n",
    "------------------\n",
    "W notatniku *ANN_git.ipynb* zawarte jest porównanie sieci: **MinmaxScaler** - **tf MLP** - **MinmaxScaler**, MatlabScaler - tf MLP - MatlabScaler (funkcja). **tf MLP** oraz **MinmaxScaler** zostały utworzone z wag i obciążeń z Matlab,"
   ]
  },
  {
   "cell_type": "markdown",
   "id": "split-lending",
   "metadata": {},
   "source": [
    "1. **Opis zadania.** <br>\n",
    "[12.04] Porównanie wyników uzyskanych w **Matlab i TF**. Trening modelu zgodnie z obecnym stanem wiedzy. Jeżeli wynik **MSE** będzie porównywalny lub nie zostaną stwierdzone mankamenty modelu podstawowego (2k18) [wzrost stanu zagrożenia wraz z brakiem oznak zniszczenia górotworu], wykonany zostanie również krok **7 i 8** <br>\n",
    "[22.06] uruchomiono SSN z użyciem Docker - zewnętrze skalowanie (normalizacja), danych wejściowych i wyjściowych.<br>\n",
    "[7.07] Projekt ma na celu porównanie sztucznych sieci neuronowych (wielkowarstwowe perceptrony - **MLP**) oraz wyników uzyskanych w środowiskach **Matlab i TF**. Trening modelu zgodnie z obecnym stanem wiedzy. Jeżeli wynik **MSE** będzie porównywalny lub nie zostaną stwierdzone mankamenty modelu podstawowego (2k18) [wzrost stanu zagrożenia wraz z brakiem oznak zniszczenia górotworu], wykonany zostanie również krok **7 i 8**. Będzie polegać na dwóch etapach: `istniejąca sieć opracowana w Matlab` **etap 1)** `uzyskanie sieć w Keras` obliczenie MSE **etap 2)** ponowne opracowanie i nauczenie sieci w `TF`. Ograniczenie sieci opracowanej w Matlab, polega na zaptrzestaniu rozwijania tzw. płaskich sieci neuronowych. Wykorzystanie `TF` ma na celu użycie technik opracowanych dla potrzeb głębokiego uczenia. Kryterium wyboru nowej sieci będzie `MSE_new > MSE_old` (przy założeniu prawidłowo uzyskanego modelu tj. brak przetrenowania itp.). <br>"
   ]
  },
  {
   "cell_type": "markdown",
   "id": "contrary-piano",
   "metadata": {},
   "source": [
    "2. **Uzyskanie danych**\n",
    "\n",
    "    dane są nie pełne *(ponowne przeuczenie dla przykładów z lat 2018 - 2022)*\n",
    "------------------"
   ]
  },
  {
   "cell_type": "code",
   "execution_count": 226,
   "id": "capital-entertainment",
   "metadata": {},
   "outputs": [],
   "source": [
    "import pandas as pd\n",
    "import joblib\n",
    "# from sklearn.preprocessing import OneHotEncoder\n",
    "from datetime import datetime\n",
    "import seaborn as sns\n",
    "import pandas as pd\n",
    "import matplotlib.pyplot as plt\n",
    "import scipy.stats as measures"
   ]
  },
  {
   "cell_type": "code",
   "execution_count": 141,
   "id": "obvious-style",
   "metadata": {},
   "outputs": [
    {
     "data": {
      "text/html": [
       "<div>\n",
       "<style scoped>\n",
       "    .dataframe tbody tr th:only-of-type {\n",
       "        vertical-align: middle;\n",
       "    }\n",
       "\n",
       "    .dataframe tbody tr th {\n",
       "        vertical-align: top;\n",
       "    }\n",
       "\n",
       "    .dataframe thead th {\n",
       "        text-align: right;\n",
       "    }\n",
       "</style>\n",
       "<table border=\"1\" class=\"dataframe\">\n",
       "  <thead>\n",
       "    <tr style=\"text-align: right;\">\n",
       "      <th></th>\n",
       "      <th>Rodzaj skał stropowych</th>\n",
       "      <th>Wytrzymałość na rozciąganie</th>\n",
       "      <th>Spękania pionowe</th>\n",
       "      <th>Zawodnienie</th>\n",
       "      <th>Płaszczyzny osłabienia</th>\n",
       "      <th>Występowanie zaburzeń zalegania złoża</th>\n",
       "      <th>Średni postęp miesięczny frontu</th>\n",
       "      <th>Średni postęp mieś. likwidacji</th>\n",
       "      <th>Występowanie zaszłości (stare wyrobiska, zroby)</th>\n",
       "      <th>Głębokość zalegania złoża</th>\n",
       "      <th>Rzeczywista szerokość</th>\n",
       "      <th>Długość kotwi</th>\n",
       "      <th>Dodatkowa obudowa</th>\n",
       "      <th>Czas istnienia wyrobiska</th>\n",
       "      <th>Opadnięcia elementów SRS</th>\n",
       "      <th>Rozwarstwienia stwierdzone badaniem endoskopowym</th>\n",
       "      <th>Predyspozycja</th>\n",
       "      <th>Możliwość utrzymania</th>\n",
       "    </tr>\n",
       "  </thead>\n",
       "  <tbody>\n",
       "    <tr>\n",
       "      <th>0</th>\n",
       "      <td>5</td>\n",
       "      <td>11.80</td>\n",
       "      <td>0.0</td>\n",
       "      <td>0.3</td>\n",
       "      <td>0.0</td>\n",
       "      <td>0.0</td>\n",
       "      <td>18</td>\n",
       "      <td>18</td>\n",
       "      <td>0</td>\n",
       "      <td>1.10</td>\n",
       "      <td>17.5</td>\n",
       "      <td>1.8</td>\n",
       "      <td>0</td>\n",
       "      <td>3.5</td>\n",
       "      <td>0.0</td>\n",
       "      <td>0.0</td>\n",
       "      <td>1.00</td>\n",
       "      <td>1.0</td>\n",
       "    </tr>\n",
       "    <tr>\n",
       "      <th>1</th>\n",
       "      <td>4</td>\n",
       "      <td>9.60</td>\n",
       "      <td>0.0</td>\n",
       "      <td>0.3</td>\n",
       "      <td>0.5</td>\n",
       "      <td>0.5</td>\n",
       "      <td>30</td>\n",
       "      <td>30</td>\n",
       "      <td>0</td>\n",
       "      <td>0.85</td>\n",
       "      <td>12.0</td>\n",
       "      <td>1.6</td>\n",
       "      <td>2</td>\n",
       "      <td>6.0</td>\n",
       "      <td>0.0</td>\n",
       "      <td>1.5</td>\n",
       "      <td>1.00</td>\n",
       "      <td>1.0</td>\n",
       "    </tr>\n",
       "    <tr>\n",
       "      <th>2</th>\n",
       "      <td>56</td>\n",
       "      <td>9.30</td>\n",
       "      <td>0.0</td>\n",
       "      <td>0.0</td>\n",
       "      <td>0.0</td>\n",
       "      <td>0.6</td>\n",
       "      <td>8</td>\n",
       "      <td>8</td>\n",
       "      <td>75</td>\n",
       "      <td>0.95</td>\n",
       "      <td>11.6</td>\n",
       "      <td>1.8</td>\n",
       "      <td>5</td>\n",
       "      <td>1.0</td>\n",
       "      <td>0.0</td>\n",
       "      <td>0.0</td>\n",
       "      <td>1.00</td>\n",
       "      <td>1.0</td>\n",
       "    </tr>\n",
       "    <tr>\n",
       "      <th>3</th>\n",
       "      <td>4</td>\n",
       "      <td>8.70</td>\n",
       "      <td>1.0</td>\n",
       "      <td>0.3</td>\n",
       "      <td>0.0</td>\n",
       "      <td>0.0</td>\n",
       "      <td>0</td>\n",
       "      <td>0</td>\n",
       "      <td>0</td>\n",
       "      <td>1.02</td>\n",
       "      <td>10.0</td>\n",
       "      <td>2.6</td>\n",
       "      <td>3</td>\n",
       "      <td>4.0</td>\n",
       "      <td>0.0</td>\n",
       "      <td>4.6</td>\n",
       "      <td>1.00</td>\n",
       "      <td>1.0</td>\n",
       "    </tr>\n",
       "    <tr>\n",
       "      <th>4</th>\n",
       "      <td>4</td>\n",
       "      <td>9.70</td>\n",
       "      <td>0.0</td>\n",
       "      <td>0.0</td>\n",
       "      <td>0.5</td>\n",
       "      <td>1.0</td>\n",
       "      <td>0</td>\n",
       "      <td>0</td>\n",
       "      <td>0</td>\n",
       "      <td>0.74</td>\n",
       "      <td>7.0</td>\n",
       "      <td>1.8</td>\n",
       "      <td>0</td>\n",
       "      <td>6.0</td>\n",
       "      <td>0.0</td>\n",
       "      <td>2.0</td>\n",
       "      <td>1.00</td>\n",
       "      <td>1.0</td>\n",
       "    </tr>\n",
       "    <tr>\n",
       "      <th>...</th>\n",
       "      <td>...</td>\n",
       "      <td>...</td>\n",
       "      <td>...</td>\n",
       "      <td>...</td>\n",
       "      <td>...</td>\n",
       "      <td>...</td>\n",
       "      <td>...</td>\n",
       "      <td>...</td>\n",
       "      <td>...</td>\n",
       "      <td>...</td>\n",
       "      <td>...</td>\n",
       "      <td>...</td>\n",
       "      <td>...</td>\n",
       "      <td>...</td>\n",
       "      <td>...</td>\n",
       "      <td>...</td>\n",
       "      <td>...</td>\n",
       "      <td>...</td>\n",
       "    </tr>\n",
       "    <tr>\n",
       "      <th>75</th>\n",
       "      <td>4</td>\n",
       "      <td>8.59</td>\n",
       "      <td>0.0</td>\n",
       "      <td>0.0</td>\n",
       "      <td>0.0</td>\n",
       "      <td>0.0</td>\n",
       "      <td>15</td>\n",
       "      <td>15</td>\n",
       "      <td>35</td>\n",
       "      <td>1.11</td>\n",
       "      <td>7.0</td>\n",
       "      <td>1.8</td>\n",
       "      <td>0</td>\n",
       "      <td>2.0</td>\n",
       "      <td>0.0</td>\n",
       "      <td>0.5</td>\n",
       "      <td>0.60</td>\n",
       "      <td>0.5</td>\n",
       "    </tr>\n",
       "    <tr>\n",
       "      <th>76</th>\n",
       "      <td>4</td>\n",
       "      <td>8.59</td>\n",
       "      <td>0.0</td>\n",
       "      <td>0.0</td>\n",
       "      <td>0.0</td>\n",
       "      <td>0.0</td>\n",
       "      <td>15</td>\n",
       "      <td>15</td>\n",
       "      <td>35</td>\n",
       "      <td>1.11</td>\n",
       "      <td>7.0</td>\n",
       "      <td>1.8</td>\n",
       "      <td>0</td>\n",
       "      <td>3.0</td>\n",
       "      <td>0.0</td>\n",
       "      <td>0.3</td>\n",
       "      <td>0.60</td>\n",
       "      <td>0.5</td>\n",
       "    </tr>\n",
       "    <tr>\n",
       "      <th>77</th>\n",
       "      <td>4</td>\n",
       "      <td>8.59</td>\n",
       "      <td>1.0</td>\n",
       "      <td>0.0</td>\n",
       "      <td>0.0</td>\n",
       "      <td>0.0</td>\n",
       "      <td>15</td>\n",
       "      <td>15</td>\n",
       "      <td>21</td>\n",
       "      <td>1.11</td>\n",
       "      <td>7.0</td>\n",
       "      <td>1.8</td>\n",
       "      <td>0</td>\n",
       "      <td>3.0</td>\n",
       "      <td>0.0</td>\n",
       "      <td>0.0</td>\n",
       "      <td>0.45</td>\n",
       "      <td>0.5</td>\n",
       "    </tr>\n",
       "    <tr>\n",
       "      <th>78</th>\n",
       "      <td>4</td>\n",
       "      <td>10.80</td>\n",
       "      <td>1.0</td>\n",
       "      <td>0.0</td>\n",
       "      <td>0.0</td>\n",
       "      <td>0.0</td>\n",
       "      <td>15</td>\n",
       "      <td>15</td>\n",
       "      <td>21</td>\n",
       "      <td>1.11</td>\n",
       "      <td>7.0</td>\n",
       "      <td>1.8</td>\n",
       "      <td>0</td>\n",
       "      <td>3.0</td>\n",
       "      <td>0.0</td>\n",
       "      <td>0.5</td>\n",
       "      <td>0.60</td>\n",
       "      <td>0.5</td>\n",
       "    </tr>\n",
       "    <tr>\n",
       "      <th>79</th>\n",
       "      <td>4</td>\n",
       "      <td>10.80</td>\n",
       "      <td>1.0</td>\n",
       "      <td>0.0</td>\n",
       "      <td>0.0</td>\n",
       "      <td>0.0</td>\n",
       "      <td>15</td>\n",
       "      <td>15</td>\n",
       "      <td>21</td>\n",
       "      <td>1.11</td>\n",
       "      <td>7.0</td>\n",
       "      <td>1.8</td>\n",
       "      <td>0</td>\n",
       "      <td>3.0</td>\n",
       "      <td>0.0</td>\n",
       "      <td>0.0</td>\n",
       "      <td>0.45</td>\n",
       "      <td>0.5</td>\n",
       "    </tr>\n",
       "  </tbody>\n",
       "</table>\n",
       "<p>80 rows × 18 columns</p>\n",
       "</div>"
      ],
      "text/plain": [
       "    Rodzaj skał stropowych  Wytrzymałość na rozciąganie  Spękania pionowe  \\\n",
       "0                        5                        11.80               0.0   \n",
       "1                        4                         9.60               0.0   \n",
       "2                       56                         9.30               0.0   \n",
       "3                        4                         8.70               1.0   \n",
       "4                        4                         9.70               0.0   \n",
       "..                     ...                          ...               ...   \n",
       "75                       4                         8.59               0.0   \n",
       "76                       4                         8.59               0.0   \n",
       "77                       4                         8.59               1.0   \n",
       "78                       4                        10.80               1.0   \n",
       "79                       4                        10.80               1.0   \n",
       "\n",
       "    Zawodnienie  Płaszczyzny osłabienia  \\\n",
       "0           0.3                     0.0   \n",
       "1           0.3                     0.5   \n",
       "2           0.0                     0.0   \n",
       "3           0.3                     0.0   \n",
       "4           0.0                     0.5   \n",
       "..          ...                     ...   \n",
       "75          0.0                     0.0   \n",
       "76          0.0                     0.0   \n",
       "77          0.0                     0.0   \n",
       "78          0.0                     0.0   \n",
       "79          0.0                     0.0   \n",
       "\n",
       "    Występowanie zaburzeń zalegania złoża   Średni postęp miesięczny frontu  \\\n",
       "0                                      0.0                               18   \n",
       "1                                      0.5                               30   \n",
       "2                                      0.6                                8   \n",
       "3                                      0.0                                0   \n",
       "4                                      1.0                                0   \n",
       "..                                     ...                              ...   \n",
       "75                                     0.0                               15   \n",
       "76                                     0.0                               15   \n",
       "77                                     0.0                               15   \n",
       "78                                     0.0                               15   \n",
       "79                                     0.0                               15   \n",
       "\n",
       "    Średni postęp mieś. likwidacji  \\\n",
       "0                               18   \n",
       "1                               30   \n",
       "2                                8   \n",
       "3                                0   \n",
       "4                                0   \n",
       "..                             ...   \n",
       "75                              15   \n",
       "76                              15   \n",
       "77                              15   \n",
       "78                              15   \n",
       "79                              15   \n",
       "\n",
       "    Występowanie zaszłości (stare wyrobiska, zroby)  \\\n",
       "0                                                 0   \n",
       "1                                                 0   \n",
       "2                                                75   \n",
       "3                                                 0   \n",
       "4                                                 0   \n",
       "..                                              ...   \n",
       "75                                               35   \n",
       "76                                               35   \n",
       "77                                               21   \n",
       "78                                               21   \n",
       "79                                               21   \n",
       "\n",
       "    Głębokość zalegania złoża  Rzeczywista szerokość  Długość kotwi  \\\n",
       "0                        1.10                   17.5            1.8   \n",
       "1                        0.85                   12.0            1.6   \n",
       "2                        0.95                   11.6            1.8   \n",
       "3                        1.02                   10.0            2.6   \n",
       "4                        0.74                    7.0            1.8   \n",
       "..                        ...                    ...            ...   \n",
       "75                       1.11                    7.0            1.8   \n",
       "76                       1.11                    7.0            1.8   \n",
       "77                       1.11                    7.0            1.8   \n",
       "78                       1.11                    7.0            1.8   \n",
       "79                       1.11                    7.0            1.8   \n",
       "\n",
       "    Dodatkowa obudowa  Czas istnienia wyrobiska  Opadnięcia elementów SRS  \\\n",
       "0                   0                       3.5                       0.0   \n",
       "1                   2                       6.0                       0.0   \n",
       "2                   5                       1.0                       0.0   \n",
       "3                   3                       4.0                       0.0   \n",
       "4                   0                       6.0                       0.0   \n",
       "..                ...                       ...                       ...   \n",
       "75                  0                       2.0                       0.0   \n",
       "76                  0                       3.0                       0.0   \n",
       "77                  0                       3.0                       0.0   \n",
       "78                  0                       3.0                       0.0   \n",
       "79                  0                       3.0                       0.0   \n",
       "\n",
       "    Rozwarstwienia stwierdzone badaniem endoskopowym  Predyspozycja  \\\n",
       "0                                                0.0           1.00   \n",
       "1                                                1.5           1.00   \n",
       "2                                                0.0           1.00   \n",
       "3                                                4.6           1.00   \n",
       "4                                                2.0           1.00   \n",
       "..                                               ...            ...   \n",
       "75                                               0.5           0.60   \n",
       "76                                               0.3           0.60   \n",
       "77                                               0.0           0.45   \n",
       "78                                               0.5           0.60   \n",
       "79                                               0.0           0.45   \n",
       "\n",
       "    Możliwość utrzymania  \n",
       "0                    1.0  \n",
       "1                    1.0  \n",
       "2                    1.0  \n",
       "3                    1.0  \n",
       "4                    1.0  \n",
       "..                   ...  \n",
       "75                   0.5  \n",
       "76                   0.5  \n",
       "77                   0.5  \n",
       "78                   0.5  \n",
       "79                   0.5  \n",
       "\n",
       "[80 rows x 18 columns]"
      ]
     },
     "execution_count": 141,
     "metadata": {},
     "output_type": "execute_result"
    }
   ],
   "source": [
    "pd.read_excel('data_raw.xlsx', sheet_name = 'tabela', engine = 'openpyxl')"
   ]
  },
  {
   "cell_type": "code",
   "execution_count": 142,
   "id": "opened-remainder",
   "metadata": {},
   "outputs": [
    {
     "data": {
      "text/html": [
       "<div>\n",
       "<style scoped>\n",
       "    .dataframe tbody tr th:only-of-type {\n",
       "        vertical-align: middle;\n",
       "    }\n",
       "\n",
       "    .dataframe tbody tr th {\n",
       "        vertical-align: top;\n",
       "    }\n",
       "\n",
       "    .dataframe thead th {\n",
       "        text-align: right;\n",
       "    }\n",
       "</style>\n",
       "<table border=\"1\" class=\"dataframe\">\n",
       "  <thead>\n",
       "    <tr style=\"text-align: right;\">\n",
       "      <th></th>\n",
       "      <th>TOP</th>\n",
       "      <th>Rr</th>\n",
       "      <th>CRv</th>\n",
       "      <th>HYDRO</th>\n",
       "      <th>WEAK</th>\n",
       "      <th>TECT</th>\n",
       "      <th>v_FR</th>\n",
       "      <th>v_LI</th>\n",
       "      <th>ZROBY</th>\n",
       "      <th>H</th>\n",
       "      <th>W</th>\n",
       "      <th>L</th>\n",
       "      <th>EXT</th>\n",
       "      <th>T</th>\n",
       "      <th>SRS</th>\n",
       "      <th>ENDO</th>\n",
       "      <th>CRFp</th>\n",
       "      <th>CRFm</th>\n",
       "    </tr>\n",
       "  </thead>\n",
       "  <tbody>\n",
       "    <tr>\n",
       "      <th>0</th>\n",
       "      <td>5</td>\n",
       "      <td>11.8</td>\n",
       "      <td>0.0</td>\n",
       "      <td>0.3</td>\n",
       "      <td>0.0</td>\n",
       "      <td>0.0</td>\n",
       "      <td>18</td>\n",
       "      <td>18</td>\n",
       "      <td>0</td>\n",
       "      <td>1.10</td>\n",
       "      <td>17.5</td>\n",
       "      <td>1.8</td>\n",
       "      <td>0</td>\n",
       "      <td>3.5</td>\n",
       "      <td>0.0</td>\n",
       "      <td>0.0</td>\n",
       "      <td>1.0</td>\n",
       "      <td>1.0</td>\n",
       "    </tr>\n",
       "    <tr>\n",
       "      <th>1</th>\n",
       "      <td>4</td>\n",
       "      <td>9.6</td>\n",
       "      <td>0.0</td>\n",
       "      <td>0.3</td>\n",
       "      <td>0.5</td>\n",
       "      <td>0.5</td>\n",
       "      <td>30</td>\n",
       "      <td>30</td>\n",
       "      <td>0</td>\n",
       "      <td>0.85</td>\n",
       "      <td>12.0</td>\n",
       "      <td>1.6</td>\n",
       "      <td>2</td>\n",
       "      <td>6.0</td>\n",
       "      <td>0.0</td>\n",
       "      <td>1.5</td>\n",
       "      <td>1.0</td>\n",
       "      <td>1.0</td>\n",
       "    </tr>\n",
       "    <tr>\n",
       "      <th>2</th>\n",
       "      <td>56</td>\n",
       "      <td>9.3</td>\n",
       "      <td>0.0</td>\n",
       "      <td>0.0</td>\n",
       "      <td>0.0</td>\n",
       "      <td>0.6</td>\n",
       "      <td>8</td>\n",
       "      <td>8</td>\n",
       "      <td>75</td>\n",
       "      <td>0.95</td>\n",
       "      <td>11.6</td>\n",
       "      <td>1.8</td>\n",
       "      <td>5</td>\n",
       "      <td>1.0</td>\n",
       "      <td>0.0</td>\n",
       "      <td>0.0</td>\n",
       "      <td>1.0</td>\n",
       "      <td>1.0</td>\n",
       "    </tr>\n",
       "    <tr>\n",
       "      <th>3</th>\n",
       "      <td>4</td>\n",
       "      <td>8.7</td>\n",
       "      <td>1.0</td>\n",
       "      <td>0.3</td>\n",
       "      <td>0.0</td>\n",
       "      <td>0.0</td>\n",
       "      <td>0</td>\n",
       "      <td>0</td>\n",
       "      <td>0</td>\n",
       "      <td>1.02</td>\n",
       "      <td>10.0</td>\n",
       "      <td>2.6</td>\n",
       "      <td>3</td>\n",
       "      <td>4.0</td>\n",
       "      <td>0.0</td>\n",
       "      <td>4.6</td>\n",
       "      <td>1.0</td>\n",
       "      <td>1.0</td>\n",
       "    </tr>\n",
       "    <tr>\n",
       "      <th>4</th>\n",
       "      <td>4</td>\n",
       "      <td>9.7</td>\n",
       "      <td>0.0</td>\n",
       "      <td>0.0</td>\n",
       "      <td>0.5</td>\n",
       "      <td>1.0</td>\n",
       "      <td>0</td>\n",
       "      <td>0</td>\n",
       "      <td>0</td>\n",
       "      <td>0.74</td>\n",
       "      <td>7.0</td>\n",
       "      <td>1.8</td>\n",
       "      <td>0</td>\n",
       "      <td>6.0</td>\n",
       "      <td>0.0</td>\n",
       "      <td>2.0</td>\n",
       "      <td>1.0</td>\n",
       "      <td>1.0</td>\n",
       "    </tr>\n",
       "  </tbody>\n",
       "</table>\n",
       "</div>"
      ],
      "text/plain": [
       "   TOP    Rr  CRv  HYDRO  WEAK  TECT  v_FR  v_LI  ZROBY     H     W    L  EXT  \\\n",
       "0    5  11.8  0.0    0.3   0.0   0.0    18    18      0  1.10  17.5  1.8    0   \n",
       "1    4   9.6  0.0    0.3   0.5   0.5    30    30      0  0.85  12.0  1.6    2   \n",
       "2   56   9.3  0.0    0.0   0.0   0.6     8     8     75  0.95  11.6  1.8    5   \n",
       "3    4   8.7  1.0    0.3   0.0   0.0     0     0      0  1.02  10.0  2.6    3   \n",
       "4    4   9.7  0.0    0.0   0.5   1.0     0     0      0  0.74   7.0  1.8    0   \n",
       "\n",
       "     T  SRS  ENDO  CRFp  CRFm  \n",
       "0  3.5  0.0   0.0   1.0   1.0  \n",
       "1  6.0  0.0   1.5   1.0   1.0  \n",
       "2  1.0  0.0   0.0   1.0   1.0  \n",
       "3  4.0  0.0   4.6   1.0   1.0  \n",
       "4  6.0  0.0   2.0   1.0   1.0  "
      ]
     },
     "execution_count": 142,
     "metadata": {},
     "output_type": "execute_result"
    }
   ],
   "source": [
    "date = pd.read_csv('data_.csv', index_col = False)\n",
    "date.head()"
   ]
  },
  {
   "cell_type": "code",
   "execution_count": 143,
   "id": "engaging-toronto",
   "metadata": {
    "scrolled": true
   },
   "outputs": [
    {
     "data": {
      "text/html": [
       "<div>\n",
       "<style scoped>\n",
       "    .dataframe tbody tr th:only-of-type {\n",
       "        vertical-align: middle;\n",
       "    }\n",
       "\n",
       "    .dataframe tbody tr th {\n",
       "        vertical-align: top;\n",
       "    }\n",
       "\n",
       "    .dataframe thead th {\n",
       "        text-align: right;\n",
       "    }\n",
       "</style>\n",
       "<table border=\"1\" class=\"dataframe\">\n",
       "  <thead>\n",
       "    <tr style=\"text-align: right;\">\n",
       "      <th></th>\n",
       "      <th>TOP</th>\n",
       "      <th>Rr</th>\n",
       "      <th>CRv</th>\n",
       "      <th>HYDRO</th>\n",
       "      <th>WEAK</th>\n",
       "      <th>TECT</th>\n",
       "      <th>v_FR</th>\n",
       "      <th>v_LI</th>\n",
       "      <th>ZROBY</th>\n",
       "      <th>H</th>\n",
       "      <th>W</th>\n",
       "      <th>L</th>\n",
       "      <th>EXT</th>\n",
       "      <th>T</th>\n",
       "      <th>SRS</th>\n",
       "      <th>ENDO</th>\n",
       "      <th>CRFp</th>\n",
       "      <th>CRFm</th>\n",
       "    </tr>\n",
       "  </thead>\n",
       "  <tbody>\n",
       "    <tr>\n",
       "      <th>count</th>\n",
       "      <td>80.00000</td>\n",
       "      <td>80.000000</td>\n",
       "      <td>80.000000</td>\n",
       "      <td>80.000000</td>\n",
       "      <td>80.000000</td>\n",
       "      <td>80.000000</td>\n",
       "      <td>80.000000</td>\n",
       "      <td>80.000000</td>\n",
       "      <td>80.000000</td>\n",
       "      <td>80.000000</td>\n",
       "      <td>80.000000</td>\n",
       "      <td>80.00000</td>\n",
       "      <td>80.000000</td>\n",
       "      <td>80.000000</td>\n",
       "      <td>80.00000</td>\n",
       "      <td>80.000000</td>\n",
       "      <td>80.000000</td>\n",
       "      <td>80.000000</td>\n",
       "    </tr>\n",
       "    <tr>\n",
       "      <th>mean</th>\n",
       "      <td>13.36250</td>\n",
       "      <td>8.735250</td>\n",
       "      <td>0.468750</td>\n",
       "      <td>0.160000</td>\n",
       "      <td>0.162500</td>\n",
       "      <td>0.167500</td>\n",
       "      <td>11.512500</td>\n",
       "      <td>13.075000</td>\n",
       "      <td>62.800000</td>\n",
       "      <td>1.108687</td>\n",
       "      <td>7.695000</td>\n",
       "      <td>1.82500</td>\n",
       "      <td>1.237500</td>\n",
       "      <td>3.618875</td>\n",
       "      <td>0.34750</td>\n",
       "      <td>1.051875</td>\n",
       "      <td>0.645625</td>\n",
       "      <td>0.650000</td>\n",
       "    </tr>\n",
       "    <tr>\n",
       "      <th>std</th>\n",
       "      <td>19.05106</td>\n",
       "      <td>1.452321</td>\n",
       "      <td>0.452446</td>\n",
       "      <td>0.281767</td>\n",
       "      <td>0.235665</td>\n",
       "      <td>0.291992</td>\n",
       "      <td>8.236986</td>\n",
       "      <td>9.815739</td>\n",
       "      <td>48.310546</td>\n",
       "      <td>0.084174</td>\n",
       "      <td>1.619728</td>\n",
       "      <td>0.15711</td>\n",
       "      <td>5.102106</td>\n",
       "      <td>1.961915</td>\n",
       "      <td>0.35166</td>\n",
       "      <td>1.053188</td>\n",
       "      <td>0.193681</td>\n",
       "      <td>0.225018</td>\n",
       "    </tr>\n",
       "    <tr>\n",
       "      <th>min</th>\n",
       "      <td>2.00000</td>\n",
       "      <td>5.400000</td>\n",
       "      <td>0.000000</td>\n",
       "      <td>0.000000</td>\n",
       "      <td>0.000000</td>\n",
       "      <td>0.000000</td>\n",
       "      <td>0.000000</td>\n",
       "      <td>0.000000</td>\n",
       "      <td>0.000000</td>\n",
       "      <td>0.600000</td>\n",
       "      <td>6.400000</td>\n",
       "      <td>1.60000</td>\n",
       "      <td>0.000000</td>\n",
       "      <td>0.500000</td>\n",
       "      <td>0.00000</td>\n",
       "      <td>0.000000</td>\n",
       "      <td>0.400000</td>\n",
       "      <td>0.300000</td>\n",
       "    </tr>\n",
       "    <tr>\n",
       "      <th>25%</th>\n",
       "      <td>4.00000</td>\n",
       "      <td>8.000000</td>\n",
       "      <td>0.000000</td>\n",
       "      <td>0.000000</td>\n",
       "      <td>0.000000</td>\n",
       "      <td>0.000000</td>\n",
       "      <td>5.000000</td>\n",
       "      <td>5.000000</td>\n",
       "      <td>21.000000</td>\n",
       "      <td>1.110000</td>\n",
       "      <td>7.000000</td>\n",
       "      <td>1.80000</td>\n",
       "      <td>0.000000</td>\n",
       "      <td>2.000000</td>\n",
       "      <td>0.00000</td>\n",
       "      <td>0.000000</td>\n",
       "      <td>0.450000</td>\n",
       "      <td>0.500000</td>\n",
       "    </tr>\n",
       "    <tr>\n",
       "      <th>50%</th>\n",
       "      <td>5.00000</td>\n",
       "      <td>9.000000</td>\n",
       "      <td>0.500000</td>\n",
       "      <td>0.000000</td>\n",
       "      <td>0.000000</td>\n",
       "      <td>0.000000</td>\n",
       "      <td>15.000000</td>\n",
       "      <td>15.000000</td>\n",
       "      <td>60.000000</td>\n",
       "      <td>1.110000</td>\n",
       "      <td>7.000000</td>\n",
       "      <td>1.80000</td>\n",
       "      <td>0.000000</td>\n",
       "      <td>3.000000</td>\n",
       "      <td>0.25000</td>\n",
       "      <td>1.050000</td>\n",
       "      <td>0.600000</td>\n",
       "      <td>0.500000</td>\n",
       "    </tr>\n",
       "    <tr>\n",
       "      <th>75%</th>\n",
       "      <td>6.00000</td>\n",
       "      <td>9.600000</td>\n",
       "      <td>1.000000</td>\n",
       "      <td>0.300000</td>\n",
       "      <td>0.500000</td>\n",
       "      <td>0.425000</td>\n",
       "      <td>20.000000</td>\n",
       "      <td>20.000000</td>\n",
       "      <td>90.000000</td>\n",
       "      <td>1.150000</td>\n",
       "      <td>7.575000</td>\n",
       "      <td>1.80000</td>\n",
       "      <td>1.000000</td>\n",
       "      <td>6.000000</td>\n",
       "      <td>0.50000</td>\n",
       "      <td>1.800000</td>\n",
       "      <td>0.800000</td>\n",
       "      <td>0.900000</td>\n",
       "    </tr>\n",
       "    <tr>\n",
       "      <th>max</th>\n",
       "      <td>56.00000</td>\n",
       "      <td>11.800000</td>\n",
       "      <td>1.000000</td>\n",
       "      <td>1.000000</td>\n",
       "      <td>0.500000</td>\n",
       "      <td>1.000000</td>\n",
       "      <td>30.000000</td>\n",
       "      <td>50.000000</td>\n",
       "      <td>190.000000</td>\n",
       "      <td>1.175000</td>\n",
       "      <td>17.500000</td>\n",
       "      <td>2.60000</td>\n",
       "      <td>45.000000</td>\n",
       "      <td>7.000000</td>\n",
       "      <td>1.00000</td>\n",
       "      <td>4.600000</td>\n",
       "      <td>1.000000</td>\n",
       "      <td>1.000000</td>\n",
       "    </tr>\n",
       "  </tbody>\n",
       "</table>\n",
       "</div>"
      ],
      "text/plain": [
       "            TOP         Rr        CRv      HYDRO       WEAK       TECT  \\\n",
       "count  80.00000  80.000000  80.000000  80.000000  80.000000  80.000000   \n",
       "mean   13.36250   8.735250   0.468750   0.160000   0.162500   0.167500   \n",
       "std    19.05106   1.452321   0.452446   0.281767   0.235665   0.291992   \n",
       "min     2.00000   5.400000   0.000000   0.000000   0.000000   0.000000   \n",
       "25%     4.00000   8.000000   0.000000   0.000000   0.000000   0.000000   \n",
       "50%     5.00000   9.000000   0.500000   0.000000   0.000000   0.000000   \n",
       "75%     6.00000   9.600000   1.000000   0.300000   0.500000   0.425000   \n",
       "max    56.00000  11.800000   1.000000   1.000000   0.500000   1.000000   \n",
       "\n",
       "            v_FR       v_LI       ZROBY          H          W         L  \\\n",
       "count  80.000000  80.000000   80.000000  80.000000  80.000000  80.00000   \n",
       "mean   11.512500  13.075000   62.800000   1.108687   7.695000   1.82500   \n",
       "std     8.236986   9.815739   48.310546   0.084174   1.619728   0.15711   \n",
       "min     0.000000   0.000000    0.000000   0.600000   6.400000   1.60000   \n",
       "25%     5.000000   5.000000   21.000000   1.110000   7.000000   1.80000   \n",
       "50%    15.000000  15.000000   60.000000   1.110000   7.000000   1.80000   \n",
       "75%    20.000000  20.000000   90.000000   1.150000   7.575000   1.80000   \n",
       "max    30.000000  50.000000  190.000000   1.175000  17.500000   2.60000   \n",
       "\n",
       "             EXT          T       SRS       ENDO       CRFp       CRFm  \n",
       "count  80.000000  80.000000  80.00000  80.000000  80.000000  80.000000  \n",
       "mean    1.237500   3.618875   0.34750   1.051875   0.645625   0.650000  \n",
       "std     5.102106   1.961915   0.35166   1.053188   0.193681   0.225018  \n",
       "min     0.000000   0.500000   0.00000   0.000000   0.400000   0.300000  \n",
       "25%     0.000000   2.000000   0.00000   0.000000   0.450000   0.500000  \n",
       "50%     0.000000   3.000000   0.25000   1.050000   0.600000   0.500000  \n",
       "75%     1.000000   6.000000   0.50000   1.800000   0.800000   0.900000  \n",
       "max    45.000000   7.000000   1.00000   4.600000   1.000000   1.000000  "
      ]
     },
     "execution_count": 143,
     "metadata": {},
     "output_type": "execute_result"
    }
   ],
   "source": [
    "date.describe()"
   ]
  },
  {
   "cell_type": "markdown",
   "id": "pointed-personal",
   "metadata": {},
   "source": [
    "3. Odkryć i zwizuwalizować dane, rozpoznać dodatkowe informacje\n",
    "------------------"
   ]
  },
  {
   "cell_type": "code",
   "execution_count": null,
   "id": "b824d441",
   "metadata": {},
   "outputs": [],
   "source": []
  },
  {
   "cell_type": "markdown",
   "id": "twelve-agent",
   "metadata": {},
   "source": [
    "4. **Przygotować dane pod względem algorytmów maszynowego uczenia** \n",
    "* uporządkować cechy typy CATEGORY:\n",
    "    - określić martwe parametry,\n",
    "    - rodzaj skał (wg Rr i Rc, usunąć 1),\n",
    "* dodać kodowanie gorącojedynkowe\n",
    "* standaryzacja\n",
    "* podzielić zbiory\n",
    "------------------"
   ]
  },
  {
   "cell_type": "markdown",
   "id": "cooperative-sodium",
   "metadata": {},
   "source": [
    "* martwe parametry <br>\n",
    "1: brak 1,3,7 <br>\n",
    "4: za dużo o 0,5"
   ]
  },
  {
   "cell_type": "code",
   "execution_count": 144,
   "id": "numerical-indicator",
   "metadata": {},
   "outputs": [],
   "source": [
    "# dodać kodowanie gorącojedynkowe\n",
    "date.TOP.replace({56:5, 54:5}, inplace = True)         # zamiana 56 i 54 na 5 - redukuje macierz CatOneHot z 6 kolumn do 4 !\n",
    "#cat_encoder = OneHotEncoder()\n",
    "#data_hot_1enc = cat_encoder.fit_transform(date[[\"TOP\"]])\n",
    "#data_hot_1enc.toarray()"
   ]
  },
  {
   "cell_type": "code",
   "execution_count": 145,
   "id": "e75b0619",
   "metadata": {},
   "outputs": [],
   "source": [
    "CRFp = date[['CRFp']]\n",
    "CRFm = date[['CRFm']]\n",
    "date_p = date[[\"TOP\",\"Rr\",\"CRv\",\"HYDRO\",\"WEAK\",\"TECT\",\"v_FR\",\"v_LI\",\"ZROBY\",\"H\",\"SRS\",\"ENDO\"]]\n",
    "#date_m = date[[\"TOP\",\"Rr\",\"CRv\",\"HYDRO\",\"WEAK\",\"TECT\",\"v_FR\",\"v_LI\",\"ZROBY\",\"H\",'W',\"L\",\"EXT\",\"T\",\"SRS\",\"ENDO\"]]"
   ]
  },
  {
   "cell_type": "code",
   "execution_count": 146,
   "id": "e94280b9",
   "metadata": {},
   "outputs": [],
   "source": [
    "import numpy as np\n",
    "from sklearn.model_selection import train_test_split"
   ]
  },
  {
   "cell_type": "code",
   "execution_count": 147,
   "id": "5c41ce8c",
   "metadata": {},
   "outputs": [
    {
     "data": {
      "text/plain": [
       "[(72, 12), (8, 12), (72, 1), (8, 1)]"
      ]
     },
     "execution_count": 147,
     "metadata": {},
     "output_type": "execute_result"
    }
   ],
   "source": [
    "X_train, X_test, y_train, y_test = train_test_split(\n",
    "    date_p, CRFp, test_size=0.10, random_state=42)\n",
    "\n",
    "[x.shape for x in [X_train, X_test, y_train, y_test]]\n",
    "\n",
    "#X_train.shape[1:]"
   ]
  },
  {
   "cell_type": "markdown",
   "id": "47a801b2",
   "metadata": {},
   "source": [
    "## standaryzacja sklearn"
   ]
  },
  {
   "cell_type": "code",
   "execution_count": 148,
   "id": "historic-essex",
   "metadata": {},
   "outputs": [],
   "source": [
    "from sklearn.preprocessing import StandardScaler"
   ]
  },
  {
   "cell_type": "code",
   "execution_count": 149,
   "id": "correct-playlist",
   "metadata": {},
   "outputs": [],
   "source": [
    "scaler = StandardScaler()"
   ]
  },
  {
   "cell_type": "code",
   "execution_count": 10,
   "id": "nonprofit-breach",
   "metadata": {},
   "outputs": [],
   "source": [
    "#date_std = date.to_numpy(dtype = 'float32')"
   ]
  },
  {
   "cell_type": "code",
   "execution_count": 150,
   "id": "dense-shirt",
   "metadata": {},
   "outputs": [
    {
     "data": {
      "text/plain": [
       "StandardScaler()"
      ]
     },
     "execution_count": 150,
     "metadata": {},
     "output_type": "execute_result"
    }
   ],
   "source": [
    "scaler.fit(date_p)"
   ]
  },
  {
   "cell_type": "code",
   "execution_count": 151,
   "id": "applied-convention",
   "metadata": {},
   "outputs": [],
   "source": [
    "X_train = scaler.transform(X_train)\n",
    "X_test = scaler.transform(X_test)"
   ]
  },
  {
   "cell_type": "code",
   "execution_count": 152,
   "id": "worse-lesson",
   "metadata": {},
   "outputs": [
    {
     "data": {
      "text/plain": [
       "array([[-9.35684378e-01,  6.68472755e-01, -1.04257207e+00,\n",
       "        -5.71428571e-01,  1.44115338e+00,  2.86909095e+00,\n",
       "        -1.40647737e+00, -1.34044852e+00, -1.30812470e+00,\n",
       "        -4.40769288e+00, -9.94405766e-01,  9.05922566e-01],\n",
       "       [ 1.69079809e+00, -5.78742543e-01,  6.95048047e-02,\n",
       "         5.00000000e-01,  1.44115338e+00, -5.77264545e-01,\n",
       "        -1.40647737e+00, -1.34044852e+00, -4.74924253e-01,\n",
       "         3.74343810e-01,  4.36393897e-01, -2.88438101e-01],\n",
       "       [ 3.77556854e-01, -5.09452804e-01,  1.18158168e+00,\n",
       "        -5.71428571e-01,  1.44115338e+00, -5.77264545e-01,\n",
       "         1.03691437e+00,  7.09950744e-01, -1.30812470e+00,\n",
       "         4.93894727e-01, -2.79005934e-01,  1.41531739e-01],\n",
       "       [-9.35684378e-01,  8.76341971e-01,  6.95048047e-02,\n",
       "        -5.71428571e-01, -6.93888666e-01, -5.77264545e-01,\n",
       "         1.03691437e+00,  7.09950744e-01, -4.74924253e-01,\n",
       "         4.93894727e-01,  1.86719356e+00,  4.28178299e-01],\n",
       "       [ 3.77556854e-01, -1.06377071e+00, -1.04257207e+00,\n",
       "        -5.71428571e-01,  1.44115338e+00,  1.14591320e+00,\n",
       "        -7.95629434e-01, -8.27848702e-01,  9.83176524e-01,\n",
       "         1.56910579e-02,  1.86719356e+00, -1.00505450e+00],\n",
       "       [-9.35684378e-01,  1.83444583e-01, -1.04257207e+00,\n",
       "        -5.71428571e-01, -6.93888666e-01, -5.77264545e-01,\n",
       "         1.03691437e+00,  7.09950744e-01,  3.58276191e-01,\n",
       "         4.93894727e-01,  4.36393897e-01, -1.00505450e+00],\n",
       "       [-9.35684378e-01,  3.98242774e-01,  1.18158168e+00,\n",
       "        -5.71428571e-01,  1.44115338e+00, -5.77264545e-01,\n",
       "         4.26066434e-01,  1.97350929e-01, -2.87454153e-01,\n",
       "         1.56910579e-02, -9.94405766e-01, -1.00505450e+00],\n",
       "       [-9.35684378e-01,  6.68472755e-01, -1.04257207e+00,\n",
       "         5.00000000e-01, -6.93888666e-01, -5.77264545e-01,\n",
       "         1.03691437e+00,  7.09950744e-01, -1.30812470e+00,\n",
       "         4.93894727e-01, -2.79005934e-01,  5.23727153e-01],\n",
       "       [-9.35684378e-01,  3.98242774e-01,  1.18158168e+00,\n",
       "        -5.71428571e-01,  1.44115338e+00, -5.77264545e-01,\n",
       "         4.26066434e-01,  1.97350929e-01, -8.70694464e-01,\n",
       "         1.56910579e-02, -9.94405766e-01, -5.27310235e-01],\n",
       "       [ 3.77556854e-01,  1.56923936e+00,  1.18158168e+00,\n",
       "         3.00000000e+00, -6.93888666e-01,  1.14591320e+00,\n",
       "        -7.95629434e-01, -8.27848702e-01,  1.19147664e+00,\n",
       "         1.56910579e-02, -2.79005934e-01,  7.14824859e-01],\n",
       "       [ 3.77556854e-01, -2.03382706e+00, -1.04257207e+00,\n",
       "        -5.71428571e-01, -6.93888666e-01, -5.77264545e-01,\n",
       "        -7.95629434e-01, -8.27848702e-01,  5.66576302e-01,\n",
       "         1.56910579e-02, -2.79005934e-01, -1.00505450e+00],\n",
       "       [-9.35684378e-01, -5.09452804e-01,  1.18158168e+00,\n",
       "        -5.71428571e-01, -6.93888666e-01, -5.77264545e-01,\n",
       "         1.03691437e+00,  7.09950744e-01,  1.49976080e-01,\n",
       "         4.93894727e-01, -2.79005934e-01,  4.28178299e-01],\n",
       "       [ 3.77556854e-01,  2.52734322e-01, -1.04257207e+00,\n",
       "         5.00000000e-01,  1.44115338e+00,  1.49054875e+00,\n",
       "         1.03691437e+00,  7.09950744e-01, -6.83224364e-01,\n",
       "        -1.03859859e-01, -9.94405766e-01, -1.00505450e+00],\n",
       "       [ 3.77556854e-01,  1.08421119e+00,  1.18158168e+00,\n",
       "        -5.71428571e-01,  1.44115338e+00, -5.77264545e-01,\n",
       "        -7.95629434e-01, -8.27848702e-01,  2.49960133e-02,\n",
       "         1.56910579e-02, -2.79005934e-01,  2.37080592e-01],\n",
       "       [ 3.77556854e-01, -1.63004111e-01, -1.04257207e+00,\n",
       "        -5.71428571e-01,  1.44115338e+00,  8.01277652e-01,\n",
       "        -1.40647737e+00,  3.78554964e+00, -1.30812470e+00,\n",
       "        -7.01614446e-01, -9.94405766e-01,  1.19256913e+00],\n",
       "       [ 3.77556854e-01, -9.37143717e-02,  6.95048047e-02,\n",
       "        -5.71428571e-01,  1.44115338e+00, -5.77264545e-01,\n",
       "         1.03691437e+00,  7.09950744e-01, -2.87454153e-01,\n",
       "         4.93894727e-01,  1.86719356e+00,  9.05922566e-01],\n",
       "       [-9.35684378e-01,  8.76341971e-01,  6.95048047e-02,\n",
       "        -5.71428571e-01, -6.93888666e-01, -5.77264545e-01,\n",
       "         1.03691437e+00,  7.09950744e-01, -8.91524475e-01,\n",
       "         4.93894727e-01,  4.36393897e-01,  5.23727153e-01],\n",
       "       [ 3.77556854e-01, -5.78742543e-01,  1.18158168e+00,\n",
       "         3.00000000e+00,  1.44115338e+00,  1.14591320e+00,\n",
       "        -7.95629434e-01, -8.27848702e-01,  2.49960133e-02,\n",
       "         1.56910579e-02,  1.86719356e+00,  4.28178299e-01],\n",
       "       [-9.35684378e-01, -5.09452804e-01,  1.18158168e+00,\n",
       "         5.00000000e-01,  1.44115338e+00,  1.49054875e+00,\n",
       "         1.03691437e+00,  7.09950744e-01, -8.91524475e-01,\n",
       "         4.93894727e-01,  1.86719356e+00,  4.59828857e-02],\n",
       "       [ 3.77556854e-01, -1.13306045e+00, -1.04257207e+00,\n",
       "        -5.71428571e-01, -6.93888666e-01, -5.77264545e-01,\n",
       "        -7.95629434e-01, -8.27848702e-01,  5.66576302e-01,\n",
       "         1.56910579e-02, -2.79005934e-01, -1.00505450e+00],\n",
       "       [-9.35684378e-01,  1.14154845e-01,  1.18158168e+00,\n",
       "        -5.71428571e-01, -6.93888666e-01,  1.49054875e+00,\n",
       "         1.03691437e+00,  7.09950744e-01,  7.74876413e-01,\n",
       "         7.92772021e-01, -2.79005934e-01, -1.00505450e+00],\n",
       "       [-9.35684378e-01, -5.09452804e-01,  6.95048047e-02,\n",
       "        -5.71428571e-01, -6.93888666e-01, -5.77264545e-01,\n",
       "         1.03691437e+00,  7.09950744e-01,  1.49976080e-01,\n",
       "         4.93894727e-01, -2.79005934e-01,  4.28178299e-01],\n",
       "       [ 3.77556854e-01, -2.24169627e+00, -1.04257207e+00,\n",
       "        -5.71428571e-01,  1.44115338e+00,  1.14591320e+00,\n",
       "        -7.95629434e-01, -8.27848702e-01,  1.39977675e+00,\n",
       "         1.56910579e-02,  4.36393897e-01, -1.45114821e-01],\n",
       "       [-9.35684378e-01,  1.43065988e+00,  1.18158168e+00,\n",
       "        -5.71428571e-01, -6.93888666e-01, -5.77264545e-01,\n",
       "         4.26066434e-01,  1.97350929e-01, -8.70694464e-01,\n",
       "         1.56910579e-02, -9.94405766e-01, -1.00505450e+00],\n",
       "       [-9.35684378e-01,  9.45631710e-01,  1.18158168e+00,\n",
       "         5.00000000e-01, -6.93888666e-01, -5.77264545e-01,\n",
       "        -1.40647737e+00, -3.15248887e-01, -1.30812470e+00,\n",
       "        -1.03859859e-01,  1.86719356e+00,  2.33915537e+00],\n",
       "       [ 3.77556854e-01,  1.14154845e-01,  1.18158168e+00,\n",
       "        -5.71428571e-01,  1.44115338e+00,  1.49054875e+00,\n",
       "         1.03691437e+00,  7.09950744e-01,  4.16600222e-03,\n",
       "         4.93894727e-01,  1.86719356e+00,  8.10373713e-01],\n",
       "       [ 3.77556854e-01, -2.10311680e+00, -1.04257207e+00,\n",
       "         3.00000000e+00, -6.93888666e-01, -5.77264545e-01,\n",
       "        -7.95629434e-01, -8.27848702e-01, -2.66624142e-01,\n",
       "         1.56910579e-02,  4.36393897e-01, -1.00505450e+00],\n",
       "       [ 3.77556854e-01, -2.31098601e+00, -1.04257207e+00,\n",
       "        -5.71428571e-01, -6.93888666e-01, -5.77264545e-01,\n",
       "        -7.95629434e-01, -8.27848702e-01, -5.83240311e-02,\n",
       "         1.56910579e-02, -2.79005934e-01, -5.27310235e-01],\n",
       "       [ 3.77556854e-01,  1.36137014e+00,  1.18158168e+00,\n",
       "        -5.71428571e-01, -6.93888666e-01,  2.86909095e+00,\n",
       "        -7.95629434e-01, -8.27848702e-01,  2.02467708e+00,\n",
       "         1.56910579e-02, -2.79005934e-01,  9.05922566e-01],\n",
       "       [ 1.69079809e+00, -5.78742543e-01,  1.18158168e+00,\n",
       "         5.00000000e-01, -6.93888666e-01, -5.77264545e-01,\n",
       "        -1.40647737e+00, -1.34044852e+00,  7.74876413e-01,\n",
       "         3.74343810e-01,  1.86719356e+00,  9.05922566e-01],\n",
       "       [ 3.77556854e-01,  3.22024061e-01,  6.95048047e-02,\n",
       "         5.00000000e-01, -6.93888666e-01, -5.77264545e-01,\n",
       "         1.03691437e+00,  7.09950744e-01, -1.30812470e+00,\n",
       "         4.93894727e-01, -2.79005934e-01,  1.41531739e-01],\n",
       "       [ 1.69079809e+00,  4.60603539e-01,  6.95048047e-02,\n",
       "         5.00000000e-01, -6.93888666e-01, -5.77264545e-01,\n",
       "        -1.40647737e+00, -1.34044852e+00,  1.81637697e+00,\n",
       "         3.74343810e-01,  7.15399832e-03,  1.57476454e+00],\n",
       "       [-9.35684378e-01, -1.00643346e-01, -1.04257207e+00,\n",
       "        -5.71428571e-01, -6.93888666e-01, -5.77264545e-01,\n",
       "         4.26066434e-01,  1.97350929e-01, -5.79074309e-01,\n",
       "         1.56910579e-02, -9.94405766e-01, -7.18407941e-01],\n",
       "       [-9.35684378e-01, -2.44246329e-02,  1.18158168e+00,\n",
       "         5.00000000e-01, -6.93888666e-01, -5.77264545e-01,\n",
       "        -1.40647737e+00, -1.34044852e+00, -1.30812470e+00,\n",
       "        -1.06026720e+00, -9.94405766e-01,  3.39019275e+00],\n",
       "       [ 3.77556854e-01, -2.31098601e+00,  1.18158168e+00,\n",
       "        -5.71428571e-01, -6.93888666e-01, -5.77264545e-01,\n",
       "        -7.95629434e-01, -8.27848702e-01, -5.83240311e-02,\n",
       "         1.56910579e-02, -2.79005934e-01, -4.95659677e-02],\n",
       "       [-9.35684378e-01, -5.09452804e-01,  6.95048047e-02,\n",
       "        -5.71428571e-01, -6.93888666e-01,  1.14591320e+00,\n",
       "         1.03691437e+00,  7.09950744e-01, -5.83240311e-02,\n",
       "         4.93894727e-01, -2.79005934e-01, -1.00505450e+00],\n",
       "       [-9.35684378e-01, -1.68737836e+00,  6.95048047e-02,\n",
       "        -5.71428571e-01,  1.44115338e+00,  8.01277652e-01,\n",
       "        -1.40647737e+00,  3.78554964e+00, -1.30812470e+00,\n",
       "        -6.08140573e+00, -9.94405766e-01,  1.38366683e+00],\n",
       "       [ 3.77556854e-01,  1.08421119e+00,  1.18158168e+00,\n",
       "        -5.71428571e-01, -6.93888666e-01,  2.86909095e+00,\n",
       "        -7.95629434e-01, -8.27848702e-01,  5.66576302e-01,\n",
       "         1.56910579e-02,  4.36393897e-01,  9.05922566e-01],\n",
       "       [ 1.69079809e+00,  9.45631710e-01,  1.18158168e+00,\n",
       "        -5.71428571e-01, -6.93888666e-01, -5.77264545e-01,\n",
       "        -1.40647737e+00,  1.97350929e-01, -1.09982459e+00,\n",
       "        -1.03859859e-01, -9.94405766e-01, -1.00505450e+00],\n",
       "       [ 3.77556854e-01,  1.83444583e-01,  1.18158168e+00,\n",
       "        -5.71428571e-01, -6.93888666e-01, -5.77264545e-01,\n",
       "         1.03691437e+00,  7.09950744e-01, -2.66624142e-01,\n",
       "         4.93894727e-01,  4.36393897e-01,  6.19276006e-01],\n",
       "       [-9.35684378e-01,  3.98242774e-01, -1.04257207e+00,\n",
       "        -5.71428571e-01,  1.44115338e+00, -5.77264545e-01,\n",
       "         4.26066434e-01,  1.97350929e-01, -2.87454153e-01,\n",
       "         1.56910579e-02, -9.94405766e-01, -4.95659677e-02],\n",
       "       [ 3.77556854e-01,  1.01492145e+00, -1.04257207e+00,\n",
       "         3.00000000e+00, -6.93888666e-01,  1.14591320e+00,\n",
       "        -7.95629434e-01, -8.27848702e-01, -8.91524475e-01,\n",
       "         1.56910579e-02, -2.79005934e-01, -1.00505450e+00],\n",
       "       [-9.35684378e-01,  5.99183016e-01,  6.95048047e-02,\n",
       "         5.00000000e-01, -6.93888666e-01, -5.77264545e-01,\n",
       "         1.03691437e+00,  7.09950744e-01, -1.30812470e+00,\n",
       "         4.93894727e-01, -2.79005934e-01,  1.41531739e-01],\n",
       "       [-9.35684378e-01,  1.43065988e+00,  1.18158168e+00,\n",
       "        -5.71428571e-01, -6.93888666e-01, -5.77264545e-01,\n",
       "         4.26066434e-01,  1.97350929e-01, -8.70694464e-01,\n",
       "         1.56910579e-02, -9.94405766e-01, -5.27310235e-01],\n",
       "       [ 3.77556854e-01,  1.14154845e-01, -1.04257207e+00,\n",
       "        -5.71428571e-01,  1.44115338e+00, -5.77264545e-01,\n",
       "         1.03691437e+00,  7.09950744e-01,  7.74876413e-01,\n",
       "         7.92772021e-01, -2.79005934e-01, -1.00505450e+00],\n",
       "       [ 1.69079809e+00,  5.29893277e-01, -1.04257207e+00,\n",
       "         1.57142857e+00, -6.93888666e-01, -5.77264545e-01,\n",
       "        -1.40647737e+00, -1.34044852e+00,  8.79026469e-01,\n",
       "         3.74343810e-01, -2.79005934e-01,  7.14824859e-01],\n",
       "       [ 1.69079809e+00, -5.09452804e-01,  6.95048047e-02,\n",
       "        -5.71428571e-01, -6.93888666e-01, -5.77264545e-01,\n",
       "         1.03691437e+00,  7.09950744e-01,  5.66576302e-01,\n",
       "         4.93894727e-01, -2.79005934e-01, -1.00505450e+00],\n",
       "       [ 1.69079809e+00, -5.78742543e-01,  1.18158168e+00,\n",
       "         5.00000000e-01, -6.93888666e-01, -5.77264545e-01,\n",
       "        -1.40647737e+00, -1.34044852e+00,  7.74876413e-01,\n",
       "         3.74343810e-01,  1.86719356e+00,  9.05922566e-01],\n",
       "       [ 3.77556854e-01,  1.14154845e-01,  1.18158168e+00,\n",
       "        -5.71428571e-01,  1.44115338e+00, -5.77264545e-01,\n",
       "         1.03691437e+00,  7.09950744e-01,  2.95786158e-01,\n",
       "         4.93894727e-01,  1.86719356e+00,  8.10373713e-01],\n",
       "       [-9.35684378e-01,  5.99183016e-01,  1.18158168e+00,\n",
       "        -5.71428571e-01, -6.93888666e-01, -5.77264545e-01,\n",
       "         4.26066434e-01,  1.97350929e-01,  2.64957741e+00,\n",
       "         1.56910579e-02, -9.94405766e-01, -4.95659677e-02],\n",
       "       [ 3.77556854e-01,  2.52734322e-01,  1.18158168e+00,\n",
       "         5.00000000e-01, -6.93888666e-01, -5.77264545e-01,\n",
       "         1.03691437e+00,  7.09950744e-01,  4.16600222e-03,\n",
       "         4.93894727e-01,  1.86719356e+00,  8.10373713e-01],\n",
       "       [-9.35684378e-01, -1.00643346e-01,  1.18158168e+00,\n",
       "        -5.71428571e-01, -6.93888666e-01, -5.77264545e-01,\n",
       "         4.26066434e-01,  1.97350929e-01, -8.70694464e-01,\n",
       "         1.56910579e-02, -9.94405766e-01, -1.00505450e+00],\n",
       "       [ 3.77556854e-01,  4.48651059e-02, -1.04257207e+00,\n",
       "        -5.71428571e-01, -6.93888666e-01, -5.77264545e-01,\n",
       "        -7.95629434e-01, -8.27848702e-01,  1.19147664e+00,\n",
       "         1.56910579e-02, -2.79005934e-01, -1.00505450e+00],\n",
       "       [ 1.69079809e+00,  4.60603539e-01,  6.95048047e-02,\n",
       "         5.00000000e-01, -6.93888666e-01, -5.77264545e-01,\n",
       "        -1.40647737e+00, -1.34044852e+00,  1.81637697e+00,\n",
       "         3.74343810e-01,  7.15399832e-03,  6.19276006e-01],\n",
       "       [ 3.77556854e-01,  8.76341971e-01,  1.18158168e+00,\n",
       "        -5.71428571e-01, -6.93888666e-01,  1.14591320e+00,\n",
       "         1.03691437e+00,  7.09950744e-01, -2.66624142e-01,\n",
       "         4.93894727e-01,  4.36393897e-01,  1.41531739e-01],\n",
       "       [-9.35684378e-01, -1.00643346e-01, -1.04257207e+00,\n",
       "        -5.71428571e-01, -6.93888666e-01, -5.77264545e-01,\n",
       "         4.26066434e-01,  1.97350929e-01, -5.79074309e-01,\n",
       "         1.56910579e-02, -9.94405766e-01, -5.27310235e-01],\n",
       "       [ 3.77556854e-01, -2.32293849e-01, -1.04257207e+00,\n",
       "         3.00000000e+00, -6.93888666e-01,  1.14591320e+00,\n",
       "        -7.95629434e-01, -8.27848702e-01, -2.66624142e-01,\n",
       "         1.56910579e-02,  4.36393897e-01, -1.00505450e+00],\n",
       "       [ 3.77556854e-01,  1.01492145e+00,  1.18158168e+00,\n",
       "         3.00000000e+00,  1.44115338e+00,  2.86909095e+00,\n",
       "        -7.95629434e-01, -8.27848702e-01,  5.66576302e-01,\n",
       "         1.56910579e-02, -2.79005934e-01,  2.37080592e-01],\n",
       "       [-9.35684378e-01,  3.98242774e-01, -1.04257207e+00,\n",
       "        -5.71428571e-01,  1.44115338e+00, -5.77264545e-01,\n",
       "         4.26066434e-01,  1.97350929e-01, -8.70694464e-01,\n",
       "         1.56910579e-02, -9.94405766e-01, -1.00505450e+00],\n",
       "       [ 3.77556854e-01,  1.83444583e-01,  1.18158168e+00,\n",
       "        -5.71428571e-01,  1.44115338e+00,  1.14591320e+00,\n",
       "         1.03691437e+00,  7.09950744e-01, -8.91524475e-01,\n",
       "         4.93894727e-01,  1.86719356e+00,  1.41531739e-01],\n",
       "       [ 1.69079809e+00,  5.29893277e-01,  6.95048047e-02,\n",
       "         5.00000000e-01, -6.93888666e-01, -5.77264545e-01,\n",
       "        -1.40647737e+00, -1.34044852e+00, -2.45794131e-01,\n",
       "         3.74343810e-01,  1.86719356e+00,  1.47921569e+00],\n",
       "       [-9.35684378e-01,  5.99183016e-01, -1.04257207e+00,\n",
       "         5.00000000e-01,  1.44115338e+00,  1.14591320e+00,\n",
       "         2.25861024e+00,  1.73515038e+00, -1.30812470e+00,\n",
       "        -3.09263279e+00, -9.94405766e-01,  4.28178299e-01],\n",
       "       [-9.35684378e-01,  4.60603539e-01, -1.04257207e+00,\n",
       "         5.00000000e-01, -6.93888666e-01, -5.77264545e-01,\n",
       "         1.03691437e+00,  7.09950744e-01, -8.70694464e-01,\n",
       "         4.93894727e-01,  1.86719356e+00,  8.10373713e-01],\n",
       "       [ 3.77556854e-01, -2.31098601e+00, -1.04257207e+00,\n",
       "        -5.71428571e-01, -6.93888666e-01, -5.77264545e-01,\n",
       "        -7.95629434e-01, -8.27848702e-01, -5.83240311e-02,\n",
       "         1.56910579e-02, -2.79005934e-01, -1.00505450e+00],\n",
       "       [ 3.77556854e-01,  3.91313800e-01, -1.04257207e+00,\n",
       "        -5.71428571e-01, -6.93888666e-01,  1.49054875e+00,\n",
       "        -4.29120674e-01, -5.20288813e-01,  2.54126135e-01,\n",
       "        -1.89712362e+00, -9.94405766e-01, -1.00505450e+00],\n",
       "       [-9.35684378e-01, -5.37168700e-01, -1.04257207e+00,\n",
       "        -5.71428571e-01, -6.93888666e-01, -5.77264545e-01,\n",
       "         4.26066434e-01,  1.97350929e-01,  2.02467708e+00,\n",
       "         1.56910579e-02, -9.94405766e-01, -1.00505450e+00],\n",
       "       [-9.35684378e-01,  3.98242774e-01, -1.04257207e+00,\n",
       "        -5.71428571e-01,  1.44115338e+00, -5.77264545e-01,\n",
       "         4.26066434e-01,  1.97350929e-01, -8.70694464e-01,\n",
       "         1.56910579e-02, -9.94405766e-01, -1.00505450e+00],\n",
       "       [ 3.77556854e-01, -2.31098601e+00,  6.95048047e-02,\n",
       "         1.21428571e+00, -6.93888666e-01, -5.77264545e-01,\n",
       "        -7.95629434e-01, -8.27848702e-01, -5.83240311e-02,\n",
       "         1.56910579e-02, -2.79005934e-01,  3.00799734e+00],\n",
       "       [ 3.77556854e-01, -1.68737836e+00, -1.04257207e+00,\n",
       "        -5.71428571e-01, -6.93888666e-01, -5.77264545e-01,\n",
       "        -7.95629434e-01, -8.27848702e-01,  1.19147664e+00,\n",
       "         1.56910579e-02, -2.79005934e-01, -1.00505450e+00],\n",
       "       [-9.35684378e-01,  3.98242774e-01, -1.04257207e+00,\n",
       "        -5.71428571e-01,  1.44115338e+00, -5.77264545e-01,\n",
       "         4.26066434e-01,  1.97350929e-01,  4.16600222e-03,\n",
       "         1.56910579e-02, -9.94405766e-01, -1.00505450e+00],\n",
       "       [-9.35684378e-01,  1.14154845e-01, -1.04257207e+00,\n",
       "        -5.71428571e-01, -6.93888666e-01, -5.77264545e-01,\n",
       "         1.03691437e+00,  7.09950744e-01,  2.02467708e+00,\n",
       "         7.92772021e-01, -2.79005934e-01, -8.13956795e-01],\n",
       "       [ 3.77556854e-01,  1.14154845e-01,  1.18158168e+00,\n",
       "        -5.71428571e-01,  1.44115338e+00,  1.49054875e+00,\n",
       "         1.03691437e+00,  7.09950744e-01, -2.87454153e-01,\n",
       "         4.93894727e-01,  1.86719356e+00,  6.19276006e-01]])"
      ]
     },
     "execution_count": 152,
     "metadata": {},
     "output_type": "execute_result"
    }
   ],
   "source": [
    "X_train"
   ]
  },
  {
   "cell_type": "code",
   "execution_count": 153,
   "id": "a00ce016",
   "metadata": {},
   "outputs": [
    {
     "name": "stderr",
     "output_type": "stream",
     "text": [
      "C:\\Users\\Inspektor\\anaconda3\\lib\\site-packages\\sklearn\\base.py:450: UserWarning: X does not have valid feature names, but MinMaxScaler was fitted with feature names\n",
      "  warnings.warn(\n",
      "C:\\Users\\Inspektor\\anaconda3\\lib\\site-packages\\sklearn\\base.py:450: UserWarning: X does not have valid feature names, but MinMaxScaler was fitted with feature names\n",
      "  warnings.warn(\n"
     ]
    }
   ],
   "source": [
    "from sklearn.preprocessing import MinMaxScaler\n",
    "\n",
    "scalerMinMax = MinMaxScaler(feature_range=(-1, 1))\n",
    "scalerMinMax.fit(date_p)\n",
    "X_train = scalerMinMax.transform(X_train)\n",
    "X_test = scalerMinMax.transform(X_test)"
   ]
  },
  {
   "cell_type": "markdown",
   "id": "insured-pride",
   "metadata": {},
   "source": [
    "# 5. Wybrać i wyuczyć model \n",
    "------------------------------------"
   ]
  },
  {
   "cell_type": "code",
   "execution_count": 154,
   "id": "brazilian-exhibition",
   "metadata": {},
   "outputs": [],
   "source": [
    "import tensorflow as tf\n",
    "from tensorflow import keras"
   ]
  },
  {
   "cell_type": "code",
   "execution_count": 155,
   "id": "acknowledged-tobacco",
   "metadata": {},
   "outputs": [
    {
     "data": {
      "text/plain": [
       "'2.8.0'"
      ]
     },
     "execution_count": 155,
     "metadata": {},
     "output_type": "execute_result"
    }
   ],
   "source": [
    "tf.__version__"
   ]
  },
  {
   "cell_type": "code",
   "execution_count": 156,
   "id": "acknowledged-stadium",
   "metadata": {},
   "outputs": [
    {
     "name": "stdout",
     "output_type": "stream",
     "text": [
      "Model: \"sequential\"\n",
      "_________________________________________________________________\n",
      " Layer (type)                Output Shape              Param #   \n",
      "=================================================================\n",
      " dense (Dense)               (None, 7)                 91        \n",
      "                                                                 \n",
      " dense_1 (Dense)             (None, 4)                 32        \n",
      "                                                                 \n",
      " dense_2 (Dense)             (None, 1)                 5         \n",
      "                                                                 \n",
      "=================================================================\n",
      "Total params: 128\n",
      "Trainable params: 128\n",
      "Non-trainable params: 0\n",
      "_________________________________________________________________\n"
     ]
    }
   ],
   "source": [
    "model = keras.models.Sequential()\n",
    "#model.add(keras.Input(shape=(12,)))\n",
    "model.add(keras.layers.Dense(7, activation = 'relu', input_shape = (12,), kernel_initializer = 'he_normal'))\n",
    "model.add(keras.layers.Dense(4, activation = 'relu', kernel_initializer = 'he_normal'))\n",
    "model.add(keras.layers.Dense(1))\n",
    "model.summary()"
   ]
  },
  {
   "cell_type": "code",
   "execution_count": 31,
   "id": "included-wallet",
   "metadata": {},
   "outputs": [],
   "source": [
    "#model.layers"
   ]
  },
  {
   "cell_type": "code",
   "execution_count": 32,
   "id": "rough-alarm",
   "metadata": {},
   "outputs": [],
   "source": [
    "#weights, biases = model.layers[1].get_weights()\n",
    "#weights, biases"
   ]
  },
  {
   "cell_type": "code",
   "execution_count": 33,
   "id": "acute-wrestling",
   "metadata": {},
   "outputs": [
    {
     "data": {
      "text/plain": [
       "'import tensorflow_probability as tfp\\n\\ndef pearson_(x,y):\\n    return tfp.stats.correlation(x,y)'"
      ]
     },
     "execution_count": 33,
     "metadata": {},
     "output_type": "execute_result"
    }
   ],
   "source": [
    "\"\"\"import tensorflow_probability as tfp\n",
    "\n",
    "def pearson_(x,y):\n",
    "    return tfp.stats.correlation(x,y)\"\"\""
   ]
  },
  {
   "cell_type": "code",
   "execution_count": 157,
   "id": "ceramic-cookbook",
   "metadata": {},
   "outputs": [],
   "source": [
    "model.compile(loss = 'mean_squared_error',\n",
    "             optimizer = 'SGD',\n",
    "             metrics = [\"MAE\"])"
   ]
  },
  {
   "cell_type": "code",
   "execution_count": 158,
   "id": "graphic-effects",
   "metadata": {},
   "outputs": [
    {
     "data": {
      "text/plain": [
       "(72, 12)"
      ]
     },
     "execution_count": 158,
     "metadata": {},
     "output_type": "execute_result"
    }
   ],
   "source": [
    "X_train.shape"
   ]
  },
  {
   "cell_type": "code",
   "execution_count": 159,
   "id": "brazilian-interim",
   "metadata": {},
   "outputs": [
    {
     "name": "stdout",
     "output_type": "stream",
     "text": [
      "Epoch 1/100\n",
      "2/2 [==============================] - 1s 154ms/step - loss: 7.2698 - MAE: 1.5491 - val_loss: 0.4369 - val_MAE: 0.5443\n",
      "Epoch 2/100\n",
      "2/2 [==============================] - 0s 19ms/step - loss: 0.3534 - MAE: 0.4923 - val_loss: 0.3920 - val_MAE: 0.5077\n",
      "Epoch 3/100\n",
      "2/2 [==============================] - 0s 28ms/step - loss: 0.3174 - MAE: 0.4612 - val_loss: 0.3571 - val_MAE: 0.4755\n",
      "Epoch 4/100\n",
      "2/2 [==============================] - 0s 21ms/step - loss: 0.2863 - MAE: 0.4327 - val_loss: 0.3321 - val_MAE: 0.4570\n",
      "Epoch 5/100\n",
      "2/2 [==============================] - 0s 27ms/step - loss: 0.2644 - MAE: 0.4115 - val_loss: 0.3119 - val_MAE: 0.4406\n",
      "Epoch 6/100\n",
      "2/2 [==============================] - 0s 26ms/step - loss: 0.2472 - MAE: 0.3949 - val_loss: 0.2962 - val_MAE: 0.4290\n",
      "Epoch 7/100\n",
      "2/2 [==============================] - 0s 133ms/step - loss: 0.2325 - MAE: 0.3806 - val_loss: 0.2828 - val_MAE: 0.4192\n",
      "Epoch 8/100\n",
      "2/2 [==============================] - 0s 26ms/step - loss: 0.2194 - MAE: 0.3668 - val_loss: 0.2708 - val_MAE: 0.4094\n",
      "Epoch 9/100\n",
      "2/2 [==============================] - 0s 32ms/step - loss: 0.2077 - MAE: 0.3555 - val_loss: 0.2605 - val_MAE: 0.4007\n",
      "Epoch 10/100\n",
      "2/2 [==============================] - 0s 26ms/step - loss: 0.1987 - MAE: 0.3457 - val_loss: 0.2531 - val_MAE: 0.3966\n",
      "Epoch 11/100\n",
      "2/2 [==============================] - 0s 24ms/step - loss: 0.1888 - MAE: 0.3340 - val_loss: 0.2426 - val_MAE: 0.3868\n",
      "Epoch 12/100\n",
      "2/2 [==============================] - 0s 24ms/step - loss: 0.1807 - MAE: 0.3248 - val_loss: 0.2329 - val_MAE: 0.3787\n",
      "Epoch 13/100\n",
      "2/2 [==============================] - 0s 22ms/step - loss: 0.1723 - MAE: 0.3165 - val_loss: 0.2253 - val_MAE: 0.3729\n",
      "Epoch 14/100\n",
      "2/2 [==============================] - 0s 24ms/step - loss: 0.1656 - MAE: 0.3099 - val_loss: 0.2188 - val_MAE: 0.3683\n",
      "Epoch 15/100\n",
      "2/2 [==============================] - 0s 24ms/step - loss: 0.1592 - MAE: 0.3032 - val_loss: 0.2123 - val_MAE: 0.3629\n",
      "Epoch 16/100\n",
      "2/2 [==============================] - 0s 23ms/step - loss: 0.1539 - MAE: 0.2985 - val_loss: 0.2057 - val_MAE: 0.3568\n",
      "Epoch 17/100\n",
      "2/2 [==============================] - 0s 22ms/step - loss: 0.1488 - MAE: 0.2932 - val_loss: 0.2002 - val_MAE: 0.3520\n",
      "Epoch 18/100\n",
      "2/2 [==============================] - 0s 33ms/step - loss: 0.1443 - MAE: 0.2888 - val_loss: 0.1953 - val_MAE: 0.3477\n",
      "Epoch 19/100\n",
      "2/2 [==============================] - 0s 56ms/step - loss: 0.1405 - MAE: 0.2850 - val_loss: 0.1898 - val_MAE: 0.3424\n",
      "Epoch 20/100\n",
      "2/2 [==============================] - 0s 26ms/step - loss: 0.1363 - MAE: 0.2806 - val_loss: 0.1847 - val_MAE: 0.3377\n",
      "Epoch 21/100\n",
      "2/2 [==============================] - 0s 28ms/step - loss: 0.1325 - MAE: 0.2767 - val_loss: 0.1805 - val_MAE: 0.3339\n",
      "Epoch 22/100\n",
      "2/2 [==============================] - 0s 25ms/step - loss: 0.1290 - MAE: 0.2737 - val_loss: 0.1766 - val_MAE: 0.3310\n",
      "Epoch 23/100\n",
      "2/2 [==============================] - 0s 23ms/step - loss: 0.1257 - MAE: 0.2705 - val_loss: 0.1723 - val_MAE: 0.3268\n",
      "Epoch 24/100\n",
      "2/2 [==============================] - 0s 24ms/step - loss: 0.1225 - MAE: 0.2674 - val_loss: 0.1687 - val_MAE: 0.3237\n",
      "Epoch 25/100\n",
      "2/2 [==============================] - 0s 27ms/step - loss: 0.1198 - MAE: 0.2650 - val_loss: 0.1646 - val_MAE: 0.3189\n",
      "Epoch 26/100\n",
      "2/2 [==============================] - 0s 23ms/step - loss: 0.1167 - MAE: 0.2611 - val_loss: 0.1610 - val_MAE: 0.3157\n",
      "Epoch 27/100\n",
      "2/2 [==============================] - 0s 25ms/step - loss: 0.1139 - MAE: 0.2583 - val_loss: 0.1575 - val_MAE: 0.3120\n",
      "Epoch 28/100\n",
      "2/2 [==============================] - 0s 19ms/step - loss: 0.1114 - MAE: 0.2557 - val_loss: 0.1538 - val_MAE: 0.3079\n",
      "Epoch 29/100\n",
      "2/2 [==============================] - 0s 22ms/step - loss: 0.1094 - MAE: 0.2535 - val_loss: 0.1513 - val_MAE: 0.3072\n",
      "Epoch 30/100\n",
      "2/2 [==============================] - 0s 23ms/step - loss: 0.1063 - MAE: 0.2499 - val_loss: 0.1484 - val_MAE: 0.3049\n",
      "Epoch 31/100\n",
      "2/2 [==============================] - 0s 24ms/step - loss: 0.1042 - MAE: 0.2480 - val_loss: 0.1448 - val_MAE: 0.3005\n",
      "Epoch 32/100\n",
      "2/2 [==============================] - 0s 25ms/step - loss: 0.1017 - MAE: 0.2441 - val_loss: 0.1421 - val_MAE: 0.2985\n",
      "Epoch 33/100\n",
      "2/2 [==============================] - 0s 28ms/step - loss: 0.0996 - MAE: 0.2419 - val_loss: 0.1391 - val_MAE: 0.2952\n",
      "Epoch 34/100\n",
      "2/2 [==============================] - 0s 25ms/step - loss: 0.0975 - MAE: 0.2391 - val_loss: 0.1366 - val_MAE: 0.2929\n",
      "Epoch 35/100\n",
      "2/2 [==============================] - 0s 26ms/step - loss: 0.0955 - MAE: 0.2369 - val_loss: 0.1337 - val_MAE: 0.2899\n",
      "Epoch 36/100\n",
      "2/2 [==============================] - 0s 29ms/step - loss: 0.0937 - MAE: 0.2344 - val_loss: 0.1309 - val_MAE: 0.2866\n",
      "Epoch 37/100\n",
      "2/2 [==============================] - 0s 28ms/step - loss: 0.0917 - MAE: 0.2316 - val_loss: 0.1284 - val_MAE: 0.2843\n",
      "Epoch 38/100\n",
      "2/2 [==============================] - 0s 34ms/step - loss: 0.0899 - MAE: 0.2291 - val_loss: 0.1263 - val_MAE: 0.2830\n",
      "Epoch 39/100\n",
      "2/2 [==============================] - 0s 23ms/step - loss: 0.0882 - MAE: 0.2271 - val_loss: 0.1238 - val_MAE: 0.2801\n",
      "Epoch 40/100\n",
      "2/2 [==============================] - 0s 20ms/step - loss: 0.0865 - MAE: 0.2247 - val_loss: 0.1213 - val_MAE: 0.2774\n",
      "Epoch 41/100\n",
      "2/2 [==============================] - 0s 25ms/step - loss: 0.0848 - MAE: 0.2220 - val_loss: 0.1195 - val_MAE: 0.2762\n",
      "Epoch 42/100\n",
      "2/2 [==============================] - 0s 22ms/step - loss: 0.0832 - MAE: 0.2201 - val_loss: 0.1174 - val_MAE: 0.2743\n",
      "Epoch 43/100\n",
      "2/2 [==============================] - 0s 23ms/step - loss: 0.0817 - MAE: 0.2180 - val_loss: 0.1156 - val_MAE: 0.2729\n",
      "Epoch 44/100\n",
      "2/2 [==============================] - 0s 26ms/step - loss: 0.0802 - MAE: 0.2158 - val_loss: 0.1137 - val_MAE: 0.2714\n",
      "Epoch 45/100\n",
      "2/2 [==============================] - 0s 23ms/step - loss: 0.0789 - MAE: 0.2141 - val_loss: 0.1120 - val_MAE: 0.2701\n",
      "Epoch 46/100\n",
      "2/2 [==============================] - 0s 24ms/step - loss: 0.0774 - MAE: 0.2125 - val_loss: 0.1097 - val_MAE: 0.2668\n",
      "Epoch 47/100\n",
      "2/2 [==============================] - 0s 20ms/step - loss: 0.0760 - MAE: 0.2099 - val_loss: 0.1075 - val_MAE: 0.2642\n",
      "Epoch 48/100\n",
      "2/2 [==============================] - 0s 26ms/step - loss: 0.0747 - MAE: 0.2077 - val_loss: 0.1055 - val_MAE: 0.2615\n",
      "Epoch 49/100\n",
      "2/2 [==============================] - 0s 23ms/step - loss: 0.0734 - MAE: 0.2053 - val_loss: 0.1038 - val_MAE: 0.2600\n",
      "Epoch 50/100\n",
      "2/2 [==============================] - 0s 27ms/step - loss: 0.0721 - MAE: 0.2035 - val_loss: 0.1022 - val_MAE: 0.2583\n",
      "Epoch 51/100\n",
      "2/2 [==============================] - 0s 23ms/step - loss: 0.0711 - MAE: 0.2017 - val_loss: 0.1009 - val_MAE: 0.2573\n",
      "Epoch 52/100\n",
      "2/2 [==============================] - 0s 21ms/step - loss: 0.0699 - MAE: 0.2008 - val_loss: 0.0989 - val_MAE: 0.2543\n",
      "Epoch 53/100\n",
      "2/2 [==============================] - 0s 27ms/step - loss: 0.0687 - MAE: 0.1985 - val_loss: 0.0973 - val_MAE: 0.2527\n",
      "Epoch 54/100\n",
      "2/2 [==============================] - 0s 29ms/step - loss: 0.0677 - MAE: 0.1974 - val_loss: 0.0955 - val_MAE: 0.2498\n",
      "Epoch 55/100\n",
      "2/2 [==============================] - 0s 23ms/step - loss: 0.0666 - MAE: 0.1951 - val_loss: 0.0944 - val_MAE: 0.2492\n",
      "Epoch 56/100\n",
      "2/2 [==============================] - 0s 31ms/step - loss: 0.0656 - MAE: 0.1938 - val_loss: 0.0931 - val_MAE: 0.2482\n",
      "Epoch 57/100\n",
      "2/2 [==============================] - 0s 22ms/step - loss: 0.0645 - MAE: 0.1924 - val_loss: 0.0916 - val_MAE: 0.2461\n",
      "Epoch 58/100\n",
      "2/2 [==============================] - 0s 23ms/step - loss: 0.0635 - MAE: 0.1908 - val_loss: 0.0902 - val_MAE: 0.2442\n",
      "Epoch 59/100\n",
      "2/2 [==============================] - 0s 25ms/step - loss: 0.0626 - MAE: 0.1896 - val_loss: 0.0885 - val_MAE: 0.2417\n",
      "Epoch 60/100\n",
      "2/2 [==============================] - 0s 22ms/step - loss: 0.0616 - MAE: 0.1880 - val_loss: 0.0872 - val_MAE: 0.2400\n",
      "Epoch 61/100\n",
      "2/2 [==============================] - 0s 24ms/step - loss: 0.0608 - MAE: 0.1869 - val_loss: 0.0860 - val_MAE: 0.2384\n",
      "Epoch 62/100\n",
      "2/2 [==============================] - 0s 26ms/step - loss: 0.0599 - MAE: 0.1855 - val_loss: 0.0849 - val_MAE: 0.2372\n",
      "Epoch 63/100\n",
      "2/2 [==============================] - 0s 21ms/step - loss: 0.0591 - MAE: 0.1843 - val_loss: 0.0839 - val_MAE: 0.2362\n",
      "Epoch 64/100\n",
      "2/2 [==============================] - 0s 25ms/step - loss: 0.0585 - MAE: 0.1837 - val_loss: 0.0824 - val_MAE: 0.2339\n",
      "Epoch 65/100\n",
      "2/2 [==============================] - 0s 19ms/step - loss: 0.0575 - MAE: 0.1819 - val_loss: 0.0815 - val_MAE: 0.2328\n",
      "Epoch 66/100\n",
      "2/2 [==============================] - 0s 29ms/step - loss: 0.0568 - MAE: 0.1811 - val_loss: 0.0805 - val_MAE: 0.2314\n",
      "Epoch 67/100\n",
      "2/2 [==============================] - 0s 25ms/step - loss: 0.0560 - MAE: 0.1798 - val_loss: 0.0795 - val_MAE: 0.2301\n",
      "Epoch 68/100\n",
      "2/2 [==============================] - 0s 22ms/step - loss: 0.0553 - MAE: 0.1789 - val_loss: 0.0785 - val_MAE: 0.2288\n",
      "Epoch 69/100\n",
      "2/2 [==============================] - 0s 24ms/step - loss: 0.0546 - MAE: 0.1779 - val_loss: 0.0776 - val_MAE: 0.2276\n",
      "Epoch 70/100\n",
      "2/2 [==============================] - 0s 24ms/step - loss: 0.0541 - MAE: 0.1776 - val_loss: 0.0764 - val_MAE: 0.2258\n",
      "Epoch 71/100\n",
      "2/2 [==============================] - 0s 27ms/step - loss: 0.0533 - MAE: 0.1761 - val_loss: 0.0757 - val_MAE: 0.2250\n",
      "Epoch 72/100\n",
      "2/2 [==============================] - 0s 19ms/step - loss: 0.0526 - MAE: 0.1754 - val_loss: 0.0749 - val_MAE: 0.2240\n",
      "Epoch 73/100\n",
      "2/2 [==============================] - 0s 24ms/step - loss: 0.0520 - MAE: 0.1747 - val_loss: 0.0740 - val_MAE: 0.2227\n",
      "Epoch 74/100\n",
      "2/2 [==============================] - 0s 21ms/step - loss: 0.0515 - MAE: 0.1740 - val_loss: 0.0733 - val_MAE: 0.2220\n",
      "Epoch 75/100\n",
      "2/2 [==============================] - 0s 26ms/step - loss: 0.0509 - MAE: 0.1733 - val_loss: 0.0726 - val_MAE: 0.2212\n",
      "Epoch 76/100\n",
      "2/2 [==============================] - 0s 25ms/step - loss: 0.0503 - MAE: 0.1725 - val_loss: 0.0719 - val_MAE: 0.2203\n",
      "Epoch 77/100\n",
      "2/2 [==============================] - 0s 22ms/step - loss: 0.0497 - MAE: 0.1718 - val_loss: 0.0709 - val_MAE: 0.2187\n",
      "Epoch 78/100\n",
      "2/2 [==============================] - 0s 26ms/step - loss: 0.0492 - MAE: 0.1716 - val_loss: 0.0698 - val_MAE: 0.2168\n",
      "Epoch 79/100\n",
      "2/2 [==============================] - 0s 28ms/step - loss: 0.0486 - MAE: 0.1702 - val_loss: 0.0689 - val_MAE: 0.2155\n",
      "Epoch 80/100\n",
      "2/2 [==============================] - 0s 23ms/step - loss: 0.0480 - MAE: 0.1694 - val_loss: 0.0681 - val_MAE: 0.2145\n",
      "Epoch 81/100\n",
      "2/2 [==============================] - 0s 19ms/step - loss: 0.0475 - MAE: 0.1691 - val_loss: 0.0673 - val_MAE: 0.2132\n",
      "Epoch 82/100\n",
      "2/2 [==============================] - 0s 31ms/step - loss: 0.0470 - MAE: 0.1681 - val_loss: 0.0667 - val_MAE: 0.2126\n",
      "Epoch 83/100\n",
      "2/2 [==============================] - 0s 24ms/step - loss: 0.0466 - MAE: 0.1677 - val_loss: 0.0660 - val_MAE: 0.2114\n",
      "Epoch 84/100\n",
      "2/2 [==============================] - 0s 20ms/step - loss: 0.0462 - MAE: 0.1667 - val_loss: 0.0655 - val_MAE: 0.2109\n",
      "Epoch 85/100\n",
      "2/2 [==============================] - 0s 24ms/step - loss: 0.0457 - MAE: 0.1664 - val_loss: 0.0650 - val_MAE: 0.2103\n",
      "Epoch 86/100\n",
      "2/2 [==============================] - 0s 25ms/step - loss: 0.0452 - MAE: 0.1659 - val_loss: 0.0643 - val_MAE: 0.2093\n",
      "Epoch 87/100\n",
      "2/2 [==============================] - 0s 25ms/step - loss: 0.0448 - MAE: 0.1653 - val_loss: 0.0636 - val_MAE: 0.2080\n",
      "Epoch 88/100\n",
      "2/2 [==============================] - 0s 19ms/step - loss: 0.0444 - MAE: 0.1647 - val_loss: 0.0630 - val_MAE: 0.2072\n",
      "Epoch 89/100\n",
      "2/2 [==============================] - 0s 52ms/step - loss: 0.0439 - MAE: 0.1641 - val_loss: 0.0624 - val_MAE: 0.2062\n",
      "Epoch 90/100\n",
      "2/2 [==============================] - 0s 49ms/step - loss: 0.0437 - MAE: 0.1638 - val_loss: 0.0621 - val_MAE: 0.2059\n",
      "Epoch 91/100\n",
      "2/2 [==============================] - 0s 21ms/step - loss: 0.0431 - MAE: 0.1634 - val_loss: 0.0613 - val_MAE: 0.2045\n",
      "Epoch 92/100\n",
      "2/2 [==============================] - 0s 23ms/step - loss: 0.0428 - MAE: 0.1625 - val_loss: 0.0609 - val_MAE: 0.2040\n",
      "Epoch 93/100\n",
      "2/2 [==============================] - 0s 35ms/step - loss: 0.0424 - MAE: 0.1624 - val_loss: 0.0602 - val_MAE: 0.2029\n",
      "Epoch 94/100\n",
      "2/2 [==============================] - 0s 20ms/step - loss: 0.0420 - MAE: 0.1618 - val_loss: 0.0596 - val_MAE: 0.2019\n",
      "Epoch 95/100\n",
      "2/2 [==============================] - 0s 22ms/step - loss: 0.0417 - MAE: 0.1612 - val_loss: 0.0592 - val_MAE: 0.2013\n",
      "Epoch 96/100\n",
      "2/2 [==============================] - 0s 23ms/step - loss: 0.0414 - MAE: 0.1609 - val_loss: 0.0588 - val_MAE: 0.2008\n",
      "Epoch 97/100\n",
      "2/2 [==============================] - 0s 25ms/step - loss: 0.0410 - MAE: 0.1607 - val_loss: 0.0581 - val_MAE: 0.1994\n",
      "Epoch 98/100\n",
      "2/2 [==============================] - 0s 25ms/step - loss: 0.0408 - MAE: 0.1605 - val_loss: 0.0573 - val_MAE: 0.1977\n",
      "Epoch 99/100\n",
      "2/2 [==============================] - 0s 19ms/step - loss: 0.0403 - MAE: 0.1591 - val_loss: 0.0568 - val_MAE: 0.1969\n",
      "Epoch 100/100\n",
      "2/2 [==============================] - 0s 25ms/step - loss: 0.0401 - MAE: 0.1586 - val_loss: 0.0564 - val_MAE: 0.1963\n"
     ]
    }
   ],
   "source": [
    "history = model.fit(X_train, y_train, epochs = 100,\n",
    "                    validation_split = 0.2, shuffle = True) #steps_per_epoch=32 "
   ]
  },
  {
   "cell_type": "code",
   "execution_count": 167,
   "id": "d2b8e453",
   "metadata": {},
   "outputs": [
    {
     "name": "stdout",
     "output_type": "stream",
     "text": [
      "Model: \"sequential\"\n",
      "_________________________________________________________________\n",
      " Layer (type)                Output Shape              Param #   \n",
      "=================================================================\n",
      " dense (Dense)               (None, 7)                 91        \n",
      "                                                                 \n",
      " dense_1 (Dense)             (None, 4)                 32        \n",
      "                                                                 \n",
      " dense_2 (Dense)             (None, 1)                 5         \n",
      "                                                                 \n",
      "=================================================================\n",
      "Total params: 128\n",
      "Trainable params: 128\n",
      "Non-trainable params: 0\n",
      "_________________________________________________________________\n"
     ]
    }
   ],
   "source": [
    "model.summary()"
   ]
  },
  {
   "cell_type": "code",
   "execution_count": 223,
   "id": "8f89168f",
   "metadata": {},
   "outputs": [
    {
     "name": "stdout",
     "output_type": "stream",
     "text": [
      "1/1 [==============================] - 0s 23ms/step - loss: 0.0514 - MAE: 0.1737\n"
     ]
    }
   ],
   "source": [
    "list_output.add_out(*[            #keeps model outputs #_1 FIRST STEP - list_output.add_out(...)\n",
    "    model.name,\n",
    "    model.evaluate(X_test,y_test)[0],\n",
    "    'no KT',\n",
    "    'basic',\n",
    "    None,\n",
    "    None])"
   ]
  },
  {
   "cell_type": "code",
   "execution_count": 314,
   "id": "3c5e7733",
   "metadata": {},
   "outputs": [
    {
     "name": "stdout",
     "output_type": "stream",
     "text": [
      "[0.06387906280461346, -0.025753134917255303, 0.1348579243321368] średnia:  0.058 max:  0.135 struktura:  [6, 6, 1]\n",
      "[0.21406028684033188, -0.07532783627084008, 0.1504748393060808] średnia:  0.096 max:  0.214 struktura:  [7, 7, 1]\n",
      "[0.024635570651120438, 0.29199618012248674, 0.13467861017994037] średnia:  0.15 max:  0.292 struktura:  [8, 8, 1]\n",
      "[0.2706699770923831, 0.5434542141829024, 0.22997460409539822] średnia:  0.348 max:  0.543 struktura:  [9, 9, 1]\n"
     ]
    },
    {
     "data": {
      "image/png": "[encoded data removed]",
      "text/plain": [
       "<Figure size 576x252 with 1 Axes>"
      ]
     },
     "metadata": {
      "needs_background": "light"
     },
     "output_type": "display_data"
    },
    {
     "data": {
      "image/png": "[encoded data removed]",
      "text/plain": [
       "<Figure size 576x252 with 1 Axes>"
      ]
     },
     "metadata": {
      "needs_background": "light"
     },
     "output_type": "display_data"
    },
    {
     "data": {
      "image/png": "[encoded data removed]",
      "text/plain": [
       "<Figure size 576x252 with 1 Axes>"
      ]
     },
     "metadata": {
      "needs_background": "light"
     },
     "output_type": "display_data"
    },
    {
     "data": {
      "image/png": "[encoded data removed]",
      "text/plain": [
       "<Figure size 576x252 with 1 Axes>"
      ]
     },
     "metadata": {
      "needs_background": "light"
     },
     "output_type": "display_data"
    }
   ],
   "source": [
    "# #_2 check influence of the number of neurons, given optimizer and model.compile  -> plot_train_via_neurons(foo), compute()\n",
    "def foo(NEURONS):\n",
    "    model = keras.models.Sequential()\n",
    "    #model.add(keras.Input(shape=(12,)))\n",
    "    model.add(keras.layers.Dense(NEURONS, activation = 'relu', input_shape = (12,), kernel_initializer = 'he_normal'))\n",
    "    model.add(keras.layers.Dense(NEURONS, activation = 'relu', kernel_initializer = 'he_normal'))\n",
    "    model.add(keras.layers.Dense(1))\n",
    "    optimizer = keras.optimizers.Adam(learning_rate = 0.01, beta_1=0.9, beta_2 = 0.999)\n",
    "    model.compile(loss = huber_fn,\n",
    "                 optimizer = optimizer,\n",
    "                 metrics = [\"MAE\"])\n",
    "    return model\n",
    "\n",
    "test_ = plot_train_via_neurons(foo, y_true_)\n",
    "test_.compute(X_train, y_train, epochs = 30, validation_split = 0.2, shuffle = True, verbose=0)"
   ]
  },
  {
   "cell_type": "markdown",
   "id": "focused-introduction",
   "metadata": {},
   "source": [
    "# BRAK DANYCH WALIDACYJNYCH !!!!"
   ]
  },
  {
   "cell_type": "markdown",
   "id": "suspected-magnet",
   "metadata": {},
   "source": [
    "6. Dostroić model\n",
    "------------------"
   ]
  },
  {
   "cell_type": "code",
   "execution_count": 15,
   "id": "4b71cdb8",
   "metadata": {},
   "outputs": [
    {
     "name": "stdout",
     "output_type": "stream",
     "text": [
      "Model: \"sequential\"\n",
      "_________________________________________________________________\n",
      " Layer (type)                Output Shape              Param #   \n",
      "=================================================================\n",
      " dense (Dense)               (None, 7)                 91        \n",
      "                                                                 \n",
      " dense_1 (Dense)             (None, 4)                 32        \n",
      "                                                                 \n",
      " dense_2 (Dense)             (None, 1)                 5         \n",
      "                                                                 \n",
      "=================================================================\n",
      "Total params: 128\n",
      "Trainable params: 128\n",
      "Non-trainable params: 0\n",
      "_________________________________________________________________\n"
     ]
    }
   ],
   "source": [
    "model = keras.models.Sequential()\n",
    "#model.add(keras.Input(shape=(12,)))\n",
    "model.add(keras.layers.Dense(7, activation = 'relu', input_shape = (12,), kernel_initializer = 'he_normal'))\n",
    "model.add(keras.layers.Dense(4, activation = 'relu', kernel_initializer = 'he_normal'))\n",
    "model.add(keras.layers.Dense(1))\n",
    "model.summary()"
   ]
  },
  {
   "cell_type": "code",
   "execution_count": 17,
   "id": "740897f1",
   "metadata": {},
   "outputs": [],
   "source": [
    "model.compile(loss = 'mean_squared_error',\n",
    "             optimizer = 'SGD',\n",
    "             metrics = [\"MAE\"])"
   ]
  },
  {
   "cell_type": "code",
   "execution_count": null,
   "id": "07014f63",
   "metadata": {},
   "outputs": [],
   "source": [
    "history = model.fit(X_train, y_train, epochs = 100,\n",
    "                    validation_split = 0.2, shuffle = True)"
   ]
  },
  {
   "cell_type": "markdown",
   "id": "79b9c803",
   "metadata": {},
   "source": [
    "## keras_tuner"
   ]
  },
  {
   "cell_type": "code",
   "execution_count": 34,
   "id": "2c1e1dbb",
   "metadata": {},
   "outputs": [],
   "source": [
    "import keras_tuner as kt\n",
    "\n",
    "def build_model(hp):\n",
    "    n_hidden = hp.Int(\"n_hidden\", min_value=0, max_value=4, default=2)\n",
    "    n_neurons = hp.Int(\"n_neurons\", min_value=3, max_value=10)\n",
    "    learning_rate = hp.Float(\"learning_rate\", min_value=1e-4, max_value=1e-2,\n",
    "                             sampling=\"log\")\n",
    "    optimizer = hp.Choice(\"optimizer\", values=[\"sgd\", \"adam\"])\n",
    "    if optimizer == \"sgd\":\n",
    "        optimizer = tf.keras.optimizers.SGD(learning_rate=learning_rate)\n",
    "    else:\n",
    "        optimizer = tf.keras.optimizers.Adam(learning_rate=learning_rate)\n",
    "\n",
    "    model = tf.keras.Sequential()\n",
    "    model.add(tf.keras.layers.Flatten())\n",
    "    for _ in range(n_hidden):\n",
    "        model.add(tf.keras.layers.Dense(n_neurons, activation=\"relu\"))\n",
    "    model.add(tf.keras.layers.Dense(10, activation=\"softmax\"))\n",
    "    model.compile(loss=\"mse\", optimizer=optimizer,\n",
    "                  metrics=[\"MAE\"])\n",
    "    return model"
   ]
  },
  {
   "cell_type": "code",
   "execution_count": 35,
   "id": "4163e9ad",
   "metadata": {},
   "outputs": [],
   "source": [
    "random_search_tuner = kt.RandomSearch(\n",
    "    build_model, objective=\"MAE\", max_trials=10, overwrite=True,\n",
    "    directory=\"proba_Kerac\", project_name=\"my_SSN_keras\", seed=42)"
   ]
  },
  {
   "cell_type": "code",
   "execution_count": 36,
   "id": "4c5efa7a",
   "metadata": {},
   "outputs": [
    {
     "name": "stdout",
     "output_type": "stream",
     "text": [
      "Trial 10 Complete [00h 00m 01s]\n",
      "MAE: 0.5503471493721008\n",
      "\n",
      "Best MAE So Far: 0.5503471493721008\n",
      "Total elapsed time: 00h 00m 20s\n",
      "INFO:tensorflow:Oracle triggered exit\n"
     ]
    }
   ],
   "source": [
    "random_search_tuner.search(X_train, y_train, epochs=10,\n",
    "                           validation_data=(X_test, y_test))"
   ]
  },
  {
   "cell_type": "code",
   "execution_count": 39,
   "id": "562b9f48",
   "metadata": {},
   "outputs": [],
   "source": [
    "top3_models = random_search_tuner.get_best_models(num_models = 3)"
   ]
  },
  {
   "cell_type": "code",
   "execution_count": 41,
   "id": "73311b16",
   "metadata": {},
   "outputs": [],
   "source": [
    "best_model = top3_models[0]"
   ]
  },
  {
   "cell_type": "code",
   "execution_count": 43,
   "id": "bc00b278",
   "metadata": {},
   "outputs": [
    {
     "data": {
      "text/plain": [
       "{'n_hidden': 3,\n",
       " 'n_neurons': 3,\n",
       " 'learning_rate': 0.0006562536901904111,\n",
       " 'optimizer': 'adam'}"
      ]
     },
     "execution_count": 43,
     "metadata": {},
     "output_type": "execute_result"
    }
   ],
   "source": [
    "random_search_tuner.get_best_hyperparameters(num_trials = 3)\n",
    "random_search_tuner.get_best_hyperparameters(num_trials = 3)[0].values"
   ]
  },
  {
   "cell_type": "code",
   "execution_count": 26,
   "id": "de66ebd9",
   "metadata": {},
   "outputs": [],
   "source": [
    "import timeit"
   ]
  },
  {
   "cell_type": "code",
   "execution_count": 29,
   "id": "1bbd300e",
   "metadata": {},
   "outputs": [
    {
     "data": {
      "text/plain": [
       "0.14550819999999476"
      ]
     },
     "execution_count": 29,
     "metadata": {},
     "output_type": "execute_result"
    }
   ],
   "source": [
    "timeit.timeit(abc)"
   ]
  },
  {
   "cell_type": "markdown",
   "id": "327eed1c",
   "metadata": {},
   "source": [
    "7. Zaprezentować rozwiązanie **(...)** \n",
    "------------------"
   ]
  },
  {
   "cell_type": "code",
   "execution_count": 107,
   "id": "fifty-guarantee",
   "metadata": {},
   "outputs": [],
   "source": [
    "#brak scalera\n",
    "def plot_hist(history_= history , grid = True):\n",
    "    \"wizualizuje dane z pliku history.history\"\n",
    "    \n",
    "    pd.DataFrame(getattr(history_, \"history\")).plot(figsize = (8,5), style=[\"r--\", \"r-x\", \"g--\", \"g-*\"])\n",
    "    plt.grid(grid)\n",
    "    plt.show()\n",
    "\n",
    "def plot_sc(model1 = model):\n",
    "    \"\"\"wykres y_test vs. prognoza\n",
    "    + współczynnik R\"\"\"\n",
    "    \n",
    "    y_pred = np.ravel(model1.predict(X_test))\n",
    "    y_true = np.ravel(y_test)\n",
    "    print(measures.pearsonr(y_pred, y_true))\n",
    "    pd.DataFrame.from_dict({\"y_pred\": y_pred,\n",
    "    \"y_true\": y_true}).plot.scatter('y_true', \"y_pred\" )\n",
    "    \n",
    "def plot_sc_all(model_ = model, date = date_p, out_ = CRFp):\n",
    "    'kropki prognoza vs etykiety - cały zbiór'\n",
    "    \n",
    "    y_pred_ = np.ravel(model_.predict(scaler.transform(date))) \n",
    "    y_true_ = np.ravel(out_) \n",
    "    pd.DataFrame.from_dict({\"y_pred\": y_pred_,\n",
    "    \"y_true\": y_true_}).plot.scatter('y_true',\"y_pred\" , c='r',ylim =(0,1.2),xlim =(0,1.2))\n",
    "    plt.show()\n",
    "    \n",
    "def plot_sc_all2(model_ = model, date = date_p, out = CRFp):\n",
    "    \n",
    "    y_pred_ = np.ravel(model_.predict(scaler.transform(date))) \n",
    "    y_true_ = np.ravel(out) \n",
    "    print('współczynnik R: {}'.format(measures.pearsonr(y_pred_, y_true_)[0].round(2)))\n",
    "          \n",
    "    pd.DataFrame.from_dict({\n",
    "        \"y_pred\": y_pred_,\n",
    "        \"y_true\": y_true_\n",
    "    }).plot.scatter('y_true',\"y_pred\" , c='r',ylim =(0,1.2),xlim =(0,1.2))\n",
    "    plt.grid()\n",
    "    plt.plot([0,1],[0,1], 'b--')\n",
    "    plt.show()"
   ]
  },
  {
   "cell_type": "code",
   "execution_count": 108,
   "id": "527580e4",
   "metadata": {},
   "outputs": [
    {
     "data": {
      "image/png": "[encoded data removed]",
      "text/plain": [
       "<Figure size 576x360 with 1 Axes>"
      ]
     },
     "metadata": {
      "needs_background": "light"
     },
     "output_type": "display_data"
    },
    {
     "name": "stdout",
     "output_type": "stream",
     "text": [
      "(0.49721647833833804, 0.20997788432165426)\n"
     ]
    },
    {
     "data": {
      "image/png": "[encoded data removed]",
      "text/plain": [
       "<Figure size 432x288 with 1 Axes>"
      ]
     },
     "metadata": {
      "needs_background": "light"
     },
     "output_type": "display_data"
    },
    {
     "data": {
      "image/png": "[encoded data removed]",
      "text/plain": [
       "<Figure size 432x288 with 1 Axes>"
      ]
     },
     "metadata": {
      "needs_background": "light"
     },
     "output_type": "display_data"
    },
    {
     "name": "stdout",
     "output_type": "stream",
     "text": [
      "współczynnik R: 0.5\n"
     ]
    },
    {
     "data": {
      "image/png": "[encoded data removed]",
      "text/plain": [
       "<Figure size 432x288 with 1 Axes>"
      ]
     },
     "metadata": {
      "needs_background": "light"
     },
     "output_type": "display_data"
    }
   ],
   "source": [
    "plot_hist(history)\n",
    "plot_sc(model1 = model)\n",
    "plot_sc_all(model_ = model)\n",
    "plot_sc_all2()"
   ]
  },
  {
   "cell_type": "code",
   "execution_count": 83,
   "id": "28e0eb67",
   "metadata": {},
   "outputs": [
    {
     "data": {
      "text/html": [
       "<div>\n",
       "<style scoped>\n",
       "    .dataframe tbody tr th:only-of-type {\n",
       "        vertical-align: middle;\n",
       "    }\n",
       "\n",
       "    .dataframe tbody tr th {\n",
       "        vertical-align: top;\n",
       "    }\n",
       "\n",
       "    .dataframe thead th {\n",
       "        text-align: right;\n",
       "    }\n",
       "</style>\n",
       "<table border=\"1\" class=\"dataframe\">\n",
       "  <thead>\n",
       "    <tr style=\"text-align: right;\">\n",
       "      <th></th>\n",
       "      <th>y_pred</th>\n",
       "      <th>y_true</th>\n",
       "    </tr>\n",
       "  </thead>\n",
       "  <tbody>\n",
       "    <tr>\n",
       "      <th>0</th>\n",
       "      <td>0.597318</td>\n",
       "      <td>0.450</td>\n",
       "    </tr>\n",
       "    <tr>\n",
       "      <th>1</th>\n",
       "      <td>0.657441</td>\n",
       "      <td>1.000</td>\n",
       "    </tr>\n",
       "    <tr>\n",
       "      <th>2</th>\n",
       "      <td>0.530301</td>\n",
       "      <td>0.600</td>\n",
       "    </tr>\n",
       "    <tr>\n",
       "      <th>3</th>\n",
       "      <td>-0.079615</td>\n",
       "      <td>0.450</td>\n",
       "    </tr>\n",
       "    <tr>\n",
       "      <th>4</th>\n",
       "      <td>0.657441</td>\n",
       "      <td>0.425</td>\n",
       "    </tr>\n",
       "    <tr>\n",
       "      <th>5</th>\n",
       "      <td>0.849725</td>\n",
       "      <td>0.850</td>\n",
       "    </tr>\n",
       "    <tr>\n",
       "      <th>6</th>\n",
       "      <td>0.817753</td>\n",
       "      <td>0.600</td>\n",
       "    </tr>\n",
       "    <tr>\n",
       "      <th>7</th>\n",
       "      <td>0.268702</td>\n",
       "      <td>0.450</td>\n",
       "    </tr>\n",
       "  </tbody>\n",
       "</table>\n",
       "</div>"
      ],
      "text/plain": [
       "     y_pred  y_true\n",
       "0  0.597318   0.450\n",
       "1  0.657441   1.000\n",
       "2  0.530301   0.600\n",
       "3 -0.079615   0.450\n",
       "4  0.657441   0.425\n",
       "5  0.849725   0.850\n",
       "6  0.817753   0.600\n",
       "7  0.268702   0.450"
      ]
     },
     "execution_count": 83,
     "metadata": {},
     "output_type": "execute_result"
    }
   ],
   "source": [
    "'pandas DataFrame y_pred vs. y_true'\n",
    "\n",
    "pd.DataFrame.from_dict({\n",
    "    \"y_pred\": y_pred,\n",
    "    \"y_true\": y_true\n",
    "})"
   ]
  },
  {
   "cell_type": "code",
   "execution_count": 86,
   "id": "11461303",
   "metadata": {},
   "outputs": [
    {
     "name": "stdout",
     "output_type": "stream",
     "text": [
      "1/1 [==============================] - 0s 21ms/step - loss: 0.0698 - MAE: 0.2151\n"
     ]
    },
    {
     "data": {
      "text/plain": [
       "[0.0698392391204834, 0.21511977910995483]"
      ]
     },
     "execution_count": 86,
     "metadata": {},
     "output_type": "execute_result"
    }
   ],
   "source": [
    "model.evaluate(\n",
    "    X_test,\n",
    "    y_test\n",
    ")"
   ]
  },
  {
   "cell_type": "code",
   "execution_count": 25,
   "id": "bf02892b",
   "metadata": {},
   "outputs": [],
   "source": [
    "#lista = []"
   ]
  },
  {
   "cell_type": "code",
   "execution_count": 26,
   "id": "3e599f01",
   "metadata": {},
   "outputs": [
    {
     "name": "stdout",
     "output_type": "stream",
     "text": [
      "0.12\n"
     ]
    },
    {
     "ename": "NameError",
     "evalue": "name 'lista' is not defined",
     "output_type": "error",
     "traceback": [
      "\u001b[1;31m---------------------------------------------------------------------------\u001b[0m",
      "\u001b[1;31mNameError\u001b[0m                                 Traceback (most recent call last)",
      "Input \u001b[1;32mIn [26]\u001b[0m, in \u001b[0;36m<cell line: 8>\u001b[1;34m()\u001b[0m\n\u001b[0;32m      6\u001b[0m     lista\u001b[38;5;241m.\u001b[39mappend(wynik)\n\u001b[0;32m      7\u001b[0m \u001b[38;5;28mprint\u001b[39m(wynik)\n\u001b[1;32m----> 8\u001b[0m \u001b[43mlista\u001b[49m\n",
      "\u001b[1;31mNameError\u001b[0m: name 'lista' is not defined"
     ]
    }
   ],
   "source": [
    "\" pomoc naukowa\"\n",
    "y_pred_ = np.ravel(model.predict(scaler.transform(date_p))) \n",
    "y_true_ = np.ravel(CRFp) \n",
    "wynik = measures.pearsonr(y_pred_, y_true_)[0].round(2)\n",
    "if wynik >0.9:\n",
    "    lista.append(wynik)\n",
    "print(wynik)\n",
    "lista"
   ]
  },
  {
   "cell_type": "markdown",
   "id": "ee9da1cd",
   "metadata": {},
   "source": [
    "------------------\n",
    "7. Zaprezentować rozwiązanie (vide - ocena modelu)\n",
    "8. Przygotowć potok. Podzielić na katologi produkcyjne. Pokryć sieć testami jednostkowymi. \n",
    "------------------\n",
    "class D_pre(tf.keras.layers.Layer):\n",
    "    def __init__(self):\n",
    "        super(D_pre,self).__init__()\n",
    "    def call(self, inputs):\n",
    "        return inputs * 2"
   ]
  },
  {
   "cell_type": "markdown",
   "id": "96b9a061",
   "metadata": {},
   "source": [
    "#### ! OWN SCALER - keras.layers.layer"
   ]
  },
  {
   "cell_type": "code",
   "execution_count": 28,
   "id": "ffcb6f5c",
   "metadata": {},
   "outputs": [],
   "source": [
    "class in_scaler_tf(tf.keras.layers.Layer):\n",
    "    def __init__(self):\n",
    "        super(in_scaler_tf,self).__init__()  #?ANNScaler,self\n",
    "        \n",
    "    def call(self, INPUT):\n",
    "        \"ANNScaler for PRE_4\"\n",
    "        x1 = tf.Variable([2,5.4,0,0,0,0,0,0,0,0.6,0,0])\n",
    "        x2 = tf.Variable([0.0370370370370370,0.3125,2,2,4,2,0.066666667,0.04,0.010526316,3.47826087,2,0.434782609])\n",
    "        x3 = tf.Variable([-1,-1,-1,-1,-1,-1,-1,-1,-1,-1,-1,-1], dtype = np.float32)\n",
    "        return (INPUT-x1)*x2+x3"
   ]
  },
  {
   "cell_type": "code",
   "execution_count": 20,
   "id": "6ebe13f8",
   "metadata": {},
   "outputs": [],
   "source": [
    "class out_scaler_tf(tf.keras.layers.Layer):\n",
    "    def __init__(self):\n",
    "        super().__init__() #?out_scaler_tf,self\n",
    "    def __call__(self,PREDICT):\n",
    "        return (PREDICT + 1) / 3.33333333333333 + 0.4"
   ]
  },
  {
   "cell_type": "code",
   "execution_count": 39,
   "id": "78c19348",
   "metadata": {},
   "outputs": [
    {
     "data": {
      "text/plain": [
       "<tf.Tensor: shape=(1, 12), dtype=float32, numpy=\n",
       "array([[-0.8888889 ,  1.        , -1.        , -0.39999998, -1.        ,\n",
       "        -1.        ,  0.20000005, -0.28000003, -1.        ,  0.7391304 ,\n",
       "        -1.        , -1.        ]], dtype=float32)>"
      ]
     },
     "execution_count": 39,
     "metadata": {},
     "output_type": "execute_result"
    }
   ],
   "source": [
    "in_scaler_tf()([[5.0, 11.8, 0.0, 0.3, 0.0, 0.0, 18.0, 18.0, 0.0, 1.1, 0.0, 0.0]])"
   ]
  },
  {
   "cell_type": "code",
   "execution_count": 42,
   "id": "7deac52e",
   "metadata": {},
   "outputs": [
    {
     "data": {
      "text/plain": [
       "array([-0.88888889,  1.        , -1.        , -0.4       , -1.        ,\n",
       "       -1.        ,  0.2       , -0.28      , -1.        ,  0.73913043,\n",
       "       -1.        , -1.        ])"
      ]
     },
     "execution_count": 42,
     "metadata": {},
     "output_type": "execute_result"
    }
   ],
   "source": [
    "# required import scaler MinMax in_ = joblib.load('scalerMinMax.pkl')\n",
    "in_ = joblib.load('scalerMinMax.pkl')\n",
    "in_.transform([[\n",
    "    5.0, 11.8, 0.0, 0.3, 0.0, 0.0, 18.0, 18.0, 0.0, 1.1, 0.0, 0.0\n",
    "]])[0]"
   ]
  },
  {
   "cell_type": "code",
   "execution_count": 48,
   "id": "7bbc4b59",
   "metadata": {},
   "outputs": [
    {
     "ename": "TypeError",
     "evalue": "__init__() takes 1 positional argument but 2 were given",
     "output_type": "error",
     "traceback": [
      "\u001b[1;31m---------------------------------------------------------------------------\u001b[0m",
      "\u001b[1;31mTypeError\u001b[0m                                 Traceback (most recent call last)",
      "\u001b[1;32m~\\AppData\\Local\\Temp\\ipykernel_1224\\2730775355.py\u001b[0m in \u001b[0;36m<cell line: 1>\u001b[1;34m()\u001b[0m\n\u001b[0;32m      1\u001b[0m assert np.allclose(\n\u001b[1;32m----> 2\u001b[1;33m     in_scaler_tf(tf.Variable([\n\u001b[0m\u001b[0;32m      3\u001b[0m     \u001b[1;36m5.0\u001b[0m\u001b[1;33m,\u001b[0m \u001b[1;36m11.8\u001b[0m\u001b[1;33m,\u001b[0m \u001b[1;36m0.0\u001b[0m\u001b[1;33m,\u001b[0m \u001b[1;36m0.3\u001b[0m\u001b[1;33m,\u001b[0m \u001b[1;36m0.0\u001b[0m\u001b[1;33m,\u001b[0m \u001b[1;36m0.0\u001b[0m\u001b[1;33m,\u001b[0m \u001b[1;36m18.0\u001b[0m\u001b[1;33m,\u001b[0m \u001b[1;36m18.0\u001b[0m\u001b[1;33m,\u001b[0m \u001b[1;36m0.0\u001b[0m\u001b[1;33m,\u001b[0m \u001b[1;36m1.1\u001b[0m\u001b[1;33m,\u001b[0m \u001b[1;36m0.0\u001b[0m\u001b[1;33m,\u001b[0m \u001b[1;36m0.0\u001b[0m\u001b[1;33m\u001b[0m\u001b[1;33m\u001b[0m\u001b[0m\n\u001b[0;32m      4\u001b[0m ])).numpy()\n\u001b[0;32m      5\u001b[0m     ,in_.transform([[\n",
      "\u001b[1;31mTypeError\u001b[0m: __init__() takes 1 positional argument but 2 were given"
     ]
    }
   ],
   "source": [
    "assert np.allclose(\n",
    "    in_scaler_tf(tf.Variable([\n",
    "    5.0, 11.8, 0.0, 0.3, 0.0, 0.0, 18.0, 18.0, 0.0, 1.1, 0.0, 0.0\n",
    "])).numpy()\n",
    "    ,in_.transform([[\n",
    "    5.0, 11.8, 0.0, 0.3, 0.0, 0.0, 18.0, 18.0, 0.0, 1.1, 0.0, 0.0\n",
    "]])[0]\n",
    ")"
   ]
  },
  {
   "cell_type": "markdown",
   "id": "varying-photographer",
   "metadata": {},
   "source": [
    "9. **Uruchomić**, monitorować i utrzymać system./\n",
    "------------------"
   ]
  },
  {
   "cell_type": "code",
   "execution_count": 1,
   "id": "438613b8",
   "metadata": {},
   "outputs": [
    {
     "data": {
      "text/plain": [
       "'\\nimport joblib\\n\\nnew_model = tf.keras.models.load_model(\\'ANNmodel\\')\\nout_ = joblib.load(\\'scaler2.pkl\\')\\nin_ = joblib.load(\\'scalerMinMax.pkl\\')\\n\\ndate = pd.read_excel(\"SNN.xls\",header = None, sheet_name= 1)\\n'"
      ]
     },
     "execution_count": 1,
     "metadata": {},
     "output_type": "execute_result"
    }
   ],
   "source": [
    "\"\"\"\n",
    "import joblib\n",
    "\n",
    "new_model = tf.keras.models.load_model('ANNmodel')\n",
    "out_ = joblib.load('scaler2.pkl')\n",
    "in_ = joblib.load('scalerMinMax.pkl')\n",
    "\n",
    "date = pd.read_excel(\"SNN.xls\",header = None, sheet_name= 1)\n",
    "\"\"\""
   ]
  },
  {
   "cell_type": "code",
   "execution_count": null,
   "id": "c46741c2",
   "metadata": {},
   "outputs": [],
   "source": [
    "# DOCKER \n",
    "# docker run -it --rm -v \"C:\\\\Users\\\\Inspektor\\\\ANNmodel:/models/siecNN/1\" -p 8500:8500 -p 8501:8501 -e MODEL_NAME=siecNN tensorflow/serving"
   ]
  },
  {
   "cell_type": "code",
   "execution_count": null,
   "id": "357e58a0",
   "metadata": {},
   "outputs": [],
   "source": [
    "#SSN_CRFp(date_p[:10], in_, out_,new_model)  # 10 dodatkowych danych testowych\n",
    "#in_.transform(date_p[:10])\n",
    "\n",
    "# new_model.predict( ... )\n",
    "# out_.inverse_transform( ...)"
   ]
  },
  {
   "cell_type": "code",
   "execution_count": null,
   "id": "2887a66b",
   "metadata": {},
   "outputs": [],
   "source": [
    "# np.array(\n",
    "#    in_.transform(date_p[:10])\n",
    "#)\n",
    "a = np.array([[-0.88888889,  1.        , -1.        , -0.4       , -1.        ,\n",
    "        -1.        ,  0.2       , -0.28      , -1.        ,  0.73913043,\n",
    "        -1.        , -1.        ],\n",
    "       [-0.92592593,  0.3125    , -1.        , -0.4       ,  1.        ,\n",
    "         0.        ,  1.        ,  0.2       , -1.        , -0.13043478,\n",
    "        -1.        , -0.34782609],\n",
    "       [-0.88888889,  0.21875   , -1.        , -1.        , -1.        ,\n",
    "         0.2       , -0.46666667, -0.68      , -0.21052632,  0.2173913 ,\n",
    "        -1.        , -1.        ],\n",
    "       [-0.92592593,  0.03125   ,  1.        , -0.4       , -1.        ,\n",
    "        -1.        , -1.        , -1.        , -1.        ,  0.46086957,\n",
    "        -1.        ,  1.        ],\n",
    "       [-0.92592593,  0.34375   , -1.        , -1.        ,  1.        ,\n",
    "         1.        , -1.        , -1.        , -1.        , -0.51304348,\n",
    "        -1.        , -0.13043478],\n",
    "       [-0.88888889, -0.03125   , -1.        , -1.        ,  1.        ,\n",
    "        -0.2       , -1.        ,  1.        , -1.        ,  0.56521739,\n",
    "        -1.        ,  0.        ],\n",
    "       [-0.85185185,  0.46875   ,  1.        , -1.        , -1.        ,\n",
    "        -1.        , -1.        , -0.4       , -0.89473684,  0.73913043,\n",
    "        -1.        , -1.        ],\n",
    "       [-0.92592593,  0.46875   ,  1.        , -0.4       , -1.        ,\n",
    "        -1.        , -1.        , -0.6       , -1.        ,  0.73913043,\n",
    "         1.        ,  0.52173913],\n",
    "       [-0.92592593, -0.71875   ,  0.        , -1.        ,  1.        ,\n",
    "        -0.2       , -1.        ,  1.        , -1.        , -1.        ,\n",
    "        -1.        ,  0.08695652],\n",
    "       [-0.88888889,  0.15625   , -1.        , -0.4       ,  1.        ,\n",
    "         0.2       ,  0.33333333, -0.2       , -0.68421053,  0.73913043,\n",
    "        -1.        , -1.        ]])"
   ]
  },
  {
   "cell_type": "code",
   "execution_count": null,
   "id": "73ce3487",
   "metadata": {},
   "outputs": [],
   "source": [
    "import json\n",
    "\n",
    "\n",
    "request_json = json.dumps({\n",
    "    \"signature_name\": \"serving_default\",\n",
    "    \"instances\": a.tolist(),\n",
    "})"
   ]
  },
  {
   "cell_type": "code",
   "execution_count": null,
   "id": "b7df917a",
   "metadata": {},
   "outputs": [],
   "source": [
    "#siec NN\n",
    "import requests\n",
    "\n",
    "server_url = \"http://localhost:8501/v1/models/siecNN:predict\"\n",
    "response = requests.post(server_url, data=request_json)\n",
    "response.raise_for_status()  # raise an exception in case of error\n",
    "response = response.json()"
   ]
  },
  {
   "cell_type": "code",
   "execution_count": null,
   "id": "5f5bcf32",
   "metadata": {},
   "outputs": [],
   "source": [
    "# output scaler\n",
    "out_.inverse_transform(\n",
    "    response['predictions']\n",
    ")\n",
    "\n",
    "# assert _==_ "
   ]
  },
  {
   "cell_type": "markdown",
   "id": "increasing-synthetic",
   "metadata": {},
   "source": [
    "## BRUDNOPIS"
   ]
  },
  {
   "cell_type": "code",
   "execution_count": 11,
   "id": "laden-newman",
   "metadata": {},
   "outputs": [],
   "source": [
    "with open('SSN\\ssn.txt') as doc:\n",
    "    doc_op = doc.read()"
   ]
  },
  {
   "cell_type": "code",
   "execution_count": 12,
   "id": "alive-working",
   "metadata": {},
   "outputs": [
    {
     "data": {
      "text/plain": [
       "'test w SSN'"
      ]
     },
     "execution_count": 12,
     "metadata": {},
     "output_type": "execute_result"
    }
   ],
   "source": [
    "doc_op"
   ]
  },
  {
   "cell_type": "code",
   "execution_count": 13,
   "id": "bbc9cef2",
   "metadata": {},
   "outputs": [],
   "source": [
    "from sklearn.pipeline import Pipeline"
   ]
  },
  {
   "cell_type": "code",
   "execution_count": 15,
   "id": "8862b4a1",
   "metadata": {},
   "outputs": [],
   "source": [
    "pipe = Pipeline([\n",
    "    ('scaler',StandardScaler()),('ssn',model)\n",
    "])"
   ]
  },
  {
   "cell_type": "code",
   "execution_count": 16,
   "id": "ea06d7ae",
   "metadata": {
    "scrolled": true
   },
   "outputs": [
    {
     "name": "stdout",
     "output_type": "stream",
     "text": [
      "3/3 [==============================] - 1s 4ms/step - loss: 4.2214 - MAE: 1.7617\n"
     ]
    },
    {
     "data": {
      "text/plain": [
       "Pipeline(steps=[('scaler', StandardScaler()),\n",
       "                ('ssn',\n",
       "                 <keras.engine.sequential.Sequential object at 0x0000015C2AA23580>)])"
      ]
     },
     "execution_count": 16,
     "metadata": {},
     "output_type": "execute_result"
    }
   ],
   "source": [
    "pipe.fit(X_train,y_train)"
   ]
  },
  {
   "cell_type": "code",
   "execution_count": null,
   "id": "587bce96",
   "metadata": {},
   "outputs": [],
   "source": [
    "np.save(\"ha.npy\", X_train.to_numpy()[0:3].reshape(-1,12,1))"
   ]
  },
  {
   "cell_type": "code",
   "execution_count": 76,
   "id": "09c2c474",
   "metadata": {},
   "outputs": [
    {
     "name": "stdout",
     "output_type": "stream",
     "text": [
      "Result for output key dense_1:\n",
      "[[0.76234436]\n",
      " [0.78554124]\n",
      " [0.78554124]]\n"
     ]
    },
    {
     "name": "stderr",
     "output_type": "stream",
     "text": [
      "2022-06-10 22:10:39.358681: W tensorflow/stream_executor/platform/default/dso_loader.cc:64] Could not load dynamic library 'cudart64_110.dll'; dlerror: cudart64_110.dll not found\n",
      "2022-06-10 22:10:39.358735: I tensorflow/stream_executor/cuda/cudart_stub.cc:29] Ignore above cudart dlerror if you do not have a GPU set up on your machine.\n",
      "2022-06-10 22:10:52.723844: W tensorflow/stream_executor/platform/default/dso_loader.cc:64] Could not load dynamic library 'nvcuda.dll'; dlerror: nvcuda.dll not found\n",
      "2022-06-10 22:10:52.723898: W tensorflow/stream_executor/cuda/cuda_driver.cc:269] failed call to cuInit: UNKNOWN ERROR (303)\n",
      "2022-06-10 22:10:52.732035: I tensorflow/stream_executor/cuda/cuda_diagnostics.cc:169] retrieving CUDA diagnostic information for host: DESKTOP-RR620JF\n",
      "2022-06-10 22:10:52.732241: I tensorflow/stream_executor/cuda/cuda_diagnostics.cc:176] hostname: DESKTOP-RR620JF\n",
      "2022-06-10 22:10:52.733264: I tensorflow/core/platform/cpu_feature_guard.cc:151] This TensorFlow binary is optimized with oneAPI Deep Neural Network Library (oneDNN) to use the following CPU instructions in performance-critical operations:  AVX AVX2\n",
      "To enable them in other operations, rebuild TensorFlow with the appropriate compiler flags.\n",
      "WARNING:tensorflow:From C:\\Users\\Inspektor\\anaconda3\\lib\\site-packages\\tensorflow\\python\\tools\\saved_model_cli.py:451: load (from tensorflow.python.saved_model.loader_impl) is deprecated and will be removed in a future version.\n",
      "Instructions for updating:\n",
      "This function will only be available through the v1 compatibility library as tf.compat.v1.saved_model.loader.load or tf.compat.v1.saved_model.load. There will be a new function for importing SavedModels in Tensorflow 2.0.\n",
      "INFO:tensorflow:Restoring parameters from ANNmodel\\variables\\variables\n"
     ]
    }
   ],
   "source": [
    "# bez normalizacji\n",
    "!saved_model_cli run --dir ANNmodel --tag_set serve --signature_def serving_default --inputs {'flatten_input'}=ha.npy"
   ]
  },
  {
   "cell_type": "markdown",
   "id": "2d3b6be5",
   "metadata": {},
   "source": [
    "# ZAMIENIĆ NAZWY KOLUMN"
   ]
  },
  {
   "cell_type": "code",
   "execution_count": 4,
   "id": "combined-cause",
   "metadata": {},
   "outputs": [],
   "source": [
    "#odczytanie excela oraz konwersja z ',' na '.'\n",
    "br_dane = pd.read_excel('SSN\\ANN.xlsx', sheet_name = 'tabela', engine = 'openpyxl', thousands=\".\")"
   ]
  },
  {
   "cell_type": "code",
   "execution_count": 5,
   "id": "boring-milton",
   "metadata": {},
   "outputs": [
    {
     "data": {
      "text/plain": [
       "Index(['Rodzaj skał stropowych', 'Wytrzymałość na rozciąganie',\n",
       "       'Spękania pionowe', 'Zawodnienie', 'Płaszczyzny osłabienia',\n",
       "       'Występowanie zaburzeń zalegania złoża ',\n",
       "       'Średni postęp miesięczny frontu', 'Średni postęp mieś. likwidacji',\n",
       "       'Występowanie zaszłości (stare wyrobiska, zroby)',\n",
       "       'Głębokość zalegania złoża', 'Rzeczywista szerokość', 'Długość kotwi',\n",
       "       'Dodatkowa obudowa', 'Czas istnienia wyrobiska',\n",
       "       'Opadnięcia elementów SRS',\n",
       "       'Rozwarstwienia stwierdzone badaniem endoskopowym', 'Predyspozycja',\n",
       "       'Możliwość utrzymania'],\n",
       "      dtype='object')"
      ]
     },
     "execution_count": 5,
     "metadata": {},
     "output_type": "execute_result"
    }
   ],
   "source": [
    "br_dane.columns"
   ]
  },
  {
   "cell_type": "code",
   "execution_count": 6,
   "id": "organizational-fourth",
   "metadata": {},
   "outputs": [
    {
     "data": {
      "text/plain": [
       "{'Rodzaj skał stropowych': 'RODZAJ SKAŁ STROPOWYCH',\n",
       " 'Wytrzymałość na rozciąganie': 'WYTRZYMAŁOŚĆ NA ROZCIĄGANIE',\n",
       " 'Spękania pionowe': 'SPĘKANIA PIONOWE',\n",
       " 'Zawodnienie': 'ZAWODNIENIE',\n",
       " 'Płaszczyzny osłabienia': 'PŁASZCZYZNY OSŁABIENIA',\n",
       " 'Występowanie zaburzeń zalegania złoża ': 'WYSTĘPOWANIE ZABURZEŃ ZALEGANIA ZŁOŻA ',\n",
       " 'Średni postęp miesięczny frontu': 'ŚREDNI POSTĘP MIESIĘCZNY FRONTU',\n",
       " 'Średni postęp mieś. likwidacji': 'ŚREDNI POSTĘP MIEŚ. LIKWIDACJI',\n",
       " 'Występowanie zaszłości (stare wyrobiska, zroby)': 'WYSTĘPOWANIE ZASZŁOŚCI (STARE WYROBISKA, ZROBY)',\n",
       " 'Głębokość zalegania złoża': 'GŁĘBOKOŚĆ ZALEGANIA ZŁOŻA',\n",
       " 'Rzeczywista szerokość': 'RZECZYWISTA SZEROKOŚĆ',\n",
       " 'Długość kotwi': 'DŁUGOŚĆ KOTWI',\n",
       " 'Dodatkowa obudowa': 'DODATKOWA OBUDOWA',\n",
       " 'Czas istnienia wyrobiska': 'CZAS ISTNIENIA WYROBISKA',\n",
       " 'Opadnięcia elementów SRS': 'OPADNIĘCIA ELEMENTÓW SRS',\n",
       " 'Rozwarstwienia stwierdzone badaniem endoskopowym': 'ROZWARSTWIENIA STWIERDZONE BADANIEM ENDOSKOPOWYM',\n",
       " 'Predyspozycja': 'PREDYSPOZYCJA',\n",
       " 'Możliwość utrzymania': 'MOŻLIWOŚĆ UTRZYMANIA'}"
      ]
     },
     "execution_count": 6,
     "metadata": {},
     "output_type": "execute_result"
    }
   ],
   "source": [
    "{a:a.upper() for a in br_dane.columns}"
   ]
  },
  {
   "cell_type": "code",
   "execution_count": 7,
   "id": "early-transfer",
   "metadata": {},
   "outputs": [
    {
     "data": {
      "text/plain": [
       "dict_values(['TOP', 'Rr', 'CRv', 'HYDRO', 'WEAK', 'TECT', 'v_FR', 'v_LI', 'ZROBY', 'H', 'W', 'L', 'EXT', 'T', 'SRS', 'ENDO', 'CRFp', 'CRFm'])"
      ]
     },
     "execution_count": 7,
     "metadata": {},
     "output_type": "execute_result"
    }
   ],
   "source": [
    "new_name = {'Rodzaj skał stropowych': 'TOP',\n",
    " 'Wytrzymałość na rozciąganie': 'Rr',\n",
    " 'Spękania pionowe': 'CRv',\n",
    " 'Zawodnienie': 'HYDRO',\n",
    " 'Płaszczyzny osłabienia': 'WEAK',\n",
    " 'Występowanie zaburzeń zalegania złoża ': 'TECT',\n",
    " 'Średni postęp miesięczny frontu': 'v_FR',\n",
    " 'Średni postęp mieś. likwidacji': 'v_LI',\n",
    " 'Występowanie zaszłości (stare wyrobiska, zroby)': 'ZROBY',\n",
    " 'Głębokość zalegania złoża': 'H',\n",
    " 'Rzeczywista szerokość': 'W',\n",
    " 'Długość kotwi': 'L',\n",
    " 'Dodatkowa obudowa': 'EXT',\n",
    " 'Czas istnienia wyrobiska': 'T',\n",
    " 'Opadnięcia elementów SRS': 'SRS',\n",
    " 'Rozwarstwienia stwierdzone badaniem endoskopowym': 'ENDO',\n",
    " 'Predyspozycja': 'CRFp',\n",
    " 'Możliwość utrzymania': 'CRFm'}\n",
    "new_name.values()"
   ]
  },
  {
   "cell_type": "code",
   "execution_count": 8,
   "id": "british-steps",
   "metadata": {},
   "outputs": [],
   "source": [
    "# nowe nazwy\n",
    "br_dane.columns = new_name.values()"
   ]
  },
  {
   "cell_type": "code",
   "execution_count": 9,
   "id": "expensive-spokesman",
   "metadata": {},
   "outputs": [
    {
     "data": {
      "text/html": [
       "<div>\n",
       "<style scoped>\n",
       "    .dataframe tbody tr th:only-of-type {\n",
       "        vertical-align: middle;\n",
       "    }\n",
       "\n",
       "    .dataframe tbody tr th {\n",
       "        vertical-align: top;\n",
       "    }\n",
       "\n",
       "    .dataframe thead th {\n",
       "        text-align: right;\n",
       "    }\n",
       "</style>\n",
       "<table border=\"1\" class=\"dataframe\">\n",
       "  <thead>\n",
       "    <tr style=\"text-align: right;\">\n",
       "      <th></th>\n",
       "      <th>TOP</th>\n",
       "      <th>Rr</th>\n",
       "      <th>CRv</th>\n",
       "      <th>HYDRO</th>\n",
       "      <th>WEAK</th>\n",
       "      <th>TECT</th>\n",
       "      <th>v_FR</th>\n",
       "      <th>v_LI</th>\n",
       "      <th>ZROBY</th>\n",
       "      <th>H</th>\n",
       "      <th>W</th>\n",
       "      <th>L</th>\n",
       "      <th>EXT</th>\n",
       "      <th>T</th>\n",
       "      <th>SRS</th>\n",
       "      <th>ENDO</th>\n",
       "      <th>CRFp</th>\n",
       "      <th>CRFm</th>\n",
       "    </tr>\n",
       "  </thead>\n",
       "  <tbody>\n",
       "    <tr>\n",
       "      <th>0</th>\n",
       "      <td>5</td>\n",
       "      <td>11.8</td>\n",
       "      <td>0.0</td>\n",
       "      <td>0.3</td>\n",
       "      <td>0.0</td>\n",
       "      <td>0.0</td>\n",
       "      <td>18</td>\n",
       "      <td>18</td>\n",
       "      <td>0</td>\n",
       "      <td>1.10</td>\n",
       "      <td>17.5</td>\n",
       "      <td>1.8</td>\n",
       "      <td>0</td>\n",
       "      <td>3.5</td>\n",
       "      <td>0.0</td>\n",
       "      <td>0.0</td>\n",
       "      <td>1.0</td>\n",
       "      <td>1.0</td>\n",
       "    </tr>\n",
       "    <tr>\n",
       "      <th>1</th>\n",
       "      <td>4</td>\n",
       "      <td>9.6</td>\n",
       "      <td>0.0</td>\n",
       "      <td>0.3</td>\n",
       "      <td>0.5</td>\n",
       "      <td>0.5</td>\n",
       "      <td>30</td>\n",
       "      <td>30</td>\n",
       "      <td>0</td>\n",
       "      <td>0.85</td>\n",
       "      <td>12.0</td>\n",
       "      <td>1.6</td>\n",
       "      <td>2</td>\n",
       "      <td>6.0</td>\n",
       "      <td>0.0</td>\n",
       "      <td>1.5</td>\n",
       "      <td>1.0</td>\n",
       "      <td>1.0</td>\n",
       "    </tr>\n",
       "    <tr>\n",
       "      <th>2</th>\n",
       "      <td>56</td>\n",
       "      <td>9.3</td>\n",
       "      <td>0.0</td>\n",
       "      <td>0.0</td>\n",
       "      <td>0.0</td>\n",
       "      <td>0.6</td>\n",
       "      <td>8</td>\n",
       "      <td>8</td>\n",
       "      <td>75</td>\n",
       "      <td>0.95</td>\n",
       "      <td>11.6</td>\n",
       "      <td>1.8</td>\n",
       "      <td>5</td>\n",
       "      <td>1.0</td>\n",
       "      <td>0.0</td>\n",
       "      <td>0.0</td>\n",
       "      <td>1.0</td>\n",
       "      <td>1.0</td>\n",
       "    </tr>\n",
       "    <tr>\n",
       "      <th>3</th>\n",
       "      <td>4</td>\n",
       "      <td>8.7</td>\n",
       "      <td>1.0</td>\n",
       "      <td>0.3</td>\n",
       "      <td>0.0</td>\n",
       "      <td>0.0</td>\n",
       "      <td>0</td>\n",
       "      <td>0</td>\n",
       "      <td>0</td>\n",
       "      <td>1.02</td>\n",
       "      <td>10.0</td>\n",
       "      <td>2.6</td>\n",
       "      <td>3</td>\n",
       "      <td>4.0</td>\n",
       "      <td>0.0</td>\n",
       "      <td>4.6</td>\n",
       "      <td>1.0</td>\n",
       "      <td>1.0</td>\n",
       "    </tr>\n",
       "    <tr>\n",
       "      <th>4</th>\n",
       "      <td>4</td>\n",
       "      <td>9.7</td>\n",
       "      <td>0.0</td>\n",
       "      <td>0.0</td>\n",
       "      <td>0.5</td>\n",
       "      <td>1.0</td>\n",
       "      <td>0</td>\n",
       "      <td>0</td>\n",
       "      <td>0</td>\n",
       "      <td>0.74</td>\n",
       "      <td>7.0</td>\n",
       "      <td>1.8</td>\n",
       "      <td>0</td>\n",
       "      <td>6.0</td>\n",
       "      <td>0.0</td>\n",
       "      <td>2.0</td>\n",
       "      <td>1.0</td>\n",
       "      <td>1.0</td>\n",
       "    </tr>\n",
       "  </tbody>\n",
       "</table>\n",
       "</div>"
      ],
      "text/plain": [
       "   TOP    Rr  CRv  HYDRO  WEAK  TECT  v_FR  v_LI  ZROBY     H     W    L  EXT  \\\n",
       "0    5  11.8  0.0    0.3   0.0   0.0    18    18      0  1.10  17.5  1.8    0   \n",
       "1    4   9.6  0.0    0.3   0.5   0.5    30    30      0  0.85  12.0  1.6    2   \n",
       "2   56   9.3  0.0    0.0   0.0   0.6     8     8     75  0.95  11.6  1.8    5   \n",
       "3    4   8.7  1.0    0.3   0.0   0.0     0     0      0  1.02  10.0  2.6    3   \n",
       "4    4   9.7  0.0    0.0   0.5   1.0     0     0      0  0.74   7.0  1.8    0   \n",
       "\n",
       "     T  SRS  ENDO  CRFp  CRFm  \n",
       "0  3.5  0.0   0.0   1.0   1.0  \n",
       "1  6.0  0.0   1.5   1.0   1.0  \n",
       "2  1.0  0.0   0.0   1.0   1.0  \n",
       "3  4.0  0.0   4.6   1.0   1.0  \n",
       "4  6.0  0.0   2.0   1.0   1.0  "
      ]
     },
     "execution_count": 9,
     "metadata": {},
     "output_type": "execute_result"
    }
   ],
   "source": [
    "br_dane.head()"
   ]
  },
  {
   "cell_type": "code",
   "execution_count": 10,
   "id": "forty-arnold",
   "metadata": {},
   "outputs": [],
   "source": [
    "br_dane.to_csv('SSN\\out1.csv', index = False)"
   ]
  },
  {
   "cell_type": "code",
   "execution_count": 11,
   "id": "detected-preserve",
   "metadata": {},
   "outputs": [
    {
     "name": "stdout",
     "output_type": "stream",
     "text": [
      "<class 'pandas.core.frame.DataFrame'>\n",
      "RangeIndex: 80 entries, 0 to 79\n",
      "Data columns (total 18 columns):\n",
      " #   Column  Non-Null Count  Dtype  \n",
      "---  ------  --------------  -----  \n",
      " 0   TOP     80 non-null     int64  \n",
      " 1   Rr      80 non-null     float64\n",
      " 2   CRv     80 non-null     float64\n",
      " 3   HYDRO   80 non-null     float64\n",
      " 4   WEAK    80 non-null     float64\n",
      " 5   TECT    80 non-null     float64\n",
      " 6   v_FR    80 non-null     int64  \n",
      " 7   v_LI    80 non-null     int64  \n",
      " 8   ZROBY   80 non-null     int64  \n",
      " 9   H       80 non-null     float64\n",
      " 10  W       80 non-null     float64\n",
      " 11  L       80 non-null     float64\n",
      " 12  EXT     80 non-null     int64  \n",
      " 13  T       80 non-null     float64\n",
      " 14  SRS     80 non-null     float64\n",
      " 15  ENDO    80 non-null     float64\n",
      " 16  CRFp    80 non-null     float64\n",
      " 17  CRFm    80 non-null     float64\n",
      "dtypes: float64(13), int64(5)\n",
      "memory usage: 11.4 KB\n"
     ]
    }
   ],
   "source": [
    "br_dane.info()"
   ]
  },
  {
   "cell_type": "markdown",
   "id": "52f08e44",
   "metadata": {},
   "source": [
    "GOTOWE - NAZWY KOLUMN ZAMIENIONE"
   ]
  },
  {
   "cell_type": "markdown",
   "id": "popular-final",
   "metadata": {},
   "source": [
    "# OKREŚLIĆ MARTWE WARTOŚCI (NIE UŻYTE)\n",
    "1: 1,3,7 <br>\n",
    "4: za dużo o 0,5"
   ]
  },
  {
   "cell_type": "code",
   "execution_count": 38,
   "id": "faced-confidence",
   "metadata": {},
   "outputs": [
    {
     "data": {
      "text/plain": [
       "[array([ 5,  4, 56,  6, 54,  2], dtype=int64),\n",
       " array([11.8 ,  9.6 ,  9.3 ,  8.7 ,  9.7 ,  8.5 , 10.1 ,  6.3 ,  9.1 ,\n",
       "         9.4 ,  7.9 ,  8.9 ,  5.4 ,  8.72,  7.96,  9.5 , 10.  ,  9.  ,\n",
       "         8.  ,  9.2 ,  8.6 ,  5.7 ,  7.1 ,  5.8 ,  5.5 ,  8.8 , 10.2 ,\n",
       "         8.4 , 11.  , 10.3 , 10.7 ,  7.2 ,  9.31,  8.59, 10.8 ]),\n",
       " array([0. , 1. , 0.5]),\n",
       " array([0.3, 0. , 0.5, 0.6, 1. ]),\n",
       " array([0. , 0.5]),\n",
       " array([0. , 0.5, 0.6, 1. , 0.4]),\n",
       " array([18, 30,  8,  0, 20,  5, 15], dtype=int64),\n",
       " array([18, 30,  8,  0, 50, 15, 10, 20,  5], dtype=int64),\n",
       " array([  0,  75,  10,  30, 180, 150,  40, 160, 100,  60, 190, 105,  51,\n",
       "         50,  80,  20,  70,  90,  63,  49,  77,  21, 130, 120,  64, 110,\n",
       "         35], dtype=int64),\n",
       " array([1.1  , 0.85 , 0.95 , 1.02 , 0.74 , 1.05 , 0.6  , 1.14 , 1.175,\n",
       "        1.11 , 1.15 ]),\n",
       " array([17.5, 12. , 11.6, 10. ,  7. ,  9. ,  8. , 11. ,  6.4,  7.5,  8.8,\n",
       "         7.8,  6.5]),\n",
       " array([1.8, 1.6, 2.6]),\n",
       " array([ 0,  2,  5,  3, 45,  4,  1], dtype=int64),\n",
       " array([3.5 , 6.  , 1.  , 4.  , 2.5 , 2.  , 1.51, 5.  , 4.5 , 3.  , 7.  ,\n",
       "        0.5 ]),\n",
       " array([0.  , 1.  , 0.35, 0.5 , 0.25]),\n",
       " array([0.  , 1.5 , 4.6 , 2.  , 2.3 , 3.5 , 2.5 , 2.6 , 1.7 , 0.75, 2.7 ,\n",
       "        0.2 , 1.  , 0.5 , 4.2 , 1.8 , 1.2 , 1.6 , 1.1 , 1.9 , 0.9 , 1.3 ,\n",
       "        0.3 ]),\n",
       " array([1.   , 0.6  , 0.45 , 0.8  , 0.425, 0.85 , 0.4  ]),\n",
       " array([1. , 0.7, 0.5, 0.9, 0.3])]"
      ]
     },
     "execution_count": 38,
     "metadata": {},
     "output_type": "execute_result"
    }
   ],
   "source": [
    "[br_dane[a].unique() for a in br_dane]"
   ]
  },
  {
   "cell_type": "code",
   "execution_count": 9,
   "id": "choice-scoop",
   "metadata": {},
   "outputs": [
    {
     "data": {
      "text/html": [
       "<div>\n",
       "<style scoped>\n",
       "    .dataframe tbody tr th:only-of-type {\n",
       "        vertical-align: middle;\n",
       "    }\n",
       "\n",
       "    .dataframe tbody tr th {\n",
       "        vertical-align: top;\n",
       "    }\n",
       "\n",
       "    .dataframe thead th {\n",
       "        text-align: right;\n",
       "    }\n",
       "</style>\n",
       "<table border=\"1\" class=\"dataframe\">\n",
       "  <thead>\n",
       "    <tr style=\"text-align: right;\">\n",
       "      <th></th>\n",
       "      <th>TOP</th>\n",
       "    </tr>\n",
       "  </thead>\n",
       "  <tbody>\n",
       "    <tr>\n",
       "      <th>0</th>\n",
       "      <td>5</td>\n",
       "    </tr>\n",
       "    <tr>\n",
       "      <th>1</th>\n",
       "      <td>4</td>\n",
       "    </tr>\n",
       "    <tr>\n",
       "      <th>2</th>\n",
       "      <td>56</td>\n",
       "    </tr>\n",
       "    <tr>\n",
       "      <th>3</th>\n",
       "      <td>4</td>\n",
       "    </tr>\n",
       "    <tr>\n",
       "      <th>4</th>\n",
       "      <td>4</td>\n",
       "    </tr>\n",
       "    <tr>\n",
       "      <th>...</th>\n",
       "      <td>...</td>\n",
       "    </tr>\n",
       "    <tr>\n",
       "      <th>75</th>\n",
       "      <td>4</td>\n",
       "    </tr>\n",
       "    <tr>\n",
       "      <th>76</th>\n",
       "      <td>4</td>\n",
       "    </tr>\n",
       "    <tr>\n",
       "      <th>77</th>\n",
       "      <td>4</td>\n",
       "    </tr>\n",
       "    <tr>\n",
       "      <th>78</th>\n",
       "      <td>4</td>\n",
       "    </tr>\n",
       "    <tr>\n",
       "      <th>79</th>\n",
       "      <td>4</td>\n",
       "    </tr>\n",
       "  </tbody>\n",
       "</table>\n",
       "<p>80 rows × 1 columns</p>\n",
       "</div>"
      ],
      "text/plain": [
       "    TOP\n",
       "0     5\n",
       "1     4\n",
       "2    56\n",
       "3     4\n",
       "4     4\n",
       "..  ...\n",
       "75    4\n",
       "76    4\n",
       "77    4\n",
       "78    4\n",
       "79    4\n",
       "\n",
       "[80 rows x 1 columns]"
      ]
     },
     "execution_count": 9,
     "metadata": {},
     "output_type": "execute_result"
    }
   ],
   "source": [
    "# need: from sklearn.preprocessing import OneHotEncoder\n",
    "date[[\"TOP\"]]"
   ]
  },
  {
   "cell_type": "code",
   "execution_count": 29,
   "id": "patient-snake",
   "metadata": {},
   "outputs": [],
   "source": [
    "X = date[[\"TOP\",\"Rr\",\"CRv\",\"HYDRO\",\"WEAK\",\"TECT\",\"v_FR\",\"v_LI\",\"ZROBY\",\"H\",'W',\"L\",\"EXT\",\"T\",\"SRS\",\"ENDO\"]]\n",
    "y = date[[\"CRFp\",\"CRFm\"]]"
   ]
  },
  {
   "cell_type": "code",
   "execution_count": 62,
   "id": "rolled-organizer",
   "metadata": {},
   "outputs": [
    {
     "data": {
      "text/plain": [
       "(array([0.5675193 , 0.48478448, 0.77284443, 0.5537507 , 0.591009  ,\n",
       "        1.1018021 , 1.0581771 , 0.27189693, 0.7319187 , 0.46819705,\n",
       "        0.23765223, 0.5769914 , 1.1723338 , 0.44224727, 0.25536656,\n",
       "        0.61958617], dtype=float32),\n",
       " array([0.45 , 1.   , 0.6  , 0.45 , 0.425, 0.85 , 0.6  , 0.45 , 1.   ,\n",
       "        0.6  , 0.8  , 0.45 , 0.6  , 0.45 , 0.45 , 0.45 ]))"
      ]
     },
     "execution_count": 62,
     "metadata": {},
     "output_type": "execute_result"
    }
   ],
   "source": [
    "y_pred, y_true"
   ]
  },
  {
   "cell_type": "code",
   "execution_count": 6,
   "id": "resident-reference",
   "metadata": {},
   "outputs": [
    {
     "data": {
      "text/html": [
       "<div>\n",
       "<style scoped>\n",
       "    .dataframe tbody tr th:only-of-type {\n",
       "        vertical-align: middle;\n",
       "    }\n",
       "\n",
       "    .dataframe tbody tr th {\n",
       "        vertical-align: top;\n",
       "    }\n",
       "\n",
       "    .dataframe thead th {\n",
       "        text-align: right;\n",
       "    }\n",
       "</style>\n",
       "<table border=\"1\" class=\"dataframe\">\n",
       "  <thead>\n",
       "    <tr style=\"text-align: right;\">\n",
       "      <th></th>\n",
       "      <th>TOP</th>\n",
       "      <th>Rr</th>\n",
       "      <th>CRv</th>\n",
       "      <th>HYDRO</th>\n",
       "      <th>WEAK</th>\n",
       "      <th>TECT</th>\n",
       "      <th>v_FR</th>\n",
       "      <th>v_LI</th>\n",
       "      <th>ZROBY</th>\n",
       "      <th>H</th>\n",
       "      <th>SRS</th>\n",
       "      <th>ENDO</th>\n",
       "    </tr>\n",
       "  </thead>\n",
       "  <tbody>\n",
       "    <tr>\n",
       "      <th>0</th>\n",
       "      <td>5</td>\n",
       "      <td>11.80</td>\n",
       "      <td>0.0</td>\n",
       "      <td>0.3</td>\n",
       "      <td>0.0</td>\n",
       "      <td>0.0</td>\n",
       "      <td>18</td>\n",
       "      <td>18</td>\n",
       "      <td>0</td>\n",
       "      <td>1.10</td>\n",
       "      <td>0.0</td>\n",
       "      <td>0.0</td>\n",
       "    </tr>\n",
       "    <tr>\n",
       "      <th>1</th>\n",
       "      <td>4</td>\n",
       "      <td>9.60</td>\n",
       "      <td>0.0</td>\n",
       "      <td>0.3</td>\n",
       "      <td>0.5</td>\n",
       "      <td>0.5</td>\n",
       "      <td>30</td>\n",
       "      <td>30</td>\n",
       "      <td>0</td>\n",
       "      <td>0.85</td>\n",
       "      <td>0.0</td>\n",
       "      <td>1.5</td>\n",
       "    </tr>\n",
       "    <tr>\n",
       "      <th>2</th>\n",
       "      <td>56</td>\n",
       "      <td>9.30</td>\n",
       "      <td>0.0</td>\n",
       "      <td>0.0</td>\n",
       "      <td>0.0</td>\n",
       "      <td>0.6</td>\n",
       "      <td>8</td>\n",
       "      <td>8</td>\n",
       "      <td>75</td>\n",
       "      <td>0.95</td>\n",
       "      <td>0.0</td>\n",
       "      <td>0.0</td>\n",
       "    </tr>\n",
       "    <tr>\n",
       "      <th>3</th>\n",
       "      <td>4</td>\n",
       "      <td>8.70</td>\n",
       "      <td>1.0</td>\n",
       "      <td>0.3</td>\n",
       "      <td>0.0</td>\n",
       "      <td>0.0</td>\n",
       "      <td>0</td>\n",
       "      <td>0</td>\n",
       "      <td>0</td>\n",
       "      <td>1.02</td>\n",
       "      <td>0.0</td>\n",
       "      <td>4.6</td>\n",
       "    </tr>\n",
       "    <tr>\n",
       "      <th>4</th>\n",
       "      <td>4</td>\n",
       "      <td>9.70</td>\n",
       "      <td>0.0</td>\n",
       "      <td>0.0</td>\n",
       "      <td>0.5</td>\n",
       "      <td>1.0</td>\n",
       "      <td>0</td>\n",
       "      <td>0</td>\n",
       "      <td>0</td>\n",
       "      <td>0.74</td>\n",
       "      <td>0.0</td>\n",
       "      <td>2.0</td>\n",
       "    </tr>\n",
       "    <tr>\n",
       "      <th>...</th>\n",
       "      <td>...</td>\n",
       "      <td>...</td>\n",
       "      <td>...</td>\n",
       "      <td>...</td>\n",
       "      <td>...</td>\n",
       "      <td>...</td>\n",
       "      <td>...</td>\n",
       "      <td>...</td>\n",
       "      <td>...</td>\n",
       "      <td>...</td>\n",
       "      <td>...</td>\n",
       "      <td>...</td>\n",
       "    </tr>\n",
       "    <tr>\n",
       "      <th>75</th>\n",
       "      <td>4</td>\n",
       "      <td>8.59</td>\n",
       "      <td>0.0</td>\n",
       "      <td>0.0</td>\n",
       "      <td>0.0</td>\n",
       "      <td>0.0</td>\n",
       "      <td>15</td>\n",
       "      <td>15</td>\n",
       "      <td>35</td>\n",
       "      <td>1.11</td>\n",
       "      <td>0.0</td>\n",
       "      <td>0.5</td>\n",
       "    </tr>\n",
       "    <tr>\n",
       "      <th>76</th>\n",
       "      <td>4</td>\n",
       "      <td>8.59</td>\n",
       "      <td>0.0</td>\n",
       "      <td>0.0</td>\n",
       "      <td>0.0</td>\n",
       "      <td>0.0</td>\n",
       "      <td>15</td>\n",
       "      <td>15</td>\n",
       "      <td>35</td>\n",
       "      <td>1.11</td>\n",
       "      <td>0.0</td>\n",
       "      <td>0.3</td>\n",
       "    </tr>\n",
       "    <tr>\n",
       "      <th>77</th>\n",
       "      <td>4</td>\n",
       "      <td>8.59</td>\n",
       "      <td>1.0</td>\n",
       "      <td>0.0</td>\n",
       "      <td>0.0</td>\n",
       "      <td>0.0</td>\n",
       "      <td>15</td>\n",
       "      <td>15</td>\n",
       "      <td>21</td>\n",
       "      <td>1.11</td>\n",
       "      <td>0.0</td>\n",
       "      <td>0.0</td>\n",
       "    </tr>\n",
       "    <tr>\n",
       "      <th>78</th>\n",
       "      <td>4</td>\n",
       "      <td>10.80</td>\n",
       "      <td>1.0</td>\n",
       "      <td>0.0</td>\n",
       "      <td>0.0</td>\n",
       "      <td>0.0</td>\n",
       "      <td>15</td>\n",
       "      <td>15</td>\n",
       "      <td>21</td>\n",
       "      <td>1.11</td>\n",
       "      <td>0.0</td>\n",
       "      <td>0.5</td>\n",
       "    </tr>\n",
       "    <tr>\n",
       "      <th>79</th>\n",
       "      <td>4</td>\n",
       "      <td>10.80</td>\n",
       "      <td>1.0</td>\n",
       "      <td>0.0</td>\n",
       "      <td>0.0</td>\n",
       "      <td>0.0</td>\n",
       "      <td>15</td>\n",
       "      <td>15</td>\n",
       "      <td>21</td>\n",
       "      <td>1.11</td>\n",
       "      <td>0.0</td>\n",
       "      <td>0.0</td>\n",
       "    </tr>\n",
       "  </tbody>\n",
       "</table>\n",
       "<p>80 rows × 12 columns</p>\n",
       "</div>"
      ],
      "text/plain": [
       "    TOP     Rr  CRv  HYDRO  WEAK  TECT  v_FR  v_LI  ZROBY     H  SRS  ENDO\n",
       "0     5  11.80  0.0    0.3   0.0   0.0    18    18      0  1.10  0.0   0.0\n",
       "1     4   9.60  0.0    0.3   0.5   0.5    30    30      0  0.85  0.0   1.5\n",
       "2    56   9.30  0.0    0.0   0.0   0.6     8     8     75  0.95  0.0   0.0\n",
       "3     4   8.70  1.0    0.3   0.0   0.0     0     0      0  1.02  0.0   4.6\n",
       "4     4   9.70  0.0    0.0   0.5   1.0     0     0      0  0.74  0.0   2.0\n",
       "..  ...    ...  ...    ...   ...   ...   ...   ...    ...   ...  ...   ...\n",
       "75    4   8.59  0.0    0.0   0.0   0.0    15    15     35  1.11  0.0   0.5\n",
       "76    4   8.59  0.0    0.0   0.0   0.0    15    15     35  1.11  0.0   0.3\n",
       "77    4   8.59  1.0    0.0   0.0   0.0    15    15     21  1.11  0.0   0.0\n",
       "78    4  10.80  1.0    0.0   0.0   0.0    15    15     21  1.11  0.0   0.5\n",
       "79    4  10.80  1.0    0.0   0.0   0.0    15    15     21  1.11  0.0   0.0\n",
       "\n",
       "[80 rows x 12 columns]"
      ]
     },
     "execution_count": 6,
     "metadata": {},
     "output_type": "execute_result"
    }
   ],
   "source": [
    "date[[\"TOP\",\"Rr\",\"CRv\",\"HYDRO\",\"WEAK\",\"TECT\",\"v_FR\",\"v_LI\",\"ZROBY\",\"H\",\"SRS\",\"ENDO\"]]"
   ]
  },
  {
   "cell_type": "code",
   "execution_count": 15,
   "id": "divine-wholesale",
   "metadata": {},
   "outputs": [
    {
     "data": {
      "text/html": [
       "<div>\n",
       "<style scoped>\n",
       "    .dataframe tbody tr th:only-of-type {\n",
       "        vertical-align: middle;\n",
       "    }\n",
       "\n",
       "    .dataframe tbody tr th {\n",
       "        vertical-align: top;\n",
       "    }\n",
       "\n",
       "    .dataframe thead th {\n",
       "        text-align: right;\n",
       "    }\n",
       "</style>\n",
       "<table border=\"1\" class=\"dataframe\">\n",
       "  <thead>\n",
       "    <tr style=\"text-align: right;\">\n",
       "      <th></th>\n",
       "      <th>TOP</th>\n",
       "      <th>Rr</th>\n",
       "      <th>CRv</th>\n",
       "      <th>HYDRO</th>\n",
       "      <th>WEAK</th>\n",
       "      <th>TECT</th>\n",
       "      <th>v_FR</th>\n",
       "      <th>v_LI</th>\n",
       "      <th>ZROBY</th>\n",
       "      <th>H</th>\n",
       "      <th>W</th>\n",
       "      <th>L</th>\n",
       "      <th>EXT</th>\n",
       "      <th>T</th>\n",
       "      <th>SRS</th>\n",
       "      <th>ENDO</th>\n",
       "    </tr>\n",
       "  </thead>\n",
       "  <tbody>\n",
       "    <tr>\n",
       "      <th>0</th>\n",
       "      <td>5</td>\n",
       "      <td>11.80</td>\n",
       "      <td>0.0</td>\n",
       "      <td>0.3</td>\n",
       "      <td>0.0</td>\n",
       "      <td>0.0</td>\n",
       "      <td>18</td>\n",
       "      <td>18</td>\n",
       "      <td>0</td>\n",
       "      <td>1.10</td>\n",
       "      <td>17.5</td>\n",
       "      <td>1.8</td>\n",
       "      <td>0</td>\n",
       "      <td>3.5</td>\n",
       "      <td>0.0</td>\n",
       "      <td>0.0</td>\n",
       "    </tr>\n",
       "    <tr>\n",
       "      <th>1</th>\n",
       "      <td>4</td>\n",
       "      <td>9.60</td>\n",
       "      <td>0.0</td>\n",
       "      <td>0.3</td>\n",
       "      <td>0.5</td>\n",
       "      <td>0.5</td>\n",
       "      <td>30</td>\n",
       "      <td>30</td>\n",
       "      <td>0</td>\n",
       "      <td>0.85</td>\n",
       "      <td>12.0</td>\n",
       "      <td>1.6</td>\n",
       "      <td>2</td>\n",
       "      <td>6.0</td>\n",
       "      <td>0.0</td>\n",
       "      <td>1.5</td>\n",
       "    </tr>\n",
       "    <tr>\n",
       "      <th>2</th>\n",
       "      <td>56</td>\n",
       "      <td>9.30</td>\n",
       "      <td>0.0</td>\n",
       "      <td>0.0</td>\n",
       "      <td>0.0</td>\n",
       "      <td>0.6</td>\n",
       "      <td>8</td>\n",
       "      <td>8</td>\n",
       "      <td>75</td>\n",
       "      <td>0.95</td>\n",
       "      <td>11.6</td>\n",
       "      <td>1.8</td>\n",
       "      <td>5</td>\n",
       "      <td>1.0</td>\n",
       "      <td>0.0</td>\n",
       "      <td>0.0</td>\n",
       "    </tr>\n",
       "    <tr>\n",
       "      <th>3</th>\n",
       "      <td>4</td>\n",
       "      <td>8.70</td>\n",
       "      <td>1.0</td>\n",
       "      <td>0.3</td>\n",
       "      <td>0.0</td>\n",
       "      <td>0.0</td>\n",
       "      <td>0</td>\n",
       "      <td>0</td>\n",
       "      <td>0</td>\n",
       "      <td>1.02</td>\n",
       "      <td>10.0</td>\n",
       "      <td>2.6</td>\n",
       "      <td>3</td>\n",
       "      <td>4.0</td>\n",
       "      <td>0.0</td>\n",
       "      <td>4.6</td>\n",
       "    </tr>\n",
       "    <tr>\n",
       "      <th>4</th>\n",
       "      <td>4</td>\n",
       "      <td>9.70</td>\n",
       "      <td>0.0</td>\n",
       "      <td>0.0</td>\n",
       "      <td>0.5</td>\n",
       "      <td>1.0</td>\n",
       "      <td>0</td>\n",
       "      <td>0</td>\n",
       "      <td>0</td>\n",
       "      <td>0.74</td>\n",
       "      <td>7.0</td>\n",
       "      <td>1.8</td>\n",
       "      <td>0</td>\n",
       "      <td>6.0</td>\n",
       "      <td>0.0</td>\n",
       "      <td>2.0</td>\n",
       "    </tr>\n",
       "    <tr>\n",
       "      <th>...</th>\n",
       "      <td>...</td>\n",
       "      <td>...</td>\n",
       "      <td>...</td>\n",
       "      <td>...</td>\n",
       "      <td>...</td>\n",
       "      <td>...</td>\n",
       "      <td>...</td>\n",
       "      <td>...</td>\n",
       "      <td>...</td>\n",
       "      <td>...</td>\n",
       "      <td>...</td>\n",
       "      <td>...</td>\n",
       "      <td>...</td>\n",
       "      <td>...</td>\n",
       "      <td>...</td>\n",
       "      <td>...</td>\n",
       "    </tr>\n",
       "    <tr>\n",
       "      <th>75</th>\n",
       "      <td>4</td>\n",
       "      <td>8.59</td>\n",
       "      <td>0.0</td>\n",
       "      <td>0.0</td>\n",
       "      <td>0.0</td>\n",
       "      <td>0.0</td>\n",
       "      <td>15</td>\n",
       "      <td>15</td>\n",
       "      <td>35</td>\n",
       "      <td>1.11</td>\n",
       "      <td>7.0</td>\n",
       "      <td>1.8</td>\n",
       "      <td>0</td>\n",
       "      <td>2.0</td>\n",
       "      <td>0.0</td>\n",
       "      <td>0.5</td>\n",
       "    </tr>\n",
       "    <tr>\n",
       "      <th>76</th>\n",
       "      <td>4</td>\n",
       "      <td>8.59</td>\n",
       "      <td>0.0</td>\n",
       "      <td>0.0</td>\n",
       "      <td>0.0</td>\n",
       "      <td>0.0</td>\n",
       "      <td>15</td>\n",
       "      <td>15</td>\n",
       "      <td>35</td>\n",
       "      <td>1.11</td>\n",
       "      <td>7.0</td>\n",
       "      <td>1.8</td>\n",
       "      <td>0</td>\n",
       "      <td>3.0</td>\n",
       "      <td>0.0</td>\n",
       "      <td>0.3</td>\n",
       "    </tr>\n",
       "    <tr>\n",
       "      <th>77</th>\n",
       "      <td>4</td>\n",
       "      <td>8.59</td>\n",
       "      <td>1.0</td>\n",
       "      <td>0.0</td>\n",
       "      <td>0.0</td>\n",
       "      <td>0.0</td>\n",
       "      <td>15</td>\n",
       "      <td>15</td>\n",
       "      <td>21</td>\n",
       "      <td>1.11</td>\n",
       "      <td>7.0</td>\n",
       "      <td>1.8</td>\n",
       "      <td>0</td>\n",
       "      <td>3.0</td>\n",
       "      <td>0.0</td>\n",
       "      <td>0.0</td>\n",
       "    </tr>\n",
       "    <tr>\n",
       "      <th>78</th>\n",
       "      <td>4</td>\n",
       "      <td>10.80</td>\n",
       "      <td>1.0</td>\n",
       "      <td>0.0</td>\n",
       "      <td>0.0</td>\n",
       "      <td>0.0</td>\n",
       "      <td>15</td>\n",
       "      <td>15</td>\n",
       "      <td>21</td>\n",
       "      <td>1.11</td>\n",
       "      <td>7.0</td>\n",
       "      <td>1.8</td>\n",
       "      <td>0</td>\n",
       "      <td>3.0</td>\n",
       "      <td>0.0</td>\n",
       "      <td>0.5</td>\n",
       "    </tr>\n",
       "    <tr>\n",
       "      <th>79</th>\n",
       "      <td>4</td>\n",
       "      <td>10.80</td>\n",
       "      <td>1.0</td>\n",
       "      <td>0.0</td>\n",
       "      <td>0.0</td>\n",
       "      <td>0.0</td>\n",
       "      <td>15</td>\n",
       "      <td>15</td>\n",
       "      <td>21</td>\n",
       "      <td>1.11</td>\n",
       "      <td>7.0</td>\n",
       "      <td>1.8</td>\n",
       "      <td>0</td>\n",
       "      <td>3.0</td>\n",
       "      <td>0.0</td>\n",
       "      <td>0.0</td>\n",
       "    </tr>\n",
       "  </tbody>\n",
       "</table>\n",
       "<p>80 rows × 16 columns</p>\n",
       "</div>"
      ],
      "text/plain": [
       "    TOP     Rr  CRv  HYDRO  WEAK  TECT  v_FR  v_LI  ZROBY     H     W    L  \\\n",
       "0     5  11.80  0.0    0.3   0.0   0.0    18    18      0  1.10  17.5  1.8   \n",
       "1     4   9.60  0.0    0.3   0.5   0.5    30    30      0  0.85  12.0  1.6   \n",
       "2    56   9.30  0.0    0.0   0.0   0.6     8     8     75  0.95  11.6  1.8   \n",
       "3     4   8.70  1.0    0.3   0.0   0.0     0     0      0  1.02  10.0  2.6   \n",
       "4     4   9.70  0.0    0.0   0.5   1.0     0     0      0  0.74   7.0  1.8   \n",
       "..  ...    ...  ...    ...   ...   ...   ...   ...    ...   ...   ...  ...   \n",
       "75    4   8.59  0.0    0.0   0.0   0.0    15    15     35  1.11   7.0  1.8   \n",
       "76    4   8.59  0.0    0.0   0.0   0.0    15    15     35  1.11   7.0  1.8   \n",
       "77    4   8.59  1.0    0.0   0.0   0.0    15    15     21  1.11   7.0  1.8   \n",
       "78    4  10.80  1.0    0.0   0.0   0.0    15    15     21  1.11   7.0  1.8   \n",
       "79    4  10.80  1.0    0.0   0.0   0.0    15    15     21  1.11   7.0  1.8   \n",
       "\n",
       "    EXT    T  SRS  ENDO  \n",
       "0     0  3.5  0.0   0.0  \n",
       "1     2  6.0  0.0   1.5  \n",
       "2     5  1.0  0.0   0.0  \n",
       "3     3  4.0  0.0   4.6  \n",
       "4     0  6.0  0.0   2.0  \n",
       "..  ...  ...  ...   ...  \n",
       "75    0  2.0  0.0   0.5  \n",
       "76    0  3.0  0.0   0.3  \n",
       "77    0  3.0  0.0   0.0  \n",
       "78    0  3.0  0.0   0.5  \n",
       "79    0  3.0  0.0   0.0  \n",
       "\n",
       "[80 rows x 16 columns]"
      ]
     },
     "execution_count": 15,
     "metadata": {},
     "output_type": "execute_result"
    }
   ],
   "source": [
    "date[[\"TOP\",\"Rr\",\"CRv\",\"HYDRO\",\"WEAK\",\"TECT\",\"v_FR\",\"v_LI\",\"ZROBY\",\"H\",'W',\"L\",\"EXT\",\"T\",\"SRS\",\"ENDO\"]]"
   ]
  },
  {
   "cell_type": "markdown",
   "id": "intermediate-headquarters",
   "metadata": {},
   "source": [
    "# MODELE TF - SEKWENCYJNY, PODKLASOWY, FUNKCYJNY\n"
   ]
  },
  {
   "cell_type": "markdown",
   "id": "feb1ea28",
   "metadata": {},
   "source": [
    "#### SEKWENCYJNY - add"
   ]
  },
  {
   "cell_type": "code",
   "execution_count": 417,
   "id": "trying-lighting",
   "metadata": {},
   "outputs": [
    {
     "name": "stdout",
     "output_type": "stream",
     "text": [
      "Model: \"sequential_27\"\n",
      "_________________________________________________________________\n",
      "Layer (type)                 Output Shape              Param #   \n",
      "=================================================================\n",
      "dense_142 (Dense)            (None, 5)                 65        \n",
      "_________________________________________________________________\n",
      "dense_143 (Dense)            (None, 1)                 6         \n",
      "=================================================================\n",
      "Total params: 71\n",
      "Trainable params: 71\n",
      "Non-trainable params: 0\n",
      "_________________________________________________________________\n"
     ]
    }
   ],
   "source": [
    "model3 = keras.models.Sequential()\n",
    "model3.add(keras.Input(shape=(12,)))\n",
    "model3.add(keras.layers.Dense(5, activation = 'relu'))\n",
    "model3.add(keras.layers.Dense(1))\n",
    "model3.summary()"
   ]
  },
  {
   "cell_type": "markdown",
   "id": "opening-mining",
   "metadata": {},
   "source": [
    "#### SEKWENCYJNY - LISTA"
   ]
  },
  {
   "cell_type": "code",
   "execution_count": 378,
   "id": "cardiovascular-difference",
   "metadata": {},
   "outputs": [],
   "source": [
    "model3 = keras.models.Sequential([\n",
    "    keras.Input(shape=(12,)),\n",
    "    keras.layers.Dense(5, activation = 'relu'),\n",
    "    keras.layers.Dense(1)])"
   ]
  },
  {
   "cell_type": "markdown",
   "id": "relative-efficiency",
   "metadata": {},
   "source": [
    "#### FUNKCYJNY"
   ]
  },
  {
   "cell_type": "code",
   "execution_count": 50,
   "id": "eleven-bachelor",
   "metadata": {},
   "outputs": [],
   "source": [
    "input_ = keras.layers.Input(shape=(12,))\n",
    "hidden1_ = keras.layers.Dense(8, activation = 'relu')(input_)\n",
    "hidden2_ = keras.layers.Dense(4, activation = 'relu')(hidden1_)\n",
    "output = keras.layers.Dense(1)(hidden2_)\n",
    "model3 = keras.Model(inputs = [input_], outputs = [output])\n"
   ]
  },
  {
   "cell_type": "markdown",
   "id": "hollywood-update",
   "metadata": {},
   "source": [
    "# imperatywny styl programowania\n",
    "#### PODKLASOWY"
   ]
  },
  {
   "cell_type": "code",
   "execution_count": 87,
   "id": "adequate-danish",
   "metadata": {},
   "outputs": [
    {
     "name": "stdout",
     "output_type": "stream",
     "text": [
      "Epoch 1/20\n",
      "3/3 [==============================] - 0s 2ms/step - loss: 0.6362 - MAE: 0.6285\n",
      "Epoch 2/20\n",
      "3/3 [==============================] - 0s 997us/step - loss: 0.5141 - MAE: 0.5855\n",
      "Epoch 3/20\n",
      "3/3 [==============================] - 0s 998us/step - loss: 0.4270 - MAE: 0.5445\n",
      "Epoch 4/20\n",
      "3/3 [==============================] - 0s 2ms/step - loss: 0.3831 - MAE: 0.5165\n",
      "Epoch 5/20\n",
      "3/3 [==============================] - 0s 2ms/step - loss: 0.3419 - MAE: 0.4894\n",
      "Epoch 6/20\n",
      "3/3 [==============================] - 0s 2ms/step - loss: 0.3114 - MAE: 0.4665\n",
      "Epoch 7/20\n",
      "3/3 [==============================] - 0s 1ms/step - loss: 0.2834 - MAE: 0.4465\n",
      "Epoch 8/20\n",
      "3/3 [==============================] - 0s 998us/step - loss: 0.2584 - MAE: 0.4252\n",
      "Epoch 9/20\n",
      "3/3 [==============================] - 0s 2ms/step - loss: 0.2397 - MAE: 0.4087\n",
      "Epoch 10/20\n",
      "3/3 [==============================] - 0s 997us/step - loss: 0.2241 - MAE: 0.3951\n",
      "Epoch 11/20\n",
      "3/3 [==============================] - 0s 1ms/step - loss: 0.2109 - MAE: 0.3813\n",
      "Epoch 12/20\n",
      "3/3 [==============================] - 0s 2ms/step - loss: 0.2000 - MAE: 0.3699\n",
      "Epoch 13/20\n",
      "3/3 [==============================] - 0s 2ms/step - loss: 0.1905 - MAE: 0.3592\n",
      "Epoch 14/20\n",
      "3/3 [==============================] - 0s 1ms/step - loss: 0.1814 - MAE: 0.3516\n",
      "Epoch 15/20\n",
      "3/3 [==============================] - 0s 1ms/step - loss: 0.1728 - MAE: 0.3419\n",
      "Epoch 16/20\n",
      "3/3 [==============================] - 0s 2ms/step - loss: 0.1622 - MAE: 0.3330\n",
      "Epoch 17/20\n",
      "3/3 [==============================] - 0s 1ms/step - loss: 0.1553 - MAE: 0.3252\n",
      "Epoch 18/20\n",
      "3/3 [==============================] - 0s 1ms/step - loss: 0.1481 - MAE: 0.3180\n",
      "Epoch 19/20\n",
      "3/3 [==============================] - 0s 2ms/step - loss: 0.1400 - MAE: 0.3113\n",
      "Epoch 20/20\n",
      "3/3 [==============================] - 0s 1ms/step - loss: 0.1332 - MAE: 0.3045\n"
     ]
    }
   ],
   "source": [
    "class SSN1(keras.Model):\n",
    "    def __init__(self, unit = 5, activation = 'relu', **kwargs):\n",
    "        super().__init__(**kwargs)\n",
    "        self.hidden1 = keras.layers.Dense(unit, activation = activation)\n",
    "        self.hidden2 = keras.layers.Dense(unit, activation = activation)\n",
    "        self.main_output = keras.layers.Dense(1)\n",
    "        \n",
    "    def call(self,inputs):\n",
    "        hidden1 = self.hidden1(inputs)\n",
    "        hidden2 = self.hidden2(hidden1)\n",
    "        output = self.main_output(hidden2)\n",
    "        return output\n",
    "    \n",
    "model4 = SSN1()\n",
    "\n",
    "model4.compile(loss = 'mean_squared_error',\n",
    "             optimizer = 'sgd',\n",
    "             metrics = [\"MAE\"])\n",
    "\n",
    "history4 = model4.fit(X_train, y_train, epochs = 20)"
   ]
  },
  {
   "cell_type": "markdown",
   "id": "chronic-pioneer",
   "metadata": {},
   "source": [
    " "
   ]
  },
  {
   "cell_type": "code",
   "execution_count": 111,
   "id": "074d9751",
   "metadata": {},
   "outputs": [
    {
     "data": {
      "image/png": "[encoded data removed]",
      "text/plain": [
       "<Figure size 576x360 with 1 Axes>"
      ]
     },
     "metadata": {
      "needs_background": "light"
     },
     "output_type": "display_data"
    },
    {
     "name": "stdout",
     "output_type": "stream",
     "text": [
      "(-0.5562875688014095, 0.15216697039131633)\n"
     ]
    },
    {
     "data": {
      "image/png": "[encoded data removed]",
      "text/plain": [
       "<Figure size 432x288 with 1 Axes>"
      ]
     },
     "metadata": {
      "needs_background": "light"
     },
     "output_type": "display_data"
    },
    {
     "data": {
      "image/png": "[encoded data removed]",
      "text/plain": [
       "<Figure size 432x288 with 1 Axes>"
      ]
     },
     "metadata": {
      "needs_background": "light"
     },
     "output_type": "display_data"
    },
    {
     "name": "stdout",
     "output_type": "stream",
     "text": [
      "współczynnik R: 0.26\n"
     ]
    },
    {
     "data": {
      "image/png": "[encoded data removed]",
      "text/plain": [
       "<Figure size 432x288 with 1 Axes>"
      ]
     },
     "metadata": {
      "needs_background": "light"
     },
     "output_type": "display_data"
    }
   ],
   "source": [
    "plot_hist(history4)\n",
    "plot_sc(model1 = model4)\n",
    "plot_sc_all(model_ = model4)\n",
    "plot_sc_all2(model4)"
   ]
  },
  {
   "cell_type": "code",
   "execution_count": 51,
   "id": "occupational-mozambique",
   "metadata": {},
   "outputs": [],
   "source": [
    "model3.compile(loss = 'mean_squared_error',\n",
    "             optimizer = 'sgd',\n",
    "             metrics = [\"MAE\"])"
   ]
  },
  {
   "cell_type": "code",
   "execution_count": 52,
   "id": "female-rwanda",
   "metadata": {},
   "outputs": [
    {
     "data": {
      "text/plain": [
       "'model3.compile(loss = \\'mean_squared_error\\',\\n             optimizer = keras.optimizers.SGD(lr = 1e-3),\\n             metrics = [\"MAE\"])'"
      ]
     },
     "execution_count": 52,
     "metadata": {},
     "output_type": "execute_result"
    }
   ],
   "source": [
    "\"\"\"model3.compile(loss = 'mean_squared_error',\n",
    "             optimizer = keras.optimizers.SGD(lr = 1e-3),\n",
    "             metrics = [\"MAE\"])\"\"\""
   ]
  },
  {
   "cell_type": "code",
   "execution_count": 53,
   "id": "rough-automation",
   "metadata": {},
   "outputs": [
    {
     "name": "stdout",
     "output_type": "stream",
     "text": [
      "Epoch 1/500\n",
      "2/2 [==============================] - 0s 47ms/step - loss: 0.4941 - MAE: 0.6012 - val_loss: 0.3512 - val_MAE: 0.4604\n",
      "Epoch 2/500\n",
      "2/2 [==============================] - 0s 8ms/step - loss: 0.4387 - MAE: 0.5680 - val_loss: 0.3391 - val_MAE: 0.4428\n",
      "Epoch 3/500\n",
      "2/2 [==============================] - 0s 8ms/step - loss: 0.3986 - MAE: 0.5430 - val_loss: 0.3304 - val_MAE: 0.4288\n",
      "Epoch 4/500\n",
      "2/2 [==============================] - 0s 8ms/step - loss: 0.3611 - MAE: 0.5155 - val_loss: 0.3217 - val_MAE: 0.4147\n",
      "Epoch 5/500\n",
      "2/2 [==============================] - 0s 8ms/step - loss: 0.3286 - MAE: 0.4935 - val_loss: 0.3141 - val_MAE: 0.4017\n",
      "Epoch 6/500\n",
      "2/2 [==============================] - 0s 8ms/step - loss: 0.3013 - MAE: 0.4722 - val_loss: 0.3065 - val_MAE: 0.3898\n",
      "Epoch 7/500\n",
      "2/2 [==============================] - 0s 8ms/step - loss: 0.2773 - MAE: 0.4524 - val_loss: 0.3001 - val_MAE: 0.3786\n",
      "Epoch 8/500\n",
      "2/2 [==============================] - 0s 8ms/step - loss: 0.2579 - MAE: 0.4348 - val_loss: 0.2919 - val_MAE: 0.3715\n",
      "Epoch 9/500\n",
      "2/2 [==============================] - 0s 8ms/step - loss: 0.2393 - MAE: 0.4178 - val_loss: 0.2862 - val_MAE: 0.3643\n",
      "Epoch 10/500\n",
      "2/2 [==============================] - 0s 8ms/step - loss: 0.2232 - MAE: 0.4012 - val_loss: 0.2799 - val_MAE: 0.3589\n",
      "Epoch 11/500\n",
      "2/2 [==============================] - 0s 8ms/step - loss: 0.2091 - MAE: 0.3858 - val_loss: 0.2741 - val_MAE: 0.3545\n",
      "Epoch 12/500\n",
      "2/2 [==============================] - 0s 8ms/step - loss: 0.1957 - MAE: 0.3722 - val_loss: 0.2688 - val_MAE: 0.3501\n",
      "Epoch 13/500\n",
      "2/2 [==============================] - 0s 7ms/step - loss: 0.1843 - MAE: 0.3594 - val_loss: 0.2636 - val_MAE: 0.3461\n",
      "Epoch 14/500\n",
      "2/2 [==============================] - 0s 8ms/step - loss: 0.1742 - MAE: 0.3481 - val_loss: 0.2602 - val_MAE: 0.3422\n",
      "Epoch 15/500\n",
      "2/2 [==============================] - 0s 8ms/step - loss: 0.1640 - MAE: 0.3364 - val_loss: 0.2565 - val_MAE: 0.3403\n",
      "Epoch 16/500\n",
      "2/2 [==============================] - 0s 7ms/step - loss: 0.1556 - MAE: 0.3269 - val_loss: 0.2521 - val_MAE: 0.3388\n",
      "Epoch 17/500\n",
      "2/2 [==============================] - 0s 8ms/step - loss: 0.1481 - MAE: 0.3178 - val_loss: 0.2483 - val_MAE: 0.3370\n",
      "Epoch 18/500\n",
      "2/2 [==============================] - 0s 8ms/step - loss: 0.1412 - MAE: 0.3086 - val_loss: 0.2448 - val_MAE: 0.3352\n",
      "Epoch 19/500\n",
      "2/2 [==============================] - 0s 9ms/step - loss: 0.1346 - MAE: 0.2998 - val_loss: 0.2420 - val_MAE: 0.3336\n",
      "Epoch 20/500\n",
      "2/2 [==============================] - 0s 8ms/step - loss: 0.1281 - MAE: 0.2911 - val_loss: 0.2392 - val_MAE: 0.3326\n",
      "Epoch 21/500\n",
      "2/2 [==============================] - 0s 7ms/step - loss: 0.1228 - MAE: 0.2837 - val_loss: 0.2364 - val_MAE: 0.3315\n",
      "Epoch 22/500\n",
      "2/2 [==============================] - 0s 8ms/step - loss: 0.1183 - MAE: 0.2767 - val_loss: 0.2330 - val_MAE: 0.3311\n",
      "Epoch 23/500\n",
      "2/2 [==============================] - 0s 8ms/step - loss: 0.1127 - MAE: 0.2692 - val_loss: 0.2303 - val_MAE: 0.3300\n",
      "Epoch 24/500\n",
      "2/2 [==============================] - 0s 8ms/step - loss: 0.1086 - MAE: 0.2640 - val_loss: 0.2283 - val_MAE: 0.3291\n",
      "Epoch 25/500\n",
      "2/2 [==============================] - 0s 8ms/step - loss: 0.1047 - MAE: 0.2591 - val_loss: 0.2262 - val_MAE: 0.3278\n",
      "Epoch 26/500\n",
      "2/2 [==============================] - 0s 8ms/step - loss: 0.1009 - MAE: 0.2544 - val_loss: 0.2243 - val_MAE: 0.3266\n",
      "Epoch 27/500\n",
      "2/2 [==============================] - 0s 7ms/step - loss: 0.0973 - MAE: 0.2499 - val_loss: 0.2223 - val_MAE: 0.3253\n",
      "Epoch 28/500\n",
      "2/2 [==============================] - 0s 8ms/step - loss: 0.0942 - MAE: 0.2462 - val_loss: 0.2203 - val_MAE: 0.3240\n",
      "Epoch 29/500\n",
      "2/2 [==============================] - 0s 9ms/step - loss: 0.0925 - MAE: 0.2436 - val_loss: 0.2185 - val_MAE: 0.3238\n",
      "Epoch 30/500\n",
      "2/2 [==============================] - 0s 7ms/step - loss: 0.0884 - MAE: 0.2384 - val_loss: 0.2166 - val_MAE: 0.3223\n",
      "Epoch 31/500\n",
      "2/2 [==============================] - 0s 8ms/step - loss: 0.0859 - MAE: 0.2353 - val_loss: 0.2150 - val_MAE: 0.3212\n",
      "Epoch 32/500\n",
      "2/2 [==============================] - 0s 8ms/step - loss: 0.0839 - MAE: 0.2323 - val_loss: 0.2134 - val_MAE: 0.3203\n",
      "Epoch 33/500\n",
      "2/2 [==============================] - 0s 9ms/step - loss: 0.0816 - MAE: 0.2298 - val_loss: 0.2117 - val_MAE: 0.3187\n",
      "Epoch 34/500\n",
      "2/2 [==============================] - 0s 9ms/step - loss: 0.0794 - MAE: 0.2264 - val_loss: 0.2104 - val_MAE: 0.3172\n",
      "Epoch 35/500\n",
      "2/2 [==============================] - 0s 8ms/step - loss: 0.0775 - MAE: 0.2236 - val_loss: 0.2092 - val_MAE: 0.3160\n",
      "Epoch 36/500\n",
      "2/2 [==============================] - 0s 8ms/step - loss: 0.0756 - MAE: 0.2209 - val_loss: 0.2079 - val_MAE: 0.3148\n",
      "Epoch 37/500\n",
      "2/2 [==============================] - 0s 7ms/step - loss: 0.0738 - MAE: 0.2182 - val_loss: 0.2065 - val_MAE: 0.3135\n",
      "Epoch 38/500\n",
      "2/2 [==============================] - 0s 10ms/step - loss: 0.0721 - MAE: 0.2156 - val_loss: 0.2054 - val_MAE: 0.3126\n",
      "Epoch 39/500\n",
      "2/2 [==============================] - 0s 8ms/step - loss: 0.0707 - MAE: 0.2133 - val_loss: 0.2042 - val_MAE: 0.3117\n",
      "Epoch 40/500\n",
      "2/2 [==============================] - 0s 8ms/step - loss: 0.0691 - MAE: 0.2110 - val_loss: 0.2031 - val_MAE: 0.3107\n",
      "Epoch 41/500\n",
      "2/2 [==============================] - 0s 8ms/step - loss: 0.0679 - MAE: 0.2092 - val_loss: 0.2020 - val_MAE: 0.3099\n",
      "Epoch 42/500\n",
      "2/2 [==============================] - 0s 7ms/step - loss: 0.0666 - MAE: 0.2071 - val_loss: 0.2010 - val_MAE: 0.3086\n",
      "Epoch 43/500\n",
      "2/2 [==============================] - 0s 8ms/step - loss: 0.0655 - MAE: 0.2055 - val_loss: 0.2000 - val_MAE: 0.3072\n",
      "Epoch 44/500\n",
      "2/2 [==============================] - 0s 8ms/step - loss: 0.0640 - MAE: 0.2026 - val_loss: 0.1989 - val_MAE: 0.3060\n",
      "Epoch 45/500\n",
      "2/2 [==============================] - 0s 8ms/step - loss: 0.0629 - MAE: 0.2007 - val_loss: 0.1981 - val_MAE: 0.3053\n",
      "Epoch 46/500\n",
      "2/2 [==============================] - 0s 8ms/step - loss: 0.0618 - MAE: 0.1988 - val_loss: 0.1974 - val_MAE: 0.3057\n",
      "Epoch 47/500\n",
      "2/2 [==============================] - 0s 8ms/step - loss: 0.0606 - MAE: 0.1968 - val_loss: 0.1964 - val_MAE: 0.3056\n",
      "Epoch 48/500\n",
      "2/2 [==============================] - 0s 8ms/step - loss: 0.0599 - MAE: 0.1955 - val_loss: 0.1954 - val_MAE: 0.3049\n",
      "Epoch 49/500\n",
      "2/2 [==============================] - 0s 9ms/step - loss: 0.0589 - MAE: 0.1935 - val_loss: 0.1946 - val_MAE: 0.3061\n",
      "Epoch 50/500\n",
      "2/2 [==============================] - 0s 8ms/step - loss: 0.0578 - MAE: 0.1916 - val_loss: 0.1936 - val_MAE: 0.3062\n",
      "Epoch 51/500\n",
      "2/2 [==============================] - 0s 8ms/step - loss: 0.0570 - MAE: 0.1901 - val_loss: 0.1927 - val_MAE: 0.3061\n",
      "Epoch 52/500\n",
      "2/2 [==============================] - 0s 8ms/step - loss: 0.0565 - MAE: 0.1891 - val_loss: 0.1920 - val_MAE: 0.3070\n",
      "Epoch 53/500\n",
      "2/2 [==============================] - 0s 8ms/step - loss: 0.0556 - MAE: 0.1876 - val_loss: 0.1907 - val_MAE: 0.3060\n",
      "Epoch 54/500\n",
      "2/2 [==============================] - 0s 7ms/step - loss: 0.0548 - MAE: 0.1856 - val_loss: 0.1896 - val_MAE: 0.3052\n",
      "Epoch 55/500\n",
      "2/2 [==============================] - 0s 8ms/step - loss: 0.0539 - MAE: 0.1837 - val_loss: 0.1887 - val_MAE: 0.3059\n",
      "Epoch 56/500\n",
      "2/2 [==============================] - 0s 8ms/step - loss: 0.0531 - MAE: 0.1822 - val_loss: 0.1877 - val_MAE: 0.3059\n",
      "Epoch 57/500\n",
      "2/2 [==============================] - 0s 7ms/step - loss: 0.0525 - MAE: 0.1808 - val_loss: 0.1870 - val_MAE: 0.3066\n",
      "Epoch 58/500\n",
      "2/2 [==============================] - 0s 8ms/step - loss: 0.0517 - MAE: 0.1795 - val_loss: 0.1861 - val_MAE: 0.3062\n",
      "Epoch 59/500\n",
      "2/2 [==============================] - 0s 8ms/step - loss: 0.0511 - MAE: 0.1781 - val_loss: 0.1854 - val_MAE: 0.3066\n",
      "Epoch 60/500\n",
      "2/2 [==============================] - 0s 8ms/step - loss: 0.0506 - MAE: 0.1771 - val_loss: 0.1842 - val_MAE: 0.3057\n",
      "Epoch 61/500\n",
      "2/2 [==============================] - 0s 8ms/step - loss: 0.0499 - MAE: 0.1756 - val_loss: 0.1832 - val_MAE: 0.3056\n",
      "Epoch 62/500\n",
      "2/2 [==============================] - 0s 8ms/step - loss: 0.0494 - MAE: 0.1748 - val_loss: 0.1824 - val_MAE: 0.3049\n",
      "Epoch 63/500\n",
      "2/2 [==============================] - 0s 8ms/step - loss: 0.0486 - MAE: 0.1729 - val_loss: 0.1817 - val_MAE: 0.3053\n",
      "Epoch 64/500\n"
     ]
    },
    {
     "name": "stdout",
     "output_type": "stream",
     "text": [
      "2/2 [==============================] - 0s 8ms/step - loss: 0.0481 - MAE: 0.1719 - val_loss: 0.1808 - val_MAE: 0.3053\n",
      "Epoch 65/500\n",
      "2/2 [==============================] - 0s 8ms/step - loss: 0.0475 - MAE: 0.1710 - val_loss: 0.1798 - val_MAE: 0.3047\n",
      "Epoch 66/500\n",
      "2/2 [==============================] - 0s 7ms/step - loss: 0.0472 - MAE: 0.1701 - val_loss: 0.1792 - val_MAE: 0.3052\n",
      "Epoch 67/500\n",
      "2/2 [==============================] - 0s 7ms/step - loss: 0.0465 - MAE: 0.1689 - val_loss: 0.1784 - val_MAE: 0.3052\n",
      "Epoch 68/500\n",
      "2/2 [==============================] - 0s 7ms/step - loss: 0.0462 - MAE: 0.1684 - val_loss: 0.1779 - val_MAE: 0.3058\n",
      "Epoch 69/500\n",
      "2/2 [==============================] - 0s 7ms/step - loss: 0.0456 - MAE: 0.1670 - val_loss: 0.1770 - val_MAE: 0.3054\n",
      "Epoch 70/500\n",
      "2/2 [==============================] - 0s 7ms/step - loss: 0.0452 - MAE: 0.1662 - val_loss: 0.1764 - val_MAE: 0.3055\n",
      "Epoch 71/500\n",
      "2/2 [==============================] - 0s 7ms/step - loss: 0.0447 - MAE: 0.1653 - val_loss: 0.1757 - val_MAE: 0.3054\n",
      "Epoch 72/500\n",
      "2/2 [==============================] - 0s 7ms/step - loss: 0.0443 - MAE: 0.1644 - val_loss: 0.1747 - val_MAE: 0.3046\n",
      "Epoch 73/500\n",
      "2/2 [==============================] - 0s 7ms/step - loss: 0.0439 - MAE: 0.1638 - val_loss: 0.1736 - val_MAE: 0.3035\n",
      "Epoch 74/500\n",
      "2/2 [==============================] - 0s 7ms/step - loss: 0.0434 - MAE: 0.1626 - val_loss: 0.1730 - val_MAE: 0.3030\n",
      "Epoch 75/500\n",
      "2/2 [==============================] - 0s 7ms/step - loss: 0.0430 - MAE: 0.1619 - val_loss: 0.1723 - val_MAE: 0.3033\n",
      "Epoch 76/500\n",
      "2/2 [==============================] - 0s 7ms/step - loss: 0.0426 - MAE: 0.1609 - val_loss: 0.1715 - val_MAE: 0.3028\n",
      "Epoch 77/500\n",
      "2/2 [==============================] - 0s 7ms/step - loss: 0.0422 - MAE: 0.1601 - val_loss: 0.1707 - val_MAE: 0.3023\n",
      "Epoch 78/500\n",
      "2/2 [==============================] - 0s 7ms/step - loss: 0.0419 - MAE: 0.1594 - val_loss: 0.1700 - val_MAE: 0.3016\n",
      "Epoch 79/500\n",
      "2/2 [==============================] - 0s 7ms/step - loss: 0.0415 - MAE: 0.1584 - val_loss: 0.1693 - val_MAE: 0.3013\n",
      "Epoch 80/500\n",
      "2/2 [==============================] - 0s 7ms/step - loss: 0.0411 - MAE: 0.1576 - val_loss: 0.1686 - val_MAE: 0.3009\n",
      "Epoch 81/500\n",
      "2/2 [==============================] - 0s 7ms/step - loss: 0.0409 - MAE: 0.1571 - val_loss: 0.1681 - val_MAE: 0.3011\n",
      "Epoch 82/500\n",
      "2/2 [==============================] - 0s 7ms/step - loss: 0.0407 - MAE: 0.1568 - val_loss: 0.1671 - val_MAE: 0.2998\n",
      "Epoch 83/500\n",
      "2/2 [==============================] - 0s 7ms/step - loss: 0.0402 - MAE: 0.1556 - val_loss: 0.1668 - val_MAE: 0.3004\n",
      "Epoch 84/500\n",
      "2/2 [==============================] - 0s 7ms/step - loss: 0.0398 - MAE: 0.1547 - val_loss: 0.1661 - val_MAE: 0.2999\n",
      "Epoch 85/500\n",
      "2/2 [==============================] - 0s 7ms/step - loss: 0.0395 - MAE: 0.1539 - val_loss: 0.1656 - val_MAE: 0.2997\n",
      "Epoch 86/500\n",
      "2/2 [==============================] - 0s 7ms/step - loss: 0.0392 - MAE: 0.1531 - val_loss: 0.1650 - val_MAE: 0.2993\n",
      "Epoch 87/500\n",
      "2/2 [==============================] - 0s 7ms/step - loss: 0.0389 - MAE: 0.1524 - val_loss: 0.1643 - val_MAE: 0.2990\n",
      "Epoch 88/500\n",
      "2/2 [==============================] - 0s 7ms/step - loss: 0.0386 - MAE: 0.1517 - val_loss: 0.1638 - val_MAE: 0.2987\n",
      "Epoch 89/500\n",
      "2/2 [==============================] - 0s 7ms/step - loss: 0.0383 - MAE: 0.1512 - val_loss: 0.1635 - val_MAE: 0.2987\n",
      "Epoch 90/500\n",
      "2/2 [==============================] - 0s 7ms/step - loss: 0.0381 - MAE: 0.1505 - val_loss: 0.1626 - val_MAE: 0.2979\n",
      "Epoch 91/500\n",
      "2/2 [==============================] - 0s 7ms/step - loss: 0.0378 - MAE: 0.1498 - val_loss: 0.1620 - val_MAE: 0.2973\n",
      "Epoch 92/500\n",
      "2/2 [==============================] - 0s 7ms/step - loss: 0.0375 - MAE: 0.1491 - val_loss: 0.1615 - val_MAE: 0.2971\n",
      "Epoch 93/500\n",
      "2/2 [==============================] - 0s 7ms/step - loss: 0.0373 - MAE: 0.1485 - val_loss: 0.1610 - val_MAE: 0.2971\n",
      "Epoch 94/500\n",
      "2/2 [==============================] - 0s 7ms/step - loss: 0.0370 - MAE: 0.1479 - val_loss: 0.1603 - val_MAE: 0.2963\n",
      "Epoch 95/500\n",
      "2/2 [==============================] - 0s 7ms/step - loss: 0.0368 - MAE: 0.1473 - val_loss: 0.1599 - val_MAE: 0.2964\n",
      "Epoch 96/500\n",
      "2/2 [==============================] - 0s 7ms/step - loss: 0.0366 - MAE: 0.1468 - val_loss: 0.1591 - val_MAE: 0.2953\n",
      "Epoch 97/500\n",
      "2/2 [==============================] - 0s 7ms/step - loss: 0.0363 - MAE: 0.1461 - val_loss: 0.1584 - val_MAE: 0.2945\n",
      "Epoch 98/500\n",
      "2/2 [==============================] - 0s 11ms/step - loss: 0.0361 - MAE: 0.1457 - val_loss: 0.1581 - val_MAE: 0.2949\n",
      "Epoch 99/500\n",
      "2/2 [==============================] - 0s 9ms/step - loss: 0.0359 - MAE: 0.1451 - val_loss: 0.1579 - val_MAE: 0.2950\n",
      "Epoch 100/500\n",
      "2/2 [==============================] - 0s 8ms/step - loss: 0.0356 - MAE: 0.1443 - val_loss: 0.1572 - val_MAE: 0.2942\n",
      "Epoch 101/500\n",
      "2/2 [==============================] - 0s 7ms/step - loss: 0.0355 - MAE: 0.1442 - val_loss: 0.1570 - val_MAE: 0.2947\n",
      "Epoch 102/500\n",
      "2/2 [==============================] - 0s 7ms/step - loss: 0.0351 - MAE: 0.1430 - val_loss: 0.1564 - val_MAE: 0.2939\n",
      "Epoch 103/500\n",
      "2/2 [==============================] - 0s 7ms/step - loss: 0.0349 - MAE: 0.1427 - val_loss: 0.1560 - val_MAE: 0.2940\n",
      "Epoch 104/500\n",
      "2/2 [==============================] - 0s 7ms/step - loss: 0.0347 - MAE: 0.1419 - val_loss: 0.1554 - val_MAE: 0.2935\n",
      "Epoch 105/500\n",
      "2/2 [==============================] - 0s 7ms/step - loss: 0.0345 - MAE: 0.1413 - val_loss: 0.1548 - val_MAE: 0.2928\n",
      "Epoch 106/500\n",
      "2/2 [==============================] - 0s 7ms/step - loss: 0.0343 - MAE: 0.1410 - val_loss: 0.1544 - val_MAE: 0.2928\n",
      "Epoch 107/500\n",
      "2/2 [==============================] - 0s 7ms/step - loss: 0.0341 - MAE: 0.1403 - val_loss: 0.1541 - val_MAE: 0.2926\n",
      "Epoch 108/500\n",
      "2/2 [==============================] - 0s 8ms/step - loss: 0.0339 - MAE: 0.1399 - val_loss: 0.1534 - val_MAE: 0.2917\n",
      "Epoch 109/500\n",
      "2/2 [==============================] - 0s 7ms/step - loss: 0.0337 - MAE: 0.1394 - val_loss: 0.1528 - val_MAE: 0.2913\n",
      "Epoch 110/500\n",
      "2/2 [==============================] - 0s 7ms/step - loss: 0.0335 - MAE: 0.1389 - val_loss: 0.1525 - val_MAE: 0.2913\n",
      "Epoch 111/500\n",
      "2/2 [==============================] - 0s 7ms/step - loss: 0.0334 - MAE: 0.1384 - val_loss: 0.1519 - val_MAE: 0.2905\n",
      "Epoch 112/500\n",
      "2/2 [==============================] - 0s 7ms/step - loss: 0.0332 - MAE: 0.1380 - val_loss: 0.1513 - val_MAE: 0.2898\n",
      "Epoch 113/500\n",
      "2/2 [==============================] - 0s 7ms/step - loss: 0.0330 - MAE: 0.1375 - val_loss: 0.1510 - val_MAE: 0.2897\n",
      "Epoch 114/500\n",
      "2/2 [==============================] - 0s 7ms/step - loss: 0.0328 - MAE: 0.1369 - val_loss: 0.1506 - val_MAE: 0.2894\n",
      "Epoch 115/500\n",
      "2/2 [==============================] - 0s 7ms/step - loss: 0.0326 - MAE: 0.1364 - val_loss: 0.1499 - val_MAE: 0.2885\n",
      "Epoch 116/500\n",
      "2/2 [==============================] - 0s 7ms/step - loss: 0.0324 - MAE: 0.1359 - val_loss: 0.1496 - val_MAE: 0.2884\n",
      "Epoch 117/500\n",
      "2/2 [==============================] - 0s 7ms/step - loss: 0.0322 - MAE: 0.1355 - val_loss: 0.1491 - val_MAE: 0.2882\n",
      "Epoch 118/500\n",
      "2/2 [==============================] - 0s 7ms/step - loss: 0.0321 - MAE: 0.1351 - val_loss: 0.1489 - val_MAE: 0.2883\n",
      "Epoch 119/500\n",
      "2/2 [==============================] - 0s 7ms/step - loss: 0.0319 - MAE: 0.1347 - val_loss: 0.1486 - val_MAE: 0.2883\n",
      "Epoch 120/500\n",
      "2/2 [==============================] - 0s 7ms/step - loss: 0.0317 - MAE: 0.1340 - val_loss: 0.1483 - val_MAE: 0.2882\n",
      "Epoch 121/500\n",
      "2/2 [==============================] - 0s 7ms/step - loss: 0.0315 - MAE: 0.1335 - val_loss: 0.1478 - val_MAE: 0.2878\n",
      "Epoch 122/500\n",
      "2/2 [==============================] - 0s 6ms/step - loss: 0.0314 - MAE: 0.1330 - val_loss: 0.1473 - val_MAE: 0.2872\n",
      "Epoch 123/500\n",
      "2/2 [==============================] - 0s 6ms/step - loss: 0.0312 - MAE: 0.1326 - val_loss: 0.1470 - val_MAE: 0.2872\n",
      "Epoch 124/500\n",
      "2/2 [==============================] - 0s 7ms/step - loss: 0.0311 - MAE: 0.1322 - val_loss: 0.1466 - val_MAE: 0.2869\n",
      "Epoch 125/500\n",
      "2/2 [==============================] - 0s 7ms/step - loss: 0.0309 - MAE: 0.1317 - val_loss: 0.1461 - val_MAE: 0.2866\n",
      "Epoch 126/500\n",
      "2/2 [==============================] - 0s 7ms/step - loss: 0.0307 - MAE: 0.1313 - val_loss: 0.1457 - val_MAE: 0.2863\n"
     ]
    },
    {
     "name": "stdout",
     "output_type": "stream",
     "text": [
      "Epoch 127/500\n",
      "2/2 [==============================] - 0s 7ms/step - loss: 0.0306 - MAE: 0.1310 - val_loss: 0.1453 - val_MAE: 0.2860\n",
      "Epoch 128/500\n",
      "2/2 [==============================] - 0s 7ms/step - loss: 0.0305 - MAE: 0.1305 - val_loss: 0.1449 - val_MAE: 0.2855\n",
      "Epoch 129/500\n",
      "2/2 [==============================] - 0s 7ms/step - loss: 0.0303 - MAE: 0.1301 - val_loss: 0.1446 - val_MAE: 0.2853\n",
      "Epoch 130/500\n",
      "2/2 [==============================] - 0s 7ms/step - loss: 0.0302 - MAE: 0.1297 - val_loss: 0.1441 - val_MAE: 0.2847\n",
      "Epoch 131/500\n",
      "2/2 [==============================] - 0s 7ms/step - loss: 0.0300 - MAE: 0.1293 - val_loss: 0.1436 - val_MAE: 0.2842\n",
      "Epoch 132/500\n",
      "2/2 [==============================] - 0s 7ms/step - loss: 0.0299 - MAE: 0.1292 - val_loss: 0.1433 - val_MAE: 0.2841\n",
      "Epoch 133/500\n",
      "2/2 [==============================] - 0s 6ms/step - loss: 0.0298 - MAE: 0.1287 - val_loss: 0.1427 - val_MAE: 0.2832\n",
      "Epoch 134/500\n",
      "2/2 [==============================] - 0s 6ms/step - loss: 0.0296 - MAE: 0.1282 - val_loss: 0.1422 - val_MAE: 0.2827\n",
      "Epoch 135/500\n",
      "2/2 [==============================] - 0s 7ms/step - loss: 0.0295 - MAE: 0.1279 - val_loss: 0.1418 - val_MAE: 0.2821\n",
      "Epoch 136/500\n",
      "2/2 [==============================] - 0s 7ms/step - loss: 0.0293 - MAE: 0.1275 - val_loss: 0.1413 - val_MAE: 0.2817\n",
      "Epoch 137/500\n",
      "2/2 [==============================] - 0s 7ms/step - loss: 0.0292 - MAE: 0.1272 - val_loss: 0.1409 - val_MAE: 0.2813\n",
      "Epoch 138/500\n",
      "2/2 [==============================] - 0s 7ms/step - loss: 0.0291 - MAE: 0.1269 - val_loss: 0.1405 - val_MAE: 0.2810\n",
      "Epoch 139/500\n",
      "2/2 [==============================] - 0s 7ms/step - loss: 0.0290 - MAE: 0.1264 - val_loss: 0.1402 - val_MAE: 0.2807\n",
      "Epoch 140/500\n",
      "2/2 [==============================] - 0s 6ms/step - loss: 0.0290 - MAE: 0.1261 - val_loss: 0.1396 - val_MAE: 0.2798\n",
      "Epoch 141/500\n",
      "2/2 [==============================] - 0s 7ms/step - loss: 0.0288 - MAE: 0.1259 - val_loss: 0.1393 - val_MAE: 0.2794\n",
      "Epoch 142/500\n",
      "2/2 [==============================] - 0s 7ms/step - loss: 0.0286 - MAE: 0.1254 - val_loss: 0.1391 - val_MAE: 0.2794\n",
      "Epoch 143/500\n",
      "2/2 [==============================] - 0s 7ms/step - loss: 0.0285 - MAE: 0.1251 - val_loss: 0.1389 - val_MAE: 0.2794\n",
      "Epoch 144/500\n",
      "2/2 [==============================] - 0s 7ms/step - loss: 0.0284 - MAE: 0.1250 - val_loss: 0.1384 - val_MAE: 0.2787\n",
      "Epoch 145/500\n",
      "2/2 [==============================] - 0s 7ms/step - loss: 0.0283 - MAE: 0.1246 - val_loss: 0.1379 - val_MAE: 0.2780\n",
      "Epoch 146/500\n",
      "2/2 [==============================] - 0s 7ms/step - loss: 0.0282 - MAE: 0.1241 - val_loss: 0.1378 - val_MAE: 0.2780\n",
      "Epoch 147/500\n",
      "2/2 [==============================] - 0s 7ms/step - loss: 0.0281 - MAE: 0.1239 - val_loss: 0.1373 - val_MAE: 0.2774\n",
      "Epoch 148/500\n",
      "2/2 [==============================] - 0s 7ms/step - loss: 0.0280 - MAE: 0.1236 - val_loss: 0.1370 - val_MAE: 0.2771\n",
      "Epoch 149/500\n",
      "2/2 [==============================] - 0s 7ms/step - loss: 0.0279 - MAE: 0.1235 - val_loss: 0.1366 - val_MAE: 0.2765\n",
      "Epoch 150/500\n",
      "2/2 [==============================] - 0s 7ms/step - loss: 0.0277 - MAE: 0.1229 - val_loss: 0.1364 - val_MAE: 0.2767\n",
      "Epoch 151/500\n",
      "2/2 [==============================] - 0s 6ms/step - loss: 0.0277 - MAE: 0.1227 - val_loss: 0.1364 - val_MAE: 0.2768\n",
      "Epoch 152/500\n",
      "2/2 [==============================] - 0s 7ms/step - loss: 0.0275 - MAE: 0.1222 - val_loss: 0.1359 - val_MAE: 0.2761\n",
      "Epoch 153/500\n",
      "2/2 [==============================] - 0s 6ms/step - loss: 0.0274 - MAE: 0.1218 - val_loss: 0.1357 - val_MAE: 0.2759\n",
      "Epoch 154/500\n",
      "2/2 [==============================] - 0s 7ms/step - loss: 0.0273 - MAE: 0.1217 - val_loss: 0.1356 - val_MAE: 0.2762\n",
      "Epoch 155/500\n",
      "2/2 [==============================] - 0s 7ms/step - loss: 0.0272 - MAE: 0.1213 - val_loss: 0.1351 - val_MAE: 0.2754\n",
      "Epoch 156/500\n",
      "2/2 [==============================] - 0s 7ms/step - loss: 0.0271 - MAE: 0.1209 - val_loss: 0.1348 - val_MAE: 0.2751\n",
      "Epoch 157/500\n",
      "2/2 [==============================] - 0s 7ms/step - loss: 0.0270 - MAE: 0.1208 - val_loss: 0.1346 - val_MAE: 0.2748\n",
      "Epoch 158/500\n",
      "2/2 [==============================] - 0s 7ms/step - loss: 0.0269 - MAE: 0.1205 - val_loss: 0.1344 - val_MAE: 0.2749\n",
      "Epoch 159/500\n",
      "2/2 [==============================] - 0s 7ms/step - loss: 0.0268 - MAE: 0.1201 - val_loss: 0.1342 - val_MAE: 0.2748\n",
      "Epoch 160/500\n",
      "2/2 [==============================] - 0s 7ms/step - loss: 0.0267 - MAE: 0.1199 - val_loss: 0.1340 - val_MAE: 0.2748\n",
      "Epoch 161/500\n",
      "2/2 [==============================] - 0s 7ms/step - loss: 0.0266 - MAE: 0.1197 - val_loss: 0.1338 - val_MAE: 0.2747\n",
      "Epoch 162/500\n",
      "2/2 [==============================] - 0s 7ms/step - loss: 0.0266 - MAE: 0.1193 - val_loss: 0.1334 - val_MAE: 0.2740\n",
      "Epoch 163/500\n",
      "2/2 [==============================] - 0s 7ms/step - loss: 0.0264 - MAE: 0.1190 - val_loss: 0.1332 - val_MAE: 0.2739\n",
      "Epoch 164/500\n",
      "2/2 [==============================] - 0s 7ms/step - loss: 0.0264 - MAE: 0.1190 - val_loss: 0.1332 - val_MAE: 0.2741\n",
      "Epoch 165/500\n",
      "2/2 [==============================] - 0s 6ms/step - loss: 0.0263 - MAE: 0.1185 - val_loss: 0.1327 - val_MAE: 0.2736\n",
      "Epoch 166/500\n",
      "2/2 [==============================] - 0s 7ms/step - loss: 0.0261 - MAE: 0.1182 - val_loss: 0.1324 - val_MAE: 0.2733\n",
      "Epoch 167/500\n",
      "2/2 [==============================] - 0s 7ms/step - loss: 0.0261 - MAE: 0.1180 - val_loss: 0.1320 - val_MAE: 0.2727\n",
      "Epoch 168/500\n",
      "2/2 [==============================] - 0s 7ms/step - loss: 0.0260 - MAE: 0.1177 - val_loss: 0.1318 - val_MAE: 0.2725\n",
      "Epoch 169/500\n",
      "2/2 [==============================] - 0s 8ms/step - loss: 0.0259 - MAE: 0.1176 - val_loss: 0.1316 - val_MAE: 0.2722\n",
      "Epoch 170/500\n",
      "2/2 [==============================] - 0s 7ms/step - loss: 0.0258 - MAE: 0.1172 - val_loss: 0.1313 - val_MAE: 0.2717\n",
      "Epoch 171/500\n",
      "2/2 [==============================] - 0s 7ms/step - loss: 0.0257 - MAE: 0.1171 - val_loss: 0.1312 - val_MAE: 0.2718\n",
      "Epoch 172/500\n",
      "2/2 [==============================] - 0s 7ms/step - loss: 0.0257 - MAE: 0.1169 - val_loss: 0.1310 - val_MAE: 0.2719\n",
      "Epoch 173/500\n",
      "2/2 [==============================] - 0s 7ms/step - loss: 0.0256 - MAE: 0.1167 - val_loss: 0.1305 - val_MAE: 0.2710\n",
      "Epoch 174/500\n",
      "2/2 [==============================] - 0s 7ms/step - loss: 0.0255 - MAE: 0.1164 - val_loss: 0.1303 - val_MAE: 0.2710\n",
      "Epoch 175/500\n",
      "2/2 [==============================] - 0s 7ms/step - loss: 0.0254 - MAE: 0.1162 - val_loss: 0.1302 - val_MAE: 0.2710\n",
      "Epoch 176/500\n",
      "2/2 [==============================] - 0s 7ms/step - loss: 0.0253 - MAE: 0.1157 - val_loss: 0.1299 - val_MAE: 0.2706\n",
      "Epoch 177/500\n",
      "2/2 [==============================] - 0s 6ms/step - loss: 0.0252 - MAE: 0.1156 - val_loss: 0.1297 - val_MAE: 0.2702\n",
      "Epoch 178/500\n",
      "2/2 [==============================] - 0s 7ms/step - loss: 0.0251 - MAE: 0.1153 - val_loss: 0.1294 - val_MAE: 0.2700\n",
      "Epoch 179/500\n",
      "2/2 [==============================] - 0s 7ms/step - loss: 0.0251 - MAE: 0.1153 - val_loss: 0.1293 - val_MAE: 0.2701\n",
      "Epoch 180/500\n",
      "2/2 [==============================] - 0s 7ms/step - loss: 0.0250 - MAE: 0.1147 - val_loss: 0.1290 - val_MAE: 0.2697\n",
      "Epoch 181/500\n",
      "2/2 [==============================] - 0s 7ms/step - loss: 0.0249 - MAE: 0.1145 - val_loss: 0.1285 - val_MAE: 0.2689\n",
      "Epoch 182/500\n",
      "2/2 [==============================] - 0s 7ms/step - loss: 0.0248 - MAE: 0.1144 - val_loss: 0.1283 - val_MAE: 0.2685\n",
      "Epoch 183/500\n",
      "2/2 [==============================] - 0s 7ms/step - loss: 0.0247 - MAE: 0.1142 - val_loss: 0.1280 - val_MAE: 0.2683\n",
      "Epoch 184/500\n",
      "2/2 [==============================] - 0s 6ms/step - loss: 0.0248 - MAE: 0.1141 - val_loss: 0.1276 - val_MAE: 0.2677\n",
      "Epoch 185/500\n",
      "2/2 [==============================] - 0s 7ms/step - loss: 0.0246 - MAE: 0.1139 - val_loss: 0.1273 - val_MAE: 0.2673\n",
      "Epoch 186/500\n",
      "2/2 [==============================] - 0s 7ms/step - loss: 0.0245 - MAE: 0.1136 - val_loss: 0.1271 - val_MAE: 0.2670\n",
      "Epoch 187/500\n",
      "2/2 [==============================] - 0s 7ms/step - loss: 0.0245 - MAE: 0.1135 - val_loss: 0.1270 - val_MAE: 0.2669\n",
      "Epoch 188/500\n",
      "2/2 [==============================] - 0s 7ms/step - loss: 0.0244 - MAE: 0.1134 - val_loss: 0.1266 - val_MAE: 0.2663\n",
      "Epoch 189/500\n",
      "2/2 [==============================] - 0s 7ms/step - loss: 0.0243 - MAE: 0.1130 - val_loss: 0.1264 - val_MAE: 0.2659\n",
      "Epoch 190/500\n",
      "2/2 [==============================] - 0s 7ms/step - loss: 0.0242 - MAE: 0.1128 - val_loss: 0.1262 - val_MAE: 0.2658\n",
      "Epoch 191/500\n",
      "2/2 [==============================] - 0s 7ms/step - loss: 0.0242 - MAE: 0.1127 - val_loss: 0.1260 - val_MAE: 0.2656\n",
      "Epoch 192/500\n",
      "2/2 [==============================] - 0s 7ms/step - loss: 0.0241 - MAE: 0.1125 - val_loss: 0.1259 - val_MAE: 0.2655\n",
      "Epoch 193/500\n",
      "2/2 [==============================] - 0s 7ms/step - loss: 0.0241 - MAE: 0.1122 - val_loss: 0.1255 - val_MAE: 0.2649\n",
      "Epoch 194/500\n",
      "2/2 [==============================] - 0s 7ms/step - loss: 0.0240 - MAE: 0.1120 - val_loss: 0.1252 - val_MAE: 0.2642\n",
      "Epoch 195/500\n",
      "2/2 [==============================] - 0s 7ms/step - loss: 0.0239 - MAE: 0.1120 - val_loss: 0.1249 - val_MAE: 0.2640\n",
      "Epoch 196/500\n",
      "2/2 [==============================] - 0s 7ms/step - loss: 0.0238 - MAE: 0.1117 - val_loss: 0.1246 - val_MAE: 0.2636\n",
      "Epoch 197/500\n",
      "2/2 [==============================] - 0s 7ms/step - loss: 0.0238 - MAE: 0.1117 - val_loss: 0.1245 - val_MAE: 0.2636\n",
      "Epoch 198/500\n",
      "2/2 [==============================] - 0s 7ms/step - loss: 0.0237 - MAE: 0.1115 - val_loss: 0.1244 - val_MAE: 0.2637\n",
      "Epoch 199/500\n",
      "2/2 [==============================] - 0s 7ms/step - loss: 0.0237 - MAE: 0.1114 - val_loss: 0.1243 - val_MAE: 0.2638\n",
      "Epoch 200/500\n",
      "2/2 [==============================] - 0s 7ms/step - loss: 0.0236 - MAE: 0.1109 - val_loss: 0.1241 - val_MAE: 0.2636\n",
      "Epoch 201/500\n",
      "2/2 [==============================] - 0s 6ms/step - loss: 0.0235 - MAE: 0.1108 - val_loss: 0.1238 - val_MAE: 0.2632\n",
      "Epoch 202/500\n",
      "2/2 [==============================] - 0s 6ms/step - loss: 0.0235 - MAE: 0.1107 - val_loss: 0.1235 - val_MAE: 0.2629\n",
      "Epoch 203/500\n",
      "2/2 [==============================] - 0s 7ms/step - loss: 0.0234 - MAE: 0.1104 - val_loss: 0.1234 - val_MAE: 0.2627\n",
      "Epoch 204/500\n",
      "2/2 [==============================] - 0s 7ms/step - loss: 0.0233 - MAE: 0.1101 - val_loss: 0.1232 - val_MAE: 0.2624\n",
      "Epoch 205/500\n",
      "2/2 [==============================] - 0s 7ms/step - loss: 0.0233 - MAE: 0.1100 - val_loss: 0.1228 - val_MAE: 0.2618\n",
      "Epoch 206/500\n",
      "2/2 [==============================] - 0s 7ms/step - loss: 0.0233 - MAE: 0.1104 - val_loss: 0.1227 - val_MAE: 0.2619\n",
      "Epoch 207/500\n",
      "2/2 [==============================] - 0s 7ms/step - loss: 0.0231 - MAE: 0.1096 - val_loss: 0.1225 - val_MAE: 0.2616\n",
      "Epoch 208/500\n",
      "2/2 [==============================] - 0s 7ms/step - loss: 0.0231 - MAE: 0.1094 - val_loss: 0.1222 - val_MAE: 0.2612\n",
      "Epoch 209/500\n",
      "2/2 [==============================] - 0s 7ms/step - loss: 0.0230 - MAE: 0.1094 - val_loss: 0.1221 - val_MAE: 0.2610\n",
      "Epoch 210/500\n",
      "2/2 [==============================] - 0s 7ms/step - loss: 0.0230 - MAE: 0.1093 - val_loss: 0.1217 - val_MAE: 0.2603\n",
      "Epoch 211/500\n",
      "2/2 [==============================] - 0s 6ms/step - loss: 0.0229 - MAE: 0.1092 - val_loss: 0.1216 - val_MAE: 0.2603\n",
      "Epoch 212/500\n",
      "2/2 [==============================] - 0s 7ms/step - loss: 0.0229 - MAE: 0.1089 - val_loss: 0.1214 - val_MAE: 0.2600\n",
      "Epoch 213/500\n",
      "2/2 [==============================] - 0s 7ms/step - loss: 0.0229 - MAE: 0.1093 - val_loss: 0.1215 - val_MAE: 0.2603\n",
      "Epoch 214/500\n",
      "2/2 [==============================] - 0s 7ms/step - loss: 0.0228 - MAE: 0.1085 - val_loss: 0.1213 - val_MAE: 0.2599\n",
      "Epoch 215/500\n",
      "2/2 [==============================] - 0s 7ms/step - loss: 0.0227 - MAE: 0.1083 - val_loss: 0.1210 - val_MAE: 0.2595\n",
      "Epoch 216/500\n",
      "2/2 [==============================] - 0s 7ms/step - loss: 0.0227 - MAE: 0.1082 - val_loss: 0.1208 - val_MAE: 0.2590\n",
      "Epoch 217/500\n",
      "2/2 [==============================] - 0s 6ms/step - loss: 0.0226 - MAE: 0.1082 - val_loss: 0.1206 - val_MAE: 0.2588\n",
      "Epoch 218/500\n",
      "2/2 [==============================] - 0s 7ms/step - loss: 0.0226 - MAE: 0.1085 - val_loss: 0.1206 - val_MAE: 0.2589\n",
      "Epoch 219/500\n",
      "2/2 [==============================] - 0s 7ms/step - loss: 0.0225 - MAE: 0.1077 - val_loss: 0.1203 - val_MAE: 0.2584\n",
      "Epoch 220/500\n",
      "2/2 [==============================] - 0s 7ms/step - loss: 0.0224 - MAE: 0.1078 - val_loss: 0.1202 - val_MAE: 0.2584\n",
      "Epoch 221/500\n",
      "2/2 [==============================] - 0s 7ms/step - loss: 0.0224 - MAE: 0.1079 - val_loss: 0.1202 - val_MAE: 0.2586\n",
      "Epoch 222/500\n",
      "2/2 [==============================] - 0s 7ms/step - loss: 0.0223 - MAE: 0.1073 - val_loss: 0.1200 - val_MAE: 0.2584\n",
      "Epoch 223/500\n",
      "2/2 [==============================] - 0s 7ms/step - loss: 0.0223 - MAE: 0.1074 - val_loss: 0.1200 - val_MAE: 0.2584\n",
      "Epoch 224/500\n",
      "2/2 [==============================] - 0s 7ms/step - loss: 0.0222 - MAE: 0.1068 - val_loss: 0.1198 - val_MAE: 0.2580\n",
      "Epoch 225/500\n",
      "2/2 [==============================] - 0s 7ms/step - loss: 0.0221 - MAE: 0.1067 - val_loss: 0.1195 - val_MAE: 0.2576\n",
      "Epoch 226/500\n",
      "2/2 [==============================] - 0s 7ms/step - loss: 0.0221 - MAE: 0.1066 - val_loss: 0.1194 - val_MAE: 0.2574\n",
      "Epoch 227/500\n",
      "2/2 [==============================] - 0s 7ms/step - loss: 0.0221 - MAE: 0.1065 - val_loss: 0.1190 - val_MAE: 0.2567\n",
      "Epoch 228/500\n",
      "2/2 [==============================] - 0s 8ms/step - loss: 0.0220 - MAE: 0.1064 - val_loss: 0.1188 - val_MAE: 0.2564\n",
      "Epoch 229/500\n",
      "2/2 [==============================] - 0s 7ms/step - loss: 0.0220 - MAE: 0.1062 - val_loss: 0.1186 - val_MAE: 0.2560\n",
      "Epoch 230/500\n",
      "2/2 [==============================] - 0s 7ms/step - loss: 0.0219 - MAE: 0.1063 - val_loss: 0.1184 - val_MAE: 0.2557\n",
      "Epoch 231/500\n",
      "2/2 [==============================] - 0s 7ms/step - loss: 0.0219 - MAE: 0.1062 - val_loss: 0.1181 - val_MAE: 0.2551\n",
      "Epoch 232/500\n",
      "2/2 [==============================] - 0s 7ms/step - loss: 0.0219 - MAE: 0.1065 - val_loss: 0.1182 - val_MAE: 0.2555\n",
      "Epoch 233/500\n",
      "2/2 [==============================] - 0s 7ms/step - loss: 0.0218 - MAE: 0.1060 - val_loss: 0.1182 - val_MAE: 0.2556\n",
      "Epoch 234/500\n",
      "2/2 [==============================] - 0s 8ms/step - loss: 0.0217 - MAE: 0.1058 - val_loss: 0.1181 - val_MAE: 0.2557\n",
      "Epoch 235/500\n",
      "2/2 [==============================] - 0s 7ms/step - loss: 0.0217 - MAE: 0.1054 - val_loss: 0.1180 - val_MAE: 0.2555\n",
      "Epoch 236/500\n",
      "2/2 [==============================] - 0s 12ms/step - loss: 0.0216 - MAE: 0.1052 - val_loss: 0.1178 - val_MAE: 0.2553\n",
      "Epoch 237/500\n",
      "2/2 [==============================] - 0s 8ms/step - loss: 0.0216 - MAE: 0.1051 - val_loss: 0.1176 - val_MAE: 0.2548\n",
      "Epoch 238/500\n",
      "2/2 [==============================] - 0s 7ms/step - loss: 0.0215 - MAE: 0.1050 - val_loss: 0.1174 - val_MAE: 0.2545\n",
      "Epoch 239/500\n",
      "2/2 [==============================] - 0s 8ms/step - loss: 0.0215 - MAE: 0.1049 - val_loss: 0.1171 - val_MAE: 0.2540\n",
      "Epoch 240/500\n",
      "2/2 [==============================] - 0s 7ms/step - loss: 0.0215 - MAE: 0.1049 - val_loss: 0.1168 - val_MAE: 0.2535\n",
      "Epoch 241/500\n",
      "2/2 [==============================] - 0s 7ms/step - loss: 0.0214 - MAE: 0.1048 - val_loss: 0.1167 - val_MAE: 0.2533\n",
      "Epoch 242/500\n",
      "2/2 [==============================] - 0s 7ms/step - loss: 0.0214 - MAE: 0.1051 - val_loss: 0.1167 - val_MAE: 0.2537\n",
      "Epoch 243/500\n",
      "2/2 [==============================] - 0s 7ms/step - loss: 0.0213 - MAE: 0.1044 - val_loss: 0.1165 - val_MAE: 0.2532\n",
      "Epoch 244/500\n",
      "2/2 [==============================] - 0s 7ms/step - loss: 0.0212 - MAE: 0.1043 - val_loss: 0.1164 - val_MAE: 0.2531\n",
      "Epoch 245/500\n",
      "2/2 [==============================] - 0s 7ms/step - loss: 0.0213 - MAE: 0.1045 - val_loss: 0.1163 - val_MAE: 0.2531\n",
      "Epoch 246/500\n",
      "2/2 [==============================] - 0s 7ms/step - loss: 0.0212 - MAE: 0.1041 - val_loss: 0.1163 - val_MAE: 0.2531\n",
      "Epoch 247/500\n",
      "2/2 [==============================] - 0s 7ms/step - loss: 0.0211 - MAE: 0.1040 - val_loss: 0.1162 - val_MAE: 0.2531\n",
      "Epoch 248/500\n",
      "2/2 [==============================] - 0s 6ms/step - loss: 0.0211 - MAE: 0.1037 - val_loss: 0.1160 - val_MAE: 0.2529\n",
      "Epoch 249/500\n",
      "2/2 [==============================] - 0s 7ms/step - loss: 0.0210 - MAE: 0.1036 - val_loss: 0.1158 - val_MAE: 0.2524\n",
      "Epoch 250/500\n",
      "2/2 [==============================] - 0s 7ms/step - loss: 0.0210 - MAE: 0.1035 - val_loss: 0.1157 - val_MAE: 0.2523\n",
      "Epoch 251/500\n"
     ]
    },
    {
     "name": "stdout",
     "output_type": "stream",
     "text": [
      "2/2 [==============================] - 0s 7ms/step - loss: 0.0209 - MAE: 0.1034 - val_loss: 0.1155 - val_MAE: 0.2520\n",
      "Epoch 252/500\n",
      "2/2 [==============================] - 0s 7ms/step - loss: 0.0209 - MAE: 0.1033 - val_loss: 0.1153 - val_MAE: 0.2517\n",
      "Epoch 253/500\n",
      "2/2 [==============================] - 0s 7ms/step - loss: 0.0210 - MAE: 0.1035 - val_loss: 0.1149 - val_MAE: 0.2509\n",
      "Epoch 254/500\n",
      "2/2 [==============================] - 0s 7ms/step - loss: 0.0208 - MAE: 0.1033 - val_loss: 0.1149 - val_MAE: 0.2510\n",
      "Epoch 255/500\n",
      "2/2 [==============================] - 0s 7ms/step - loss: 0.0208 - MAE: 0.1030 - val_loss: 0.1148 - val_MAE: 0.2508\n",
      "Epoch 256/500\n",
      "2/2 [==============================] - 0s 7ms/step - loss: 0.0207 - MAE: 0.1029 - val_loss: 0.1146 - val_MAE: 0.2504\n",
      "Epoch 257/500\n",
      "2/2 [==============================] - 0s 7ms/step - loss: 0.0207 - MAE: 0.1029 - val_loss: 0.1144 - val_MAE: 0.2503\n",
      "Epoch 258/500\n",
      "2/2 [==============================] - 0s 7ms/step - loss: 0.0207 - MAE: 0.1028 - val_loss: 0.1143 - val_MAE: 0.2502\n",
      "Epoch 259/500\n",
      "2/2 [==============================] - 0s 7ms/step - loss: 0.0206 - MAE: 0.1027 - val_loss: 0.1141 - val_MAE: 0.2498\n",
      "Epoch 260/500\n",
      "2/2 [==============================] - 0s 7ms/step - loss: 0.0206 - MAE: 0.1026 - val_loss: 0.1141 - val_MAE: 0.2500\n",
      "Epoch 261/500\n",
      "2/2 [==============================] - 0s 7ms/step - loss: 0.0205 - MAE: 0.1024 - val_loss: 0.1140 - val_MAE: 0.2500\n",
      "Epoch 262/500\n",
      "2/2 [==============================] - 0s 7ms/step - loss: 0.0205 - MAE: 0.1024 - val_loss: 0.1140 - val_MAE: 0.2501\n",
      "Epoch 263/500\n",
      "2/2 [==============================] - 0s 7ms/step - loss: 0.0205 - MAE: 0.1021 - val_loss: 0.1139 - val_MAE: 0.2499\n",
      "Epoch 264/500\n",
      "2/2 [==============================] - 0s 7ms/step - loss: 0.0205 - MAE: 0.1020 - val_loss: 0.1136 - val_MAE: 0.2494\n",
      "Epoch 265/500\n",
      "2/2 [==============================] - 0s 7ms/step - loss: 0.0205 - MAE: 0.1021 - val_loss: 0.1133 - val_MAE: 0.2487\n",
      "Epoch 266/500\n",
      "2/2 [==============================] - 0s 7ms/step - loss: 0.0204 - MAE: 0.1020 - val_loss: 0.1133 - val_MAE: 0.2489\n",
      "Epoch 267/500\n",
      "2/2 [==============================] - 0s 6ms/step - loss: 0.0203 - MAE: 0.1017 - val_loss: 0.1133 - val_MAE: 0.2488\n",
      "Epoch 268/500\n",
      "2/2 [==============================] - 0s 7ms/step - loss: 0.0203 - MAE: 0.1017 - val_loss: 0.1130 - val_MAE: 0.2482\n",
      "Epoch 269/500\n",
      "2/2 [==============================] - 0s 6ms/step - loss: 0.0203 - MAE: 0.1017 - val_loss: 0.1130 - val_MAE: 0.2483\n",
      "Epoch 270/500\n",
      "2/2 [==============================] - 0s 7ms/step - loss: 0.0202 - MAE: 0.1015 - val_loss: 0.1130 - val_MAE: 0.2485\n",
      "Epoch 271/500\n",
      "2/2 [==============================] - 0s 7ms/step - loss: 0.0202 - MAE: 0.1013 - val_loss: 0.1129 - val_MAE: 0.2485\n",
      "Epoch 272/500\n",
      "2/2 [==============================] - 0s 7ms/step - loss: 0.0201 - MAE: 0.1011 - val_loss: 0.1128 - val_MAE: 0.2483\n",
      "Epoch 273/500\n",
      "2/2 [==============================] - 0s 6ms/step - loss: 0.0201 - MAE: 0.1011 - val_loss: 0.1125 - val_MAE: 0.2478\n",
      "Epoch 274/500\n",
      "2/2 [==============================] - 0s 7ms/step - loss: 0.0201 - MAE: 0.1010 - val_loss: 0.1124 - val_MAE: 0.2475\n",
      "Epoch 275/500\n",
      "2/2 [==============================] - 0s 7ms/step - loss: 0.0200 - MAE: 0.1010 - val_loss: 0.1123 - val_MAE: 0.2476\n",
      "Epoch 276/500\n",
      "2/2 [==============================] - 0s 7ms/step - loss: 0.0200 - MAE: 0.1009 - val_loss: 0.1123 - val_MAE: 0.2477\n",
      "Epoch 277/500\n",
      "2/2 [==============================] - 0s 7ms/step - loss: 0.0200 - MAE: 0.1010 - val_loss: 0.1124 - val_MAE: 0.2480\n",
      "Epoch 278/500\n",
      "2/2 [==============================] - 0s 7ms/step - loss: 0.0199 - MAE: 0.1005 - val_loss: 0.1122 - val_MAE: 0.2476\n",
      "Epoch 279/500\n",
      "2/2 [==============================] - 0s 6ms/step - loss: 0.0199 - MAE: 0.1005 - val_loss: 0.1121 - val_MAE: 0.2476\n",
      "Epoch 280/500\n",
      "2/2 [==============================] - 0s 6ms/step - loss: 0.0199 - MAE: 0.1004 - val_loss: 0.1119 - val_MAE: 0.2472\n",
      "Epoch 281/500\n",
      "2/2 [==============================] - 0s 7ms/step - loss: 0.0198 - MAE: 0.1002 - val_loss: 0.1118 - val_MAE: 0.2470\n",
      "Epoch 282/500\n",
      "2/2 [==============================] - 0s 7ms/step - loss: 0.0198 - MAE: 0.1002 - val_loss: 0.1117 - val_MAE: 0.2470\n",
      "Epoch 283/500\n",
      "2/2 [==============================] - 0s 6ms/step - loss: 0.0198 - MAE: 0.1001 - val_loss: 0.1116 - val_MAE: 0.2469\n",
      "Epoch 284/500\n",
      "2/2 [==============================] - 0s 6ms/step - loss: 0.0197 - MAE: 0.1001 - val_loss: 0.1113 - val_MAE: 0.2462\n",
      "Epoch 285/500\n",
      "2/2 [==============================] - 0s 7ms/step - loss: 0.0197 - MAE: 0.1000 - val_loss: 0.1112 - val_MAE: 0.2460\n",
      "Epoch 286/500\n",
      "2/2 [==============================] - 0s 6ms/step - loss: 0.0196 - MAE: 0.0999 - val_loss: 0.1111 - val_MAE: 0.2460\n",
      "Epoch 287/500\n",
      "2/2 [==============================] - 0s 7ms/step - loss: 0.0196 - MAE: 0.0999 - val_loss: 0.1111 - val_MAE: 0.2460\n",
      "Epoch 288/500\n",
      "2/2 [==============================] - 0s 6ms/step - loss: 0.0196 - MAE: 0.0998 - val_loss: 0.1110 - val_MAE: 0.2459\n",
      "Epoch 289/500\n",
      "2/2 [==============================] - 0s 6ms/step - loss: 0.0195 - MAE: 0.0996 - val_loss: 0.1108 - val_MAE: 0.2454\n",
      "Epoch 290/500\n",
      "2/2 [==============================] - 0s 6ms/step - loss: 0.0196 - MAE: 0.0996 - val_loss: 0.1105 - val_MAE: 0.2449\n",
      "Epoch 291/500\n",
      "2/2 [==============================] - 0s 7ms/step - loss: 0.0194 - MAE: 0.0994 - val_loss: 0.1104 - val_MAE: 0.2447\n",
      "Epoch 292/500\n",
      "2/2 [==============================] - 0s 7ms/step - loss: 0.0195 - MAE: 0.0999 - val_loss: 0.1105 - val_MAE: 0.2452\n",
      "Epoch 293/500\n",
      "2/2 [==============================] - 0s 7ms/step - loss: 0.0194 - MAE: 0.0992 - val_loss: 0.1103 - val_MAE: 0.2448\n",
      "Epoch 294/500\n",
      "2/2 [==============================] - 0s 7ms/step - loss: 0.0194 - MAE: 0.0992 - val_loss: 0.1101 - val_MAE: 0.2445\n",
      "Epoch 295/500\n",
      "2/2 [==============================] - 0s 6ms/step - loss: 0.0193 - MAE: 0.0992 - val_loss: 0.1101 - val_MAE: 0.2446\n",
      "Epoch 296/500\n",
      "2/2 [==============================] - 0s 7ms/step - loss: 0.0193 - MAE: 0.0990 - val_loss: 0.1100 - val_MAE: 0.2445\n",
      "Epoch 297/500\n",
      "2/2 [==============================] - 0s 7ms/step - loss: 0.0192 - MAE: 0.0988 - val_loss: 0.1098 - val_MAE: 0.2442\n",
      "Epoch 298/500\n",
      "2/2 [==============================] - 0s 7ms/step - loss: 0.0192 - MAE: 0.0988 - val_loss: 0.1098 - val_MAE: 0.2442\n",
      "Epoch 299/500\n",
      "2/2 [==============================] - 0s 7ms/step - loss: 0.0192 - MAE: 0.0988 - val_loss: 0.1098 - val_MAE: 0.2443\n",
      "Epoch 300/500\n",
      "2/2 [==============================] - 0s 7ms/step - loss: 0.0191 - MAE: 0.0986 - val_loss: 0.1097 - val_MAE: 0.2441\n",
      "Epoch 301/500\n",
      "2/2 [==============================] - 0s 6ms/step - loss: 0.0192 - MAE: 0.0989 - val_loss: 0.1097 - val_MAE: 0.2442\n",
      "Epoch 302/500\n",
      "2/2 [==============================] - 0s 7ms/step - loss: 0.0191 - MAE: 0.0986 - val_loss: 0.1096 - val_MAE: 0.2442\n",
      "Epoch 303/500\n",
      "2/2 [==============================] - 0s 6ms/step - loss: 0.0191 - MAE: 0.0983 - val_loss: 0.1094 - val_MAE: 0.2438\n",
      "Epoch 304/500\n",
      "2/2 [==============================] - 0s 6ms/step - loss: 0.0191 - MAE: 0.0983 - val_loss: 0.1091 - val_MAE: 0.2432\n",
      "Epoch 305/500\n",
      "2/2 [==============================] - 0s 7ms/step - loss: 0.0190 - MAE: 0.0982 - val_loss: 0.1091 - val_MAE: 0.2431\n",
      "Epoch 306/500\n",
      "2/2 [==============================] - 0s 7ms/step - loss: 0.0190 - MAE: 0.0982 - val_loss: 0.1090 - val_MAE: 0.2432\n",
      "Epoch 307/500\n",
      "2/2 [==============================] - 0s 7ms/step - loss: 0.0189 - MAE: 0.0980 - val_loss: 0.1089 - val_MAE: 0.2430\n",
      "Epoch 308/500\n",
      "2/2 [==============================] - 0s 7ms/step - loss: 0.0190 - MAE: 0.0982 - val_loss: 0.1090 - val_MAE: 0.2431\n",
      "Epoch 309/500\n",
      "2/2 [==============================] - 0s 7ms/step - loss: 0.0190 - MAE: 0.0983 - val_loss: 0.1090 - val_MAE: 0.2434\n",
      "Epoch 310/500\n",
      "2/2 [==============================] - 0s 6ms/step - loss: 0.0189 - MAE: 0.0978 - val_loss: 0.1087 - val_MAE: 0.2427\n",
      "Epoch 311/500\n",
      "2/2 [==============================] - 0s 7ms/step - loss: 0.0188 - MAE: 0.0977 - val_loss: 0.1085 - val_MAE: 0.2423\n",
      "Epoch 312/500\n",
      "2/2 [==============================] - 0s 7ms/step - loss: 0.0188 - MAE: 0.0976 - val_loss: 0.1085 - val_MAE: 0.2421\n",
      "Epoch 313/500\n",
      "2/2 [==============================] - 0s 7ms/step - loss: 0.0188 - MAE: 0.0975 - val_loss: 0.1084 - val_MAE: 0.2420\n",
      "Epoch 314/500\n",
      "2/2 [==============================] - 0s 7ms/step - loss: 0.0188 - MAE: 0.0974 - val_loss: 0.1081 - val_MAE: 0.2415\n",
      "Epoch 315/500\n",
      "2/2 [==============================] - 0s 7ms/step - loss: 0.0187 - MAE: 0.0975 - val_loss: 0.1081 - val_MAE: 0.2414\n",
      "Epoch 316/500\n",
      "2/2 [==============================] - 0s 6ms/step - loss: 0.0187 - MAE: 0.0975 - val_loss: 0.1079 - val_MAE: 0.2408\n",
      "Epoch 317/500\n",
      "2/2 [==============================] - 0s 7ms/step - loss: 0.0186 - MAE: 0.0974 - val_loss: 0.1078 - val_MAE: 0.2408\n",
      "Epoch 318/500\n",
      "2/2 [==============================] - 0s 7ms/step - loss: 0.0186 - MAE: 0.0972 - val_loss: 0.1077 - val_MAE: 0.2406\n",
      "Epoch 319/500\n",
      "2/2 [==============================] - 0s 7ms/step - loss: 0.0186 - MAE: 0.0971 - val_loss: 0.1076 - val_MAE: 0.2404\n",
      "Epoch 320/500\n",
      "2/2 [==============================] - 0s 7ms/step - loss: 0.0186 - MAE: 0.0974 - val_loss: 0.1073 - val_MAE: 0.2397\n",
      "Epoch 321/500\n",
      "2/2 [==============================] - 0s 7ms/step - loss: 0.0185 - MAE: 0.0971 - val_loss: 0.1071 - val_MAE: 0.2394\n",
      "Epoch 322/500\n",
      "2/2 [==============================] - 0s 7ms/step - loss: 0.0185 - MAE: 0.0973 - val_loss: 0.1072 - val_MAE: 0.2396\n",
      "Epoch 323/500\n",
      "2/2 [==============================] - 0s 7ms/step - loss: 0.0185 - MAE: 0.0970 - val_loss: 0.1072 - val_MAE: 0.2396\n",
      "Epoch 324/500\n",
      "2/2 [==============================] - 0s 6ms/step - loss: 0.0184 - MAE: 0.0968 - val_loss: 0.1071 - val_MAE: 0.2395\n",
      "Epoch 325/500\n",
      "2/2 [==============================] - 0s 7ms/step - loss: 0.0184 - MAE: 0.0967 - val_loss: 0.1071 - val_MAE: 0.2396\n",
      "Epoch 326/500\n",
      "2/2 [==============================] - 0s 7ms/step - loss: 0.0184 - MAE: 0.0967 - val_loss: 0.1071 - val_MAE: 0.2397\n",
      "Epoch 327/500\n",
      "2/2 [==============================] - 0s 6ms/step - loss: 0.0183 - MAE: 0.0965 - val_loss: 0.1069 - val_MAE: 0.2394\n",
      "Epoch 328/500\n",
      "2/2 [==============================] - 0s 7ms/step - loss: 0.0183 - MAE: 0.0964 - val_loss: 0.1068 - val_MAE: 0.2392\n",
      "Epoch 329/500\n",
      "2/2 [==============================] - 0s 6ms/step - loss: 0.0183 - MAE: 0.0963 - val_loss: 0.1067 - val_MAE: 0.2390\n",
      "Epoch 330/500\n",
      "2/2 [==============================] - 0s 7ms/step - loss: 0.0182 - MAE: 0.0963 - val_loss: 0.1066 - val_MAE: 0.2388\n",
      "Epoch 331/500\n",
      "2/2 [==============================] - 0s 7ms/step - loss: 0.0182 - MAE: 0.0962 - val_loss: 0.1064 - val_MAE: 0.2384\n",
      "Epoch 332/500\n",
      "2/2 [==============================] - 0s 7ms/step - loss: 0.0183 - MAE: 0.0965 - val_loss: 0.1065 - val_MAE: 0.2387\n",
      "Epoch 333/500\n",
      "2/2 [==============================] - 0s 7ms/step - loss: 0.0182 - MAE: 0.0960 - val_loss: 0.1063 - val_MAE: 0.2385\n",
      "Epoch 334/500\n",
      "2/2 [==============================] - 0s 7ms/step - loss: 0.0182 - MAE: 0.0960 - val_loss: 0.1061 - val_MAE: 0.2381\n",
      "Epoch 335/500\n",
      "2/2 [==============================] - 0s 6ms/step - loss: 0.0181 - MAE: 0.0961 - val_loss: 0.1061 - val_MAE: 0.2382\n",
      "Epoch 336/500\n",
      "2/2 [==============================] - 0s 7ms/step - loss: 0.0181 - MAE: 0.0958 - val_loss: 0.1060 - val_MAE: 0.2378\n",
      "Epoch 337/500\n",
      "2/2 [==============================] - 0s 7ms/step - loss: 0.0180 - MAE: 0.0958 - val_loss: 0.1059 - val_MAE: 0.2378\n",
      "Epoch 338/500\n",
      "2/2 [==============================] - 0s 7ms/step - loss: 0.0181 - MAE: 0.0963 - val_loss: 0.1060 - val_MAE: 0.2382\n",
      "Epoch 339/500\n",
      "2/2 [==============================] - 0s 7ms/step - loss: 0.0180 - MAE: 0.0956 - val_loss: 0.1059 - val_MAE: 0.2381\n",
      "Epoch 340/500\n",
      "2/2 [==============================] - 0s 7ms/step - loss: 0.0180 - MAE: 0.0954 - val_loss: 0.1057 - val_MAE: 0.2375\n",
      "Epoch 341/500\n",
      "2/2 [==============================] - 0s 7ms/step - loss: 0.0179 - MAE: 0.0954 - val_loss: 0.1056 - val_MAE: 0.2374\n",
      "Epoch 342/500\n",
      "2/2 [==============================] - 0s 7ms/step - loss: 0.0179 - MAE: 0.0954 - val_loss: 0.1055 - val_MAE: 0.2372\n",
      "Epoch 343/500\n",
      "2/2 [==============================] - 0s 7ms/step - loss: 0.0179 - MAE: 0.0953 - val_loss: 0.1054 - val_MAE: 0.2369\n",
      "Epoch 344/500\n",
      "2/2 [==============================] - 0s 7ms/step - loss: 0.0178 - MAE: 0.0952 - val_loss: 0.1054 - val_MAE: 0.2368\n",
      "Epoch 345/500\n",
      "2/2 [==============================] - 0s 7ms/step - loss: 0.0178 - MAE: 0.0952 - val_loss: 0.1052 - val_MAE: 0.2365\n",
      "Epoch 346/500\n",
      "2/2 [==============================] - 0s 7ms/step - loss: 0.0178 - MAE: 0.0952 - val_loss: 0.1052 - val_MAE: 0.2365\n",
      "Epoch 347/500\n",
      "2/2 [==============================] - 0s 7ms/step - loss: 0.0178 - MAE: 0.0951 - val_loss: 0.1050 - val_MAE: 0.2359\n",
      "Epoch 348/500\n",
      "2/2 [==============================] - 0s 7ms/step - loss: 0.0178 - MAE: 0.0952 - val_loss: 0.1048 - val_MAE: 0.2355\n",
      "Epoch 349/500\n",
      "2/2 [==============================] - 0s 7ms/step - loss: 0.0177 - MAE: 0.0951 - val_loss: 0.1047 - val_MAE: 0.2351\n",
      "Epoch 350/500\n",
      "2/2 [==============================] - 0s 7ms/step - loss: 0.0178 - MAE: 0.0954 - val_loss: 0.1048 - val_MAE: 0.2355\n",
      "Epoch 351/500\n",
      "2/2 [==============================] - 0s 6ms/step - loss: 0.0177 - MAE: 0.0948 - val_loss: 0.1047 - val_MAE: 0.2356\n",
      "Epoch 352/500\n",
      "2/2 [==============================] - 0s 7ms/step - loss: 0.0176 - MAE: 0.0947 - val_loss: 0.1046 - val_MAE: 0.2354\n",
      "Epoch 353/500\n",
      "2/2 [==============================] - 0s 7ms/step - loss: 0.0176 - MAE: 0.0947 - val_loss: 0.1045 - val_MAE: 0.2354\n",
      "Epoch 354/500\n",
      "2/2 [==============================] - 0s 7ms/step - loss: 0.0176 - MAE: 0.0946 - val_loss: 0.1043 - val_MAE: 0.2348\n",
      "Epoch 355/500\n",
      "2/2 [==============================] - 0s 7ms/step - loss: 0.0176 - MAE: 0.0945 - val_loss: 0.1042 - val_MAE: 0.2346\n",
      "Epoch 356/500\n",
      "2/2 [==============================] - 0s 7ms/step - loss: 0.0175 - MAE: 0.0944 - val_loss: 0.1042 - val_MAE: 0.2347\n",
      "Epoch 357/500\n",
      "2/2 [==============================] - 0s 7ms/step - loss: 0.0176 - MAE: 0.0946 - val_loss: 0.1043 - val_MAE: 0.2351\n",
      "Epoch 358/500\n",
      "2/2 [==============================] - 0s 7ms/step - loss: 0.0175 - MAE: 0.0943 - val_loss: 0.1042 - val_MAE: 0.2348\n",
      "Epoch 359/500\n",
      "2/2 [==============================] - 0s 7ms/step - loss: 0.0175 - MAE: 0.0944 - val_loss: 0.1042 - val_MAE: 0.2350\n",
      "Epoch 360/500\n",
      "2/2 [==============================] - 0s 7ms/step - loss: 0.0174 - MAE: 0.0941 - val_loss: 0.1040 - val_MAE: 0.2347\n",
      "Epoch 361/500\n",
      "2/2 [==============================] - 0s 6ms/step - loss: 0.0174 - MAE: 0.0941 - val_loss: 0.1041 - val_MAE: 0.2349\n",
      "Epoch 362/500\n",
      "2/2 [==============================] - 0s 7ms/step - loss: 0.0175 - MAE: 0.0944 - val_loss: 0.1042 - val_MAE: 0.2354\n",
      "Epoch 363/500\n",
      "2/2 [==============================] - 0s 7ms/step - loss: 0.0174 - MAE: 0.0938 - val_loss: 0.1041 - val_MAE: 0.2354\n",
      "Epoch 364/500\n",
      "2/2 [==============================] - 0s 7ms/step - loss: 0.0174 - MAE: 0.0938 - val_loss: 0.1039 - val_MAE: 0.2347\n",
      "Epoch 365/500\n",
      "2/2 [==============================] - 0s 7ms/step - loss: 0.0173 - MAE: 0.0937 - val_loss: 0.1038 - val_MAE: 0.2344\n",
      "Epoch 366/500\n",
      "2/2 [==============================] - 0s 7ms/step - loss: 0.0173 - MAE: 0.0936 - val_loss: 0.1037 - val_MAE: 0.2343\n",
      "Epoch 367/500\n",
      "2/2 [==============================] - 0s 7ms/step - loss: 0.0173 - MAE: 0.0935 - val_loss: 0.1035 - val_MAE: 0.2340\n",
      "Epoch 368/500\n",
      "2/2 [==============================] - 0s 6ms/step - loss: 0.0172 - MAE: 0.0936 - val_loss: 0.1034 - val_MAE: 0.2337\n",
      "Epoch 369/500\n",
      "2/2 [==============================] - 0s 7ms/step - loss: 0.0172 - MAE: 0.0935 - val_loss: 0.1033 - val_MAE: 0.2337\n",
      "Epoch 370/500\n",
      "2/2 [==============================] - 0s 7ms/step - loss: 0.0172 - MAE: 0.0935 - val_loss: 0.1033 - val_MAE: 0.2338\n",
      "Epoch 371/500\n",
      "2/2 [==============================] - 0s 6ms/step - loss: 0.0172 - MAE: 0.0933 - val_loss: 0.1032 - val_MAE: 0.2337\n",
      "Epoch 372/500\n",
      "2/2 [==============================] - 0s 6ms/step - loss: 0.0172 - MAE: 0.0933 - val_loss: 0.1031 - val_MAE: 0.2332\n",
      "Epoch 373/500\n",
      "2/2 [==============================] - 0s 7ms/step - loss: 0.0171 - MAE: 0.0933 - val_loss: 0.1030 - val_MAE: 0.2333\n",
      "Epoch 374/500\n",
      "2/2 [==============================] - 0s 6ms/step - loss: 0.0171 - MAE: 0.0931 - val_loss: 0.1030 - val_MAE: 0.2333\n",
      "Epoch 375/500\n"
     ]
    },
    {
     "name": "stdout",
     "output_type": "stream",
     "text": [
      "2/2 [==============================] - 0s 7ms/step - loss: 0.0171 - MAE: 0.0930 - val_loss: 0.1029 - val_MAE: 0.2333\n",
      "Epoch 376/500\n",
      "2/2 [==============================] - 0s 7ms/step - loss: 0.0171 - MAE: 0.0929 - val_loss: 0.1028 - val_MAE: 0.2329\n",
      "Epoch 377/500\n",
      "2/2 [==============================] - 0s 7ms/step - loss: 0.0170 - MAE: 0.0930 - val_loss: 0.1027 - val_MAE: 0.2327\n",
      "Epoch 378/500\n",
      "2/2 [==============================] - 0s 7ms/step - loss: 0.0170 - MAE: 0.0929 - val_loss: 0.1027 - val_MAE: 0.2329\n",
      "Epoch 379/500\n",
      "2/2 [==============================] - 0s 7ms/step - loss: 0.0170 - MAE: 0.0930 - val_loss: 0.1027 - val_MAE: 0.2330\n",
      "Epoch 380/500\n",
      "2/2 [==============================] - 0s 7ms/step - loss: 0.0170 - MAE: 0.0929 - val_loss: 0.1026 - val_MAE: 0.2329\n",
      "Epoch 381/500\n",
      "2/2 [==============================] - 0s 6ms/step - loss: 0.0169 - MAE: 0.0926 - val_loss: 0.1025 - val_MAE: 0.2328\n",
      "Epoch 382/500\n",
      "2/2 [==============================] - 0s 7ms/step - loss: 0.0169 - MAE: 0.0927 - val_loss: 0.1025 - val_MAE: 0.2328\n",
      "Epoch 383/500\n",
      "2/2 [==============================] - 0s 7ms/step - loss: 0.0169 - MAE: 0.0928 - val_loss: 0.1025 - val_MAE: 0.2330\n",
      "Epoch 384/500\n",
      "2/2 [==============================] - 0s 7ms/step - loss: 0.0169 - MAE: 0.0923 - val_loss: 0.1023 - val_MAE: 0.2324\n",
      "Epoch 385/500\n",
      "2/2 [==============================] - 0s 7ms/step - loss: 0.0168 - MAE: 0.0924 - val_loss: 0.1023 - val_MAE: 0.2323\n",
      "Epoch 386/500\n",
      "2/2 [==============================] - 0s 7ms/step - loss: 0.0168 - MAE: 0.0924 - val_loss: 0.1021 - val_MAE: 0.2320\n",
      "Epoch 387/500\n",
      "2/2 [==============================] - 0s 7ms/step - loss: 0.0168 - MAE: 0.0924 - val_loss: 0.1021 - val_MAE: 0.2319\n",
      "Epoch 388/500\n",
      "2/2 [==============================] - 0s 6ms/step - loss: 0.0168 - MAE: 0.0923 - val_loss: 0.1020 - val_MAE: 0.2317\n",
      "Epoch 389/500\n",
      "2/2 [==============================] - 0s 7ms/step - loss: 0.0168 - MAE: 0.0923 - val_loss: 0.1019 - val_MAE: 0.2315\n",
      "Epoch 390/500\n",
      "2/2 [==============================] - 0s 7ms/step - loss: 0.0167 - MAE: 0.0923 - val_loss: 0.1019 - val_MAE: 0.2317\n",
      "Epoch 391/500\n",
      "2/2 [==============================] - 0s 7ms/step - loss: 0.0167 - MAE: 0.0921 - val_loss: 0.1018 - val_MAE: 0.2315\n",
      "Epoch 392/500\n",
      "2/2 [==============================] - 0s 7ms/step - loss: 0.0167 - MAE: 0.0922 - val_loss: 0.1018 - val_MAE: 0.2315\n",
      "Epoch 393/500\n",
      "2/2 [==============================] - 0s 9ms/step - loss: 0.0167 - MAE: 0.0919 - val_loss: 0.1017 - val_MAE: 0.2313\n",
      "Epoch 394/500\n",
      "2/2 [==============================] - 0s 8ms/step - loss: 0.0167 - MAE: 0.0919 - val_loss: 0.1016 - val_MAE: 0.2309\n",
      "Epoch 395/500\n",
      "2/2 [==============================] - 0s 7ms/step - loss: 0.0166 - MAE: 0.0919 - val_loss: 0.1016 - val_MAE: 0.2311\n",
      "Epoch 396/500\n",
      "2/2 [==============================] - 0s 7ms/step - loss: 0.0166 - MAE: 0.0917 - val_loss: 0.1014 - val_MAE: 0.2305\n",
      "Epoch 397/500\n",
      "2/2 [==============================] - 0s 7ms/step - loss: 0.0166 - MAE: 0.0918 - val_loss: 0.1014 - val_MAE: 0.2303\n",
      "Epoch 398/500\n",
      "2/2 [==============================] - 0s 7ms/step - loss: 0.0166 - MAE: 0.0917 - val_loss: 0.1011 - val_MAE: 0.2296\n",
      "Epoch 399/500\n",
      "2/2 [==============================] - 0s 8ms/step - loss: 0.0165 - MAE: 0.0917 - val_loss: 0.1011 - val_MAE: 0.2296\n",
      "Epoch 400/500\n",
      "2/2 [==============================] - 0s 8ms/step - loss: 0.0165 - MAE: 0.0917 - val_loss: 0.1010 - val_MAE: 0.2293\n",
      "Epoch 401/500\n",
      "2/2 [==============================] - 0s 8ms/step - loss: 0.0165 - MAE: 0.0917 - val_loss: 0.1010 - val_MAE: 0.2294\n",
      "Epoch 402/500\n",
      "2/2 [==============================] - 0s 7ms/step - loss: 0.0165 - MAE: 0.0915 - val_loss: 0.1009 - val_MAE: 0.2291\n",
      "Epoch 403/500\n",
      "2/2 [==============================] - 0s 8ms/step - loss: 0.0165 - MAE: 0.0915 - val_loss: 0.1009 - val_MAE: 0.2290\n",
      "Epoch 404/500\n",
      "2/2 [==============================] - 0s 7ms/step - loss: 0.0165 - MAE: 0.0916 - val_loss: 0.1009 - val_MAE: 0.2292\n",
      "Epoch 405/500\n",
      "2/2 [==============================] - 0s 7ms/step - loss: 0.0164 - MAE: 0.0914 - val_loss: 0.1009 - val_MAE: 0.2292\n",
      "Epoch 406/500\n",
      "2/2 [==============================] - 0s 7ms/step - loss: 0.0164 - MAE: 0.0914 - val_loss: 0.1008 - val_MAE: 0.2291\n",
      "Epoch 407/500\n",
      "2/2 [==============================] - 0s 7ms/step - loss: 0.0164 - MAE: 0.0913 - val_loss: 0.1008 - val_MAE: 0.2292\n",
      "Epoch 408/500\n",
      "2/2 [==============================] - 0s 7ms/step - loss: 0.0164 - MAE: 0.0912 - val_loss: 0.1007 - val_MAE: 0.2286\n",
      "Epoch 409/500\n",
      "2/2 [==============================] - 0s 8ms/step - loss: 0.0163 - MAE: 0.0912 - val_loss: 0.1006 - val_MAE: 0.2285\n",
      "Epoch 410/500\n",
      "2/2 [==============================] - 0s 8ms/step - loss: 0.0163 - MAE: 0.0911 - val_loss: 0.1005 - val_MAE: 0.2284\n",
      "Epoch 411/500\n",
      "2/2 [==============================] - 0s 7ms/step - loss: 0.0163 - MAE: 0.0913 - val_loss: 0.1006 - val_MAE: 0.2286\n",
      "Epoch 412/500\n",
      "2/2 [==============================] - 0s 7ms/step - loss: 0.0163 - MAE: 0.0910 - val_loss: 0.1005 - val_MAE: 0.2284\n",
      "Epoch 413/500\n",
      "2/2 [==============================] - 0s 7ms/step - loss: 0.0162 - MAE: 0.0910 - val_loss: 0.1004 - val_MAE: 0.2284\n",
      "Epoch 414/500\n",
      "2/2 [==============================] - 0s 7ms/step - loss: 0.0162 - MAE: 0.0910 - val_loss: 0.1003 - val_MAE: 0.2280\n",
      "Epoch 415/500\n",
      "2/2 [==============================] - 0s 7ms/step - loss: 0.0162 - MAE: 0.0909 - val_loss: 0.1002 - val_MAE: 0.2278\n",
      "Epoch 416/500\n",
      "2/2 [==============================] - 0s 7ms/step - loss: 0.0162 - MAE: 0.0909 - val_loss: 0.1001 - val_MAE: 0.2276\n",
      "Epoch 417/500\n",
      "2/2 [==============================] - 0s 6ms/step - loss: 0.0162 - MAE: 0.0909 - val_loss: 0.1001 - val_MAE: 0.2275\n",
      "Epoch 418/500\n",
      "2/2 [==============================] - 0s 7ms/step - loss: 0.0162 - MAE: 0.0909 - val_loss: 0.0999 - val_MAE: 0.2270\n",
      "Epoch 419/500\n",
      "2/2 [==============================] - 0s 7ms/step - loss: 0.0161 - MAE: 0.0909 - val_loss: 0.0999 - val_MAE: 0.2270\n",
      "Epoch 420/500\n",
      "2/2 [==============================] - 0s 6ms/step - loss: 0.0161 - MAE: 0.0908 - val_loss: 0.0998 - val_MAE: 0.2266\n",
      "Epoch 421/500\n",
      "2/2 [==============================] - 0s 7ms/step - loss: 0.0161 - MAE: 0.0910 - val_loss: 0.0999 - val_MAE: 0.2271\n",
      "Epoch 422/500\n",
      "2/2 [==============================] - 0s 7ms/step - loss: 0.0160 - MAE: 0.0906 - val_loss: 0.0997 - val_MAE: 0.2267\n",
      "Epoch 423/500\n",
      "2/2 [==============================] - 0s 7ms/step - loss: 0.0160 - MAE: 0.0906 - val_loss: 0.0997 - val_MAE: 0.2266\n",
      "Epoch 424/500\n",
      "2/2 [==============================] - 0s 7ms/step - loss: 0.0160 - MAE: 0.0907 - val_loss: 0.0997 - val_MAE: 0.2267\n",
      "Epoch 425/500\n",
      "2/2 [==============================] - 0s 7ms/step - loss: 0.0160 - MAE: 0.0906 - val_loss: 0.0995 - val_MAE: 0.2264\n",
      "Epoch 426/500\n",
      "2/2 [==============================] - 0s 7ms/step - loss: 0.0160 - MAE: 0.0905 - val_loss: 0.0995 - val_MAE: 0.2262\n",
      "Epoch 427/500\n",
      "2/2 [==============================] - 0s 7ms/step - loss: 0.0160 - MAE: 0.0907 - val_loss: 0.0995 - val_MAE: 0.2264\n",
      "Epoch 428/500\n",
      "2/2 [==============================] - 0s 6ms/step - loss: 0.0160 - MAE: 0.0906 - val_loss: 0.0995 - val_MAE: 0.2266\n",
      "Epoch 429/500\n",
      "2/2 [==============================] - 0s 7ms/step - loss: 0.0159 - MAE: 0.0904 - val_loss: 0.0993 - val_MAE: 0.2262\n",
      "Epoch 430/500\n",
      "2/2 [==============================] - 0s 7ms/step - loss: 0.0159 - MAE: 0.0904 - val_loss: 0.0993 - val_MAE: 0.2261\n",
      "Epoch 431/500\n",
      "2/2 [==============================] - 0s 7ms/step - loss: 0.0159 - MAE: 0.0904 - val_loss: 0.0992 - val_MAE: 0.2258\n",
      "Epoch 432/500\n",
      "2/2 [==============================] - 0s 7ms/step - loss: 0.0159 - MAE: 0.0904 - val_loss: 0.0991 - val_MAE: 0.2255\n",
      "Epoch 433/500\n",
      "2/2 [==============================] - 0s 7ms/step - loss: 0.0159 - MAE: 0.0903 - val_loss: 0.0991 - val_MAE: 0.2254\n",
      "Epoch 434/500\n",
      "2/2 [==============================] - 0s 7ms/step - loss: 0.0158 - MAE: 0.0902 - val_loss: 0.0990 - val_MAE: 0.2253\n",
      "Epoch 435/500\n",
      "2/2 [==============================] - 0s 6ms/step - loss: 0.0158 - MAE: 0.0903 - val_loss: 0.0989 - val_MAE: 0.2251\n",
      "Epoch 436/500\n",
      "2/2 [==============================] - 0s 6ms/step - loss: 0.0158 - MAE: 0.0903 - val_loss: 0.0988 - val_MAE: 0.2250\n",
      "Epoch 437/500\n",
      "2/2 [==============================] - 0s 7ms/step - loss: 0.0158 - MAE: 0.0902 - val_loss: 0.0987 - val_MAE: 0.2248\n",
      "Epoch 438/500\n",
      "2/2 [==============================] - 0s 7ms/step - loss: 0.0158 - MAE: 0.0904 - val_loss: 0.0988 - val_MAE: 0.2251\n",
      "Epoch 439/500\n",
      "2/2 [==============================] - 0s 7ms/step - loss: 0.0158 - MAE: 0.0901 - val_loss: 0.0987 - val_MAE: 0.2249\n",
      "Epoch 440/500\n",
      "2/2 [==============================] - 0s 7ms/step - loss: 0.0157 - MAE: 0.0901 - val_loss: 0.0986 - val_MAE: 0.2249\n",
      "Epoch 441/500\n",
      "2/2 [==============================] - 0s 7ms/step - loss: 0.0157 - MAE: 0.0901 - val_loss: 0.0985 - val_MAE: 0.2246\n",
      "Epoch 442/500\n",
      "2/2 [==============================] - 0s 8ms/step - loss: 0.0157 - MAE: 0.0900 - val_loss: 0.0985 - val_MAE: 0.2246\n",
      "Epoch 443/500\n",
      "2/2 [==============================] - 0s 6ms/step - loss: 0.0157 - MAE: 0.0902 - val_loss: 0.0985 - val_MAE: 0.2248\n",
      "Epoch 444/500\n",
      "2/2 [==============================] - 0s 6ms/step - loss: 0.0157 - MAE: 0.0900 - val_loss: 0.0984 - val_MAE: 0.2245\n",
      "Epoch 445/500\n",
      "2/2 [==============================] - 0s 7ms/step - loss: 0.0157 - MAE: 0.0900 - val_loss: 0.0984 - val_MAE: 0.2246\n",
      "Epoch 446/500\n",
      "2/2 [==============================] - 0s 7ms/step - loss: 0.0156 - MAE: 0.0899 - val_loss: 0.0983 - val_MAE: 0.2245\n",
      "Epoch 447/500\n",
      "2/2 [==============================] - 0s 7ms/step - loss: 0.0156 - MAE: 0.0900 - val_loss: 0.0983 - val_MAE: 0.2244\n",
      "Epoch 448/500\n",
      "2/2 [==============================] - 0s 7ms/step - loss: 0.0156 - MAE: 0.0898 - val_loss: 0.0982 - val_MAE: 0.2241\n",
      "Epoch 449/500\n",
      "2/2 [==============================] - 0s 7ms/step - loss: 0.0156 - MAE: 0.0898 - val_loss: 0.0981 - val_MAE: 0.2239\n",
      "Epoch 450/500\n",
      "2/2 [==============================] - 0s 7ms/step - loss: 0.0156 - MAE: 0.0899 - val_loss: 0.0981 - val_MAE: 0.2241\n",
      "Epoch 451/500\n",
      "2/2 [==============================] - 0s 6ms/step - loss: 0.0156 - MAE: 0.0898 - val_loss: 0.0981 - val_MAE: 0.2240\n",
      "Epoch 452/500\n",
      "2/2 [==============================] - 0s 6ms/step - loss: 0.0156 - MAE: 0.0898 - val_loss: 0.0980 - val_MAE: 0.2239\n",
      "Epoch 453/500\n",
      "2/2 [==============================] - 0s 7ms/step - loss: 0.0156 - MAE: 0.0896 - val_loss: 0.0978 - val_MAE: 0.2235\n",
      "Epoch 454/500\n",
      "2/2 [==============================] - 0s 7ms/step - loss: 0.0155 - MAE: 0.0897 - val_loss: 0.0977 - val_MAE: 0.2232\n",
      "Epoch 455/500\n",
      "2/2 [==============================] - 0s 7ms/step - loss: 0.0155 - MAE: 0.0897 - val_loss: 0.0977 - val_MAE: 0.2231\n",
      "Epoch 456/500\n",
      "2/2 [==============================] - 0s 7ms/step - loss: 0.0155 - MAE: 0.0897 - val_loss: 0.0977 - val_MAE: 0.2232\n",
      "Epoch 457/500\n",
      "2/2 [==============================] - 0s 7ms/step - loss: 0.0155 - MAE: 0.0898 - val_loss: 0.0976 - val_MAE: 0.2228\n",
      "Epoch 458/500\n",
      "2/2 [==============================] - 0s 7ms/step - loss: 0.0155 - MAE: 0.0897 - val_loss: 0.0976 - val_MAE: 0.2230\n",
      "Epoch 459/500\n",
      "2/2 [==============================] - 0s 6ms/step - loss: 0.0154 - MAE: 0.0896 - val_loss: 0.0975 - val_MAE: 0.2230\n",
      "Epoch 460/500\n",
      "2/2 [==============================] - 0s 7ms/step - loss: 0.0155 - MAE: 0.0897 - val_loss: 0.0974 - val_MAE: 0.2226\n",
      "Epoch 461/500\n",
      "2/2 [==============================] - 0s 7ms/step - loss: 0.0154 - MAE: 0.0898 - val_loss: 0.0975 - val_MAE: 0.2230\n",
      "Epoch 462/500\n",
      "2/2 [==============================] - 0s 7ms/step - loss: 0.0154 - MAE: 0.0896 - val_loss: 0.0974 - val_MAE: 0.2230\n",
      "Epoch 463/500\n",
      "2/2 [==============================] - 0s 7ms/step - loss: 0.0154 - MAE: 0.0894 - val_loss: 0.0973 - val_MAE: 0.2228\n",
      "Epoch 464/500\n",
      "2/2 [==============================] - 0s 7ms/step - loss: 0.0154 - MAE: 0.0896 - val_loss: 0.0974 - val_MAE: 0.2230\n",
      "Epoch 465/500\n",
      "2/2 [==============================] - 0s 7ms/step - loss: 0.0154 - MAE: 0.0895 - val_loss: 0.0973 - val_MAE: 0.2227\n",
      "Epoch 466/500\n",
      "2/2 [==============================] - 0s 7ms/step - loss: 0.0153 - MAE: 0.0895 - val_loss: 0.0972 - val_MAE: 0.2227\n",
      "Epoch 467/500\n",
      "2/2 [==============================] - 0s 7ms/step - loss: 0.0154 - MAE: 0.0896 - val_loss: 0.0972 - val_MAE: 0.2229\n",
      "Epoch 468/500\n",
      "2/2 [==============================] - 0s 7ms/step - loss: 0.0153 - MAE: 0.0892 - val_loss: 0.0971 - val_MAE: 0.2227\n",
      "Epoch 469/500\n",
      "2/2 [==============================] - 0s 6ms/step - loss: 0.0153 - MAE: 0.0893 - val_loss: 0.0970 - val_MAE: 0.2223\n",
      "Epoch 470/500\n",
      "2/2 [==============================] - 0s 7ms/step - loss: 0.0153 - MAE: 0.0893 - val_loss: 0.0969 - val_MAE: 0.2220\n",
      "Epoch 471/500\n",
      "2/2 [==============================] - 0s 7ms/step - loss: 0.0153 - MAE: 0.0893 - val_loss: 0.0969 - val_MAE: 0.2221\n",
      "Epoch 472/500\n",
      "2/2 [==============================] - 0s 7ms/step - loss: 0.0152 - MAE: 0.0892 - val_loss: 0.0968 - val_MAE: 0.2220\n",
      "Epoch 473/500\n",
      "2/2 [==============================] - 0s 7ms/step - loss: 0.0153 - MAE: 0.0893 - val_loss: 0.0967 - val_MAE: 0.2215\n",
      "Epoch 474/500\n",
      "2/2 [==============================] - 0s 6ms/step - loss: 0.0153 - MAE: 0.0894 - val_loss: 0.0966 - val_MAE: 0.2212\n",
      "Epoch 475/500\n",
      "2/2 [==============================] - 0s 7ms/step - loss: 0.0152 - MAE: 0.0894 - val_loss: 0.0966 - val_MAE: 0.2214\n",
      "Epoch 476/500\n",
      "2/2 [==============================] - 0s 7ms/step - loss: 0.0152 - MAE: 0.0892 - val_loss: 0.0965 - val_MAE: 0.2213\n",
      "Epoch 477/500\n",
      "2/2 [==============================] - 0s 7ms/step - loss: 0.0152 - MAE: 0.0892 - val_loss: 0.0965 - val_MAE: 0.2214\n",
      "Epoch 478/500\n",
      "2/2 [==============================] - 0s 6ms/step - loss: 0.0152 - MAE: 0.0893 - val_loss: 0.0965 - val_MAE: 0.2215\n",
      "Epoch 479/500\n",
      "2/2 [==============================] - 0s 7ms/step - loss: 0.0152 - MAE: 0.0891 - val_loss: 0.0964 - val_MAE: 0.2211\n",
      "Epoch 480/500\n",
      "2/2 [==============================] - 0s 7ms/step - loss: 0.0152 - MAE: 0.0892 - val_loss: 0.0962 - val_MAE: 0.2207\n",
      "Epoch 481/500\n",
      "2/2 [==============================] - 0s 7ms/step - loss: 0.0151 - MAE: 0.0891 - val_loss: 0.0962 - val_MAE: 0.2208\n",
      "Epoch 482/500\n",
      "2/2 [==============================] - 0s 7ms/step - loss: 0.0151 - MAE: 0.0890 - val_loss: 0.0962 - val_MAE: 0.2207\n",
      "Epoch 483/500\n",
      "2/2 [==============================] - 0s 7ms/step - loss: 0.0151 - MAE: 0.0890 - val_loss: 0.0962 - val_MAE: 0.2207\n",
      "Epoch 484/500\n",
      "2/2 [==============================] - 0s 7ms/step - loss: 0.0151 - MAE: 0.0890 - val_loss: 0.0961 - val_MAE: 0.2205\n",
      "Epoch 485/500\n",
      "2/2 [==============================] - 0s 7ms/step - loss: 0.0151 - MAE: 0.0891 - val_loss: 0.0959 - val_MAE: 0.2202\n",
      "Epoch 486/500\n",
      "2/2 [==============================] - 0s 7ms/step - loss: 0.0151 - MAE: 0.0890 - val_loss: 0.0959 - val_MAE: 0.2203\n",
      "Epoch 487/500\n",
      "2/2 [==============================] - 0s 7ms/step - loss: 0.0150 - MAE: 0.0890 - val_loss: 0.0959 - val_MAE: 0.2205\n",
      "Epoch 488/500\n",
      "2/2 [==============================] - 0s 7ms/step - loss: 0.0151 - MAE: 0.0891 - val_loss: 0.0958 - val_MAE: 0.2200\n",
      "Epoch 489/500\n",
      "2/2 [==============================] - 0s 6ms/step - loss: 0.0150 - MAE: 0.0890 - val_loss: 0.0958 - val_MAE: 0.2201\n",
      "Epoch 490/500\n",
      "2/2 [==============================] - 0s 7ms/step - loss: 0.0150 - MAE: 0.0890 - val_loss: 0.0957 - val_MAE: 0.2197\n",
      "Epoch 491/500\n",
      "2/2 [==============================] - 0s 7ms/step - loss: 0.0150 - MAE: 0.0889 - val_loss: 0.0956 - val_MAE: 0.2197\n",
      "Epoch 492/500\n",
      "2/2 [==============================] - 0s 7ms/step - loss: 0.0150 - MAE: 0.0890 - val_loss: 0.0957 - val_MAE: 0.2201\n",
      "Epoch 493/500\n",
      "2/2 [==============================] - 0s 7ms/step - loss: 0.0150 - MAE: 0.0888 - val_loss: 0.0956 - val_MAE: 0.2201\n",
      "Epoch 494/500\n",
      "2/2 [==============================] - 0s 7ms/step - loss: 0.0150 - MAE: 0.0887 - val_loss: 0.0955 - val_MAE: 0.2199\n",
      "Epoch 495/500\n",
      "2/2 [==============================] - 0s 7ms/step - loss: 0.0150 - MAE: 0.0889 - val_loss: 0.0956 - val_MAE: 0.2202\n",
      "Epoch 496/500\n",
      "2/2 [==============================] - 0s 7ms/step - loss: 0.0149 - MAE: 0.0887 - val_loss: 0.0955 - val_MAE: 0.2200\n",
      "Epoch 497/500\n",
      "2/2 [==============================] - 0s 7ms/step - loss: 0.0149 - MAE: 0.0887 - val_loss: 0.0954 - val_MAE: 0.2197\n",
      "Epoch 498/500\n",
      "2/2 [==============================] - 0s 7ms/step - loss: 0.0149 - MAE: 0.0888 - val_loss: 0.0953 - val_MAE: 0.2193\n",
      "Epoch 499/500\n"
     ]
    },
    {
     "name": "stdout",
     "output_type": "stream",
     "text": [
      "2/2 [==============================] - 0s 7ms/step - loss: 0.0149 - MAE: 0.0887 - val_loss: 0.0953 - val_MAE: 0.2193\n",
      "Epoch 500/500\n",
      "2/2 [==============================] - 0s 7ms/step - loss: 0.0149 - MAE: 0.0887 - val_loss: 0.0952 - val_MAE: 0.2190\n"
     ]
    }
   ],
   "source": [
    "history3 = model3.fit(X_train, y_train, epochs = 500,\n",
    "                    validation_split = 0.2, shuffle = True)"
   ]
  },
  {
   "cell_type": "markdown",
   "id": "9950f86d",
   "metadata": {},
   "source": [
    "## DO EXCELA -_- i brudnopis"
   ]
  },
  {
   "cell_type": "code",
   "execution_count": 175,
   "id": "unusual-champagne",
   "metadata": {},
   "outputs": [],
   "source": [
    "\"DO EXCELA\"\n",
    "pd.DataFrame.from_dict({\"y_pred\": y_pred,\n",
    "\"y_true\": y_true}).to_excel(\"outputa.xlsx\")"
   ]
  },
  {
   "cell_type": "code",
   "execution_count": null,
   "id": "intimate-brief",
   "metadata": {},
   "outputs": [],
   "source": [
    "hidden1_ = keras.layers.Dense(8, activation = 'relu')(input_)\n",
    "hidden2_ = keras.layers.Dense(4, activation = 'relu')(hidden1_)\n",
    "współczynnik R: 0.73\n",
    "loss: 0.0177 - MAE: 0.0967 - val_loss: 0.0189 - val_MAE: 0.1220 \n",
    "\n",
    "współczynnik R: 0.69\n",
    "loss: 0.0102 - MAE: 0.0732\n",
    "\n",
    "współczynnik R: 0.76\n",
    "loss: 0.0132 - MAE: 0.0836 - val_loss: 0.0153 - val_MAE: 0.1080\n",
    "                \n",
    "współczynnik R: 0.8\n",
    "loss: 0.0120 - MAE: 0.0870 + dane bez 54 i 56"
   ]
  },
  {
   "cell_type": "code",
   "execution_count": 205,
   "id": "egyptian-acoustic",
   "metadata": {},
   "outputs": [
    {
     "data": {
      "text/plain": [
       "dict_keys(['loss', 'MAE', 'val_loss', 'val_MAE'])"
      ]
     },
     "execution_count": 205,
     "metadata": {},
     "output_type": "execute_result"
    }
   ],
   "source": [
    "history3.history.keys()"
   ]
  },
  {
   "cell_type": "code",
   "execution_count": 461,
   "id": "colored-blame",
   "metadata": {},
   "outputs": [
    {
     "data": {
      "text/plain": [
       "array([[-9.35684378e-01,  6.68472755e-01, -1.04257207e+00,\n",
       "        -5.71428571e-01,  1.44115338e+00,  2.86909095e+00,\n",
       "        -1.40647737e+00, -1.34044852e+00, -1.30812470e+00,\n",
       "        -4.40769288e+00, -9.94405766e-01,  9.05922566e-01],\n",
       "       [ 1.69079809e+00, -5.78742543e-01,  6.95048047e-02,\n",
       "         5.00000000e-01,  1.44115338e+00, -5.77264545e-01,\n",
       "        -1.40647737e+00, -1.34044852e+00, -4.74924253e-01,\n",
       "         3.74343810e-01,  4.36393897e-01, -2.88438101e-01],\n",
       "       [ 3.77556854e-01, -5.09452804e-01,  1.18158168e+00,\n",
       "        -5.71428571e-01,  1.44115338e+00, -5.77264545e-01,\n",
       "         1.03691437e+00,  7.09950744e-01, -1.30812470e+00,\n",
       "         4.93894727e-01, -2.79005934e-01,  1.41531739e-01],\n",
       "       [-9.35684378e-01,  8.76341971e-01,  6.95048047e-02,\n",
       "        -5.71428571e-01, -6.93888666e-01, -5.77264545e-01,\n",
       "         1.03691437e+00,  7.09950744e-01, -4.74924253e-01,\n",
       "         4.93894727e-01,  1.86719356e+00,  4.28178299e-01],\n",
       "       [ 3.77556854e-01, -1.06377071e+00, -1.04257207e+00,\n",
       "        -5.71428571e-01,  1.44115338e+00,  1.14591320e+00,\n",
       "        -7.95629434e-01, -8.27848702e-01,  9.83176524e-01,\n",
       "         1.56910579e-02,  1.86719356e+00, -1.00505450e+00],\n",
       "       [-9.35684378e-01,  1.83444583e-01, -1.04257207e+00,\n",
       "        -5.71428571e-01, -6.93888666e-01, -5.77264545e-01,\n",
       "         1.03691437e+00,  7.09950744e-01,  3.58276191e-01,\n",
       "         4.93894727e-01,  4.36393897e-01, -1.00505450e+00],\n",
       "       [-9.35684378e-01,  3.98242774e-01,  1.18158168e+00,\n",
       "        -5.71428571e-01,  1.44115338e+00, -5.77264545e-01,\n",
       "         4.26066434e-01,  1.97350929e-01, -2.87454153e-01,\n",
       "         1.56910579e-02, -9.94405766e-01, -1.00505450e+00],\n",
       "       [-9.35684378e-01,  6.68472755e-01, -1.04257207e+00,\n",
       "         5.00000000e-01, -6.93888666e-01, -5.77264545e-01,\n",
       "         1.03691437e+00,  7.09950744e-01, -1.30812470e+00,\n",
       "         4.93894727e-01, -2.79005934e-01,  5.23727153e-01],\n",
       "       [-9.35684378e-01,  3.98242774e-01,  1.18158168e+00,\n",
       "        -5.71428571e-01,  1.44115338e+00, -5.77264545e-01,\n",
       "         4.26066434e-01,  1.97350929e-01, -8.70694464e-01,\n",
       "         1.56910579e-02, -9.94405766e-01, -5.27310235e-01],\n",
       "       [ 3.77556854e-01,  1.56923936e+00,  1.18158168e+00,\n",
       "         3.00000000e+00, -6.93888666e-01,  1.14591320e+00,\n",
       "        -7.95629434e-01, -8.27848702e-01,  1.19147664e+00,\n",
       "         1.56910579e-02, -2.79005934e-01,  7.14824859e-01],\n",
       "       [ 3.77556854e-01, -2.03382706e+00, -1.04257207e+00,\n",
       "        -5.71428571e-01, -6.93888666e-01, -5.77264545e-01,\n",
       "        -7.95629434e-01, -8.27848702e-01,  5.66576302e-01,\n",
       "         1.56910579e-02, -2.79005934e-01, -1.00505450e+00],\n",
       "       [-9.35684378e-01, -5.09452804e-01,  1.18158168e+00,\n",
       "        -5.71428571e-01, -6.93888666e-01, -5.77264545e-01,\n",
       "         1.03691437e+00,  7.09950744e-01,  1.49976080e-01,\n",
       "         4.93894727e-01, -2.79005934e-01,  4.28178299e-01],\n",
       "       [ 3.77556854e-01,  2.52734322e-01, -1.04257207e+00,\n",
       "         5.00000000e-01,  1.44115338e+00,  1.49054875e+00,\n",
       "         1.03691437e+00,  7.09950744e-01, -6.83224364e-01,\n",
       "        -1.03859859e-01, -9.94405766e-01, -1.00505450e+00],\n",
       "       [ 3.77556854e-01,  1.08421119e+00,  1.18158168e+00,\n",
       "        -5.71428571e-01,  1.44115338e+00, -5.77264545e-01,\n",
       "        -7.95629434e-01, -8.27848702e-01,  2.49960133e-02,\n",
       "         1.56910579e-02, -2.79005934e-01,  2.37080592e-01],\n",
       "       [ 3.77556854e-01, -1.63004111e-01, -1.04257207e+00,\n",
       "        -5.71428571e-01,  1.44115338e+00,  8.01277652e-01,\n",
       "        -1.40647737e+00,  3.78554964e+00, -1.30812470e+00,\n",
       "        -7.01614446e-01, -9.94405766e-01,  1.19256913e+00],\n",
       "       [ 3.77556854e-01, -9.37143717e-02,  6.95048047e-02,\n",
       "        -5.71428571e-01,  1.44115338e+00, -5.77264545e-01,\n",
       "         1.03691437e+00,  7.09950744e-01, -2.87454153e-01,\n",
       "         4.93894727e-01,  1.86719356e+00,  9.05922566e-01],\n",
       "       [-9.35684378e-01,  8.76341971e-01,  6.95048047e-02,\n",
       "        -5.71428571e-01, -6.93888666e-01, -5.77264545e-01,\n",
       "         1.03691437e+00,  7.09950744e-01, -8.91524475e-01,\n",
       "         4.93894727e-01,  4.36393897e-01,  5.23727153e-01],\n",
       "       [ 3.77556854e-01, -5.78742543e-01,  1.18158168e+00,\n",
       "         3.00000000e+00,  1.44115338e+00,  1.14591320e+00,\n",
       "        -7.95629434e-01, -8.27848702e-01,  2.49960133e-02,\n",
       "         1.56910579e-02,  1.86719356e+00,  4.28178299e-01],\n",
       "       [-9.35684378e-01, -5.09452804e-01,  1.18158168e+00,\n",
       "         5.00000000e-01,  1.44115338e+00,  1.49054875e+00,\n",
       "         1.03691437e+00,  7.09950744e-01, -8.91524475e-01,\n",
       "         4.93894727e-01,  1.86719356e+00,  4.59828857e-02],\n",
       "       [ 3.77556854e-01, -1.13306045e+00, -1.04257207e+00,\n",
       "        -5.71428571e-01, -6.93888666e-01, -5.77264545e-01,\n",
       "        -7.95629434e-01, -8.27848702e-01,  5.66576302e-01,\n",
       "         1.56910579e-02, -2.79005934e-01, -1.00505450e+00],\n",
       "       [-9.35684378e-01,  1.14154845e-01,  1.18158168e+00,\n",
       "        -5.71428571e-01, -6.93888666e-01,  1.49054875e+00,\n",
       "         1.03691437e+00,  7.09950744e-01,  7.74876413e-01,\n",
       "         7.92772021e-01, -2.79005934e-01, -1.00505450e+00],\n",
       "       [-9.35684378e-01, -5.09452804e-01,  6.95048047e-02,\n",
       "        -5.71428571e-01, -6.93888666e-01, -5.77264545e-01,\n",
       "         1.03691437e+00,  7.09950744e-01,  1.49976080e-01,\n",
       "         4.93894727e-01, -2.79005934e-01,  4.28178299e-01],\n",
       "       [ 3.77556854e-01, -2.24169627e+00, -1.04257207e+00,\n",
       "        -5.71428571e-01,  1.44115338e+00,  1.14591320e+00,\n",
       "        -7.95629434e-01, -8.27848702e-01,  1.39977675e+00,\n",
       "         1.56910579e-02,  4.36393897e-01, -1.45114821e-01],\n",
       "       [-9.35684378e-01,  1.43065988e+00,  1.18158168e+00,\n",
       "        -5.71428571e-01, -6.93888666e-01, -5.77264545e-01,\n",
       "         4.26066434e-01,  1.97350929e-01, -8.70694464e-01,\n",
       "         1.56910579e-02, -9.94405766e-01, -1.00505450e+00],\n",
       "       [-9.35684378e-01,  9.45631710e-01,  1.18158168e+00,\n",
       "         5.00000000e-01, -6.93888666e-01, -5.77264545e-01,\n",
       "        -1.40647737e+00, -3.15248887e-01, -1.30812470e+00,\n",
       "        -1.03859859e-01,  1.86719356e+00,  2.33915537e+00],\n",
       "       [ 3.77556854e-01,  1.14154845e-01,  1.18158168e+00,\n",
       "        -5.71428571e-01,  1.44115338e+00,  1.49054875e+00,\n",
       "         1.03691437e+00,  7.09950744e-01,  4.16600222e-03,\n",
       "         4.93894727e-01,  1.86719356e+00,  8.10373713e-01],\n",
       "       [ 3.77556854e-01, -2.10311680e+00, -1.04257207e+00,\n",
       "         3.00000000e+00, -6.93888666e-01, -5.77264545e-01,\n",
       "        -7.95629434e-01, -8.27848702e-01, -2.66624142e-01,\n",
       "         1.56910579e-02,  4.36393897e-01, -1.00505450e+00],\n",
       "       [ 3.77556854e-01, -2.31098601e+00, -1.04257207e+00,\n",
       "        -5.71428571e-01, -6.93888666e-01, -5.77264545e-01,\n",
       "        -7.95629434e-01, -8.27848702e-01, -5.83240311e-02,\n",
       "         1.56910579e-02, -2.79005934e-01, -5.27310235e-01],\n",
       "       [ 3.77556854e-01,  1.36137014e+00,  1.18158168e+00,\n",
       "        -5.71428571e-01, -6.93888666e-01,  2.86909095e+00,\n",
       "        -7.95629434e-01, -8.27848702e-01,  2.02467708e+00,\n",
       "         1.56910579e-02, -2.79005934e-01,  9.05922566e-01],\n",
       "       [ 1.69079809e+00, -5.78742543e-01,  1.18158168e+00,\n",
       "         5.00000000e-01, -6.93888666e-01, -5.77264545e-01,\n",
       "        -1.40647737e+00, -1.34044852e+00,  7.74876413e-01,\n",
       "         3.74343810e-01,  1.86719356e+00,  9.05922566e-01],\n",
       "       [ 3.77556854e-01,  3.22024061e-01,  6.95048047e-02,\n",
       "         5.00000000e-01, -6.93888666e-01, -5.77264545e-01,\n",
       "         1.03691437e+00,  7.09950744e-01, -1.30812470e+00,\n",
       "         4.93894727e-01, -2.79005934e-01,  1.41531739e-01],\n",
       "       [ 1.69079809e+00,  4.60603539e-01,  6.95048047e-02,\n",
       "         5.00000000e-01, -6.93888666e-01, -5.77264545e-01,\n",
       "        -1.40647737e+00, -1.34044852e+00,  1.81637697e+00,\n",
       "         3.74343810e-01,  7.15399832e-03,  1.57476454e+00],\n",
       "       [-9.35684378e-01, -1.00643346e-01, -1.04257207e+00,\n",
       "        -5.71428571e-01, -6.93888666e-01, -5.77264545e-01,\n",
       "         4.26066434e-01,  1.97350929e-01, -5.79074309e-01,\n",
       "         1.56910579e-02, -9.94405766e-01, -7.18407941e-01],\n",
       "       [-9.35684378e-01, -2.44246329e-02,  1.18158168e+00,\n",
       "         5.00000000e-01, -6.93888666e-01, -5.77264545e-01,\n",
       "        -1.40647737e+00, -1.34044852e+00, -1.30812470e+00,\n",
       "        -1.06026720e+00, -9.94405766e-01,  3.39019275e+00],\n",
       "       [ 3.77556854e-01, -2.31098601e+00,  1.18158168e+00,\n",
       "        -5.71428571e-01, -6.93888666e-01, -5.77264545e-01,\n",
       "        -7.95629434e-01, -8.27848702e-01, -5.83240311e-02,\n",
       "         1.56910579e-02, -2.79005934e-01, -4.95659677e-02],\n",
       "       [-9.35684378e-01, -5.09452804e-01,  6.95048047e-02,\n",
       "        -5.71428571e-01, -6.93888666e-01,  1.14591320e+00,\n",
       "         1.03691437e+00,  7.09950744e-01, -5.83240311e-02,\n",
       "         4.93894727e-01, -2.79005934e-01, -1.00505450e+00],\n",
       "       [-9.35684378e-01, -1.68737836e+00,  6.95048047e-02,\n",
       "        -5.71428571e-01,  1.44115338e+00,  8.01277652e-01,\n",
       "        -1.40647737e+00,  3.78554964e+00, -1.30812470e+00,\n",
       "        -6.08140573e+00, -9.94405766e-01,  1.38366683e+00],\n",
       "       [ 3.77556854e-01,  1.08421119e+00,  1.18158168e+00,\n",
       "        -5.71428571e-01, -6.93888666e-01,  2.86909095e+00,\n",
       "        -7.95629434e-01, -8.27848702e-01,  5.66576302e-01,\n",
       "         1.56910579e-02,  4.36393897e-01,  9.05922566e-01],\n",
       "       [ 1.69079809e+00,  9.45631710e-01,  1.18158168e+00,\n",
       "        -5.71428571e-01, -6.93888666e-01, -5.77264545e-01,\n",
       "        -1.40647737e+00,  1.97350929e-01, -1.09982459e+00,\n",
       "        -1.03859859e-01, -9.94405766e-01, -1.00505450e+00],\n",
       "       [ 3.77556854e-01,  1.83444583e-01,  1.18158168e+00,\n",
       "        -5.71428571e-01, -6.93888666e-01, -5.77264545e-01,\n",
       "         1.03691437e+00,  7.09950744e-01, -2.66624142e-01,\n",
       "         4.93894727e-01,  4.36393897e-01,  6.19276006e-01],\n",
       "       [-9.35684378e-01,  3.98242774e-01, -1.04257207e+00,\n",
       "        -5.71428571e-01,  1.44115338e+00, -5.77264545e-01,\n",
       "         4.26066434e-01,  1.97350929e-01, -2.87454153e-01,\n",
       "         1.56910579e-02, -9.94405766e-01, -4.95659677e-02],\n",
       "       [ 3.77556854e-01,  1.01492145e+00, -1.04257207e+00,\n",
       "         3.00000000e+00, -6.93888666e-01,  1.14591320e+00,\n",
       "        -7.95629434e-01, -8.27848702e-01, -8.91524475e-01,\n",
       "         1.56910579e-02, -2.79005934e-01, -1.00505450e+00],\n",
       "       [-9.35684378e-01,  5.99183016e-01,  6.95048047e-02,\n",
       "         5.00000000e-01, -6.93888666e-01, -5.77264545e-01,\n",
       "         1.03691437e+00,  7.09950744e-01, -1.30812470e+00,\n",
       "         4.93894727e-01, -2.79005934e-01,  1.41531739e-01],\n",
       "       [-9.35684378e-01,  1.43065988e+00,  1.18158168e+00,\n",
       "        -5.71428571e-01, -6.93888666e-01, -5.77264545e-01,\n",
       "         4.26066434e-01,  1.97350929e-01, -8.70694464e-01,\n",
       "         1.56910579e-02, -9.94405766e-01, -5.27310235e-01],\n",
       "       [ 3.77556854e-01,  1.14154845e-01, -1.04257207e+00,\n",
       "        -5.71428571e-01,  1.44115338e+00, -5.77264545e-01,\n",
       "         1.03691437e+00,  7.09950744e-01,  7.74876413e-01,\n",
       "         7.92772021e-01, -2.79005934e-01, -1.00505450e+00],\n",
       "       [ 1.69079809e+00,  5.29893277e-01, -1.04257207e+00,\n",
       "         1.57142857e+00, -6.93888666e-01, -5.77264545e-01,\n",
       "        -1.40647737e+00, -1.34044852e+00,  8.79026469e-01,\n",
       "         3.74343810e-01, -2.79005934e-01,  7.14824859e-01],\n",
       "       [ 1.69079809e+00, -5.09452804e-01,  6.95048047e-02,\n",
       "        -5.71428571e-01, -6.93888666e-01, -5.77264545e-01,\n",
       "         1.03691437e+00,  7.09950744e-01,  5.66576302e-01,\n",
       "         4.93894727e-01, -2.79005934e-01, -1.00505450e+00],\n",
       "       [ 1.69079809e+00, -5.78742543e-01,  1.18158168e+00,\n",
       "         5.00000000e-01, -6.93888666e-01, -5.77264545e-01,\n",
       "        -1.40647737e+00, -1.34044852e+00,  7.74876413e-01,\n",
       "         3.74343810e-01,  1.86719356e+00,  9.05922566e-01],\n",
       "       [ 3.77556854e-01,  1.14154845e-01,  1.18158168e+00,\n",
       "        -5.71428571e-01,  1.44115338e+00, -5.77264545e-01,\n",
       "         1.03691437e+00,  7.09950744e-01,  2.95786158e-01,\n",
       "         4.93894727e-01,  1.86719356e+00,  8.10373713e-01],\n",
       "       [-9.35684378e-01,  5.99183016e-01,  1.18158168e+00,\n",
       "        -5.71428571e-01, -6.93888666e-01, -5.77264545e-01,\n",
       "         4.26066434e-01,  1.97350929e-01,  2.64957741e+00,\n",
       "         1.56910579e-02, -9.94405766e-01, -4.95659677e-02],\n",
       "       [ 3.77556854e-01,  2.52734322e-01,  1.18158168e+00,\n",
       "         5.00000000e-01, -6.93888666e-01, -5.77264545e-01,\n",
       "         1.03691437e+00,  7.09950744e-01,  4.16600222e-03,\n",
       "         4.93894727e-01,  1.86719356e+00,  8.10373713e-01],\n",
       "       [-9.35684378e-01, -1.00643346e-01,  1.18158168e+00,\n",
       "        -5.71428571e-01, -6.93888666e-01, -5.77264545e-01,\n",
       "         4.26066434e-01,  1.97350929e-01, -8.70694464e-01,\n",
       "         1.56910579e-02, -9.94405766e-01, -1.00505450e+00],\n",
       "       [ 3.77556854e-01,  4.48651059e-02, -1.04257207e+00,\n",
       "        -5.71428571e-01, -6.93888666e-01, -5.77264545e-01,\n",
       "        -7.95629434e-01, -8.27848702e-01,  1.19147664e+00,\n",
       "         1.56910579e-02, -2.79005934e-01, -1.00505450e+00],\n",
       "       [ 1.69079809e+00,  4.60603539e-01,  6.95048047e-02,\n",
       "         5.00000000e-01, -6.93888666e-01, -5.77264545e-01,\n",
       "        -1.40647737e+00, -1.34044852e+00,  1.81637697e+00,\n",
       "         3.74343810e-01,  7.15399832e-03,  6.19276006e-01],\n",
       "       [ 3.77556854e-01,  8.76341971e-01,  1.18158168e+00,\n",
       "        -5.71428571e-01, -6.93888666e-01,  1.14591320e+00,\n",
       "         1.03691437e+00,  7.09950744e-01, -2.66624142e-01,\n",
       "         4.93894727e-01,  4.36393897e-01,  1.41531739e-01],\n",
       "       [-9.35684378e-01, -1.00643346e-01, -1.04257207e+00,\n",
       "        -5.71428571e-01, -6.93888666e-01, -5.77264545e-01,\n",
       "         4.26066434e-01,  1.97350929e-01, -5.79074309e-01,\n",
       "         1.56910579e-02, -9.94405766e-01, -5.27310235e-01],\n",
       "       [ 3.77556854e-01, -2.32293849e-01, -1.04257207e+00,\n",
       "         3.00000000e+00, -6.93888666e-01,  1.14591320e+00,\n",
       "        -7.95629434e-01, -8.27848702e-01, -2.66624142e-01,\n",
       "         1.56910579e-02,  4.36393897e-01, -1.00505450e+00],\n",
       "       [ 3.77556854e-01,  1.01492145e+00,  1.18158168e+00,\n",
       "         3.00000000e+00,  1.44115338e+00,  2.86909095e+00,\n",
       "        -7.95629434e-01, -8.27848702e-01,  5.66576302e-01,\n",
       "         1.56910579e-02, -2.79005934e-01,  2.37080592e-01],\n",
       "       [-9.35684378e-01,  3.98242774e-01, -1.04257207e+00,\n",
       "        -5.71428571e-01,  1.44115338e+00, -5.77264545e-01,\n",
       "         4.26066434e-01,  1.97350929e-01, -8.70694464e-01,\n",
       "         1.56910579e-02, -9.94405766e-01, -1.00505450e+00],\n",
       "       [ 3.77556854e-01,  1.83444583e-01,  1.18158168e+00,\n",
       "        -5.71428571e-01,  1.44115338e+00,  1.14591320e+00,\n",
       "         1.03691437e+00,  7.09950744e-01, -8.91524475e-01,\n",
       "         4.93894727e-01,  1.86719356e+00,  1.41531739e-01],\n",
       "       [ 1.69079809e+00,  5.29893277e-01,  6.95048047e-02,\n",
       "         5.00000000e-01, -6.93888666e-01, -5.77264545e-01,\n",
       "        -1.40647737e+00, -1.34044852e+00, -2.45794131e-01,\n",
       "         3.74343810e-01,  1.86719356e+00,  1.47921569e+00],\n",
       "       [-9.35684378e-01,  5.99183016e-01, -1.04257207e+00,\n",
       "         5.00000000e-01,  1.44115338e+00,  1.14591320e+00,\n",
       "         2.25861024e+00,  1.73515038e+00, -1.30812470e+00,\n",
       "        -3.09263279e+00, -9.94405766e-01,  4.28178299e-01],\n",
       "       [-9.35684378e-01,  4.60603539e-01, -1.04257207e+00,\n",
       "         5.00000000e-01, -6.93888666e-01, -5.77264545e-01,\n",
       "         1.03691437e+00,  7.09950744e-01, -8.70694464e-01,\n",
       "         4.93894727e-01,  1.86719356e+00,  8.10373713e-01],\n",
       "       [ 3.77556854e-01, -2.31098601e+00, -1.04257207e+00,\n",
       "        -5.71428571e-01, -6.93888666e-01, -5.77264545e-01,\n",
       "        -7.95629434e-01, -8.27848702e-01, -5.83240311e-02,\n",
       "         1.56910579e-02, -2.79005934e-01, -1.00505450e+00],\n",
       "       [ 3.77556854e-01,  3.91313800e-01, -1.04257207e+00,\n",
       "        -5.71428571e-01, -6.93888666e-01,  1.49054875e+00,\n",
       "        -4.29120674e-01, -5.20288813e-01,  2.54126135e-01,\n",
       "        -1.89712362e+00, -9.94405766e-01, -1.00505450e+00],\n",
       "       [-9.35684378e-01, -5.37168700e-01, -1.04257207e+00,\n",
       "        -5.71428571e-01, -6.93888666e-01, -5.77264545e-01,\n",
       "         4.26066434e-01,  1.97350929e-01,  2.02467708e+00,\n",
       "         1.56910579e-02, -9.94405766e-01, -1.00505450e+00],\n",
       "       [-9.35684378e-01,  3.98242774e-01, -1.04257207e+00,\n",
       "        -5.71428571e-01,  1.44115338e+00, -5.77264545e-01,\n",
       "         4.26066434e-01,  1.97350929e-01, -8.70694464e-01,\n",
       "         1.56910579e-02, -9.94405766e-01, -1.00505450e+00],\n",
       "       [ 3.77556854e-01, -2.31098601e+00,  6.95048047e-02,\n",
       "         1.21428571e+00, -6.93888666e-01, -5.77264545e-01,\n",
       "        -7.95629434e-01, -8.27848702e-01, -5.83240311e-02,\n",
       "         1.56910579e-02, -2.79005934e-01,  3.00799734e+00],\n",
       "       [ 3.77556854e-01, -1.68737836e+00, -1.04257207e+00,\n",
       "        -5.71428571e-01, -6.93888666e-01, -5.77264545e-01,\n",
       "        -7.95629434e-01, -8.27848702e-01,  1.19147664e+00,\n",
       "         1.56910579e-02, -2.79005934e-01, -1.00505450e+00],\n",
       "       [-9.35684378e-01,  3.98242774e-01, -1.04257207e+00,\n",
       "        -5.71428571e-01,  1.44115338e+00, -5.77264545e-01,\n",
       "         4.26066434e-01,  1.97350929e-01,  4.16600222e-03,\n",
       "         1.56910579e-02, -9.94405766e-01, -1.00505450e+00],\n",
       "       [-9.35684378e-01,  1.14154845e-01, -1.04257207e+00,\n",
       "        -5.71428571e-01, -6.93888666e-01, -5.77264545e-01,\n",
       "         1.03691437e+00,  7.09950744e-01,  2.02467708e+00,\n",
       "         7.92772021e-01, -2.79005934e-01, -8.13956795e-01],\n",
       "       [ 3.77556854e-01,  1.14154845e-01,  1.18158168e+00,\n",
       "        -5.71428571e-01,  1.44115338e+00,  1.49054875e+00,\n",
       "         1.03691437e+00,  7.09950744e-01, -2.87454153e-01,\n",
       "         4.93894727e-01,  1.86719356e+00,  6.19276006e-01]])"
      ]
     },
     "execution_count": 461,
     "metadata": {},
     "output_type": "execute_result"
    }
   ],
   "source": [
    "X_train"
   ]
  },
  {
   "cell_type": "code",
   "execution_count": 36,
   "id": "inner-recipient",
   "metadata": {},
   "outputs": [
    {
     "data": {
      "text/plain": [
       "{'validation_data': None,\n",
       " 'model': <tensorflow.python.keras.engine.sequential.Sequential at 0x25779b3c220>,\n",
       " '_chief_worker_only': None,\n",
       " '_supports_tf_logs': False,\n",
       " 'history': {'loss': [0.7174222469329834,\n",
       "   0.5683904886245728,\n",
       "   0.45610177516937256,\n",
       "   0.3672577738761902,\n",
       "   0.2973271310329437,\n",
       "   0.24375903606414795,\n",
       "   0.20533277094364166,\n",
       "   0.17284613847732544,\n",
       "   0.14804472029209137,\n",
       "   0.1289183497428894,\n",
       "   0.11476979404687881,\n",
       "   0.10341423004865646,\n",
       "   0.093894824385643,\n",
       "   0.08619829267263412,\n",
       "   0.0807400494813919,\n",
       "   0.07601331174373627,\n",
       "   0.07136454433202744,\n",
       "   0.06785756349563599,\n",
       "   0.06529957056045532,\n",
       "   0.06321681290864944,\n",
       "   0.06113122031092644,\n",
       "   0.059588365256786346,\n",
       "   0.05785553157329559,\n",
       "   0.05652310699224472,\n",
       "   0.055016931146383286,\n",
       "   0.05374247208237648,\n",
       "   0.05260297283530235,\n",
       "   0.05170762538909912,\n",
       "   0.05052926391363144,\n",
       "   0.049678049981594086,\n",
       "   0.048931680619716644,\n",
       "   0.048271581530570984,\n",
       "   0.047457318753004074,\n",
       "   0.04660976305603981,\n",
       "   0.04602024704217911,\n",
       "   0.04547076299786568,\n",
       "   0.044876135885715485,\n",
       "   0.04439147934317589,\n",
       "   0.0438477098941803,\n",
       "   0.04342971742153168],\n",
       "  'MAE': [0.7375907897949219,\n",
       "   0.6587502360343933,\n",
       "   0.5848393440246582,\n",
       "   0.5241031050682068,\n",
       "   0.4687995910644531,\n",
       "   0.4192119538784027,\n",
       "   0.38485389947891235,\n",
       "   0.35220831632614136,\n",
       "   0.32324573397636414,\n",
       "   0.29983052611351013,\n",
       "   0.28309309482574463,\n",
       "   0.2677404284477234,\n",
       "   0.2534472942352295,\n",
       "   0.2415781021118164,\n",
       "   0.2324383556842804,\n",
       "   0.22470322251319885,\n",
       "   0.2162424474954605,\n",
       "   0.20986869931221008,\n",
       "   0.20545682311058044,\n",
       "   0.20130370557308197,\n",
       "   0.19810929894447327,\n",
       "   0.19532984495162964,\n",
       "   0.19198308885097504,\n",
       "   0.18940448760986328,\n",
       "   0.18690775334835052,\n",
       "   0.18433032929897308,\n",
       "   0.18230955302715302,\n",
       "   0.18059636652469635,\n",
       "   0.17887331545352936,\n",
       "   0.177214577794075,\n",
       "   0.17583675682544708,\n",
       "   0.17473678290843964,\n",
       "   0.17316921055316925,\n",
       "   0.17172712087631226,\n",
       "   0.17034348845481873,\n",
       "   0.16952107846736908,\n",
       "   0.16834792494773865,\n",
       "   0.1671186089515686,\n",
       "   0.16623440384864807,\n",
       "   0.1652693897485733],\n",
       "  'val_loss': [0.9390523433685303,\n",
       "   0.7580190300941467,\n",
       "   0.6298342943191528,\n",
       "   0.5170978903770447,\n",
       "   0.42662909626960754,\n",
       "   0.37026166915893555,\n",
       "   0.31750380992889404,\n",
       "   0.27619054913520813,\n",
       "   0.24348975718021393,\n",
       "   0.21869854629039764,\n",
       "   0.19867825508117676,\n",
       "   0.18263398110866547,\n",
       "   0.16876482963562012,\n",
       "   0.15858031809329987,\n",
       "   0.14991864562034607,\n",
       "   0.1410803496837616,\n",
       "   0.13454698026180267,\n",
       "   0.13025327026844025,\n",
       "   0.1266661286354065,\n",
       "   0.12355750054121017,\n",
       "   0.12037282437086105,\n",
       "   0.11702558398246765,\n",
       "   0.11521026492118835,\n",
       "   0.11350276321172714,\n",
       "   0.11141026765108109,\n",
       "   0.10927965492010117,\n",
       "   0.10754287987947464,\n",
       "   0.10577313601970673,\n",
       "   0.10469958186149597,\n",
       "   0.10344495624303818,\n",
       "   0.1025179922580719,\n",
       "   0.10102858394384384,\n",
       "   0.10011020302772522,\n",
       "   0.09914519637823105,\n",
       "   0.09841447323560715,\n",
       "   0.09722582995891571,\n",
       "   0.09657800942659378,\n",
       "   0.09576942771673203,\n",
       "   0.0952003002166748,\n",
       "   0.09462442994117737],\n",
       "  'val_MAE': [0.8229518532752991,\n",
       "   0.7367491126060486,\n",
       "   0.667380154132843,\n",
       "   0.5996543765068054,\n",
       "   0.5384414196014404,\n",
       "   0.4965093731880188,\n",
       "   0.4544747471809387,\n",
       "   0.4278602600097656,\n",
       "   0.40416625142097473,\n",
       "   0.3836993873119354,\n",
       "   0.3654376268386841,\n",
       "   0.3491385281085968,\n",
       "   0.33406466245651245,\n",
       "   0.32276949286460876,\n",
       "   0.3117688000202179,\n",
       "   0.2999363839626312,\n",
       "   0.29042044281959534,\n",
       "   0.28348973393440247,\n",
       "   0.2776840031147003,\n",
       "   0.2722845673561096,\n",
       "   0.2664650082588196,\n",
       "   0.2603594958782196,\n",
       "   0.25717997550964355,\n",
       "   0.2545158267021179,\n",
       "   0.2503785789012909,\n",
       "   0.24634799361228943,\n",
       "   0.24300360679626465,\n",
       "   0.24004879593849182,\n",
       "   0.23762987554073334,\n",
       "   0.2355799525976181,\n",
       "   0.23391522467136383,\n",
       "   0.23122644424438477,\n",
       "   0.22949160635471344,\n",
       "   0.22755169868469238,\n",
       "   0.22606778144836426,\n",
       "   0.2239816039800644,\n",
       "   0.22219957411289215,\n",
       "   0.22075705230236053,\n",
       "   0.21970948576927185,\n",
       "   0.21883253753185272]},\n",
       " 'params': {'verbose': 1, 'epochs': 40, 'steps': 2},\n",
       " 'epoch': [0,\n",
       "  1,\n",
       "  2,\n",
       "  3,\n",
       "  4,\n",
       "  5,\n",
       "  6,\n",
       "  7,\n",
       "  8,\n",
       "  9,\n",
       "  10,\n",
       "  11,\n",
       "  12,\n",
       "  13,\n",
       "  14,\n",
       "  15,\n",
       "  16,\n",
       "  17,\n",
       "  18,\n",
       "  19,\n",
       "  20,\n",
       "  21,\n",
       "  22,\n",
       "  23,\n",
       "  24,\n",
       "  25,\n",
       "  26,\n",
       "  27,\n",
       "  28,\n",
       "  29,\n",
       "  30,\n",
       "  31,\n",
       "  32,\n",
       "  33,\n",
       "  34,\n",
       "  35,\n",
       "  36,\n",
       "  37,\n",
       "  38,\n",
       "  39]}"
      ]
     },
     "execution_count": 36,
     "metadata": {},
     "output_type": "execute_result"
    }
   ],
   "source": [
    "history.__dict__"
   ]
  },
  {
   "cell_type": "code",
   "execution_count": 32,
   "id": "documented-reform",
   "metadata": {},
   "outputs": [
    {
     "data": {
      "text/plain": [
       "{'verbose': 1, 'epochs': 20, 'steps': 32}"
      ]
     },
     "execution_count": 32,
     "metadata": {},
     "output_type": "execute_result"
    }
   ],
   "source": [
    "history.params"
   ]
  },
  {
   "cell_type": "code",
   "execution_count": 112,
   "id": "considered-sympathy",
   "metadata": {},
   "outputs": [],
   "source": [
    "# tf.keras.utils.plot_model(model, \"my_ssn.png\", show_shapes=True)"
   ]
  },
  {
   "cell_type": "markdown",
   "id": "adequate-former",
   "metadata": {},
   "source": [
    "## NORMALIZATION LAYER"
   ]
  },
  {
   "cell_type": "code",
   "execution_count": null,
   "id": "modular-provincial",
   "metadata": {},
   "outputs": [],
   "source": [
    "X_train, X_test, y_train, y_test"
   ]
  },
  {
   "cell_type": "code",
   "execution_count": 23,
   "id": "mexican-greensboro",
   "metadata": {},
   "outputs": [],
   "source": [
    "norm_layer = tf.keras.layers.Normalization(input_shape=X_train.shape[1:])"
   ]
  },
  {
   "cell_type": "code",
   "execution_count": 24,
   "id": "filled-eagle",
   "metadata": {},
   "outputs": [],
   "source": [
    "norm_layer.adapt(X_train.to_numpy())"
   ]
  },
  {
   "cell_type": "code",
   "execution_count": 25,
   "id": "purple-february",
   "metadata": {},
   "outputs": [
    {
     "data": {
      "text/plain": [
       "<tf.Tensor: shape=(72, 12), dtype=float32, numpy=\n",
       "array([[-1.0482652 ,  0.73076844, -1.114172  , -0.5686104 ,  1.371131  ,\n",
       "         2.7116847 , -1.4023348 , -1.3352537 , -1.31131   , -4.180825  ,\n",
       "        -1.0199231 ,  0.87262726],\n",
       "       [ 1.9115418 , -0.55409974,  0.        ,  0.4634892 ,  1.371131  ,\n",
       "        -0.620078  , -1.4023348 , -1.3352537 , -0.44868487,  0.37921032,\n",
       "         0.36825195, -0.3218434 ],\n",
       "       [ 0.43163827, -0.48271823,  1.114172  , -0.5686104 ,  1.371131  ,\n",
       "        -0.620078  ,  1.0365083 ,  0.68233854, -1.31131   ,  0.4932111 ,\n",
       "        -0.3258356 ,  0.10816609],\n",
       "       [-1.0482652 ,  0.94491327,  0.        , -0.5686104 , -0.72932494,\n",
       "        -0.620078  ,  1.0365083 ,  0.68233854, -0.44868487,  0.4932111 ,\n",
       "         1.756427  ,  0.39483902],\n",
       "       [ 0.43163827, -1.053771  , -1.114172  , -0.5686104 ,  1.371131  ,\n",
       "         1.0458033 , -0.79262406, -0.83085567,  1.0609093 ,  0.03720796,\n",
       "         1.756427  , -1.0385258 ],\n",
       "       [-1.0482652 ,  0.23109753, -1.114172  , -0.5686104 , -0.72932494,\n",
       "        -0.620078  ,  1.0365083 ,  0.68233854,  0.41394034,  0.4932111 ,\n",
       "         0.36825195, -1.0385258 ],\n",
       "       [-1.0482652 ,  0.45238072,  1.114172  , -0.5686104 ,  1.371131  ,\n",
       "        -0.620078  ,  0.42679757,  0.17794047, -0.2545942 ,  0.03720796,\n",
       "        -1.0199231 , -1.0385258 ],\n",
       "       [-1.0482652 ,  0.73076844, -1.114172  ,  0.4634892 , -0.72932494,\n",
       "        -0.620078  ,  1.0365083 ,  0.68233854, -1.31131   ,  0.4932111 ,\n",
       "        -0.3258356 ,  0.49039668],\n",
       "       [-1.0482652 ,  0.45238072,  1.114172  , -0.5686104 ,  1.371131  ,\n",
       "        -0.620078  ,  0.42679757,  0.17794047, -0.8584319 ,  0.03720796,\n",
       "        -1.0199231 , -0.56073755],\n",
       "       [ 0.43163827,  1.6587291 ,  1.114172  ,  2.8717215 , -0.72932494,\n",
       "         1.0458033 , -0.79262406, -0.83085567,  1.2765656 ,  0.03720796,\n",
       "        -0.3258356 ,  0.68151194],\n",
       "       [ 0.43163827, -2.0531127 , -1.114172  , -0.5686104 , -0.72932494,\n",
       "        -0.620078  , -0.79262406, -0.83085567,  0.62959665,  0.03720796,\n",
       "        -0.3258356 , -1.0385258 ],\n",
       "       [-1.0482652 , -0.48271823,  1.114172  , -0.5686104 , -0.72932494,\n",
       "        -0.620078  ,  1.0365083 ,  0.68233854,  0.19828404,  0.4932111 ,\n",
       "        -0.3258356 ,  0.39483902],\n",
       "       [ 0.43163827,  0.3024794 , -1.114172  ,  0.4634892 ,  1.371131  ,\n",
       "         1.3789797 ,  1.0365083 ,  0.68233854, -0.6643412 , -0.07679281,\n",
       "        -1.0199231 , -1.0385258 ],\n",
       "       [ 0.43163827,  1.1590582 ,  1.114172  , -0.5686104 ,  1.371131  ,\n",
       "        -0.620078  , -0.79262406, -0.83085567,  0.06889025,  0.03720796,\n",
       "        -0.3258356 ,  0.20372365],\n",
       "       [ 0.43163827, -0.12581035, -1.114172  , -0.5686104 ,  1.371131  ,\n",
       "         0.71262705, -1.4023348 ,  3.708727  , -1.31131   , -0.6467981 ,\n",
       "        -1.0199231 ,  1.1593002 ],\n",
       "       [ 0.43163827, -0.05442851,  0.        , -0.5686104 ,  1.371131  ,\n",
       "        -0.620078  ,  1.0365083 ,  0.68233854, -0.2545942 ,  0.4932111 ,\n",
       "         1.756427  ,  0.87262726],\n",
       "       [-1.0482652 ,  0.94491327,  0.        , -0.5686104 , -0.72932494,\n",
       "        -0.620078  ,  1.0365083 ,  0.68233854, -0.8799975 ,  0.4932111 ,\n",
       "         0.36825195,  0.49039668],\n",
       "       [ 0.43163827, -0.55409974,  1.114172  ,  2.8717215 ,  1.371131  ,\n",
       "         1.0458033 , -0.79262406, -0.83085567,  0.06889025,  0.03720796,\n",
       "         1.756427  ,  0.39483902],\n",
       "       [-1.0482652 , -0.48271823,  1.114172  ,  0.4634892 ,  1.371131  ,\n",
       "         1.3789797 ,  1.0365083 ,  0.68233854, -0.8799975 ,  0.4932111 ,\n",
       "         1.756427  ,  0.01260841],\n",
       "       [ 0.43163827, -1.1251525 , -1.114172  , -0.5686104 , -0.72932494,\n",
       "        -0.620078  , -0.79262406, -0.83085567,  0.62959665,  0.03720796,\n",
       "        -0.3258356 , -1.0385258 ],\n",
       "       [-1.0482652 ,  0.15971568,  1.114172  , -0.5686104 , -0.72932494,\n",
       "         1.3789797 ,  1.0365083 ,  0.68233854,  0.84525293,  0.778213  ,\n",
       "        -0.3258356 , -1.0385258 ],\n",
       "       [-1.0482652 , -0.48271823,  0.        , -0.5686104 , -0.72932494,\n",
       "        -0.620078  ,  1.0365083 ,  0.68233854,  0.19828404,  0.4932111 ,\n",
       "        -0.3258356 ,  0.39483902],\n",
       "       [ 0.43163827, -2.2672577 , -1.114172  , -0.5686104 ,  1.371131  ,\n",
       "         1.0458033 , -0.79262406, -0.83085567,  1.4922218 ,  0.03720796,\n",
       "         0.36825195, -0.17850694],\n",
       "       [-1.0482652 ,  1.515966  ,  1.114172  , -0.5686104 , -0.72932494,\n",
       "        -0.620078  ,  0.42679757,  0.17794047, -0.8584319 ,  0.03720796,\n",
       "        -1.0199231 , -1.0385258 ],\n",
       "       [-1.0482652 ,  1.0162952 ,  1.114172  ,  0.4634892 , -0.72932494,\n",
       "        -0.620078  , -1.4023348 , -0.3264576 , -1.31131   , -0.07679281,\n",
       "         1.756427  ,  2.3059921 ],\n",
       "       [ 0.43163827,  0.15971568,  1.114172  , -0.5686104 ,  1.371131  ,\n",
       "         1.3789797 ,  1.0365083 ,  0.68233854,  0.04732462,  0.4932111 ,\n",
       "         1.756427  ,  0.7770696 ],\n",
       "       [ 0.43163827, -2.1244946 , -1.114172  ,  2.8717215 , -0.72932494,\n",
       "        -0.620078  , -0.79262406, -0.83085567, -0.23302858,  0.03720796,\n",
       "         0.36825195, -1.0385258 ],\n",
       "       [ 0.43163827, -2.3386393 , -1.114172  , -0.5686104 , -0.72932494,\n",
       "        -0.620078  , -0.79262406, -0.83085567, -0.01737227,  0.03720796,\n",
       "        -0.3258356 , -0.56073755],\n",
       "       [ 0.43163827,  1.4445843 ,  1.114172  , -0.5686104 , -0.72932494,\n",
       "         2.7116847 , -0.79262406, -0.83085567,  2.1391907 ,  0.03720796,\n",
       "        -0.3258356 ,  0.87262726],\n",
       "       [ 1.9115418 , -0.55409974,  1.114172  ,  0.4634892 , -0.72932494,\n",
       "        -0.620078  , -1.4023348 , -1.3352537 ,  0.84525293,  0.37921032,\n",
       "         1.756427  ,  0.87262726],\n",
       "       [ 0.43163827,  0.37386054,  0.        ,  0.4634892 , -0.72932494,\n",
       "        -0.620078  ,  1.0365083 ,  0.68233854, -1.31131   ,  0.4932111 ,\n",
       "        -0.3258356 ,  0.10816609],\n",
       "       [ 1.9115418 ,  0.51662356,  0.        ,  0.4634892 , -0.72932494,\n",
       "        -0.620078  , -1.4023348 , -1.3352537 ,  1.9235344 ,  0.37921032,\n",
       "        -0.04820059,  1.5415308 ],\n",
       "       [-1.0482652 , -0.06156683, -1.114172  , -0.5686104 , -0.72932494,\n",
       "        -0.620078  ,  0.42679757,  0.17794047, -0.556513  ,  0.03720796,\n",
       "        -1.0199231 , -0.7518528 ],\n",
       "       [-1.0482652 ,  0.01695266,  1.114172  ,  0.4634892 , -0.72932494,\n",
       "        -0.620078  , -1.4023348 , -1.3352537 , -1.31131   , -0.9888004 ,\n",
       "        -1.0199231 ,  3.3571262 ],\n",
       "       [ 0.43163827, -2.3386393 ,  1.114172  , -0.5686104 , -0.72932494,\n",
       "        -0.620078  , -0.79262406, -0.83085567, -0.01737227,  0.03720796,\n",
       "        -0.3258356 , -0.08294927],\n",
       "       [-1.0482652 , -0.48271823,  0.        , -0.5686104 , -0.72932494,\n",
       "         1.0458033 ,  1.0365083 ,  0.68233854, -0.01737227,  0.4932111 ,\n",
       "        -0.3258356 , -1.0385258 ],\n",
       "       [-1.0482652 , -1.6962049 ,  0.        , -0.5686104 ,  1.371131  ,\n",
       "         0.71262705, -1.4023348 ,  3.708727  , -1.31131   , -5.7768373 ,\n",
       "        -1.0199231 ,  1.3504156 ],\n",
       "       [ 0.43163827,  1.1590582 ,  1.114172  , -0.5686104 , -0.72932494,\n",
       "         2.7116847 , -0.79262406, -0.83085567,  0.62959665,  0.03720796,\n",
       "         0.36825195,  0.87262726],\n",
       "       [ 1.9115418 ,  1.0162952 ,  1.114172  , -0.5686104 , -0.72932494,\n",
       "        -0.620078  , -1.4023348 ,  0.17794047, -1.0956538 , -0.07679281,\n",
       "        -1.0199231 , -1.0385258 ],\n",
       "       [ 0.43163827,  0.23109753,  1.114172  , -0.5686104 , -0.72932494,\n",
       "        -0.620078  ,  1.0365083 ,  0.68233854, -0.23302858,  0.4932111 ,\n",
       "         0.36825195,  0.58595437],\n",
       "       [-1.0482652 ,  0.45238072, -1.114172  , -0.5686104 ,  1.371131  ,\n",
       "        -0.620078  ,  0.42679757,  0.17794047, -0.2545942 ,  0.03720796,\n",
       "        -1.0199231 , -0.08294927],\n",
       "       [ 0.43163827,  1.0876763 , -1.114172  ,  2.8717215 , -0.72932494,\n",
       "         1.0458033 , -0.79262406, -0.83085567, -0.8799975 ,  0.03720796,\n",
       "        -0.3258356 , -1.0385258 ],\n",
       "       [-1.0482652 ,  0.65938723,  0.        ,  0.4634892 , -0.72932494,\n",
       "        -0.620078  ,  1.0365083 ,  0.68233854, -1.31131   ,  0.4932111 ,\n",
       "        -0.3258356 ,  0.10816609],\n",
       "       [-1.0482652 ,  1.515966  ,  1.114172  , -0.5686104 , -0.72932494,\n",
       "        -0.620078  ,  0.42679757,  0.17794047, -0.8584319 ,  0.03720796,\n",
       "        -1.0199231 , -0.56073755],\n",
       "       [ 0.43163827,  0.15971568, -1.114172  , -0.5686104 ,  1.371131  ,\n",
       "        -0.620078  ,  1.0365083 ,  0.68233854,  0.84525293,  0.778213  ,\n",
       "        -0.3258356 , -1.0385258 ],\n",
       "       [ 1.9115418 ,  0.5880054 , -1.114172  ,  1.4955889 , -0.72932494,\n",
       "        -0.620078  , -1.4023348 , -1.3352537 ,  0.95308113,  0.37921032,\n",
       "        -0.3258356 ,  0.68151194],\n",
       "       [ 1.9115418 , -0.48271823,  0.        , -0.5686104 , -0.72932494,\n",
       "        -0.620078  ,  1.0365083 ,  0.68233854,  0.62959665,  0.4932111 ,\n",
       "        -0.3258356 , -1.0385258 ],\n",
       "       [ 1.9115418 , -0.55409974,  1.114172  ,  0.4634892 , -0.72932494,\n",
       "        -0.620078  , -1.4023348 , -1.3352537 ,  0.84525293,  0.37921032,\n",
       "         1.756427  ,  0.87262726],\n",
       "       [ 0.43163827,  0.15971568,  1.114172  , -0.5686104 ,  1.371131  ,\n",
       "        -0.620078  ,  1.0365083 ,  0.68233854,  0.34924346,  0.4932111 ,\n",
       "         1.756427  ,  0.7770696 ],\n",
       "       [-1.0482652 ,  0.65938723,  1.114172  , -0.5686104 , -0.72932494,\n",
       "        -0.620078  ,  0.42679757,  0.17794047,  2.7861598 ,  0.03720796,\n",
       "        -1.0199231 , -0.08294927],\n",
       "       [ 0.43163827,  0.3024794 ,  1.114172  ,  0.4634892 , -0.72932494,\n",
       "        -0.620078  ,  1.0365083 ,  0.68233854,  0.04732462,  0.4932111 ,\n",
       "         1.756427  ,  0.7770696 ],\n",
       "       [-1.0482652 , -0.06156683,  1.114172  , -0.5686104 , -0.72932494,\n",
       "        -0.620078  ,  0.42679757,  0.17794047, -0.8584319 ,  0.03720796,\n",
       "        -1.0199231 , -1.0385258 ],\n",
       "       [ 0.43163827,  0.08833451, -1.114172  , -0.5686104 , -0.72932494,\n",
       "        -0.620078  , -0.79262406, -0.83085567,  1.2765656 ,  0.03720796,\n",
       "        -0.3258356 , -1.0385258 ],\n",
       "       [ 1.9115418 ,  0.51662356,  0.        ,  0.4634892 , -0.72932494,\n",
       "        -0.620078  , -1.4023348 , -1.3352537 ,  1.9235344 ,  0.37921032,\n",
       "        -0.04820059,  0.58595437],\n",
       "       [ 0.43163827,  0.94491327,  1.114172  , -0.5686104 , -0.72932494,\n",
       "         1.0458033 ,  1.0365083 ,  0.68233854, -0.23302858,  0.4932111 ,\n",
       "         0.36825195,  0.10816609],\n",
       "       [-1.0482652 , -0.06156683, -1.114172  , -0.5686104 , -0.72932494,\n",
       "        -0.620078  ,  0.42679757,  0.17794047, -0.556513  ,  0.03720796,\n",
       "        -1.0199231 , -0.56073755],\n",
       "       [ 0.43163827, -0.1971922 , -1.114172  ,  2.8717215 , -0.72932494,\n",
       "         1.0458033 , -0.79262406, -0.83085567, -0.23302858,  0.03720796,\n",
       "         0.36825195, -1.0385258 ],\n",
       "       [ 0.43163827,  1.0876763 ,  1.114172  ,  2.8717215 ,  1.371131  ,\n",
       "         2.7116847 , -0.79262406, -0.83085567,  0.62959665,  0.03720796,\n",
       "        -0.3258356 ,  0.20372365],\n",
       "       [-1.0482652 ,  0.45238072, -1.114172  , -0.5686104 ,  1.371131  ,\n",
       "        -0.620078  ,  0.42679757,  0.17794047, -0.8584319 ,  0.03720796,\n",
       "        -1.0199231 , -1.0385258 ],\n",
       "       [ 0.43163827,  0.23109753,  1.114172  , -0.5686104 ,  1.371131  ,\n",
       "         1.0458033 ,  1.0365083 ,  0.68233854, -0.8799975 ,  0.4932111 ,\n",
       "         1.756427  ,  0.10816609],\n",
       "       [ 1.9115418 ,  0.5880054 ,  0.        ,  0.4634892 , -0.72932494,\n",
       "        -0.620078  , -1.4023348 , -1.3352537 , -0.21146294,  0.37921032,\n",
       "         1.756427  ,  1.4459732 ],\n",
       "       [-1.0482652 ,  0.65938723, -1.114172  ,  0.4634892 ,  1.371131  ,\n",
       "         1.0458033 ,  2.25593   ,  1.6911347 , -1.31131   , -2.926815  ,\n",
       "        -1.0199231 ,  0.39483902],\n",
       "       [-1.0482652 ,  0.51662356, -1.114172  ,  0.4634892 , -0.72932494,\n",
       "        -0.620078  ,  1.0365083 ,  0.68233854, -0.8584319 ,  0.4932111 ,\n",
       "         1.756427  ,  0.7770696 ],\n",
       "       [ 0.43163827, -2.3386393 , -1.114172  , -0.5686104 , -0.72932494,\n",
       "        -0.620078  , -0.79262406, -0.83085567, -0.01737227,  0.03720796,\n",
       "        -0.3258356 , -1.0385258 ],\n",
       "       [ 0.43163827,  0.4452424 , -1.114172  , -0.5686104 , -0.72932494,\n",
       "         1.3789797 , -0.42679757, -0.52821684,  0.3061122 , -1.7868066 ,\n",
       "        -1.0199231 , -1.0385258 ],\n",
       "       [-1.0482652 , -0.5112708 , -1.114172  , -0.5686104 , -0.72932494,\n",
       "        -0.620078  ,  0.42679757,  0.17794047,  2.1391907 ,  0.03720796,\n",
       "        -1.0199231 , -1.0385258 ],\n",
       "       [-1.0482652 ,  0.45238072, -1.114172  , -0.5686104 ,  1.371131  ,\n",
       "        -0.620078  ,  0.42679757,  0.17794047, -0.8584319 ,  0.03720796,\n",
       "        -1.0199231 , -1.0385258 ],\n",
       "       [ 0.43163827, -2.3386393 ,  0.        ,  1.1515555 , -0.72932494,\n",
       "        -0.620078  , -0.79262406, -0.83085567, -0.01737227,  0.03720796,\n",
       "        -0.3258356 ,  2.9748957 ],\n",
       "       [ 0.43163827, -1.6962049 , -1.114172  , -0.5686104 , -0.72932494,\n",
       "        -0.620078  , -0.79262406, -0.83085567,  1.2765656 ,  0.03720796,\n",
       "        -0.3258356 , -1.0385258 ],\n",
       "       [-1.0482652 ,  0.45238072, -1.114172  , -0.5686104 ,  1.371131  ,\n",
       "        -0.620078  ,  0.42679757,  0.17794047,  0.04732462,  0.03720796,\n",
       "        -1.0199231 , -1.0385258 ],\n",
       "       [-1.0482652 ,  0.15971568, -1.114172  , -0.5686104 , -0.72932494,\n",
       "        -0.620078  ,  1.0365083 ,  0.68233854,  2.1391907 ,  0.778213  ,\n",
       "        -0.3258356 , -0.8474105 ],\n",
       "       [ 0.43163827,  0.15971568,  1.114172  , -0.5686104 ,  1.371131  ,\n",
       "         1.3789797 ,  1.0365083 ,  0.68233854, -0.2545942 ,  0.4932111 ,\n",
       "         1.756427  ,  0.58595437]], dtype=float32)>"
      ]
     },
     "execution_count": 25,
     "metadata": {},
     "output_type": "execute_result"
    }
   ],
   "source": [
    "norm_layer(X_train)"
   ]
  },
  {
   "cell_type": "code",
   "execution_count": 228,
   "id": "9bd2b5ca",
   "metadata": {},
   "outputs": [],
   "source": [
    "def huber_fn(y_true, y_pred):\n",
    "    error = y_true - y_pred\n",
    "    is_small_error = tf.abs(error) < 1\n",
    "    squared_loss = tf.square(error) /2 \n",
    "    linear_loss = tf.abs(error) - 0.5\n",
    "    return tf.where(is_small_error, squared_loss, linear_loss)"
   ]
  },
  {
   "cell_type": "code",
   "execution_count": 26,
   "id": "cathedral-contents",
   "metadata": {},
   "outputs": [
    {
     "name": "stdout",
     "output_type": "stream",
     "text": [
      "Epoch 1/40\n",
      "2/2 [==============================] - 1s 327ms/step - loss: 2.0508 - MAE: 1.3195 - val_loss: 1.7182 - val_MAE: 1.1977\n",
      "Epoch 2/40\n",
      "2/2 [==============================] - 0s 53ms/step - loss: 1.5957 - MAE: 1.1530 - val_loss: 1.3713 - val_MAE: 1.0490\n",
      "Epoch 3/40\n",
      "2/2 [==============================] - 0s 58ms/step - loss: 1.2688 - MAE: 1.0159 - val_loss: 1.1226 - val_MAE: 0.9386\n",
      "Epoch 4/40\n",
      "2/2 [==============================] - 0s 57ms/step - loss: 1.0263 - MAE: 0.9074 - val_loss: 0.9328 - val_MAE: 0.8481\n",
      "Epoch 5/40\n",
      "2/2 [==============================] - 0s 59ms/step - loss: 0.8475 - MAE: 0.8135 - val_loss: 0.7916 - val_MAE: 0.7719\n",
      "Epoch 6/40\n",
      "2/2 [==============================] - 0s 66ms/step - loss: 0.7096 - MAE: 0.7357 - val_loss: 0.6819 - val_MAE: 0.7058\n",
      "Epoch 7/40\n",
      "2/2 [==============================] - 0s 63ms/step - loss: 0.6007 - MAE: 0.6695 - val_loss: 0.5951 - val_MAE: 0.6476\n",
      "Epoch 8/40\n",
      "2/2 [==============================] - 0s 56ms/step - loss: 0.5150 - MAE: 0.6148 - val_loss: 0.5262 - val_MAE: 0.6056\n",
      "Epoch 9/40\n",
      "2/2 [==============================] - 0s 53ms/step - loss: 0.4469 - MAE: 0.5681 - val_loss: 0.4686 - val_MAE: 0.5704\n",
      "Epoch 10/40\n",
      "2/2 [==============================] - 0s 50ms/step - loss: 0.3933 - MAE: 0.5254 - val_loss: 0.4250 - val_MAE: 0.5409\n",
      "Epoch 11/40\n",
      "2/2 [==============================] - 0s 51ms/step - loss: 0.3501 - MAE: 0.4900 - val_loss: 0.3885 - val_MAE: 0.5136\n",
      "Epoch 12/40\n",
      "2/2 [==============================] - 0s 53ms/step - loss: 0.3146 - MAE: 0.4594 - val_loss: 0.3585 - val_MAE: 0.4889\n",
      "Epoch 13/40\n",
      "2/2 [==============================] - 0s 57ms/step - loss: 0.2856 - MAE: 0.4332 - val_loss: 0.3333 - val_MAE: 0.4672\n",
      "Epoch 14/40\n",
      "2/2 [==============================] - 0s 60ms/step - loss: 0.2616 - MAE: 0.4096 - val_loss: 0.3126 - val_MAE: 0.4507\n",
      "Epoch 15/40\n",
      "2/2 [==============================] - 0s 63ms/step - loss: 0.2412 - MAE: 0.3908 - val_loss: 0.2938 - val_MAE: 0.4343\n",
      "Epoch 16/40\n",
      "2/2 [==============================] - 0s 93ms/step - loss: 0.2240 - MAE: 0.3728 - val_loss: 0.2774 - val_MAE: 0.4198\n",
      "Epoch 17/40\n",
      "2/2 [==============================] - 0s 60ms/step - loss: 0.2085 - MAE: 0.3565 - val_loss: 0.2637 - val_MAE: 0.4129\n",
      "Epoch 18/40\n",
      "2/2 [==============================] - 0s 56ms/step - loss: 0.1954 - MAE: 0.3420 - val_loss: 0.2530 - val_MAE: 0.4072\n",
      "Epoch 19/40\n",
      "2/2 [==============================] - 0s 54ms/step - loss: 0.1852 - MAE: 0.3314 - val_loss: 0.2435 - val_MAE: 0.4017\n",
      "Epoch 20/40\n",
      "2/2 [==============================] - 0s 43ms/step - loss: 0.1759 - MAE: 0.3226 - val_loss: 0.2347 - val_MAE: 0.3963\n",
      "Epoch 21/40\n",
      "2/2 [==============================] - 0s 47ms/step - loss: 0.1681 - MAE: 0.3142 - val_loss: 0.2270 - val_MAE: 0.3912\n",
      "Epoch 22/40\n",
      "2/2 [==============================] - 0s 48ms/step - loss: 0.1610 - MAE: 0.3085 - val_loss: 0.2196 - val_MAE: 0.3861\n",
      "Epoch 23/40\n",
      "2/2 [==============================] - 0s 48ms/step - loss: 0.1547 - MAE: 0.3031 - val_loss: 0.2129 - val_MAE: 0.3813\n",
      "Epoch 24/40\n",
      "2/2 [==============================] - 0s 48ms/step - loss: 0.1486 - MAE: 0.2970 - val_loss: 0.2064 - val_MAE: 0.3764\n",
      "Epoch 25/40\n",
      "2/2 [==============================] - 0s 44ms/step - loss: 0.1430 - MAE: 0.2928 - val_loss: 0.2012 - val_MAE: 0.3723\n",
      "Epoch 26/40\n",
      "2/2 [==============================] - 0s 47ms/step - loss: 0.1382 - MAE: 0.2881 - val_loss: 0.1958 - val_MAE: 0.3678\n",
      "Epoch 27/40\n",
      "2/2 [==============================] - 0s 46ms/step - loss: 0.1336 - MAE: 0.2840 - val_loss: 0.1909 - val_MAE: 0.3637\n",
      "Epoch 28/40\n",
      "2/2 [==============================] - 0s 51ms/step - loss: 0.1296 - MAE: 0.2807 - val_loss: 0.1864 - val_MAE: 0.3597\n",
      "Epoch 29/40\n",
      "2/2 [==============================] - 0s 58ms/step - loss: 0.1259 - MAE: 0.2772 - val_loss: 0.1823 - val_MAE: 0.3560\n",
      "Epoch 30/40\n",
      "2/2 [==============================] - 0s 59ms/step - loss: 0.1223 - MAE: 0.2738 - val_loss: 0.1781 - val_MAE: 0.3519\n",
      "Epoch 31/40\n",
      "2/2 [==============================] - 0s 78ms/step - loss: 0.1190 - MAE: 0.2704 - val_loss: 0.1741 - val_MAE: 0.3482\n",
      "Epoch 32/40\n",
      "2/2 [==============================] - 0s 98ms/step - loss: 0.1161 - MAE: 0.2675 - val_loss: 0.1705 - val_MAE: 0.3448\n",
      "Epoch 33/40\n",
      "2/2 [==============================] - 0s 50ms/step - loss: 0.1134 - MAE: 0.2645 - val_loss: 0.1672 - val_MAE: 0.3414\n",
      "Epoch 34/40\n",
      "2/2 [==============================] - 0s 47ms/step - loss: 0.1108 - MAE: 0.2617 - val_loss: 0.1638 - val_MAE: 0.3380\n",
      "Epoch 35/40\n",
      "2/2 [==============================] - 0s 46ms/step - loss: 0.1082 - MAE: 0.2593 - val_loss: 0.1605 - val_MAE: 0.3346\n",
      "Epoch 36/40\n",
      "2/2 [==============================] - 0s 47ms/step - loss: 0.1059 - MAE: 0.2570 - val_loss: 0.1575 - val_MAE: 0.3314\n",
      "Epoch 37/40\n",
      "2/2 [==============================] - 0s 68ms/step - loss: 0.1036 - MAE: 0.2547 - val_loss: 0.1544 - val_MAE: 0.3281\n",
      "Epoch 38/40\n",
      "2/2 [==============================] - 0s 62ms/step - loss: 0.1017 - MAE: 0.2526 - val_loss: 0.1512 - val_MAE: 0.3249\n",
      "Epoch 39/40\n",
      "2/2 [==============================] - 0s 52ms/step - loss: 0.0997 - MAE: 0.2503 - val_loss: 0.1481 - val_MAE: 0.3217\n",
      "Epoch 40/40\n",
      "2/2 [==============================] - 0s 47ms/step - loss: 0.0978 - MAE: 0.2479 - val_loss: 0.1453 - val_MAE: 0.3186\n"
     ]
    }
   ],
   "source": [
    "model4 = keras.models.Sequential([\n",
    "    norm_layer,\n",
    "    keras.layers.Dense(5, activation = 'relu'),\n",
    "    keras.layers.Dense(1)])\n",
    "\n",
    "model4.compile(loss = 'mean_squared_error',\n",
    "             optimizer = 'sgd',\n",
    "             metrics = [\"MAE\"])\n",
    "\n",
    "history4 = model4.fit(X_train.to_numpy(), y_train.to_numpy(), epochs = 40,\n",
    "                    validation_split = 0.2, shuffle = True)"
   ]
  },
  {
   "cell_type": "code",
   "execution_count": 122,
   "id": "d483a323",
   "metadata": {},
   "outputs": [
    {
     "data": {
      "text/plain": [
       "'17_54_42'"
      ]
     },
     "execution_count": 122,
     "metadata": {},
     "output_type": "execute_result"
    }
   ],
   "source": [
    "# need from datetime import datetime\n",
    "\n",
    "now = datetime.now()\n",
    "urrent_time = now.strftime(\"%H_%M_%S\")\n",
    "urrent_time"
   ]
  },
  {
   "cell_type": "code",
   "execution_count": 16,
   "id": "90b0dec8",
   "metadata": {},
   "outputs": [
    {
     "name": "stderr",
     "output_type": "stream",
     "text": [
      "C:\\Users\\Inspektor\\anaconda3\\lib\\site-packages\\keras\\optimizer_v2\\adam.py:105: UserWarning: The `lr` argument is deprecated, use `learning_rate` instead.\n",
      "  super(Adam, self).__init__(name, **kwargs)\n"
     ]
    },
    {
     "ename": "NameError",
     "evalue": "name 'huber_fn' is not defined",
     "output_type": "error",
     "traceback": [
      "\u001b[1;31m---------------------------------------------------------------------------\u001b[0m",
      "\u001b[1;31mNameError\u001b[0m                                 Traceback (most recent call last)",
      "Input \u001b[1;32mIn [16]\u001b[0m, in \u001b[0;36m<cell line: 3>\u001b[1;34m()\u001b[0m\n\u001b[0;32m      7\u001b[0m model\u001b[38;5;241m.\u001b[39madd(keras\u001b[38;5;241m.\u001b[39mlayers\u001b[38;5;241m.\u001b[39mDense(\u001b[38;5;241m1\u001b[39m))\n\u001b[0;32m      8\u001b[0m optimizer \u001b[38;5;241m=\u001b[39m keras\u001b[38;5;241m.\u001b[39moptimizers\u001b[38;5;241m.\u001b[39mAdam(lr \u001b[38;5;241m=\u001b[39m \u001b[38;5;241m0.01\u001b[39m, beta_1\u001b[38;5;241m=\u001b[39m\u001b[38;5;241m0.9\u001b[39m, beta_2 \u001b[38;5;241m=\u001b[39m \u001b[38;5;241m0.999\u001b[39m)\n\u001b[1;32m----> 9\u001b[0m model\u001b[38;5;241m.\u001b[39mcompile(loss \u001b[38;5;241m=\u001b[39m \u001b[43mhuber_fn\u001b[49m,\n\u001b[0;32m     10\u001b[0m              optimizer \u001b[38;5;241m=\u001b[39m optimizer,\n\u001b[0;32m     11\u001b[0m              metrics \u001b[38;5;241m=\u001b[39m [\u001b[38;5;124m\"\u001b[39m\u001b[38;5;124mMAE\u001b[39m\u001b[38;5;124m\"\u001b[39m])\n\u001b[0;32m     12\u001b[0m history \u001b[38;5;241m=\u001b[39m model\u001b[38;5;241m.\u001b[39mfit(X_train, y_train, epochs \u001b[38;5;241m=\u001b[39m \u001b[38;5;241m10\u001b[39m,\n\u001b[0;32m     13\u001b[0m                     validation_split \u001b[38;5;241m=\u001b[39m \u001b[38;5;241m0.2\u001b[39m, shuffle \u001b[38;5;241m=\u001b[39m \u001b[38;5;28;01mTrue\u001b[39;00m, verbose\u001b[38;5;241m=\u001b[39m\u001b[38;5;241m0\u001b[39m)\n\u001b[0;32m     14\u001b[0m \u001b[38;5;66;03m# pomoc naukowa\u001b[39;00m\n",
      "\u001b[1;31mNameError\u001b[0m: name 'huber_fn' is not defined"
     ]
    },
    {
     "data": {
      "text/plain": [
       "<Figure size 576x252 with 0 Axes>"
      ]
     },
     "metadata": {},
     "output_type": "display_data"
    }
   ],
   "source": [
    "lista = []\n",
    "plt.figure(figsize=(8, 3.5))\n",
    "for _ in range(3):\n",
    "    model = keras.models.Sequential()\n",
    "    model.add(keras.layers.Dense(4, activation = 'relu', input_shape = (12,)))\n",
    "    model.add(keras.layers.Dense(4, activation = 'relu'))\n",
    "    model.add(keras.layers.Dense(1))\n",
    "    optimizer = keras.optimizers.Adam(lr = 0.01, beta_1=0.9, beta_2 = 0.999)\n",
    "    model.compile(loss = huber_fn,\n",
    "                 optimizer = optimizer,\n",
    "                 metrics = [\"MAE\"])\n",
    "    history = model.fit(X_train, y_train, epochs = 10,\n",
    "                        validation_split = 0.2, shuffle = True, verbose=0)\n",
    "    # pomoc naukowa\n",
    "    y_pred_ = np.ravel(model.predict(scaler.transform(date_p))) \n",
    "    y_true_ = np.ravel(CRFp) \n",
    "    wynik = measures.pearsonr(y_pred_, y_true_)[0].round(2)\n",
    "    lista.append(wynik)\n",
    "    plt.plot(history.history['loss'])\n",
    "    #plt.plot(history.history['val_loss'], '--')\n",
    "print(lista, 'średnia: ', np.mean(lista).round(3), 'max: ', np.max(lista).round(3), 'struktura: ', struc(model))\n",
    "\n",
    "now = datetime.now()\n",
    "urrent_time = now.strftime(\"%H_%M_%S\")\n",
    "\n",
    "plt.text(0,0.05, s = \"średnia: {}  max: {}  struktura: {}\".format(np.mean(lista).round(3),np.max(lista).round(3),struc(model)) )\n",
    "plt.savefig('{}'.format(urrent_time))"
   ]
  },
  {
   "cell_type": "code",
   "execution_count": 77,
   "id": "3608f615",
   "metadata": {},
   "outputs": [],
   "source": [
    "aa = 'hahah'"
   ]
  },
  {
   "cell_type": "code",
   "execution_count": 81,
   "id": "a8462669",
   "metadata": {},
   "outputs": [
    {
     "data": {
      "text/plain": [
       "'{aa}'"
      ]
     },
     "execution_count": 81,
     "metadata": {},
     "output_type": "execute_result"
    }
   ],
   "source": [
    "'{aa}'"
   ]
  },
  {
   "cell_type": "code",
   "execution_count": 28,
   "id": "353672ba",
   "metadata": {},
   "outputs": [
    {
     "data": {
      "text/plain": [
       "0.301"
      ]
     },
     "execution_count": 28,
     "metadata": {},
     "output_type": "execute_result"
    }
   ],
   "source": [
    "#golas\n",
    "np.mean(lista).round(3)"
   ]
  },
  {
   "cell_type": "code",
   "execution_count": 158,
   "id": "ccee4e3f",
   "metadata": {},
   "outputs": [
    {
     "data": {
      "text/plain": [
       "[0.07, 0.46, 0.39, 0.23, 0.46, 0.3, 0.18, 0.35, 0.05, 0.21]"
      ]
     },
     "execution_count": 158,
     "metadata": {},
     "output_type": "execute_result"
    }
   ],
   "source": [
    "lista # kernel_initializer = 'he_normal'"
   ]
  },
  {
   "cell_type": "code",
   "execution_count": 165,
   "id": "8e755c49",
   "metadata": {},
   "outputs": [
    {
     "data": {
      "text/plain": [
       "[0.28, 0.18, 0.7, -0.26, 0.6, 0.46, 0.29]"
      ]
     },
     "execution_count": 165,
     "metadata": {},
     "output_type": "execute_result"
    }
   ],
   "source": [
    "lista #selu + lecun_normal"
   ]
  },
  {
   "cell_type": "code",
   "execution_count": 167,
   "id": "2031888c",
   "metadata": {},
   "outputs": [
    {
     "data": {
      "text/plain": [
       "[0.72, 0.56, 0.56, 0.55, 0.35, 0.37, 0.16]"
      ]
     },
     "execution_count": 167,
     "metadata": {},
     "output_type": "execute_result"
    }
   ],
   "source": [
    "lista #selu + lecun_normal"
   ]
  },
  {
   "cell_type": "code",
   "execution_count": 169,
   "id": "23cc6c0f",
   "metadata": {},
   "outputs": [
    {
     "data": {
      "text/plain": [
       "[0.12, 0.45, 0.34, 0.56, 0.54, 0.25, 0.64]"
      ]
     },
     "execution_count": 169,
     "metadata": {},
     "output_type": "execute_result"
    }
   ],
   "source": [
    "lista # obcinanie gradientów"
   ]
  },
  {
   "cell_type": "code",
   "execution_count": 173,
   "id": "89967383",
   "metadata": {},
   "outputs": [
    {
     "data": {
      "text/plain": [
       "[0.49, 0.27, 0.38, -0.03, 0.44, 0.17, 0.16]"
      ]
     },
     "execution_count": 173,
     "metadata": {},
     "output_type": "execute_result"
    }
   ],
   "source": [
    "lista #optimizer = keras.optimizers.SGD(lr=0.001, momentum = 0.9)"
   ]
  },
  {
   "cell_type": "code",
   "execution_count": 175,
   "id": "7526cf99",
   "metadata": {},
   "outputs": [
    {
     "data": {
      "text/plain": [
       "[0.22, -0.15, 0.33, -0.08, 0.44, 0.38, 0.61]"
      ]
     },
     "execution_count": 175,
     "metadata": {},
     "output_type": "execute_result"
    }
   ],
   "source": [
    "lista"
   ]
  },
  {
   "cell_type": "code",
   "execution_count": 177,
   "id": "468a167b",
   "metadata": {},
   "outputs": [
    {
     "data": {
      "text/plain": [
       "[0.2, 0.23, 0.09, 0.12, 0.47, -0.2, 0.07]"
      ]
     },
     "execution_count": 177,
     "metadata": {},
     "output_type": "execute_result"
    }
   ],
   "source": [
    "lista"
   ]
  },
  {
   "cell_type": "code",
   "execution_count": 179,
   "id": "eb9b98ec",
   "metadata": {},
   "outputs": [
    {
     "data": {
      "text/plain": [
       "[0.67, 0.6, 0.64, 0.62, 0.37, 0.72, 0.6]"
      ]
     },
     "execution_count": 179,
     "metadata": {},
     "output_type": "execute_result"
    }
   ],
   "source": [
    "lista # optimizers.SGD(lr=0.01, momentum = 0.9, nesterov = True)"
   ]
  },
  {
   "cell_type": "code",
   "execution_count": 181,
   "id": "30d86495",
   "metadata": {},
   "outputs": [
    {
     "data": {
      "text/plain": [
       "[0.46, 0.16, 0.43, 0.68, 0.45, 0.65, 0.33]"
      ]
     },
     "execution_count": 181,
     "metadata": {},
     "output_type": "execute_result"
    }
   ],
   "source": [
    "lista #momentum = 0.9, nesterov = True)"
   ]
  },
  {
   "cell_type": "code",
   "execution_count": 183,
   "id": "73c39f16",
   "metadata": {},
   "outputs": [
    {
     "data": {
      "text/plain": [
       "[0.78, 0.78, 0.43, 0.74, 0.89, 0.79, 0.78]"
      ]
     },
     "execution_count": 183,
     "metadata": {},
     "output_type": "execute_result"
    }
   ],
   "source": [
    "lista #keras.optimizers.RMSprop(lr = 0.01, rho = 0.9)"
   ]
  },
  {
   "cell_type": "code",
   "execution_count": 185,
   "id": "d1865130",
   "metadata": {},
   "outputs": [
    {
     "data": {
      "text/plain": [
       "[0.92, 0.76, 0.69, 0.89, -0.13, 0.68, 0.83]"
      ]
     },
     "execution_count": 185,
     "metadata": {},
     "output_type": "execute_result"
    }
   ],
   "source": [
    "lista # keras.optimizers.Adam(lr = 0.01, beta_1=0.9, beta_2 = 0.999)"
   ]
  },
  {
   "cell_type": "code",
   "execution_count": null,
   "id": "7c562b4c",
   "metadata": {},
   "outputs": [],
   "source": [
    "\"\"\"    optimizer = keras.optimizers.Adam(lr = 0.01, beta_1=0.9, beta_2 = 0.999)\n",
    "    model.compile(loss = huber_fn,\"\"\"\n",
    "[0.82, 0.78, 0.83, 0.69, 0.76, 0.72, 0.81] 0.773"
   ]
  },
  {
   "cell_type": "code",
   "execution_count": null,
   "id": "0d5262f3",
   "metadata": {},
   "outputs": [],
   "source": [
    "    optimizer = keras.optimizers.Adam(lr = 0.01, beta_1=0.9, beta_2 = 0.999)\n",
    "    model.compile(loss = huber_fn,\n",
    "                 optimizer = optimizer,\n",
    "                 metrics = [\"MAE\"])\n",
    "    history = model.fit(X_train, y_train, epochs = 50,\n",
    "                        validation_split = 0.2, shuffle = True, verbose=0)\n",
    "\n",
    "[0.8, 0.69, 0.72, 0.78, 0.68, 0.87, 0.72, 0.77, 0.72, 0.62] 0.737 [6, 5, 1]\n",
    "[0.48, 0.67, 0.71, 0.68, 0.7, 0.48, 0.49, 0.8, 0.6, 0.85] średnia:  0.646 max:  0.85 struktura:  [6, 5, 1]\n",
    "[0.74, 0.68, 0.83, 0.74, 0.77, 0.79, 0.74, 0.75, 0.83, 0.77] średnia:  0.764 max:  0.83 struktura:  [6, 5, 1]"
   ]
  },
  {
   "cell_type": "code",
   "execution_count": null,
   "id": "c2485bbc",
   "metadata": {},
   "outputs": [],
   "source": []
  },
  {
   "cell_type": "code",
   "execution_count": null,
   "id": "b77b559e",
   "metadata": {},
   "outputs": [],
   "source": []
  },
  {
   "cell_type": "code",
   "execution_count": 140,
   "id": "a7fefab9",
   "metadata": {},
   "outputs": [
    {
     "data": {
      "text/plain": [
       "Text(0.5, 1.0, 'Huber loss')"
      ]
     },
     "execution_count": 140,
     "metadata": {},
     "output_type": "execute_result"
    },
    {
     "data": {
      "image/png": "[encoded data removed]",
      "text/plain": [
       "<Figure size 576x252 with 1 Axes>"
      ]
     },
     "metadata": {
      "needs_background": "light"
     },
     "output_type": "display_data"
    }
   ],
   "source": [
    "plt.figure(figsize=(8, 3.5))\n",
    "z = np.linspace(-4, 4, 200)\n",
    "z_center = np.linspace(-1, 1, 200)\n",
    "plt.plot(z, huber_fn(0, z), \"b-\", linewidth=2, label=\"huber($z$)\")\n",
    "plt.plot(z, z ** 2 / 2, \"r:\", linewidth=1)\n",
    "plt.plot(z_center, z_center ** 2 / 2, \"r\", linewidth=2)\n",
    "plt.plot([-1, -1], [0, huber_fn(0., -1.)], \"k--\")\n",
    "plt.plot([1, 1], [0, huber_fn(0., 1.)], \"k--\")\n",
    "plt.gca().axhline(y=0, color='k')\n",
    "plt.gca().axvline(x=0, color='k')\n",
    "plt.text(2.1, 3.5, r\"$\\frac{1}{2}z^2$\", color=\"r\", fontsize=15)\n",
    "plt.text(3.0, 2.2, r\"$|z| - \\frac{1}{2}$\", color=\"b\", fontsize=15)\n",
    "plt.axis([-4, 4, 0, 4])\n",
    "plt.grid(True)\n",
    "plt.xlabel(\"$z$\")\n",
    "plt.legend(fontsize=14)\n",
    "plt.title(\"Huber loss\", fontsize=14)"
   ]
  },
  {
   "cell_type": "markdown",
   "id": "9f1bd27d",
   "metadata": {},
   "source": [
    "# wykres pudełkowy"
   ]
  },
  {
   "cell_type": "markdown",
   "id": "b0f491d0",
   "metadata": {},
   "source": [
    "DODAĆ OPIS WYKRESU PUDEŁKOWEGO"
   ]
  },
  {
   "cell_type": "code",
   "execution_count": 158,
   "id": "123fddbf",
   "metadata": {},
   "outputs": [
    {
     "data": {
      "text/plain": [
       "[(0.57, '[6, 6, 1]'),\n",
       " (0.51, '[6, 6, 1]'),\n",
       " (0.61, '[6, 6, 1]'),\n",
       " (0.54, '[7, 7, 1]'),\n",
       " (0.71, '[7, 7, 1]'),\n",
       " (0.61, '[7, 7, 1]'),\n",
       " (0.79, '[8, 8, 1]'),\n",
       " (0.61, '[8, 8, 1]'),\n",
       " (0.72, '[8, 8, 1]'),\n",
       " (0.67, '[9, 9, 1]')]"
      ]
     },
     "execution_count": 158,
     "metadata": {},
     "output_type": "execute_result"
    }
   ],
   "source": [
    "list(zip(\n",
    "    np.array(ttt).max(axis=-1).round(decimals=2),\n",
    "    zzz))"
   ]
  },
  {
   "cell_type": "code",
   "execution_count": 170,
   "id": "cc2f501b",
   "metadata": {},
   "outputs": [
    {
     "data": {
      "text/plain": [
       "(array([0, 1, 2, 3, 4, 5, 6, 7, 8, 9]),\n",
       " [Text(0, 0, '[6, 6, 1]'),\n",
       "  Text(1, 0, '[6, 6, 1]'),\n",
       "  Text(2, 0, '[6, 6, 1]'),\n",
       "  Text(3, 0, '[7, 7, 1]'),\n",
       "  Text(4, 0, '[7, 7, 1]'),\n",
       "  Text(5, 0, '[7, 7, 1]'),\n",
       "  Text(6, 0, '[8, 8, 1]'),\n",
       "  Text(7, 0, '[8, 8, 1]'),\n",
       "  Text(8, 0, '[8, 8, 1]'),\n",
       "  Text(9, 0, '[9, 9, 1]')])"
      ]
     },
     "execution_count": 170,
     "metadata": {},
     "output_type": "execute_result"
    },
    {
     "data": {
      "image/png": "[encoded data removed]",
      "text/plain": [
       "<Figure size 432x288 with 1 Axes>"
      ]
     },
     "metadata": {
      "needs_background": "light"
     },
     "output_type": "display_data"
    }
   ],
   "source": [
    "plt.bar(x = range(10), height = np.array(ttt).max(axis=-1).round(decimals=2), tick_label = zzz)\n",
    "plt.xticks(rotation=30)"
   ]
  },
  {
   "cell_type": "code",
   "execution_count": 126,
   "id": "003e3fef",
   "metadata": {},
   "outputs": [
    {
     "data": {
      "text/plain": [
       "array([ 0.51538557,  0.57079661,  0.21009159,  0.13066125,  0.14141929,\n",
       "        0.03212406,  0.3814469 ,  0.31343575, -0.17324074,  0.31447649,\n",
       "        0.36254915,  0.5154834 ,  0.37145259,  0.24359037,  0.03320492,\n",
       "        0.41054674, -0.29050181,  0.29306614,  0.38557143,  0.20750258])"
      ]
     },
     "execution_count": 126,
     "metadata": {},
     "output_type": "execute_result"
    }
   ],
   "source": [
    "np.array(\n",
    "    [0.5153855714258468, 0.5707966084694087, 0.2100915948397551, 0.1306612508102959, 0.14141928875696913, 0.03212405690508556, 0.38144689542535815, 0.3134357475824918, -0.17324073809702217, 0.3144764945250589, 0.3625491499304446, 0.5154834016586525, 0.3714525932746603, 0.24359036973111753, 0.033204918720414034, 0.41054674449739464, -0.29050180737630893, 0.2930661364043673, 0.38557142684767987, 0.20750257754766294]\n",
    ")"
   ]
  },
  {
   "cell_type": "code",
   "execution_count": 56,
   "id": "981360d6",
   "metadata": {},
   "outputs": [],
   "source": [
    "aa = [0.21401663718278804, 0.017082113657570758, 0.2978165770673664, 0.018209558008284693, 0.2605125372180794, 0.29988282278829326, 0.5475986079200728, 0.2199903349631622, 0.20368079793471622, 0.6485132866454129]\n",
    "bb = [0.5403418501610305, 0.38966533614443516, 0.2898488882769027, 0.23441261054000367, 0.10731107801696596, 0.4650648287759591, 0.2832627965458995, 0.3789046322678345, 0.34481460631074756, 0.32518642005530835]"
   ]
  },
  {
   "cell_type": "code",
   "execution_count": 128,
   "id": "098852f7",
   "metadata": {},
   "outputs": [
    {
     "data": {
      "image/png": "[encoded data removed]",
      "text/plain": [
       "<Figure size 576x288 with 1 Axes>"
      ]
     },
     "metadata": {
      "needs_background": "light"
     },
     "output_type": "display_data"
    }
   ],
   "source": [
    "plt.figure(figsize=(8, 4))\n",
    "plt.plot([1]*10, aa, \".\")\n",
    "plt.plot([2]*10, bb, \".\")\n",
    "#plt.boxplot([aa,bb])\n",
    "plt.ylabel(\"Dokładność\", fontsize=14)\n",
    "plt.show()"
   ]
  },
  {
   "cell_type": "markdown",
   "id": "b4378647",
   "metadata": {},
   "source": [
    "# seaborn"
   ]
  },
  {
   "cell_type": "code",
   "execution_count": 40,
   "id": "70c9955b",
   "metadata": {},
   "outputs": [],
   "source": [
    "# need: import seaborn as sns\n",
    "sns.set_theme(style=\"darkgrid\")\n",
    "\n",
    "y_pred_ = np.ravel(model.predict(scaler.transform(date_p))) \n",
    "y_true_ = np.ravel(CRFp)"
   ]
  },
  {
   "cell_type": "code",
   "execution_count": 41,
   "id": "b882798b",
   "metadata": {},
   "outputs": [],
   "source": [
    "pal = dict(male=\"#6495ED\", female=\"#F08080\")"
   ]
  },
  {
   "cell_type": "code",
   "execution_count": 55,
   "id": "ca6fd044",
   "metadata": {},
   "outputs": [
    {
     "data": {
      "image/png": "[encoded data removed]",
      "text/plain": [
       "<Figure size 360x360 with 1 Axes>"
      ]
     },
     "metadata": {},
     "output_type": "display_data"
    }
   ],
   "source": [
    "df_ = pd.DataFrame(dict(X=y_pred_, y=y_true_))\n",
    "g = sns.lmplot(x=\"X\", y=\"y\", data = df_, palette=pal, y_jitter=.02, logistic=False, truncate=True)\n",
    "#g.set(xlim=(0, 80), ylim=(-.05, 1.05))"
   ]
  },
  {
   "cell_type": "code",
   "execution_count": 148,
   "id": "0b545f11",
   "metadata": {},
   "outputs": [],
   "source": [
    "lern = {\n",
    "    'neur' : [2,3,4],\n",
    "    'opt' : ['AAA','BBB','CCC']\n",
    "}\n"
   ]
  },
  {
   "cell_type": "code",
   "execution_count": null,
   "id": "5b7560a3",
   "metadata": {},
   "outputs": [],
   "source": [
    "di = {}\n",
    "lern = {\n",
    "    'neur' : [2,3,4]\n",
    "}\n",
    "for change in [3,4,5]:\n",
    "    di[str(change) + '_neurons'] = []\n",
    "    \n",
    "    for _ in range(2):\n",
    "        \n",
    "        model = keras.models.Sequential()\n",
    "        model.add(keras.layers.Dense(change, activation = 'relu', input_shape = (12,), kernel_initializer = 'he_normal'))\n",
    "        model.add(keras.layers.Dense(1))\n",
    "        \n",
    "        model.compile(loss = 'mean_squared_error',\n",
    "                     optimizer = 'SGD',\n",
    "                     metrics = [\"MAE\"])\n",
    "        \n",
    "        history = model.fit(X_train, y_train, epochs = 15,\n",
    "                            validation_split = 0.2, shuffle = True,verbose=0)\n",
    "        \n",
    "        y_pred_ = np.ravel(model.predict(scaler.transform(date_p))) \n",
    "        y_true_ = np.ravel(CRFp) \n",
    "        wynik = measures.pearsonr(y_pred_, y_true_)[0]\n",
    "        \n",
    "        di[str(change) + '_neurons'].append(wynik)"
   ]
  },
  {
   "cell_type": "code",
   "execution_count": 136,
   "id": "2fec79e2",
   "metadata": {},
   "outputs": [
    {
     "data": {
      "text/html": [
       "<div>\n",
       "<style scoped>\n",
       "    .dataframe tbody tr th:only-of-type {\n",
       "        vertical-align: middle;\n",
       "    }\n",
       "\n",
       "    .dataframe tbody tr th {\n",
       "        vertical-align: top;\n",
       "    }\n",
       "\n",
       "    .dataframe thead th {\n",
       "        text-align: right;\n",
       "    }\n",
       "</style>\n",
       "<table border=\"1\" class=\"dataframe\">\n",
       "  <thead>\n",
       "    <tr style=\"text-align: right;\">\n",
       "      <th></th>\n",
       "      <th>3_neurons</th>\n",
       "      <th>4_neurons</th>\n",
       "      <th>5_neurons</th>\n",
       "    </tr>\n",
       "  </thead>\n",
       "  <tbody>\n",
       "    <tr>\n",
       "      <th>0</th>\n",
       "      <td>0.014137</td>\n",
       "      <td>0.017338</td>\n",
       "      <td>0.289532</td>\n",
       "    </tr>\n",
       "    <tr>\n",
       "      <th>1</th>\n",
       "      <td>0.160499</td>\n",
       "      <td>-0.174540</td>\n",
       "      <td>0.244994</td>\n",
       "    </tr>\n",
       "  </tbody>\n",
       "</table>\n",
       "</div>"
      ],
      "text/plain": [
       "   3_neurons  4_neurons  5_neurons\n",
       "0   0.014137   0.017338   0.289532\n",
       "1   0.160499  -0.174540   0.244994"
      ]
     },
     "execution_count": 136,
     "metadata": {},
     "output_type": "execute_result"
    }
   ],
   "source": [
    "#di\n",
    "pd.DataFrame.from_dict(di)"
   ]
  },
  {
   "cell_type": "markdown",
   "id": "683f9fb0",
   "metadata": {},
   "source": [
    "# GOTOWA SIEĆ 2018"
   ]
  },
  {
   "cell_type": "code",
   "execution_count": 59,
   "id": "f8e8b541",
   "metadata": {},
   "outputs": [
    {
     "name": "stdout",
     "output_type": "stream",
     "text": [
      "WARNING:tensorflow:SavedModel saved prior to TF 2.5 detected when loading Keras model. Please ensure that you are saving the model with model.save() or tf.keras.models.save_model(), *NOT* tf.saved_model.save(). To confirm, there should be a file named \"keras_metadata.pb\" in the SavedModel directory.\n",
      "WARNING:tensorflow:No training configuration found in save file, so the model was *not* compiled. Compile it manually.\n"
     ]
    },
    {
     "ename": "NameError",
     "evalue": "name 'date_p' is not defined",
     "output_type": "error",
     "traceback": [
      "\u001b[1;31m---------------------------------------------------------------------------\u001b[0m",
      "\u001b[1;31mNameError\u001b[0m                                 Traceback (most recent call last)",
      "Input \u001b[1;32mIn [59]\u001b[0m, in \u001b[0;36m<cell line: 18>\u001b[1;34m()\u001b[0m\n\u001b[0;32m     14\u001b[0m     \u001b[38;5;28;01melse\u001b[39;00m:\n\u001b[0;32m     15\u001b[0m         \u001b[38;5;28;01mreturn\u001b[39;00m predict_   \n\u001b[1;32m---> 18\u001b[0m SSN_CRFp(\u001b[43mdate_p\u001b[49m, in_, out_,new_model)\n",
      "\u001b[1;31mNameError\u001b[0m: name 'date_p' is not defined"
     ]
    }
   ],
   "source": [
    "import joblib\n",
    "\n",
    "new_model = tf.keras.models.load_model('ANNmodel')\n",
    "out_ = joblib.load('scaler2.pkl')\n",
    "in_ = joblib.load('scalerMinMax.pkl')\n",
    "\n",
    "date = pd.read_excel(\"SNN.xls\",header = None, sheet_name= 1)\n",
    "\n",
    "\n",
    "def SSN_CRFp(date, input_scaler, output_scaler, model, flatten = True):\n",
    "    predict_ = output_scaler.inverse_transform(model.predict(input_scaler.transform(date))).round(5)\n",
    "    if flatten:\n",
    "        return predict_.flatten()\n",
    "    else:\n",
    "        return predict_   \n",
    "\n",
    "    \n",
    "SSN_CRFp(date_p, in_, out_,new_model)"
   ]
  },
  {
   "cell_type": "code",
   "execution_count": 60,
   "id": "d663a587",
   "metadata": {},
   "outputs": [],
   "source": [
    "in_ = joblib.load('scalerMinMax.pkl')"
   ]
  },
  {
   "cell_type": "code",
   "execution_count": 1,
   "id": "a5733e75",
   "metadata": {},
   "outputs": [],
   "source": [
    "summary_ = []"
   ]
  },
  {
   "cell_type": "code",
   "execution_count": 2,
   "id": "a1dc3dff",
   "metadata": {},
   "outputs": [],
   "source": [
    "summary_.append(['net1',0.5,None,'txt',None,None])"
   ]
  },
  {
   "cell_type": "code",
   "execution_count": 4,
   "id": "a644fe5d",
   "metadata": {},
   "outputs": [],
   "source": [
    "def add_suma():\n",
    "    ?\n",
    "    summary_.append(['net1',0.5,None,'txt',None,None])"
   ]
  },
  {
   "cell_type": "code",
   "execution_count": 5,
   "id": "0b526ea9",
   "metadata": {},
   "outputs": [
    {
     "data": {
      "text/plain": [
       "[['net1', 0.5, None, 'txt', None, None]]"
      ]
     },
     "execution_count": 5,
     "metadata": {},
     "output_type": "execute_result"
    }
   ],
   "source": [
    "summary_"
   ]
  },
  {
   "cell_type": "code",
   "execution_count": 6,
   "id": "325e1814",
   "metadata": {},
   "outputs": [],
   "source": [
    "#del summary"
   ]
  },
  {
   "cell_type": "code",
   "execution_count": 9,
   "id": "908a3a1c",
   "metadata": {},
   "outputs": [
    {
     "data": {
      "text/html": [
       "<div>\n",
       "<style scoped>\n",
       "    .dataframe tbody tr th:only-of-type {\n",
       "        vertical-align: middle;\n",
       "    }\n",
       "\n",
       "    .dataframe tbody tr th {\n",
       "        vertical-align: top;\n",
       "    }\n",
       "\n",
       "    .dataframe thead th {\n",
       "        text-align: right;\n",
       "    }\n",
       "</style>\n",
       "<table border=\"1\" class=\"dataframe\">\n",
       "  <thead>\n",
       "    <tr style=\"text-align: right;\">\n",
       "      <th></th>\n",
       "      <th>NET</th>\n",
       "      <th>MAX_MSE</th>\n",
       "      <th>TUNER_KERAS</th>\n",
       "      <th>OTHER</th>\n",
       "      <th>EXTRAS#1</th>\n",
       "      <th>EXTRAS#2</th>\n",
       "    </tr>\n",
       "  </thead>\n",
       "  <tbody>\n",
       "    <tr>\n",
       "      <th>0</th>\n",
       "      <td>net1</td>\n",
       "      <td>0.5</td>\n",
       "      <td>None</td>\n",
       "      <td>txt</td>\n",
       "      <td>None</td>\n",
       "      <td>None</td>\n",
       "    </tr>\n",
       "  </tbody>\n",
       "</table>\n",
       "</div>"
      ],
      "text/plain": [
       "    NET  MAX_MSE TUNER_KERAS OTHER EXTRAS#1 EXTRAS#2\n",
       "0  net1      0.5        None   txt     None     None"
      ]
     },
     "execution_count": 9,
     "metadata": {},
     "output_type": "execute_result"
    }
   ],
   "source": [
    "pd.DataFrame(summary_, columns = ['NET','MAX_MSE','TUNER_KERAS','OTHER', 'EXTRAS#1','EXTRAS#2'])"
   ]
  },
  {
   "cell_type": "code",
   "execution_count": 216,
   "id": "30e1904a",
   "metadata": {},
   "outputs": [],
   "source": [
    "import pickle\n",
    "\n",
    "class hold_data:\n",
    "    \"\"\"\n",
    "    add_out:\n",
    "    print_:\n",
    "    save_to_file:\n",
    "    \"\"\"\n",
    "    def __init__(self):\n",
    "        self.list_ = []\n",
    "\n",
    "    def add_out(self, NET,MAX_MSE,TUNER_KERAS,OTHER, EXTRAS1, EXTRAS2):\n",
    "        \"\"\"\n",
    "        'NET','MAX_MSE','TUNER_KERAS','OTHER', 'EXTRAS#1','EXTRAS#2'\n",
    "        \"\"\"\n",
    "        self.list_.append([NET,MAX_MSE,TUNER_KERAS,OTHER, EXTRAS1, EXTRAS2])\n",
    "    \n",
    "    def _make_pd(self):\n",
    "        self.pd_ = pd.DataFrame(self.list_, columns = ['NET','MAX_MSE','TUNER_KERAS','OTHER', 'EXTRAS#1','EXTRAS#2'])\n",
    "        return self.pd_\n",
    "\n",
    "    def print_(self):\n",
    "        print(self._make_pd())\n",
    "        \n",
    "    def save_to_file(self, name: str):\n",
    "        self._make_pd().to_excel(f'{name}.xlsx')\n",
    "        with open(f'{name}.pickle', 'wb') as f:\n",
    "            pickle.dump(self.list_, f)\n"
   ]
  },
  {
   "cell_type": "markdown",
   "id": "7abd31bf",
   "metadata": {},
   "source": [
    "# EXTRA TOOL'S"
   ]
  },
  {
   "cell_type": "markdown",
   "id": "8baa6bd2",
   "metadata": {},
   "source": [
    "#### #_1 KEEP OUTPUTS IN PANDAS AND PICKLE"
   ]
  },
  {
   "cell_type": "code",
   "execution_count": 217,
   "id": "68cfcade",
   "metadata": {},
   "outputs": [],
   "source": [
    "list_output = hold_data()"
   ]
  },
  {
   "cell_type": "code",
   "execution_count": 220,
   "id": "7a038901",
   "metadata": {},
   "outputs": [],
   "source": [
    "list_output.add_out(*['net1',0.5,None,'txt',None,'Test'])"
   ]
  },
  {
   "cell_type": "code",
   "execution_count": 221,
   "id": "d87a6ae0",
   "metadata": {},
   "outputs": [
    {
     "name": "stdout",
     "output_type": "stream",
     "text": [
      "    NET  MAX_MSE TUNER_KERAS OTHER EXTRAS#1 EXTRAS#2\n",
      "0  net1      0.5        None   txt     None     Test\n",
      "1  net1      0.5        None   txt     None     Test\n",
      "2  net1      0.5        None   txt     None     Test\n"
     ]
    }
   ],
   "source": [
    "list_output.print_()"
   ]
  },
  {
   "cell_type": "code",
   "execution_count": 213,
   "id": "e0aeda91",
   "metadata": {},
   "outputs": [
    {
     "name": "stdout",
     "output_type": "stream",
     "text": [
      "INFO:tensorflow:Assets written to: ram://83ad7620-b0c3-4e36-8eb2-899cdf966e14/assets\n"
     ]
    }
   ],
   "source": [
    "list_output.save_to_file('test')"
   ]
  },
  {
   "cell_type": "code",
   "execution_count": 224,
   "id": "4d2944ba",
   "metadata": {},
   "outputs": [
    {
     "ename": "FileNotFoundError",
     "evalue": "Unsuccessful TensorSliceReader constructor: Failed to find any matching files for ram://424c5292-c4d7-403c-9dac-c83de8a4a195/variables/variables\n You may be trying to load on a different device from the computational device. Consider setting the `experimental_io_device` option in `tf.saved_model.LoadOptions` to the io_device such as '/job:localhost'.",
     "output_type": "error",
     "traceback": [
      "\u001b[1;31m---------------------------------------------------------------------------\u001b[0m",
      "\u001b[1;31mFileNotFoundError\u001b[0m                         Traceback (most recent call last)",
      "\u001b[1;32mC:\\Users\\INSPEK~1\\AppData\\Local\\Temp/ipykernel_14736/516966469.py\u001b[0m in \u001b[0;36m<module>\u001b[1;34m\u001b[0m\n\u001b[0;32m      1\u001b[0m \u001b[1;32mwith\u001b[0m \u001b[0mopen\u001b[0m\u001b[1;33m(\u001b[0m\u001b[1;34m'test.pickle'\u001b[0m\u001b[1;33m,\u001b[0m \u001b[1;34m'rb'\u001b[0m\u001b[1;33m)\u001b[0m \u001b[1;32mas\u001b[0m \u001b[0mf\u001b[0m\u001b[1;33m:\u001b[0m\u001b[1;33m\u001b[0m\u001b[1;33m\u001b[0m\u001b[0m\n\u001b[1;32m----> 2\u001b[1;33m     \u001b[0mprint\u001b[0m\u001b[1;33m(\u001b[0m\u001b[0mpickle\u001b[0m\u001b[1;33m.\u001b[0m\u001b[0mload\u001b[0m\u001b[1;33m(\u001b[0m\u001b[0mf\u001b[0m\u001b[1;33m)\u001b[0m\u001b[1;33m)\u001b[0m\u001b[1;33m\u001b[0m\u001b[1;33m\u001b[0m\u001b[0m\n\u001b[0m",
      "\u001b[1;32m~\\anaconda3\\lib\\site-packages\\keras\\saving\\pickle_utils.py\u001b[0m in \u001b[0;36mdeserialize_model_from_bytecode\u001b[1;34m(serialized_model)\u001b[0m\n\u001b[0;32m     46\u001b[0m         \u001b[1;32mwith\u001b[0m \u001b[0mtf\u001b[0m\u001b[1;33m.\u001b[0m\u001b[0mio\u001b[0m\u001b[1;33m.\u001b[0m\u001b[0mgfile\u001b[0m\u001b[1;33m.\u001b[0m\u001b[0mGFile\u001b[0m\u001b[1;33m(\u001b[0m\u001b[0mdest_path\u001b[0m\u001b[1;33m,\u001b[0m \u001b[1;34m\"wb\"\u001b[0m\u001b[1;33m)\u001b[0m \u001b[1;32mas\u001b[0m \u001b[0mf\u001b[0m\u001b[1;33m:\u001b[0m\u001b[1;33m\u001b[0m\u001b[1;33m\u001b[0m\u001b[0m\n\u001b[0;32m     47\u001b[0m           \u001b[0mf\u001b[0m\u001b[1;33m.\u001b[0m\u001b[0mwrite\u001b[0m\u001b[1;33m(\u001b[0m\u001b[0marchive\u001b[0m\u001b[1;33m.\u001b[0m\u001b[0mextractfile\u001b[0m\u001b[1;33m(\u001b[0m\u001b[0mname\u001b[0m\u001b[1;33m)\u001b[0m\u001b[1;33m.\u001b[0m\u001b[0mread\u001b[0m\u001b[1;33m(\u001b[0m\u001b[1;33m)\u001b[0m\u001b[1;33m)\u001b[0m\u001b[1;33m\u001b[0m\u001b[1;33m\u001b[0m\u001b[0m\n\u001b[1;32m---> 48\u001b[1;33m   \u001b[0mmodel\u001b[0m \u001b[1;33m=\u001b[0m \u001b[0msave_module\u001b[0m\u001b[1;33m.\u001b[0m\u001b[0mload_model\u001b[0m\u001b[1;33m(\u001b[0m\u001b[0mtemp_dir\u001b[0m\u001b[1;33m)\u001b[0m\u001b[1;33m\u001b[0m\u001b[1;33m\u001b[0m\u001b[0m\n\u001b[0m\u001b[0;32m     49\u001b[0m   \u001b[0mtf\u001b[0m\u001b[1;33m.\u001b[0m\u001b[0mio\u001b[0m\u001b[1;33m.\u001b[0m\u001b[0mgfile\u001b[0m\u001b[1;33m.\u001b[0m\u001b[0mrmtree\u001b[0m\u001b[1;33m(\u001b[0m\u001b[0mtemp_dir\u001b[0m\u001b[1;33m)\u001b[0m\u001b[1;33m\u001b[0m\u001b[1;33m\u001b[0m\u001b[0m\n\u001b[0;32m     50\u001b[0m   \u001b[1;32mreturn\u001b[0m \u001b[0mmodel\u001b[0m\u001b[1;33m\u001b[0m\u001b[1;33m\u001b[0m\u001b[0m\n",
      "\u001b[1;32m~\\anaconda3\\lib\\site-packages\\keras\\utils\\traceback_utils.py\u001b[0m in \u001b[0;36merror_handler\u001b[1;34m(*args, **kwargs)\u001b[0m\n\u001b[0;32m     65\u001b[0m     \u001b[1;32mexcept\u001b[0m \u001b[0mException\u001b[0m \u001b[1;32mas\u001b[0m \u001b[0me\u001b[0m\u001b[1;33m:\u001b[0m  \u001b[1;31m# pylint: disable=broad-except\u001b[0m\u001b[1;33m\u001b[0m\u001b[1;33m\u001b[0m\u001b[0m\n\u001b[0;32m     66\u001b[0m       \u001b[0mfiltered_tb\u001b[0m \u001b[1;33m=\u001b[0m \u001b[0m_process_traceback_frames\u001b[0m\u001b[1;33m(\u001b[0m\u001b[0me\u001b[0m\u001b[1;33m.\u001b[0m\u001b[0m__traceback__\u001b[0m\u001b[1;33m)\u001b[0m\u001b[1;33m\u001b[0m\u001b[1;33m\u001b[0m\u001b[0m\n\u001b[1;32m---> 67\u001b[1;33m       \u001b[1;32mraise\u001b[0m \u001b[0me\u001b[0m\u001b[1;33m.\u001b[0m\u001b[0mwith_traceback\u001b[0m\u001b[1;33m(\u001b[0m\u001b[0mfiltered_tb\u001b[0m\u001b[1;33m)\u001b[0m \u001b[1;32mfrom\u001b[0m \u001b[1;32mNone\u001b[0m\u001b[1;33m\u001b[0m\u001b[1;33m\u001b[0m\u001b[0m\n\u001b[0m\u001b[0;32m     68\u001b[0m     \u001b[1;32mfinally\u001b[0m\u001b[1;33m:\u001b[0m\u001b[1;33m\u001b[0m\u001b[1;33m\u001b[0m\u001b[0m\n\u001b[0;32m     69\u001b[0m       \u001b[1;32mdel\u001b[0m \u001b[0mfiltered_tb\u001b[0m\u001b[1;33m\u001b[0m\u001b[1;33m\u001b[0m\u001b[0m\n",
      "\u001b[1;32m~\\anaconda3\\lib\\site-packages\\tensorflow\\python\\saved_model\\load.py\u001b[0m in \u001b[0;36mload_internal\u001b[1;34m(export_dir, tags, options, loader_cls, filters)\u001b[0m\n\u001b[0;32m    975\u001b[0m                             ckpt_options, options, filters)\n\u001b[0;32m    976\u001b[0m       \u001b[1;32mexcept\u001b[0m \u001b[0merrors\u001b[0m\u001b[1;33m.\u001b[0m\u001b[0mNotFoundError\u001b[0m \u001b[1;32mas\u001b[0m \u001b[0merr\u001b[0m\u001b[1;33m:\u001b[0m\u001b[1;33m\u001b[0m\u001b[1;33m\u001b[0m\u001b[0m\n\u001b[1;32m--> 977\u001b[1;33m         raise FileNotFoundError(\n\u001b[0m\u001b[0;32m    978\u001b[0m             \u001b[0mstr\u001b[0m\u001b[1;33m(\u001b[0m\u001b[0merr\u001b[0m\u001b[1;33m)\u001b[0m \u001b[1;33m+\u001b[0m \u001b[1;34m\"\\n You may be trying to load on a different device \"\u001b[0m\u001b[1;33m\u001b[0m\u001b[1;33m\u001b[0m\u001b[0m\n\u001b[0;32m    979\u001b[0m             \u001b[1;34m\"from the computational device. Consider setting the \"\u001b[0m\u001b[1;33m\u001b[0m\u001b[1;33m\u001b[0m\u001b[0m\n",
      "\u001b[1;31mFileNotFoundError\u001b[0m: Unsuccessful TensorSliceReader constructor: Failed to find any matching files for ram://424c5292-c4d7-403c-9dac-c83de8a4a195/variables/variables\n You may be trying to load on a different device from the computational device. Consider setting the `experimental_io_device` option in `tf.saved_model.LoadOptions` to the io_device such as '/job:localhost'."
     ]
    }
   ],
   "source": [
    "with open('test.pickle', 'rb') as f:\n",
    "    print(pickle.load(f))"
   ]
  },
  {
   "cell_type": "markdown",
   "id": "e1502da8",
   "metadata": {},
   "source": [
    "#### #_2 "
   ]
  },
  {
   "cell_type": "code",
   "execution_count": 230,
   "id": "99d4de68",
   "metadata": {},
   "outputs": [],
   "source": [
    "def struc(model):\n",
    "    len_ = range(len(model.get_config()['layers'])-1)\n",
    "    out = [model.layers[x].units for x in len_]\n",
    "    return out"
   ]
  },
  {
   "cell_type": "code",
   "execution_count": 231,
   "id": "481d4f6a",
   "metadata": {},
   "outputs": [
    {
     "name": "stderr",
     "output_type": "stream",
     "text": [
      "C:\\Users\\Inspektor\\anaconda3\\lib\\site-packages\\keras\\optimizer_v2\\adam.py:105: UserWarning: The `lr` argument is deprecated, use `learning_rate` instead.\n",
      "  super(Adam, self).__init__(name, **kwargs)\n",
      "C:\\Users\\Inspektor\\anaconda3\\lib\\site-packages\\keras\\optimizer_v2\\adam.py:105: UserWarning: The `lr` argument is deprecated, use `learning_rate` instead.\n",
      "  super(Adam, self).__init__(name, **kwargs)\n",
      "C:\\Users\\Inspektor\\anaconda3\\lib\\site-packages\\keras\\optimizer_v2\\adam.py:105: UserWarning: The `lr` argument is deprecated, use `learning_rate` instead.\n",
      "  super(Adam, self).__init__(name, **kwargs)\n",
      "C:\\Users\\Inspektor\\anaconda3\\lib\\site-packages\\keras\\optimizer_v2\\adam.py:105: UserWarning: The `lr` argument is deprecated, use `learning_rate` instead.\n",
      "  super(Adam, self).__init__(name, **kwargs)\n",
      "C:\\Users\\Inspektor\\anaconda3\\lib\\site-packages\\keras\\optimizer_v2\\adam.py:105: UserWarning: The `lr` argument is deprecated, use `learning_rate` instead.\n",
      "  super(Adam, self).__init__(name, **kwargs)\n",
      "C:\\Users\\Inspektor\\anaconda3\\lib\\site-packages\\keras\\optimizer_v2\\adam.py:105: UserWarning: The `lr` argument is deprecated, use `learning_rate` instead.\n",
      "  super(Adam, self).__init__(name, **kwargs)\n",
      "C:\\Users\\Inspektor\\anaconda3\\lib\\site-packages\\keras\\optimizer_v2\\adam.py:105: UserWarning: The `lr` argument is deprecated, use `learning_rate` instead.\n",
      "  super(Adam, self).__init__(name, **kwargs)\n",
      "C:\\Users\\Inspektor\\anaconda3\\lib\\site-packages\\keras\\optimizer_v2\\adam.py:105: UserWarning: The `lr` argument is deprecated, use `learning_rate` instead.\n",
      "  super(Adam, self).__init__(name, **kwargs)\n",
      "C:\\Users\\Inspektor\\anaconda3\\lib\\site-packages\\keras\\optimizer_v2\\adam.py:105: UserWarning: The `lr` argument is deprecated, use `learning_rate` instead.\n",
      "  super(Adam, self).__init__(name, **kwargs)\n",
      "C:\\Users\\Inspektor\\anaconda3\\lib\\site-packages\\keras\\optimizer_v2\\adam.py:105: UserWarning: The `lr` argument is deprecated, use `learning_rate` instead.\n",
      "  super(Adam, self).__init__(name, **kwargs)\n"
     ]
    },
    {
     "name": "stdout",
     "output_type": "stream",
     "text": [
      "[0.1858300762795236, 0.35060626386338506, 0.42764235406701806, -0.05230294470599257, 0.22136903258897084, 0.15609945597182895, 0.20921522639751458, 0.13931486510066993, 0.01634201025542245, -0.23822254973584206] średnia:  0.142 max:  0.428 struktura:  [6, 6, 1]\n"
     ]
    },
    {
     "name": "stderr",
     "output_type": "stream",
     "text": [
      "C:\\Users\\Inspektor\\anaconda3\\lib\\site-packages\\keras\\optimizer_v2\\adam.py:105: UserWarning: The `lr` argument is deprecated, use `learning_rate` instead.\n",
      "  super(Adam, self).__init__(name, **kwargs)\n",
      "C:\\Users\\Inspektor\\anaconda3\\lib\\site-packages\\keras\\optimizer_v2\\adam.py:105: UserWarning: The `lr` argument is deprecated, use `learning_rate` instead.\n",
      "  super(Adam, self).__init__(name, **kwargs)\n",
      "C:\\Users\\Inspektor\\anaconda3\\lib\\site-packages\\keras\\optimizer_v2\\adam.py:105: UserWarning: The `lr` argument is deprecated, use `learning_rate` instead.\n",
      "  super(Adam, self).__init__(name, **kwargs)\n",
      "C:\\Users\\Inspektor\\anaconda3\\lib\\site-packages\\keras\\optimizer_v2\\adam.py:105: UserWarning: The `lr` argument is deprecated, use `learning_rate` instead.\n",
      "  super(Adam, self).__init__(name, **kwargs)\n",
      "C:\\Users\\Inspektor\\anaconda3\\lib\\site-packages\\keras\\optimizer_v2\\adam.py:105: UserWarning: The `lr` argument is deprecated, use `learning_rate` instead.\n",
      "  super(Adam, self).__init__(name, **kwargs)\n",
      "C:\\Users\\Inspektor\\anaconda3\\lib\\site-packages\\keras\\optimizer_v2\\adam.py:105: UserWarning: The `lr` argument is deprecated, use `learning_rate` instead.\n",
      "  super(Adam, self).__init__(name, **kwargs)\n",
      "C:\\Users\\Inspektor\\anaconda3\\lib\\site-packages\\keras\\optimizer_v2\\adam.py:105: UserWarning: The `lr` argument is deprecated, use `learning_rate` instead.\n",
      "  super(Adam, self).__init__(name, **kwargs)\n",
      "C:\\Users\\Inspektor\\anaconda3\\lib\\site-packages\\keras\\optimizer_v2\\adam.py:105: UserWarning: The `lr` argument is deprecated, use `learning_rate` instead.\n",
      "  super(Adam, self).__init__(name, **kwargs)\n",
      "C:\\Users\\Inspektor\\anaconda3\\lib\\site-packages\\keras\\optimizer_v2\\adam.py:105: UserWarning: The `lr` argument is deprecated, use `learning_rate` instead.\n",
      "  super(Adam, self).__init__(name, **kwargs)\n",
      "C:\\Users\\Inspektor\\anaconda3\\lib\\site-packages\\keras\\optimizer_v2\\adam.py:105: UserWarning: The `lr` argument is deprecated, use `learning_rate` instead.\n",
      "  super(Adam, self).__init__(name, **kwargs)\n"
     ]
    },
    {
     "name": "stdout",
     "output_type": "stream",
     "text": [
      "[0.4726801610995853, -0.06502811784990892, 0.043564916300069007, -0.000880978240809599, -0.1803232710335532, 0.25795381910611004, 0.03323502290680136, 0.0640716954884264, 0.34675120534632164, 0.32260037349293735] średnia:  0.129 max:  0.473 struktura:  [6, 6, 1]\n"
     ]
    },
    {
     "name": "stderr",
     "output_type": "stream",
     "text": [
      "C:\\Users\\Inspektor\\anaconda3\\lib\\site-packages\\keras\\optimizer_v2\\adam.py:105: UserWarning: The `lr` argument is deprecated, use `learning_rate` instead.\n",
      "  super(Adam, self).__init__(name, **kwargs)\n",
      "C:\\Users\\Inspektor\\anaconda3\\lib\\site-packages\\keras\\optimizer_v2\\adam.py:105: UserWarning: The `lr` argument is deprecated, use `learning_rate` instead.\n",
      "  super(Adam, self).__init__(name, **kwargs)\n",
      "C:\\Users\\Inspektor\\anaconda3\\lib\\site-packages\\keras\\optimizer_v2\\adam.py:105: UserWarning: The `lr` argument is deprecated, use `learning_rate` instead.\n",
      "  super(Adam, self).__init__(name, **kwargs)\n",
      "C:\\Users\\Inspektor\\anaconda3\\lib\\site-packages\\keras\\optimizer_v2\\adam.py:105: UserWarning: The `lr` argument is deprecated, use `learning_rate` instead.\n",
      "  super(Adam, self).__init__(name, **kwargs)\n",
      "C:\\Users\\Inspektor\\anaconda3\\lib\\site-packages\\keras\\optimizer_v2\\adam.py:105: UserWarning: The `lr` argument is deprecated, use `learning_rate` instead.\n",
      "  super(Adam, self).__init__(name, **kwargs)\n",
      "C:\\Users\\Inspektor\\anaconda3\\lib\\site-packages\\keras\\optimizer_v2\\adam.py:105: UserWarning: The `lr` argument is deprecated, use `learning_rate` instead.\n",
      "  super(Adam, self).__init__(name, **kwargs)\n",
      "C:\\Users\\Inspektor\\anaconda3\\lib\\site-packages\\keras\\optimizer_v2\\adam.py:105: UserWarning: The `lr` argument is deprecated, use `learning_rate` instead.\n",
      "  super(Adam, self).__init__(name, **kwargs)\n",
      "C:\\Users\\Inspektor\\anaconda3\\lib\\site-packages\\keras\\optimizer_v2\\adam.py:105: UserWarning: The `lr` argument is deprecated, use `learning_rate` instead.\n",
      "  super(Adam, self).__init__(name, **kwargs)\n",
      "C:\\Users\\Inspektor\\anaconda3\\lib\\site-packages\\keras\\optimizer_v2\\adam.py:105: UserWarning: The `lr` argument is deprecated, use `learning_rate` instead.\n",
      "  super(Adam, self).__init__(name, **kwargs)\n",
      "C:\\Users\\Inspektor\\anaconda3\\lib\\site-packages\\keras\\optimizer_v2\\adam.py:105: UserWarning: The `lr` argument is deprecated, use `learning_rate` instead.\n",
      "  super(Adam, self).__init__(name, **kwargs)\n"
     ]
    },
    {
     "name": "stdout",
     "output_type": "stream",
     "text": [
      "[0.026497512137249504, -0.15416752287653168, 0.24521688024274038, 0.09697961747632436, 0.1377103601011088, 0.12162489670787752, 0.262602735955852, 0.40696277682289955, 0.24473495844574292, -0.11446097493221624] średnia:  0.127 max:  0.407 struktura:  [7, 7, 1]\n"
     ]
    },
    {
     "name": "stderr",
     "output_type": "stream",
     "text": [
      "C:\\Users\\Inspektor\\anaconda3\\lib\\site-packages\\keras\\optimizer_v2\\adam.py:105: UserWarning: The `lr` argument is deprecated, use `learning_rate` instead.\n",
      "  super(Adam, self).__init__(name, **kwargs)\n",
      "C:\\Users\\Inspektor\\anaconda3\\lib\\site-packages\\keras\\optimizer_v2\\adam.py:105: UserWarning: The `lr` argument is deprecated, use `learning_rate` instead.\n",
      "  super(Adam, self).__init__(name, **kwargs)\n",
      "C:\\Users\\Inspektor\\anaconda3\\lib\\site-packages\\keras\\optimizer_v2\\adam.py:105: UserWarning: The `lr` argument is deprecated, use `learning_rate` instead.\n",
      "  super(Adam, self).__init__(name, **kwargs)\n",
      "C:\\Users\\Inspektor\\anaconda3\\lib\\site-packages\\keras\\optimizer_v2\\adam.py:105: UserWarning: The `lr` argument is deprecated, use `learning_rate` instead.\n",
      "  super(Adam, self).__init__(name, **kwargs)\n",
      "C:\\Users\\Inspektor\\anaconda3\\lib\\site-packages\\keras\\optimizer_v2\\adam.py:105: UserWarning: The `lr` argument is deprecated, use `learning_rate` instead.\n",
      "  super(Adam, self).__init__(name, **kwargs)\n",
      "C:\\Users\\Inspektor\\anaconda3\\lib\\site-packages\\keras\\optimizer_v2\\adam.py:105: UserWarning: The `lr` argument is deprecated, use `learning_rate` instead.\n",
      "  super(Adam, self).__init__(name, **kwargs)\n",
      "C:\\Users\\Inspektor\\anaconda3\\lib\\site-packages\\keras\\optimizer_v2\\adam.py:105: UserWarning: The `lr` argument is deprecated, use `learning_rate` instead.\n",
      "  super(Adam, self).__init__(name, **kwargs)\n",
      "C:\\Users\\Inspektor\\anaconda3\\lib\\site-packages\\keras\\optimizer_v2\\adam.py:105: UserWarning: The `lr` argument is deprecated, use `learning_rate` instead.\n",
      "  super(Adam, self).__init__(name, **kwargs)\n",
      "C:\\Users\\Inspektor\\anaconda3\\lib\\site-packages\\keras\\optimizer_v2\\adam.py:105: UserWarning: The `lr` argument is deprecated, use `learning_rate` instead.\n",
      "  super(Adam, self).__init__(name, **kwargs)\n",
      "C:\\Users\\Inspektor\\anaconda3\\lib\\site-packages\\keras\\optimizer_v2\\adam.py:105: UserWarning: The `lr` argument is deprecated, use `learning_rate` instead.\n",
      "  super(Adam, self).__init__(name, **kwargs)\n"
     ]
    },
    {
     "name": "stdout",
     "output_type": "stream",
     "text": [
      "[-0.1459855661234804, 0.3276196238823842, 0.1192479000870128, -0.2716453946814812, 0.542729599104149, 0.4263175464382295, 0.020241936151841194, 0.475222815625084, 0.30002364593508535, 0.3591455637849246] średnia:  0.215 max:  0.543 struktura:  [7, 7, 1]\n"
     ]
    },
    {
     "name": "stderr",
     "output_type": "stream",
     "text": [
      "C:\\Users\\Inspektor\\anaconda3\\lib\\site-packages\\keras\\optimizer_v2\\adam.py:105: UserWarning: The `lr` argument is deprecated, use `learning_rate` instead.\n",
      "  super(Adam, self).__init__(name, **kwargs)\n",
      "C:\\Users\\Inspektor\\anaconda3\\lib\\site-packages\\keras\\optimizer_v2\\adam.py:105: UserWarning: The `lr` argument is deprecated, use `learning_rate` instead.\n",
      "  super(Adam, self).__init__(name, **kwargs)\n",
      "C:\\Users\\Inspektor\\anaconda3\\lib\\site-packages\\keras\\optimizer_v2\\adam.py:105: UserWarning: The `lr` argument is deprecated, use `learning_rate` instead.\n",
      "  super(Adam, self).__init__(name, **kwargs)\n",
      "C:\\Users\\Inspektor\\anaconda3\\lib\\site-packages\\keras\\optimizer_v2\\adam.py:105: UserWarning: The `lr` argument is deprecated, use `learning_rate` instead.\n",
      "  super(Adam, self).__init__(name, **kwargs)\n",
      "C:\\Users\\Inspektor\\anaconda3\\lib\\site-packages\\keras\\optimizer_v2\\adam.py:105: UserWarning: The `lr` argument is deprecated, use `learning_rate` instead.\n",
      "  super(Adam, self).__init__(name, **kwargs)\n",
      "C:\\Users\\Inspektor\\anaconda3\\lib\\site-packages\\keras\\optimizer_v2\\adam.py:105: UserWarning: The `lr` argument is deprecated, use `learning_rate` instead.\n",
      "  super(Adam, self).__init__(name, **kwargs)\n",
      "C:\\Users\\Inspektor\\anaconda3\\lib\\site-packages\\keras\\optimizer_v2\\adam.py:105: UserWarning: The `lr` argument is deprecated, use `learning_rate` instead.\n",
      "  super(Adam, self).__init__(name, **kwargs)\n",
      "C:\\Users\\Inspektor\\anaconda3\\lib\\site-packages\\keras\\optimizer_v2\\adam.py:105: UserWarning: The `lr` argument is deprecated, use `learning_rate` instead.\n",
      "  super(Adam, self).__init__(name, **kwargs)\n",
      "C:\\Users\\Inspektor\\anaconda3\\lib\\site-packages\\keras\\optimizer_v2\\adam.py:105: UserWarning: The `lr` argument is deprecated, use `learning_rate` instead.\n",
      "  super(Adam, self).__init__(name, **kwargs)\n",
      "C:\\Users\\Inspektor\\anaconda3\\lib\\site-packages\\keras\\optimizer_v2\\adam.py:105: UserWarning: The `lr` argument is deprecated, use `learning_rate` instead.\n",
      "  super(Adam, self).__init__(name, **kwargs)\n"
     ]
    },
    {
     "name": "stdout",
     "output_type": "stream",
     "text": [
      "[-0.11390125868741917, 0.35394479531917106, 0.03483580562118699, 0.00029758567573726774, 0.5363224200613197, 0.2754440315259803, 0.4665164410830449, 0.07179450037911474, 0.1499313125749012, 0.2348558555914665] średnia:  0.201 max:  0.536 struktura:  [8, 8, 1]\n"
     ]
    },
    {
     "name": "stderr",
     "output_type": "stream",
     "text": [
      "C:\\Users\\Inspektor\\anaconda3\\lib\\site-packages\\keras\\optimizer_v2\\adam.py:105: UserWarning: The `lr` argument is deprecated, use `learning_rate` instead.\n",
      "  super(Adam, self).__init__(name, **kwargs)\n",
      "C:\\Users\\Inspektor\\anaconda3\\lib\\site-packages\\keras\\optimizer_v2\\adam.py:105: UserWarning: The `lr` argument is deprecated, use `learning_rate` instead.\n",
      "  super(Adam, self).__init__(name, **kwargs)\n",
      "C:\\Users\\Inspektor\\anaconda3\\lib\\site-packages\\keras\\optimizer_v2\\adam.py:105: UserWarning: The `lr` argument is deprecated, use `learning_rate` instead.\n",
      "  super(Adam, self).__init__(name, **kwargs)\n",
      "C:\\Users\\Inspektor\\anaconda3\\lib\\site-packages\\keras\\optimizer_v2\\adam.py:105: UserWarning: The `lr` argument is deprecated, use `learning_rate` instead.\n",
      "  super(Adam, self).__init__(name, **kwargs)\n",
      "C:\\Users\\Inspektor\\anaconda3\\lib\\site-packages\\keras\\optimizer_v2\\adam.py:105: UserWarning: The `lr` argument is deprecated, use `learning_rate` instead.\n",
      "  super(Adam, self).__init__(name, **kwargs)\n",
      "C:\\Users\\Inspektor\\anaconda3\\lib\\site-packages\\keras\\optimizer_v2\\adam.py:105: UserWarning: The `lr` argument is deprecated, use `learning_rate` instead.\n",
      "  super(Adam, self).__init__(name, **kwargs)\n",
      "C:\\Users\\Inspektor\\anaconda3\\lib\\site-packages\\keras\\optimizer_v2\\adam.py:105: UserWarning: The `lr` argument is deprecated, use `learning_rate` instead.\n",
      "  super(Adam, self).__init__(name, **kwargs)\n",
      "C:\\Users\\Inspektor\\anaconda3\\lib\\site-packages\\keras\\optimizer_v2\\adam.py:105: UserWarning: The `lr` argument is deprecated, use `learning_rate` instead.\n",
      "  super(Adam, self).__init__(name, **kwargs)\n",
      "C:\\Users\\Inspektor\\anaconda3\\lib\\site-packages\\keras\\optimizer_v2\\adam.py:105: UserWarning: The `lr` argument is deprecated, use `learning_rate` instead.\n",
      "  super(Adam, self).__init__(name, **kwargs)\n",
      "C:\\Users\\Inspektor\\anaconda3\\lib\\site-packages\\keras\\optimizer_v2\\adam.py:105: UserWarning: The `lr` argument is deprecated, use `learning_rate` instead.\n",
      "  super(Adam, self).__init__(name, **kwargs)\n"
     ]
    },
    {
     "name": "stdout",
     "output_type": "stream",
     "text": [
      "[0.01840913202308398, 0.46076274312576176, 0.3813898449232908, 0.0802028027994535, 0.3323071144261432, 0.19839373116310205, 0.17837902871618616, 0.2443160058572384, 0.14093254911084185, 0.014910087069449213] średnia:  0.205 max:  0.461 struktura:  [8, 8, 1]\n"
     ]
    },
    {
     "name": "stderr",
     "output_type": "stream",
     "text": [
      "C:\\Users\\Inspektor\\anaconda3\\lib\\site-packages\\keras\\optimizer_v2\\adam.py:105: UserWarning: The `lr` argument is deprecated, use `learning_rate` instead.\n",
      "  super(Adam, self).__init__(name, **kwargs)\n",
      "C:\\Users\\Inspektor\\anaconda3\\lib\\site-packages\\keras\\optimizer_v2\\adam.py:105: UserWarning: The `lr` argument is deprecated, use `learning_rate` instead.\n",
      "  super(Adam, self).__init__(name, **kwargs)\n",
      "C:\\Users\\Inspektor\\anaconda3\\lib\\site-packages\\keras\\optimizer_v2\\adam.py:105: UserWarning: The `lr` argument is deprecated, use `learning_rate` instead.\n",
      "  super(Adam, self).__init__(name, **kwargs)\n",
      "C:\\Users\\Inspektor\\anaconda3\\lib\\site-packages\\keras\\optimizer_v2\\adam.py:105: UserWarning: The `lr` argument is deprecated, use `learning_rate` instead.\n",
      "  super(Adam, self).__init__(name, **kwargs)\n",
      "C:\\Users\\Inspektor\\anaconda3\\lib\\site-packages\\keras\\optimizer_v2\\adam.py:105: UserWarning: The `lr` argument is deprecated, use `learning_rate` instead.\n",
      "  super(Adam, self).__init__(name, **kwargs)\n",
      "C:\\Users\\Inspektor\\anaconda3\\lib\\site-packages\\keras\\optimizer_v2\\adam.py:105: UserWarning: The `lr` argument is deprecated, use `learning_rate` instead.\n",
      "  super(Adam, self).__init__(name, **kwargs)\n",
      "C:\\Users\\Inspektor\\anaconda3\\lib\\site-packages\\keras\\optimizer_v2\\adam.py:105: UserWarning: The `lr` argument is deprecated, use `learning_rate` instead.\n",
      "  super(Adam, self).__init__(name, **kwargs)\n",
      "C:\\Users\\Inspektor\\anaconda3\\lib\\site-packages\\keras\\optimizer_v2\\adam.py:105: UserWarning: The `lr` argument is deprecated, use `learning_rate` instead.\n",
      "  super(Adam, self).__init__(name, **kwargs)\n",
      "C:\\Users\\Inspektor\\anaconda3\\lib\\site-packages\\keras\\optimizer_v2\\adam.py:105: UserWarning: The `lr` argument is deprecated, use `learning_rate` instead.\n",
      "  super(Adam, self).__init__(name, **kwargs)\n",
      "C:\\Users\\Inspektor\\anaconda3\\lib\\site-packages\\keras\\optimizer_v2\\adam.py:105: UserWarning: The `lr` argument is deprecated, use `learning_rate` instead.\n",
      "  super(Adam, self).__init__(name, **kwargs)\n"
     ]
    },
    {
     "name": "stdout",
     "output_type": "stream",
     "text": [
      "[0.5378572582824569, 0.24645109559532125, 0.08975526118717819, 0.533595911448979, 0.16045626451448247, 0.47979632512576015, 0.10379153022632995, -0.003052575645252756, 0.3814428193559121, -0.10110740752247828] średnia:  0.243 max:  0.538 struktura:  [9, 9, 1]\n"
     ]
    },
    {
     "data": {
      "image/png": "[encoded data removed]",
      "text/plain": [
       "<Figure size 576x252 with 1 Axes>"
      ]
     },
     "metadata": {
      "needs_background": "light"
     },
     "output_type": "display_data"
    },
    {
     "data": {
      "image/png": "[encoded data removed]",
      "text/plain": [
       "<Figure size 576x252 with 1 Axes>"
      ]
     },
     "metadata": {
      "needs_background": "light"
     },
     "output_type": "display_data"
    },
    {
     "data": {
      "image/png": "[encoded data removed]",
      "text/plain": [
       "<Figure size 576x252 with 1 Axes>"
      ]
     },
     "metadata": {
      "needs_background": "light"
     },
     "output_type": "display_data"
    },
    {
     "data": {
      "image/png": "[encoded data removed]",
      "text/plain": [
       "<Figure size 576x252 with 1 Axes>"
      ]
     },
     "metadata": {
      "needs_background": "light"
     },
     "output_type": "display_data"
    },
    {
     "data": {
      "image/png": "[encoded data removed]",
      "text/plain": [
       "<Figure size 576x252 with 1 Axes>"
      ]
     },
     "metadata": {
      "needs_background": "light"
     },
     "output_type": "display_data"
    },
    {
     "data": {
      "image/png": "[encoded data removed]",
      "text/plain": [
       "<Figure size 576x252 with 1 Axes>"
      ]
     },
     "metadata": {
      "needs_background": "light"
     },
     "output_type": "display_data"
    },
    {
     "data": {
      "image/png": "[encoded data removed]",
      "text/plain": [
       "<Figure size 576x252 with 1 Axes>"
      ]
     },
     "metadata": {
      "needs_background": "light"
     },
     "output_type": "display_data"
    }
   ],
   "source": [
    "# TRAIN SUBCLASS MODEL TO CHECK MEAN AND MAX r VALUE\n",
    "def struc(model):\n",
    "    len_ = range(len(model.get_config()['layers'])-1)\n",
    "    out = [model.layers[x].units for x in len_]\n",
    "    return out\n",
    "    \n",
    "for NEURONS in [6,6,7,7,8,8,9]:\n",
    "    lista = []\n",
    "    plt.figure(figsize=(8, 3.5))\n",
    "    for _ in range(10):\n",
    "        model = keras.models.Sequential()\n",
    "        model.add(keras.layers.Dense(NEURONS, activation = 'relu', input_shape = (12,)))\n",
    "        model.add(keras.layers.Dense(NEURONS, activation = 'relu'))\n",
    "        model.add(keras.layers.Dense(1))\n",
    "        optimizer = keras.optimizers.Adam(learning_rate = 0.01, beta_1=0.9, beta_2 = 0.999)\n",
    "        model.compile(loss = huber_fn,\n",
    "                     optimizer = optimizer,\n",
    "                     metrics = [\"MAE\"])\n",
    "        history = model.fit(X_train, y_train, epochs = 30,\n",
    "                            validation_split = 0.2, shuffle = True, verbose=0)\n",
    "        \n",
    "        # METRICS\n",
    "        y_pred_ = np.ravel(model.predict(scaler.transform(date_p))) \n",
    "        y_true_ = np.ravel(CRFp) \n",
    "        wynik = measures.pearsonr(y_pred_, y_true_)[0] #.round(2)\n",
    "        lista.append(wynik)\n",
    "        plt.plot(history.history['loss'])\n",
    "        #plt.plot(history.history['val_loss'], '--')\n",
    "    print(lista, 'średnia: ', np.mean(lista).round(3), 'max: ', np.max(lista).round(3), 'struktura: ', struc(model))\n",
    "\n",
    "    now = datetime.now()\n",
    "    urrent_time = now.strftime(\"%H_%M_%S\")\n",
    "\n",
    "    plt.text(0,0.05, s = \"średnia: {}  max: {}  struktura: {}\".format(np.mean(lista).round(3),np.max(lista).round(3),struc(model)) )\n",
    "    plt.savefig('{}'.format(urrent_time))"
   ]
  },
  {
   "cell_type": "code",
   "execution_count": 259,
   "id": "3aeebd2f",
   "metadata": {},
   "outputs": [
    {
     "ename": "SyntaxError",
     "evalue": "invalid syntax (Temp/ipykernel_14736/1135241272.py, line 2)",
     "output_type": "error",
     "traceback": [
      "\u001b[1;36m  File \u001b[1;32m\"C:\\Users\\INSPEK~1\\AppData\\Local\\Temp/ipykernel_14736/1135241272.py\"\u001b[1;36m, line \u001b[1;32m2\u001b[0m\n\u001b[1;33m    try type(z) == \"keras.engine.sequential.Sequential\":\u001b[0m\n\u001b[1;37m        ^\u001b[0m\n\u001b[1;31mSyntaxError\u001b[0m\u001b[1;31m:\u001b[0m invalid syntax\n"
     ]
    }
   ],
   "source": []
  },
  {
   "cell_type": "code",
   "execution_count": 313,
   "metadata": {},
   "outputs": [],
   "source": [
    "def net1_(NEURONS):\n",
    "    model = keras.models.Sequential()\n",
    "    model.add(keras.layers.Dense(NEURONS, activation = 'relu', input_shape = (12,)))\n",
    "    model.add(keras.layers.Dense(NEURONS, activation = 'relu'))\n",
    "    model.add(keras.layers.Dense(1))\n",
    "    optimizer = keras.optimizers.Adam(learning_rate = 0.01, beta_1=0.9, beta_2 = 0.999)\n",
    "    model.compile(loss = huber_fn,\n",
    "                 optimizer = optimizer,\n",
    "                 metrics = [\"MAE\"])\n",
    "    return model\n",
    "\n",
    "                    \n",
    "class plot_train_via_neurons:\n",
    "    def __init__(self, NET:model, y_true_):\n",
    "        assert str(type(NET(_))) == \"<class 'keras.engine.sequential.Sequential'>\", \"No keras model\"\n",
    "        self.net_ = NET\n",
    "        self.y_true_ = y_true_\n",
    "\n",
    "    def _struc(self):\n",
    "        len_ = range(len(self.model.get_config()['layers'])-1)\n",
    "        out = [self.model.layers[x].units for x in len_]\n",
    "        return out\n",
    "    \n",
    "    def compute(self,*args, **kwargs):\n",
    "        for NEURONS in [6,7,8,9]:\n",
    "            lista = []\n",
    "            plt.figure(figsize=(8, 3.5))\n",
    "            for _ in range(3):\n",
    "                self.model = self.net_(NEURONS)\n",
    "                history = self.model.fit(*args,**kwargs)\n",
    "    \n",
    "                # METRICS\n",
    "                y_pred_ = np.ravel(self.model.predict(scaler.transform(date_p))) \n",
    "                y_true_ = np.ravel(CRFp) \n",
    "                wynik = measures.pearsonr(y_pred_, self.y_true_)[0] #.round(2)\n",
    "                lista.append(wynik)\n",
    "                plt.plot(history.history['loss'])\n",
    "                #plt.plot(history.history['val_loss'], '--')\n",
    "            print(lista, 'średnia: ', np.mean(lista).round(3), 'max: ', np.max(lista).round(3), 'struktura: ', self._struc())\n",
    "    \n",
    "    \n",
    "            plt.text(0,0.05, s = \"średnia: {}  max: {}  struktura: {}\".format(np.mean(lista).round(3),np.max(lista).round(3),self._struc()) )\n",
    "            plt.savefig('{}'.format(urrent_time))\n",
    "\n",
    "    "
   ]
  },
  {
   "cell_type": "code",
   "execution_count": 325,
   "id": "ecd6b1cc",
   "metadata": {},
   "outputs": [],
   "source": [
    "test_ = plot_train_via_neurons(net1_, y_true_)"
   ]
  },
  {
   "cell_type": "code",
   "execution_count": 326,
   "id": "aad34b79",
   "metadata": {},
   "outputs": [
    {
     "name": "stdout",
     "output_type": "stream",
     "text": [
      "[0.23652946756512563, 0.2290665245023521, 0.4978295051961194] średnia:  0.321 max:  0.498 struktura:  [6, 6, 1]\n",
      "[0.2944325150009014, 0.1919443336773779, 0.2510958843322051] średnia:  0.246 max:  0.294 struktura:  [7, 7, 1]\n",
      "[0.13006650053682578, 0.06481645354075852, -0.15955982158607873] średnia:  0.012 max:  0.13 struktura:  [8, 8, 1]\n",
      "[0.13818108155858638, -0.11437880632037566, 0.31462003782754666] średnia:  0.113 max:  0.315 struktura:  [9, 9, 1]\n"
     ]
    },
    {
     "data": {
      "image/png": "[encoded data removed]",
      "text/plain": [
       "<Figure size 576x252 with 1 Axes>"
      ]
     },
     "metadata": {
      "needs_background": "light"
     },
     "output_type": "display_data"
    },
    {
     "data": {
      "image/png": "[encoded data removed]",
      "text/plain": [
       "<Figure size 576x252 with 1 Axes>"
      ]
     },
     "metadata": {
      "needs_background": "light"
     },
     "output_type": "display_data"
    },
    {
     "data": {
      "image/png": "[encoded data removed]",
      "text/plain": [
       "<Figure size 576x252 with 1 Axes>"
      ]
     },
     "metadata": {
      "needs_background": "light"
     },
     "output_type": "display_data"
    },
    {
     "data": {
      "image/png": "[encoded data removed]",
      "text/plain": [
       "<Figure size 576x252 with 1 Axes>"
      ]
     },
     "metadata": {
      "needs_background": "light"
     },
     "output_type": "display_data"
    }
   ],
   "source": [
    "test_.compute(X_train, y_train, epochs = 30, validation_split = 0.2, shuffle = True, verbose=0)"
   ]
  },
  {
   "cell_type": "code",
   "execution_count": null,
   "id": "9484c4ae",
   "metadata": {},
   "outputs": [],
   "source": [
    "pd.DataFrame.from_dict({\n",
    "    \"epoch - 20\": [1,2,3,4,5,6,7,8,9,10],\n",
    "    \"epoch - 10\": [2,3,4,5,6,7,8,9,10,11]\n",
    "})"
   ]
  },
  {
   "cell_type": "markdown",
   "id": "64824165",
   "metadata": {},
   "source": [
    "##### boxplot"
   ]
  },
  {
   "cell_type": "code",
   "execution_count": 328,
   "id": "2e6b8968",
   "metadata": {},
   "outputs": [],
   "source": [
    "def net1_(NEURONS):\n",
    "    model = keras.models.Sequential()\n",
    "    model.add(keras.layers.Dense(NEURONS, activation = 'relu', input_shape = (12,)))\n",
    "    model.add(keras.layers.Dense(NEURONS, activation = 'relu'))\n",
    "    model.add(keras.layers.Dense(1))\n",
    "    optimizer = keras.optimizers.Adam(learning_rate = 0.01, beta_1=0.9, beta_2 = 0.999)\n",
    "    model.compile(loss = huber_fn,\n",
    "                 optimizer = optimizer,\n",
    "                 metrics = [\"MAE\"])\n",
    "    return model\n",
    "\n",
    "                    \n",
    "class plot_train_via_neurons:\n",
    "    \"\"\" + boxplot version\"\"\"\n",
    "    def __init__(self, NET:model, y_true_):\n",
    "        assert str(type(NET(_))) == \"<class 'keras.engine.sequential.Sequential'>\", \"No keras model\"\n",
    "        self.net_ = NET\n",
    "        self.y_true_ = y_true_\n",
    "        self.ttt = []\n",
    "        self.zzz = []\n",
    "\n",
    "    def _struc(self):\n",
    "        len_ = range(len(self.model.get_config()['layers'])-1)\n",
    "        out = [self.model.layers[x].units for x in len_]\n",
    "        return out\n",
    "    \n",
    "    def compute(self,*args, **kwargs):\n",
    "        for NEURONS in [6,7,8,9]:\n",
    "            lista = []\n",
    "            plt.figure(figsize=(8, 3.5))\n",
    "            for _ in range(3):\n",
    "                self.model = self.net_(NEURONS)\n",
    "                history = self.model.fit(*args,**kwargs)\n",
    "    \n",
    "                # METRICS\n",
    "                y_pred_ = np.ravel(self.model.predict(scaler.transform(date_p))) \n",
    "                y_true_ = np.ravel(CRFp) \n",
    "                wynik = measures.pearsonr(y_pred_, self.y_true_)[0] #.round(2)\n",
    "                lista.append(wynik)\n",
    "                plt.plot(history.history['loss'])\n",
    "                #plt.plot(history.history['val_loss'], '--')\n",
    "            print(lista, 'średnia: ', np.mean(lista).round(3), 'max: ', np.max(lista).round(3), 'struktura: ', self._struc())\n",
    "            plt.text(0,0.05, s = \"średnia: {}  max: {}  struktura: {}\".format(np.mean(lista).round(3),np.max(lista).round(3),self._struc()) )\n",
    "            plt.savefig('{}'.format(urrent_time))\n",
    "            \n",
    "        self.ttt.append(lista)\n",
    "        self.zzz.append(str(struc(model)))\n",
    "    def plot_box(self):\n",
    "        plt.boxplot(self.ttt, labels = self.zzz)"
   ]
  },
  {
   "cell_type": "code",
   "execution_count": 327,
   "id": "4febc7a0",
   "metadata": {},
   "outputs": [
    {
     "data": {
      "image/png": "[encoded data removed]",
      "text/plain": [
       "<Figure size 432x288 with 1 Axes>"
      ]
     },
     "metadata": {
      "needs_background": "light"
     },
     "output_type": "display_data"
    }
   ],
   "source": [
    "test_.plot_box()"
   ]
  }
 ],
 "metadata": {
  "kernelspec": {
   "display_name": "Python 3.9.12 ('base')",
   "language": "python",
   "name": "python3"
  },
  "language_info": {
   "codemirror_mode": {
    "name": "ipython",
    "version": 3
   },
   "file_extension": ".py",
   "mimetype": "text/x-python",
   "name": "python",
   "nbconvert_exporter": "python",
   "pygments_lexer": "ipython3",
   "version": "3.9.7"
  },
  "vscode": {
   "interpreter": {
    "hash": "5e33e67dae9e84b85c5e7260d20f93bca8c0403fe61ca7ab42847cd10afc027e"
   }
  }
 },
 "nbformat": 4,
 "nbformat_minor": 5
}
